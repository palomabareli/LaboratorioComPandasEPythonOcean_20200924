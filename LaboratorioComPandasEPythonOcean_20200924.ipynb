{
  "nbformat": 4,
  "nbformat_minor": 0,
  "metadata": {
    "colab": {
      "name": "AulaPandasOcean_20200924.ipynb",
      "provenance": [],
      "collapsed_sections": []
    },
    "kernelspec": {
      "name": "python3",
      "display_name": "Python 3"
    }
  },
  "cells": [
    {
      "cell_type": "code",
      "metadata": {
        "id": "pNog6Y_4UUNi",
        "colab_type": "code",
        "colab": {
          "base_uri": "https://localhost:8080/",
          "height": 34
        },
        "outputId": "bf99511d-c6f6-44cc-a9b4-77e8bac8a7d6"
      },
      "source": [
        "print(\"Hello Word\")"
      ],
      "execution_count": null,
      "outputs": [
        {
          "output_type": "stream",
          "text": [
            "Hello Word\n"
          ],
          "name": "stdout"
        }
      ]
    },
    {
      "cell_type": "markdown",
      "metadata": {
        "id": "ft1WXbbzWUYM",
        "colab_type": "text"
      },
      "source": [
        "# **Introdução ao Python**"
      ]
    },
    {
      "cell_type": "markdown",
      "metadata": {
        "id": "QbNd5JkiYMV0",
        "colab_type": "text"
      },
      "source": [
        "Pytho é uma linguagem fracamente tipada, ou seja, o dado atribuido é tipado, mas a variável não!!!"
      ]
    },
    {
      "cell_type": "code",
      "metadata": {
        "id": "X52vbdX5VWtr",
        "colab_type": "code",
        "colab": {
          "base_uri": "https://localhost:8080/",
          "height": 52
        },
        "outputId": "41395b3a-ec68-4b1c-ed5a-c77d653b6364"
      },
      "source": [
        "numValue = 5\n",
        "print(numValue)\n",
        "print(type(numValue))"
      ],
      "execution_count": null,
      "outputs": [
        {
          "output_type": "stream",
          "text": [
            "5\n",
            "<class 'int'>\n"
          ],
          "name": "stdout"
        }
      ]
    },
    {
      "cell_type": "markdown",
      "metadata": {
        "id": "tR6vHiO0YRek",
        "colab_type": "text"
      },
      "source": [
        "**Lista**\n",
        "\n",
        "Representada pelo limitar []. Armazena os datos de forma sequencial, podendo conter elementos de vários tipos (o acesso aos dados ocorre de forma sequencial."
      ]
    },
    {
      "cell_type": "code",
      "metadata": {
        "id": "ikH4mctnX8At",
        "colab_type": "code",
        "colab": {
          "base_uri": "https://localhost:8080/",
          "height": 69
        },
        "outputId": "44773865-8cdf-4838-c252-a7f247d66b3d"
      },
      "source": [
        "myList = [1, 2, 3, \"text\", True, 1.2]\n",
        "\n",
        "print(myList)\n",
        "print(type(myList))\n",
        "print(myList[0])\n"
      ],
      "execution_count": null,
      "outputs": [
        {
          "output_type": "stream",
          "text": [
            "[1, 2, 3, 'text', True, 1.2]\n",
            "<class 'list'>\n",
            "1\n"
          ],
          "name": "stdout"
        }
      ]
    },
    {
      "cell_type": "code",
      "metadata": {
        "id": "kMiD7heQY5FF",
        "colab_type": "code",
        "colab": {
          "base_uri": "https://localhost:8080/",
          "height": 52
        },
        "outputId": "a0a3c946-a0b9-4ae2-c317-1e81d6a74dd4"
      },
      "source": [
        "print(myList[4])\n",
        "myList[4] = False\n",
        "print(myList[4])"
      ],
      "execution_count": null,
      "outputs": [
        {
          "output_type": "stream",
          "text": [
            "True\n",
            "False\n"
          ],
          "name": "stdout"
        }
      ]
    },
    {
      "cell_type": "markdown",
      "metadata": {
        "id": "t4N3CBuuGeeb",
        "colab_type": "text"
      },
      "source": [
        "**append** \n",
        "\n",
        "Adiciona o elemento no final da lista."
      ]
    },
    {
      "cell_type": "code",
      "metadata": {
        "id": "2M78LlYrZJsN",
        "colab_type": "code",
        "colab": {
          "base_uri": "https://localhost:8080/",
          "height": 34
        },
        "outputId": "c2322e33-1c90-44f8-a179-28800c3c67d4"
      },
      "source": [
        "#myList[6] = \"new item\" # erro, não existe esse elemento\n",
        "\n",
        "myList.append(\"new item\")\n",
        "print(myList[6])"
      ],
      "execution_count": null,
      "outputs": [
        {
          "output_type": "stream",
          "text": [
            "new item\n"
          ],
          "name": "stdout"
        }
      ]
    },
    {
      "cell_type": "markdown",
      "metadata": {
        "id": "_5pDUYtoHQOk",
        "colab_type": "text"
      },
      "source": [
        "**insert**\n",
        "\n",
        "Adiciona um elemento em qualquer posição da lista."
      ]
    },
    {
      "cell_type": "code",
      "metadata": {
        "id": "vfNR0uKcZhpk",
        "colab_type": "code",
        "colab": {
          "base_uri": "https://localhost:8080/",
          "height": 34
        },
        "outputId": "0832753b-17bd-4598-e250-ebc2ade4d9c2"
      },
      "source": [
        "myList.insert(7, \"other item\")\n",
        "print(myList)"
      ],
      "execution_count": null,
      "outputs": [
        {
          "output_type": "stream",
          "text": [
            "[1, 2, 3, 'text', False, 1.2, 'new item', 'other item']\n"
          ],
          "name": "stdout"
        }
      ]
    },
    {
      "cell_type": "markdown",
      "metadata": {
        "id": "dUxNJKS5HVtG",
        "colab_type": "text"
      },
      "source": [
        "**remove**\n",
        "\n",
        "Remove um elemento da lista, se baseando no conteúdo."
      ]
    },
    {
      "cell_type": "code",
      "metadata": {
        "id": "nEjOjfs4Z36t",
        "colab_type": "code",
        "colab": {
          "base_uri": "https://localhost:8080/",
          "height": 34
        },
        "outputId": "12a4689a-219a-4d24-e0be-2ee0682d8376"
      },
      "source": [
        "myList.remove(\"other item\")\n",
        "print(myList)"
      ],
      "execution_count": null,
      "outputs": [
        {
          "output_type": "stream",
          "text": [
            "[1, 2, 3, 'text', False, 1.2, 'new item']\n"
          ],
          "name": "stdout"
        }
      ]
    },
    {
      "cell_type": "markdown",
      "metadata": {
        "id": "vGv1CVrDHfqA",
        "colab_type": "text"
      },
      "source": [
        "**pop**\n",
        "\n",
        "Remoe um elemento da lista, se baseando no índice."
      ]
    },
    {
      "cell_type": "code",
      "metadata": {
        "id": "aJGX2q2jaULr",
        "colab_type": "code",
        "colab": {
          "base_uri": "https://localhost:8080/",
          "height": 34
        },
        "outputId": "1f024003-7697-458b-c731-7a9ba770b6fa"
      },
      "source": [
        "myList.pop(3)\n",
        "print(myList)"
      ],
      "execution_count": null,
      "outputs": [
        {
          "output_type": "stream",
          "text": [
            "[1, 2, 3, False, 1.2, 'new item']\n"
          ],
          "name": "stdout"
        }
      ]
    },
    {
      "cell_type": "code",
      "metadata": {
        "id": "It7SSnYqasuN",
        "colab_type": "code",
        "colab": {
          "base_uri": "https://localhost:8080/",
          "height": 52
        },
        "outputId": "4d348571-3c46-41ed-a722-f330d53f18fc"
      },
      "source": [
        "print(myList[-1])\n",
        "print(myList[0])"
      ],
      "execution_count": null,
      "outputs": [
        {
          "output_type": "stream",
          "text": [
            "new item\n",
            "1\n"
          ],
          "name": "stdout"
        }
      ]
    },
    {
      "cell_type": "markdown",
      "metadata": {
        "id": "Y48-EUuOHluR",
        "colab_type": "text"
      },
      "source": [
        "**Slice**\n",
        "\n",
        "Processo pelo qual se fatia uma lista. O primeiro parâmetro é inclusivo e o segundo não é inclusivo."
      ]
    },
    {
      "cell_type": "code",
      "metadata": {
        "id": "S5cVyMbYbdUC",
        "colab_type": "code",
        "colab": {
          "base_uri": "https://localhost:8080/",
          "height": 34
        },
        "outputId": "98ac0b64-afbd-4e46-b50f-8e707519776e"
      },
      "source": [
        "#[myList[0], myList[-1]]\n",
        "#inclusivo, exceto\n",
        "print(myList[1:3])"
      ],
      "execution_count": null,
      "outputs": [
        {
          "output_type": "stream",
          "text": [
            "[2, 3]\n"
          ],
          "name": "stdout"
        }
      ]
    },
    {
      "cell_type": "markdown",
      "metadata": {
        "id": "-ydBrxjtH8mv",
        "colab_type": "text"
      },
      "source": [
        "**Dicionário**\n",
        "\n",
        "Representada pelo limitar {}. Armazena os datos se baseando em chave + valor."
      ]
    },
    {
      "cell_type": "code",
      "metadata": {
        "id": "bK75xSe4ccVZ",
        "colab_type": "code",
        "colab": {
          "base_uri": "https://localhost:8080/",
          "height": 34
        },
        "outputId": "5a845b95-c8d5-4a17-f494-cf35e33177bf"
      },
      "source": [
        "myDictionary = {'old': 32, 'children' : 2, 'married' :True}\n",
        "print(myDictionary['old'])"
      ],
      "execution_count": null,
      "outputs": [
        {
          "output_type": "stream",
          "text": [
            "32\n"
          ],
          "name": "stdout"
        }
      ]
    },
    {
      "cell_type": "code",
      "metadata": {
        "id": "tBTZMcuyfOYd",
        "colab_type": "code",
        "colab": {
          "base_uri": "https://localhost:8080/",
          "height": 34
        },
        "outputId": "ce89e40e-3a16-482c-af3d-854a0dcd959f"
      },
      "source": [
        "myDictionary['old'] = 40\n",
        "print(myDictionary)"
      ],
      "execution_count": null,
      "outputs": [
        {
          "output_type": "stream",
          "text": [
            "{'old': 40, 'children': 2, 'married': True}\n"
          ],
          "name": "stdout"
        }
      ]
    },
    {
      "cell_type": "code",
      "metadata": {
        "id": "RHEXMUVSfVHe",
        "colab_type": "code",
        "colab": {
          "base_uri": "https://localhost:8080/",
          "height": 34
        },
        "outputId": "668f5860-b924-4d89-a7c9-e2dab14dd578"
      },
      "source": [
        "myDictionary['worked'] = True\n",
        "print(myDictionary)"
      ],
      "execution_count": null,
      "outputs": [
        {
          "output_type": "stream",
          "text": [
            "{'old': 40, 'children': 2, 'married': True, 'worked': True}\n"
          ],
          "name": "stdout"
        }
      ]
    },
    {
      "cell_type": "code",
      "metadata": {
        "id": "yGshl8jvf_V5",
        "colab_type": "code",
        "colab": {
          "base_uri": "https://localhost:8080/",
          "height": 34
        },
        "outputId": "71c58415-643b-4bb3-e085-e80f83c5c530"
      },
      "source": [
        "myList2 = [1, \"string\", [3, True], {\"key\": 1, \"list\" :{7, 8, 9}}]\n",
        "print(myList2)"
      ],
      "execution_count": null,
      "outputs": [
        {
          "output_type": "stream",
          "text": [
            "[1, 'string', [3, True], {'key': 1, 'list': {8, 9, 7}}]\n"
          ],
          "name": "stdout"
        }
      ]
    },
    {
      "cell_type": "markdown",
      "metadata": {
        "id": "MwH6ikd8JKZY",
        "colab_type": "text"
      },
      "source": [
        "Atentar-se com o posicionamento dos elementos na lista."
      ]
    },
    {
      "cell_type": "code",
      "metadata": {
        "id": "jQWDVkWmgRez",
        "colab_type": "code",
        "colab": {
          "base_uri": "https://localhost:8080/",
          "height": 52
        },
        "outputId": "eb7d4d91-470c-4133-8504-adafa8a93002"
      },
      "source": [
        "print(myList2[2][1])\n",
        "print(myList2[-1])"
      ],
      "execution_count": null,
      "outputs": [
        {
          "output_type": "stream",
          "text": [
            "True\n",
            "{'key': 1, 'list': {8, 9, 7}}\n"
          ],
          "name": "stdout"
        }
      ]
    },
    {
      "cell_type": "markdown",
      "metadata": {
        "id": "vqaIv8gJYwK6",
        "colab_type": "text"
      },
      "source": [
        "O mais próximo do conceito de vetor em Python é o array. Que possui diferenças sutis se comparado as listas.\n"
      ]
    },
    {
      "cell_type": "markdown",
      "metadata": {
        "id": "uDUavYc9Ja09",
        "colab_type": "text"
      },
      "source": [
        "**Tupla**\n",
        "\n",
        "Não possui limitador na sua representação. Difere-se da lista pois seus valores saõ imutáveis. "
      ]
    },
    {
      "cell_type": "code",
      "metadata": {
        "id": "ZLmLJmaZc_5f",
        "colab_type": "code",
        "colab": {
          "base_uri": "https://localhost:8080/",
          "height": 86
        },
        "outputId": "4e59814a-45b0-4baa-ee4a-008e6842e00f"
      },
      "source": [
        "myTuple = 2, 4, 6, 8, 8\n",
        "print(myTuple)\n",
        "\n",
        "print(type(myTuple))\n",
        "\n",
        "print(myTuple[0])\n",
        "print(myTuple[-1])\n",
        "\n",
        "#myTuple[-1] = 10 #erro: tupla é imutável"
      ],
      "execution_count": null,
      "outputs": [
        {
          "output_type": "stream",
          "text": [
            "(2, 4, 6, 8, 8)\n",
            "<class 'tuple'>\n",
            "2\n",
            "8\n"
          ],
          "name": "stdout"
        }
      ]
    },
    {
      "cell_type": "markdown",
      "metadata": {
        "id": "sMBow0KtJxbd",
        "colab_type": "text"
      },
      "source": [
        "Alterando valores por referência (funciona para lista e não para tupla)."
      ]
    },
    {
      "cell_type": "code",
      "metadata": {
        "id": "BntERwEtdmjr",
        "colab_type": "code",
        "colab": {
          "base_uri": "https://localhost:8080/",
          "height": 52
        },
        "outputId": "952995d0-ce68-4b16-e81f-17e1cbbe9bb5"
      },
      "source": [
        "def myFunction(l):\n",
        "    l[2] = 0\n",
        "\n",
        "testList = [1, 2, 3, 4]\n",
        "\n",
        "print(testList)\n",
        "\n",
        "myFunction(testList) \n",
        "\n",
        "print(testList)"
      ],
      "execution_count": null,
      "outputs": [
        {
          "output_type": "stream",
          "text": [
            "[1, 2, 3, 4]\n",
            "[1, 2, 0, 4]\n"
          ],
          "name": "stdout"
        }
      ]
    },
    {
      "cell_type": "markdown",
      "metadata": {
        "id": "C4lPAn9zK60A",
        "colab_type": "text"
      },
      "source": [
        "**Matriz**\n",
        "\n",
        "Representada pelo limitar []. Armazena os datos com mais de uma dimensão."
      ]
    },
    {
      "cell_type": "code",
      "metadata": {
        "id": "1eoXOvi9cV8S",
        "colab_type": "code",
        "colab": {
          "base_uri": "https://localhost:8080/",
          "height": 34
        },
        "outputId": "12812aed-2abf-4fc0-bdb6-9aed6c527e48"
      },
      "source": [
        "myMatrix = [testList, testList]\n",
        "print(myMatrix)"
      ],
      "execution_count": null,
      "outputs": [
        {
          "output_type": "stream",
          "text": [
            "[[1, 2, 0, 4], [1, 2, 0, 4]]\n"
          ],
          "name": "stdout"
        }
      ]
    },
    {
      "cell_type": "markdown",
      "metadata": {
        "id": "vrj3eLmehRCG",
        "colab_type": "text"
      },
      "source": [
        "# **Laboratório de Ciência de Dados com Pandas**"
      ]
    },
    {
      "cell_type": "markdown",
      "metadata": {
        "id": "jkR9EZP1g9Fl",
        "colab_type": "text"
      },
      "source": [
        "Pandas é uma biblioteca que disponibiliza algumas estrutruras de dados (Series e Data Frames) para manipulação de grande volume de dados."
      ]
    },
    {
      "cell_type": "code",
      "metadata": {
        "id": "VIhGU-GchGqk",
        "colab_type": "code",
        "colab": {}
      },
      "source": [
        "import pandas as pd"
      ],
      "execution_count": null,
      "outputs": []
    },
    {
      "cell_type": "markdown",
      "metadata": {
        "id": "y7qthEySdGlJ",
        "colab_type": "text"
      },
      "source": [
        "Para instalar pacotes que ainda não existe no ambiente use **pip install nome_da_biblioteca**"
      ]
    },
    {
      "cell_type": "code",
      "metadata": {
        "id": "5LBA-HAXiulw",
        "colab_type": "code",
        "colab": {}
      },
      "source": [
        "# pip install pandas"
      ],
      "execution_count": null,
      "outputs": []
    },
    {
      "cell_type": "markdown",
      "metadata": {
        "id": "QfoUNhtvdb4R",
        "colab_type": "text"
      },
      "source": [
        "Utilize o \"**!**\" para dar comandos de terminal."
      ]
    },
    {
      "cell_type": "code",
      "metadata": {
        "id": "Qw3yxlgijocw",
        "colab_type": "code",
        "colab": {
          "base_uri": "https://localhost:8080/",
          "height": 34
        },
        "outputId": "21b3ae61-4287-419a-cfe9-caf2b19c14e1"
      },
      "source": [
        "! ls"
      ],
      "execution_count": null,
      "outputs": [
        {
          "output_type": "stream",
          "text": [
            "sample_data\n"
          ],
          "name": "stdout"
        }
      ]
    },
    {
      "cell_type": "markdown",
      "metadata": {
        "id": "i-Ao156Vdjzt",
        "colab_type": "text"
      },
      "source": [
        "No Pandas a base das \"listas\", são chamadas de Séries, que se comportam como listas, mas não são listas! Na verdade, é um tipo de dado customizado.\n",
        "Permitem customizar o nome do índice."
      ]
    },
    {
      "cell_type": "code",
      "metadata": {
        "id": "RxwaMWEyj1hi",
        "colab_type": "code",
        "colab": {
          "base_uri": "https://localhost:8080/",
          "height": 34
        },
        "outputId": "f0893f5f-4e04-42a2-98cf-5b270514e7d2"
      },
      "source": [
        "mySerie = pd.Series([1, 2, 3, 4, 5, 6, None])\n",
        "print(type(mySerie))"
      ],
      "execution_count": null,
      "outputs": [
        {
          "output_type": "stream",
          "text": [
            "<class 'pandas.core.series.Series'>\n"
          ],
          "name": "stdout"
        }
      ]
    },
    {
      "cell_type": "markdown",
      "metadata": {
        "id": "_Dmiq-p1eAUF",
        "colab_type": "text"
      },
      "source": [
        "Com base nos elementos que foram inseridos na Série, o Pandas reinterpreta os dados inseridos para dar um novo type para ele."
      ]
    },
    {
      "cell_type": "code",
      "metadata": {
        "id": "kglxv1_elCxF",
        "colab_type": "code",
        "colab": {
          "base_uri": "https://localhost:8080/",
          "height": 156
        },
        "outputId": "99afed23-54a6-4880-b10d-36da7d23d93c"
      },
      "source": [
        "print(mySerie)"
      ],
      "execution_count": null,
      "outputs": [
        {
          "output_type": "stream",
          "text": [
            "0    1.0\n",
            "1    2.0\n",
            "2    3.0\n",
            "3    4.0\n",
            "4    5.0\n",
            "5    6.0\n",
            "6    NaN\n",
            "dtype: float64\n"
          ],
          "name": "stdout"
        }
      ]
    },
    {
      "cell_type": "markdown",
      "metadata": {
        "id": "LtFCjDPRrJqe",
        "colab_type": "text"
      },
      "source": [
        "Criando séries com dados repetidos se baseando na função **range**."
      ]
    },
    {
      "cell_type": "code",
      "metadata": {
        "id": "uv1I2Gu0rTwc",
        "colab_type": "code",
        "colab": {
          "base_uri": "https://localhost:8080/",
          "height": 208
        },
        "outputId": "4246c535-0672-4a6b-992e-9c304c698533"
      },
      "source": [
        "pd.Series(5.8, range(10))"
      ],
      "execution_count": null,
      "outputs": [
        {
          "output_type": "execute_result",
          "data": {
            "text/plain": [
              "0    5.8\n",
              "1    5.8\n",
              "2    5.8\n",
              "3    5.8\n",
              "4    5.8\n",
              "5    5.8\n",
              "6    5.8\n",
              "7    5.8\n",
              "8    5.8\n",
              "9    5.8\n",
              "dtype: float64"
            ]
          },
          "metadata": {
            "tags": []
          },
          "execution_count": 76
        }
      ]
    },
    {
      "cell_type": "markdown",
      "metadata": {
        "id": "N1yyrRlLeL4C",
        "colab_type": "text"
      },
      "source": [
        "Efetuando o slice na Série."
      ]
    },
    {
      "cell_type": "code",
      "metadata": {
        "id": "dZ4yLrkdlIHQ",
        "colab_type": "code",
        "colab": {
          "base_uri": "https://localhost:8080/",
          "height": 86
        },
        "outputId": "0b189b14-65bd-457b-d58f-39c5557633e6"
      },
      "source": [
        "print(mySerie[1:4])"
      ],
      "execution_count": null,
      "outputs": [
        {
          "output_type": "stream",
          "text": [
            "1    2.0\n",
            "2    3.0\n",
            "3    4.0\n",
            "dtype: float64\n"
          ],
          "name": "stdout"
        }
      ]
    },
    {
      "cell_type": "markdown",
      "metadata": {
        "id": "tLCk9L-ehRzn",
        "colab_type": "text"
      },
      "source": [
        "É possível criar Séries com índices nomeados."
      ]
    },
    {
      "cell_type": "code",
      "metadata": {
        "id": "BguhMsMLhaSv",
        "colab_type": "code",
        "colab": {
          "base_uri": "https://localhost:8080/",
          "height": 104
        },
        "outputId": "a819060f-9da0-482b-f1bf-ce3d447f5393"
      },
      "source": [
        "elementList = [10, 20 ,30]\n",
        "indexList = [\"1st ten\", \"2nd ten\", \"3rd ten\"]\n",
        "\n",
        "myNamedList = pd.Series(elementList, indexList)\n",
        "\n",
        "print(myNamedList)\n",
        "print(myNamedList['2nd ten'])"
      ],
      "execution_count": null,
      "outputs": [
        {
          "output_type": "stream",
          "text": [
            "1st ten    10\n",
            "2nd ten    20\n",
            "3rd ten    30\n",
            "dtype: int64\n",
            "20\n"
          ],
          "name": "stdout"
        }
      ]
    },
    {
      "cell_type": "markdown",
      "metadata": {
        "id": "atqwqdaFricj",
        "colab_type": "text"
      },
      "source": [
        "Séries com mais de uma coluna."
      ]
    },
    {
      "cell_type": "code",
      "metadata": {
        "id": "faeUsTcornSk",
        "colab_type": "code",
        "colab": {
          "base_uri": "https://localhost:8080/",
          "height": 156
        },
        "outputId": "0a31afc6-186a-47cc-918d-7dfee7bfb72f"
      },
      "source": [
        "pd.Series(mySerie, mySerie)"
      ],
      "execution_count": null,
      "outputs": [
        {
          "output_type": "execute_result",
          "data": {
            "text/plain": [
              "1.0    2.0\n",
              "2.0    3.0\n",
              "3.0    4.0\n",
              "4.0    5.0\n",
              "5.0    6.0\n",
              "6.0    NaN\n",
              "NaN    NaN\n",
              "dtype: float64"
            ]
          },
          "metadata": {
            "tags": []
          },
          "execution_count": 78
        }
      ]
    },
    {
      "cell_type": "markdown",
      "metadata": {
        "id": "TpKE-zjueQkQ",
        "colab_type": "text"
      },
      "source": [
        "A Série criada possuin um valor nulo (None) que não é contabilizado abaixo."
      ]
    },
    {
      "cell_type": "code",
      "metadata": {
        "id": "o--Ts-2VmHXH",
        "colab_type": "code",
        "colab": {
          "base_uri": "https://localhost:8080/",
          "height": 34
        },
        "outputId": "9149b731-320f-4a7c-f7b7-a8480d1b0551"
      },
      "source": [
        "mySerie.count()"
      ],
      "execution_count": null,
      "outputs": [
        {
          "output_type": "execute_result",
          "data": {
            "text/plain": [
              "6"
            ]
          },
          "metadata": {
            "tags": []
          },
          "execution_count": 41
        }
      ]
    },
    {
      "cell_type": "markdown",
      "metadata": {
        "id": "N26FrSqaeazQ",
        "colab_type": "text"
      },
      "source": [
        "**mean**\n",
        "\n",
        "Média da Série."
      ]
    },
    {
      "cell_type": "code",
      "metadata": {
        "id": "_llU8sA0mZVj",
        "colab_type": "code",
        "colab": {
          "base_uri": "https://localhost:8080/",
          "height": 34
        },
        "outputId": "f5fe73ca-3436-4e3d-f90c-29bc85fc99b7"
      },
      "source": [
        "mySerie.mean()"
      ],
      "execution_count": null,
      "outputs": [
        {
          "output_type": "execute_result",
          "data": {
            "text/plain": [
              "3.5"
            ]
          },
          "metadata": {
            "tags": []
          },
          "execution_count": 42
        }
      ]
    },
    {
      "cell_type": "markdown",
      "metadata": {
        "id": "SH9Zt25Jek4v",
        "colab_type": "text"
      },
      "source": [
        "**min**\n",
        "\n",
        "Menor elemento da Série."
      ]
    },
    {
      "cell_type": "code",
      "metadata": {
        "id": "aQhN4Jl1mZMK",
        "colab_type": "code",
        "colab": {
          "base_uri": "https://localhost:8080/",
          "height": 34
        },
        "outputId": "e66ef5e6-5bb1-4fb4-fde9-394ca83213cb"
      },
      "source": [
        "mySerie.min()"
      ],
      "execution_count": null,
      "outputs": [
        {
          "output_type": "execute_result",
          "data": {
            "text/plain": [
              "1.0"
            ]
          },
          "metadata": {
            "tags": []
          },
          "execution_count": 43
        }
      ]
    },
    {
      "cell_type": "markdown",
      "metadata": {
        "id": "U5lLZge-ermV",
        "colab_type": "text"
      },
      "source": [
        "**max**\n",
        "\n",
        "Maior elemento da Série."
      ]
    },
    {
      "cell_type": "code",
      "metadata": {
        "id": "VzVSAd5Kmn9k",
        "colab_type": "code",
        "colab": {
          "base_uri": "https://localhost:8080/",
          "height": 34
        },
        "outputId": "c4a00dee-56c3-4ecd-e010-adf303fda36a"
      },
      "source": [
        "mySerie.max()"
      ],
      "execution_count": null,
      "outputs": [
        {
          "output_type": "execute_result",
          "data": {
            "text/plain": [
              "6.0"
            ]
          },
          "metadata": {
            "tags": []
          },
          "execution_count": 44
        }
      ]
    },
    {
      "cell_type": "markdown",
      "metadata": {
        "id": "3RvKZmQjewuH",
        "colab_type": "text"
      },
      "source": [
        "**std**\n",
        "\n",
        "Desvio padrão da Série. Quanto mais perto de 0, a variação dos elementos é baixa, e quanto mais perto de 1, a variação dos elementos é maior."
      ]
    },
    {
      "cell_type": "code",
      "metadata": {
        "id": "ObF-bJ3pmq6X",
        "colab_type": "code",
        "colab": {
          "base_uri": "https://localhost:8080/",
          "height": 34
        },
        "outputId": "3eab61a7-8a30-4a07-b44a-4b93ce94ed61"
      },
      "source": [
        "mySerie.std()"
      ],
      "execution_count": null,
      "outputs": [
        {
          "output_type": "execute_result",
          "data": {
            "text/plain": [
              "1.8708286933869707"
            ]
          },
          "metadata": {
            "tags": []
          },
          "execution_count": 45
        }
      ]
    },
    {
      "cell_type": "markdown",
      "metadata": {
        "id": "P4U89rqUfCTv",
        "colab_type": "text"
      },
      "source": [
        "**describe**\n",
        "\n",
        "Obtendo o detalhe da Estatística Básica."
      ]
    },
    {
      "cell_type": "code",
      "metadata": {
        "id": "NcuCpOTdnhF1",
        "colab_type": "code",
        "colab": {
          "base_uri": "https://localhost:8080/",
          "height": 173
        },
        "outputId": "f10d0bb4-b304-416b-981e-2bc30fbb5c5e"
      },
      "source": [
        "mySerie.describe()"
      ],
      "execution_count": null,
      "outputs": [
        {
          "output_type": "execute_result",
          "data": {
            "text/plain": [
              "count    6.000000\n",
              "mean     3.500000\n",
              "std      1.870829\n",
              "min      1.000000\n",
              "25%      2.250000\n",
              "50%      3.500000\n",
              "75%      4.750000\n",
              "max      6.000000\n",
              "dtype: float64"
            ]
          },
          "metadata": {
            "tags": []
          },
          "execution_count": 46
        }
      ]
    },
    {
      "cell_type": "markdown",
      "metadata": {
        "id": "I498DTUzfTNw",
        "colab_type": "text"
      },
      "source": [
        "**plot.box**\n",
        "\n",
        "Exibe o gráfico de Diagrama de Caixa, onde é possível ver  os quartis, mínimo, máximo e possíveis outliers."
      ]
    },
    {
      "cell_type": "code",
      "metadata": {
        "id": "3LSeeeYgn8i_",
        "colab_type": "code",
        "colab": {
          "base_uri": "https://localhost:8080/",
          "height": 282
        },
        "outputId": "bdd15ed5-684e-42fb-e86b-64015215eaa8"
      },
      "source": [
        "mySerie.plot.box()"
      ],
      "execution_count": null,
      "outputs": [
        {
          "output_type": "execute_result",
          "data": {
            "text/plain": [
              "<matplotlib.axes._subplots.AxesSubplot at 0x7f933c11e240>"
            ]
          },
          "metadata": {
            "tags": []
          },
          "execution_count": 47
        },
        {
          "output_type": "display_data",
          "data": {
            "image/png": "[encoded data removed]",
            "text/plain": [
              "<Figure size 432x288 with 1 Axes>"
            ]
          },
          "metadata": {
            "tags": [],
            "needs_background": "light"
          }
        }
      ]
    },
    {
      "cell_type": "code",
      "metadata": {
        "id": "ng2nlpBao3aC",
        "colab_type": "code",
        "colab": {
          "base_uri": "https://localhost:8080/",
          "height": 72
        },
        "outputId": "1678df07-7cf3-4b8e-cf52-bc4053ab6659"
      },
      "source": [
        "cakeDictionary = {\n",
        "    \"flavor\" :[\"chocolate\", \"carrot\", \"chocolate\", \"corn meal\"], \n",
        "    \"price_kg\":[15, 21.50, 15, 12], \n",
        "    \"amount_of_slices\" :[1, 2, 3, 4]\n",
        "    }\n",
        "\n",
        "print(cakeDictionary)\n",
        "print(type(cakeDictionary))"
      ],
      "execution_count": null,
      "outputs": [
        {
          "output_type": "stream",
          "text": [
            "{'flavor': ['chocolate', 'carrot', 'chocolate', 'corn meal'], 'price_kg': [15, 21.5, 15, 12], 'amount_of_slices': [1, 2, 3, 4]}\n",
            "<class 'dict'>\n"
          ],
          "name": "stdout"
        }
      ]
    },
    {
      "cell_type": "markdown",
      "metadata": {
        "id": "eHqHjUpVfuZT",
        "colab_type": "text"
      },
      "source": [
        "**Data Frame**\n",
        "\n",
        "O pandas trabalho com um tipo de dado chamado de Data Frame, que representa uma matriz/dataset.\n",
        "Deste modo, possui uma estrutura bidimensional.\n",
        "É permite em um mesmo Data Frame, elementos de diversos tipos.\n",
        "Um Data Frame é um conjunto de séries combinadas."
      ]
    },
    {
      "cell_type": "code",
      "metadata": {
        "id": "3SVmZKs_pnWi",
        "colab_type": "code",
        "colab": {
          "base_uri": "https://localhost:8080/",
          "height": 175
        },
        "outputId": "d524350a-070a-4dd7-aeec-3f254639b998"
      },
      "source": [
        "dfCake = pd.DataFrame(cakeDictionary)\n",
        "dfCake"
      ],
      "execution_count": null,
      "outputs": [
        {
          "output_type": "execute_result",
          "data": {
            "text/html": [
              "<div>\n",
              "<style scoped>\n",
              "    .dataframe tbody tr th:only-of-type {\n",
              "        vertical-align: middle;\n",
              "    }\n",
              "\n",
              "    .dataframe tbody tr th {\n",
              "        vertical-align: top;\n",
              "    }\n",
              "\n",
              "    .dataframe thead th {\n",
              "        text-align: right;\n",
              "    }\n",
              "</style>\n",
              "<table border=\"1\" class=\"dataframe\">\n",
              "  <thead>\n",
              "    <tr style=\"text-align: right;\">\n",
              "      <th></th>\n",
              "      <th>flavor</th>\n",
              "      <th>price_kg</th>\n",
              "      <th>amount_of_slices</th>\n",
              "    </tr>\n",
              "  </thead>\n",
              "  <tbody>\n",
              "    <tr>\n",
              "      <th>0</th>\n",
              "      <td>chocolate</td>\n",
              "      <td>15.0</td>\n",
              "      <td>1</td>\n",
              "    </tr>\n",
              "    <tr>\n",
              "      <th>1</th>\n",
              "      <td>carrot</td>\n",
              "      <td>21.5</td>\n",
              "      <td>2</td>\n",
              "    </tr>\n",
              "    <tr>\n",
              "      <th>2</th>\n",
              "      <td>chocolate</td>\n",
              "      <td>15.0</td>\n",
              "      <td>3</td>\n",
              "    </tr>\n",
              "    <tr>\n",
              "      <th>3</th>\n",
              "      <td>corn meal</td>\n",
              "      <td>12.0</td>\n",
              "      <td>4</td>\n",
              "    </tr>\n",
              "  </tbody>\n",
              "</table>\n",
              "</div>"
            ],
            "text/plain": [
              "      flavor  price_kg  amount_of_slices\n",
              "0  chocolate      15.0                 1\n",
              "1     carrot      21.5                 2\n",
              "2  chocolate      15.0                 3\n",
              "3  corn meal      12.0                 4"
            ]
          },
          "metadata": {
            "tags": []
          },
          "execution_count": 49
        }
      ]
    },
    {
      "cell_type": "markdown",
      "metadata": {
        "id": "KupkfTzYgaiM",
        "colab_type": "text"
      },
      "source": [
        "É possível importar diversos tipos de arquivos dentro do Pandas, para este lab foi utilizado os dados de Covid (disponibilizados conforme URL abaixo):"
      ]
    },
    {
      "cell_type": "code",
      "metadata": {
        "id": "Lfwpbkt-pnMq",
        "colab_type": "code",
        "colab": {
          "base_uri": "https://localhost:8080/",
          "height": 597
        },
        "outputId": "d989659f-d160-48c5-ca0a-2189c80097c8"
      },
      "source": [
        "dfCovid = pd.read_csv(\"https://raw.githubusercontent.com/feulo-ocean/lab_pandas/master/twitter-covid.csv\")\n",
        "dfCovid"
      ],
      "execution_count": null,
      "outputs": [
        {
          "output_type": "execute_result",
          "data": {
            "text/html": [
              "<div>\n",
              "<style scoped>\n",
              "    .dataframe tbody tr th:only-of-type {\n",
              "        vertical-align: middle;\n",
              "    }\n",
              "\n",
              "    .dataframe tbody tr th {\n",
              "        vertical-align: top;\n",
              "    }\n",
              "\n",
              "    .dataframe thead th {\n",
              "        text-align: right;\n",
              "    }\n",
              "</style>\n",
              "<table border=\"1\" class=\"dataframe\">\n",
              "  <thead>\n",
              "    <tr style=\"text-align: right;\">\n",
              "      <th></th>\n",
              "      <th>data</th>\n",
              "      <th>texto</th>\n",
              "      <th>retweet</th>\n",
              "      <th>idioma</th>\n",
              "      <th>lugar</th>\n",
              "      <th>pais</th>\n",
              "      <th>sigla</th>\n",
              "      <th>latitude</th>\n",
              "      <th>longitude</th>\n",
              "    </tr>\n",
              "  </thead>\n",
              "  <tbody>\n",
              "    <tr>\n",
              "      <th>0</th>\n",
              "      <td>2020-05-23 00:21:14</td>\n",
              "      <td>Para voltar tudo ao normal, você precisa fazer...</td>\n",
              "      <td>0</td>\n",
              "      <td>pt</td>\n",
              "      <td>Rio das Ostras</td>\n",
              "      <td>Brazil</td>\n",
              "      <td>BR</td>\n",
              "      <td>-41.937900</td>\n",
              "      <td>-22.522600</td>\n",
              "    </tr>\n",
              "    <tr>\n",
              "      <th>1</th>\n",
              "      <td>2020-03-22 22:57:51</td>\n",
              "      <td>14.245 – O que é a hidroxicloroquina? https://...</td>\n",
              "      <td>0</td>\n",
              "      <td>pt</td>\n",
              "      <td>Sao Paulo</td>\n",
              "      <td>Brazil</td>\n",
              "      <td>BR</td>\n",
              "      <td>-46.674739</td>\n",
              "      <td>-23.606067</td>\n",
              "    </tr>\n",
              "    <tr>\n",
              "      <th>2</th>\n",
              "      <td>2020-04-14 00:11:33</td>\n",
              "      <td>Quarta morte em Lar de Estarreja associada à C...</td>\n",
              "      <td>1</td>\n",
              "      <td>pt</td>\n",
              "      <td>Lisbon</td>\n",
              "      <td>Portugal</td>\n",
              "      <td>PT</td>\n",
              "      <td>-9.099043</td>\n",
              "      <td>38.747518</td>\n",
              "    </tr>\n",
              "    <tr>\n",
              "      <th>3</th>\n",
              "      <td>2020-05-25 20:45:43</td>\n",
              "      <td>COVID-19 |  Hospital municipal Tide Setúbal, n...</td>\n",
              "      <td>0</td>\n",
              "      <td>pt</td>\n",
              "      <td>Sao Paulo</td>\n",
              "      <td>Brazil</td>\n",
              "      <td>BR</td>\n",
              "      <td>-46.633300</td>\n",
              "      <td>-23.550000</td>\n",
              "    </tr>\n",
              "    <tr>\n",
              "      <th>4</th>\n",
              "      <td>2020-04-15 10:34:39</td>\n",
              "      <td>#cenasdocotidiano #santos #distanciamentosocia...</td>\n",
              "      <td>0</td>\n",
              "      <td>pt</td>\n",
              "      <td>Santos</td>\n",
              "      <td>Brazil</td>\n",
              "      <td>BR</td>\n",
              "      <td>-46.293700</td>\n",
              "      <td>-23.975947</td>\n",
              "    </tr>\n",
              "    <tr>\n",
              "      <th>...</th>\n",
              "      <td>...</td>\n",
              "      <td>...</td>\n",
              "      <td>...</td>\n",
              "      <td>...</td>\n",
              "      <td>...</td>\n",
              "      <td>...</td>\n",
              "      <td>...</td>\n",
              "      <td>...</td>\n",
              "      <td>...</td>\n",
              "    </tr>\n",
              "    <tr>\n",
              "      <th>495</th>\n",
              "      <td>2020-04-07 16:14:13</td>\n",
              "      <td>O isolamento social também serve para mostrar ...</td>\n",
              "      <td>1</td>\n",
              "      <td>pt</td>\n",
              "      <td>Rio Branco</td>\n",
              "      <td>Brazil</td>\n",
              "      <td>BR</td>\n",
              "      <td>-67.859657</td>\n",
              "      <td>-9.932246</td>\n",
              "    </tr>\n",
              "    <tr>\n",
              "      <th>496</th>\n",
              "      <td>2020-03-26 18:02:28</td>\n",
              "      <td>Enquanto o mundo está atento ao covid 19 é o B...</td>\n",
              "      <td>0</td>\n",
              "      <td>pt</td>\n",
              "      <td>Rio de Janeiro</td>\n",
              "      <td>Brazil</td>\n",
              "      <td>BR</td>\n",
              "      <td>-43.358100</td>\n",
              "      <td>-22.942800</td>\n",
              "    </tr>\n",
              "    <tr>\n",
              "      <th>497</th>\n",
              "      <td>2020-03-18 05:28:16</td>\n",
              "      <td>#covid_19 #stayhome @ Toronto, Ontario https:/...</td>\n",
              "      <td>0</td>\n",
              "      <td>pt</td>\n",
              "      <td>Toronto</td>\n",
              "      <td>Canada</td>\n",
              "      <td>CA</td>\n",
              "      <td>-79.387200</td>\n",
              "      <td>43.648000</td>\n",
              "    </tr>\n",
              "    <tr>\n",
              "      <th>498</th>\n",
              "      <td>2020-03-03 21:27:11</td>\n",
              "      <td>Um vira-lata sem Coronavirus #joeviralata #dog...</td>\n",
              "      <td>0</td>\n",
              "      <td>pt</td>\n",
              "      <td>Sao Paulo</td>\n",
              "      <td>Brazil</td>\n",
              "      <td>BR</td>\n",
              "      <td>-46.633300</td>\n",
              "      <td>-23.550000</td>\n",
              "    </tr>\n",
              "    <tr>\n",
              "      <th>499</th>\n",
              "      <td>2020-01-21 13:18:03</td>\n",
              "      <td>Portugal já está a preparar-se para responder ...</td>\n",
              "      <td>1</td>\n",
              "      <td>pt</td>\n",
              "      <td>Lisbon</td>\n",
              "      <td>Portugal</td>\n",
              "      <td>PT</td>\n",
              "      <td>-9.099043</td>\n",
              "      <td>38.747518</td>\n",
              "    </tr>\n",
              "  </tbody>\n",
              "</table>\n",
              "<p>500 rows × 9 columns</p>\n",
              "</div>"
            ],
            "text/plain": [
              "                    data  ...  longitude\n",
              "0    2020-05-23 00:21:14  ... -22.522600\n",
              "1    2020-03-22 22:57:51  ... -23.606067\n",
              "2    2020-04-14 00:11:33  ...  38.747518\n",
              "3    2020-05-25 20:45:43  ... -23.550000\n",
              "4    2020-04-15 10:34:39  ... -23.975947\n",
              "..                   ...  ...        ...\n",
              "495  2020-04-07 16:14:13  ...  -9.932246\n",
              "496  2020-03-26 18:02:28  ... -22.942800\n",
              "497  2020-03-18 05:28:16  ...  43.648000\n",
              "498  2020-03-03 21:27:11  ... -23.550000\n",
              "499  2020-01-21 13:18:03  ...  38.747518\n",
              "\n",
              "[500 rows x 9 columns]"
            ]
          },
          "metadata": {
            "tags": []
          },
          "execution_count": 53
        }
      ]
    },
    {
      "cell_type": "markdown",
      "metadata": {
        "id": "2bAFePAksydw",
        "colab_type": "text"
      },
      "source": [
        "**shape**\n",
        "\n",
        "Verificar o tamanho dos dados."
      ]
    },
    {
      "cell_type": "code",
      "metadata": {
        "id": "tx09waN0s5eU",
        "colab_type": "code",
        "colab": {
          "base_uri": "https://localhost:8080/",
          "height": 34
        },
        "outputId": "cc7caaf2-4789-4e70-c393-c06b8c921e73"
      },
      "source": [
        "print(dfCovid.shape)"
      ],
      "execution_count": null,
      "outputs": [
        {
          "output_type": "stream",
          "text": [
            "(500, 9)\n"
          ],
          "name": "stdout"
        }
      ]
    },
    {
      "cell_type": "markdown",
      "metadata": {
        "id": "HHPJlUGn6_u_",
        "colab_type": "text"
      },
      "source": [
        "**dtype**\n",
        "\n",
        "Permite consultar o tipo de dado do atributo do Data Frame."
      ]
    },
    {
      "cell_type": "code",
      "metadata": {
        "id": "YunSMX437Hyb",
        "colab_type": "code",
        "colab": {
          "base_uri": "https://localhost:8080/",
          "height": 34
        },
        "outputId": "c2244f9e-91e5-4e17-e34f-88481125d856"
      },
      "source": [
        "dfCovid.retweet.dtype"
      ],
      "execution_count": 121,
      "outputs": [
        {
          "output_type": "execute_result",
          "data": {
            "text/plain": [
              "dtype('int64')"
            ]
          },
          "metadata": {
            "tags": []
          },
          "execution_count": 121
        }
      ]
    },
    {
      "cell_type": "code",
      "metadata": {
        "id": "am3DzBD87PLK",
        "colab_type": "code",
        "colab": {
          "base_uri": "https://localhost:8080/",
          "height": 191
        },
        "outputId": "d13c0e4f-bd88-4d6d-fb31-b354cb25720a"
      },
      "source": [
        "dfCovid.dtypes"
      ],
      "execution_count": 122,
      "outputs": [
        {
          "output_type": "execute_result",
          "data": {
            "text/plain": [
              "data          object\n",
              "texto         object\n",
              "retweet        int64\n",
              "idioma        object\n",
              "lugar         object\n",
              "pais          object\n",
              "sigla         object\n",
              "latitude     float64\n",
              "longitude    float64\n",
              "dtype: object"
            ]
          },
          "metadata": {
            "tags": []
          },
          "execution_count": 122
        }
      ]
    },
    {
      "cell_type": "markdown",
      "metadata": {
        "id": "blpSc_pelyhV",
        "colab_type": "text"
      },
      "source": [
        "**head**\n",
        "\n",
        "Efetuando a leitura das primeiras linhas do Data Frame, caso não seja passado um parâmetro, serão recuperados os primeros cinco registros do Data Frame, por default."
      ]
    },
    {
      "cell_type": "code",
      "metadata": {
        "id": "KhsfNtZjsq-i",
        "colab_type": "code",
        "colab": {
          "base_uri": "https://localhost:8080/",
          "height": 293
        },
        "outputId": "a991bc66-4f54-438a-921d-74590005562f"
      },
      "source": [
        "dfCovid.head()"
      ],
      "execution_count": null,
      "outputs": [
        {
          "output_type": "execute_result",
          "data": {
            "text/html": [
              "<div>\n",
              "<style scoped>\n",
              "    .dataframe tbody tr th:only-of-type {\n",
              "        vertical-align: middle;\n",
              "    }\n",
              "\n",
              "    .dataframe tbody tr th {\n",
              "        vertical-align: top;\n",
              "    }\n",
              "\n",
              "    .dataframe thead th {\n",
              "        text-align: right;\n",
              "    }\n",
              "</style>\n",
              "<table border=\"1\" class=\"dataframe\">\n",
              "  <thead>\n",
              "    <tr style=\"text-align: right;\">\n",
              "      <th></th>\n",
              "      <th>data</th>\n",
              "      <th>texto</th>\n",
              "      <th>retweet</th>\n",
              "      <th>idioma</th>\n",
              "      <th>lugar</th>\n",
              "      <th>pais</th>\n",
              "      <th>sigla</th>\n",
              "      <th>latitude</th>\n",
              "      <th>longitude</th>\n",
              "    </tr>\n",
              "  </thead>\n",
              "  <tbody>\n",
              "    <tr>\n",
              "      <th>0</th>\n",
              "      <td>2020-05-23 00:21:14</td>\n",
              "      <td>Para voltar tudo ao normal, você precisa fazer...</td>\n",
              "      <td>0</td>\n",
              "      <td>pt</td>\n",
              "      <td>Rio das Ostras</td>\n",
              "      <td>Brazil</td>\n",
              "      <td>BR</td>\n",
              "      <td>-41.937900</td>\n",
              "      <td>-22.522600</td>\n",
              "    </tr>\n",
              "    <tr>\n",
              "      <th>1</th>\n",
              "      <td>2020-03-22 22:57:51</td>\n",
              "      <td>14.245 – O que é a hidroxicloroquina? https://...</td>\n",
              "      <td>0</td>\n",
              "      <td>pt</td>\n",
              "      <td>Sao Paulo</td>\n",
              "      <td>Brazil</td>\n",
              "      <td>BR</td>\n",
              "      <td>-46.674739</td>\n",
              "      <td>-23.606067</td>\n",
              "    </tr>\n",
              "    <tr>\n",
              "      <th>2</th>\n",
              "      <td>2020-04-14 00:11:33</td>\n",
              "      <td>Quarta morte em Lar de Estarreja associada à C...</td>\n",
              "      <td>1</td>\n",
              "      <td>pt</td>\n",
              "      <td>Lisbon</td>\n",
              "      <td>Portugal</td>\n",
              "      <td>PT</td>\n",
              "      <td>-9.099043</td>\n",
              "      <td>38.747518</td>\n",
              "    </tr>\n",
              "    <tr>\n",
              "      <th>3</th>\n",
              "      <td>2020-05-25 20:45:43</td>\n",
              "      <td>COVID-19 |  Hospital municipal Tide Setúbal, n...</td>\n",
              "      <td>0</td>\n",
              "      <td>pt</td>\n",
              "      <td>Sao Paulo</td>\n",
              "      <td>Brazil</td>\n",
              "      <td>BR</td>\n",
              "      <td>-46.633300</td>\n",
              "      <td>-23.550000</td>\n",
              "    </tr>\n",
              "    <tr>\n",
              "      <th>4</th>\n",
              "      <td>2020-04-15 10:34:39</td>\n",
              "      <td>#cenasdocotidiano #santos #distanciamentosocia...</td>\n",
              "      <td>0</td>\n",
              "      <td>pt</td>\n",
              "      <td>Santos</td>\n",
              "      <td>Brazil</td>\n",
              "      <td>BR</td>\n",
              "      <td>-46.293700</td>\n",
              "      <td>-23.975947</td>\n",
              "    </tr>\n",
              "  </tbody>\n",
              "</table>\n",
              "</div>"
            ],
            "text/plain": [
              "                  data  ...  longitude\n",
              "0  2020-05-23 00:21:14  ... -22.522600\n",
              "1  2020-03-22 22:57:51  ... -23.606067\n",
              "2  2020-04-14 00:11:33  ...  38.747518\n",
              "3  2020-05-25 20:45:43  ... -23.550000\n",
              "4  2020-04-15 10:34:39  ... -23.975947\n",
              "\n",
              "[5 rows x 9 columns]"
            ]
          },
          "metadata": {
            "tags": []
          },
          "execution_count": 54
        }
      ]
    },
    {
      "cell_type": "markdown",
      "metadata": {
        "id": "nFjAc_OgmOKS",
        "colab_type": "text"
      },
      "source": [
        "**tail**\n",
        "\n",
        "Efetuando a leitura das úúltimas linhas do Data Frame, caso não seja passado um parâmetro, serão recuperados os últimos cinco registros do Data Frame, por default. É possível passar valores negativos (que retornaram os registros do fim da lista, da mesma forma)."
      ]
    },
    {
      "cell_type": "code",
      "metadata": {
        "id": "opwTxFUkt3Xm",
        "colab_type": "code",
        "colab": {
          "base_uri": "https://localhost:8080/",
          "height": 293
        },
        "outputId": "31f40887-3813-4809-8618-9b8167d0e3ef"
      },
      "source": [
        "dfCovid.tail()"
      ],
      "execution_count": null,
      "outputs": [
        {
          "output_type": "execute_result",
          "data": {
            "text/html": [
              "<div>\n",
              "<style scoped>\n",
              "    .dataframe tbody tr th:only-of-type {\n",
              "        vertical-align: middle;\n",
              "    }\n",
              "\n",
              "    .dataframe tbody tr th {\n",
              "        vertical-align: top;\n",
              "    }\n",
              "\n",
              "    .dataframe thead th {\n",
              "        text-align: right;\n",
              "    }\n",
              "</style>\n",
              "<table border=\"1\" class=\"dataframe\">\n",
              "  <thead>\n",
              "    <tr style=\"text-align: right;\">\n",
              "      <th></th>\n",
              "      <th>data</th>\n",
              "      <th>texto</th>\n",
              "      <th>retweet</th>\n",
              "      <th>idioma</th>\n",
              "      <th>lugar</th>\n",
              "      <th>pais</th>\n",
              "      <th>sigla</th>\n",
              "      <th>latitude</th>\n",
              "      <th>longitude</th>\n",
              "    </tr>\n",
              "  </thead>\n",
              "  <tbody>\n",
              "    <tr>\n",
              "      <th>495</th>\n",
              "      <td>2020-04-07 16:14:13</td>\n",
              "      <td>O isolamento social também serve para mostrar ...</td>\n",
              "      <td>1</td>\n",
              "      <td>pt</td>\n",
              "      <td>Rio Branco</td>\n",
              "      <td>Brazil</td>\n",
              "      <td>BR</td>\n",
              "      <td>-67.859657</td>\n",
              "      <td>-9.932246</td>\n",
              "    </tr>\n",
              "    <tr>\n",
              "      <th>496</th>\n",
              "      <td>2020-03-26 18:02:28</td>\n",
              "      <td>Enquanto o mundo está atento ao covid 19 é o B...</td>\n",
              "      <td>0</td>\n",
              "      <td>pt</td>\n",
              "      <td>Rio de Janeiro</td>\n",
              "      <td>Brazil</td>\n",
              "      <td>BR</td>\n",
              "      <td>-43.358100</td>\n",
              "      <td>-22.942800</td>\n",
              "    </tr>\n",
              "    <tr>\n",
              "      <th>497</th>\n",
              "      <td>2020-03-18 05:28:16</td>\n",
              "      <td>#covid_19 #stayhome @ Toronto, Ontario https:/...</td>\n",
              "      <td>0</td>\n",
              "      <td>pt</td>\n",
              "      <td>Toronto</td>\n",
              "      <td>Canada</td>\n",
              "      <td>CA</td>\n",
              "      <td>-79.387200</td>\n",
              "      <td>43.648000</td>\n",
              "    </tr>\n",
              "    <tr>\n",
              "      <th>498</th>\n",
              "      <td>2020-03-03 21:27:11</td>\n",
              "      <td>Um vira-lata sem Coronavirus #joeviralata #dog...</td>\n",
              "      <td>0</td>\n",
              "      <td>pt</td>\n",
              "      <td>Sao Paulo</td>\n",
              "      <td>Brazil</td>\n",
              "      <td>BR</td>\n",
              "      <td>-46.633300</td>\n",
              "      <td>-23.550000</td>\n",
              "    </tr>\n",
              "    <tr>\n",
              "      <th>499</th>\n",
              "      <td>2020-01-21 13:18:03</td>\n",
              "      <td>Portugal já está a preparar-se para responder ...</td>\n",
              "      <td>1</td>\n",
              "      <td>pt</td>\n",
              "      <td>Lisbon</td>\n",
              "      <td>Portugal</td>\n",
              "      <td>PT</td>\n",
              "      <td>-9.099043</td>\n",
              "      <td>38.747518</td>\n",
              "    </tr>\n",
              "  </tbody>\n",
              "</table>\n",
              "</div>"
            ],
            "text/plain": [
              "                    data  ...  longitude\n",
              "495  2020-04-07 16:14:13  ...  -9.932246\n",
              "496  2020-03-26 18:02:28  ... -22.942800\n",
              "497  2020-03-18 05:28:16  ...  43.648000\n",
              "498  2020-03-03 21:27:11  ... -23.550000\n",
              "499  2020-01-21 13:18:03  ...  38.747518\n",
              "\n",
              "[5 rows x 9 columns]"
            ]
          },
          "metadata": {
            "tags": []
          },
          "execution_count": 55
        }
      ]
    },
    {
      "cell_type": "markdown",
      "metadata": {
        "id": "X61zhLGGmiXv",
        "colab_type": "text"
      },
      "source": [
        "O Pandas permite exportar os dados do DataFrame para diversos tipos de saída."
      ]
    },
    {
      "cell_type": "code",
      "metadata": {
        "id": "4_8C_mvdt_ho",
        "colab_type": "code",
        "colab": {
          "base_uri": "https://localhost:8080/",
          "height": 175
        },
        "outputId": "fe1ecd09-587e-4e57-9085-17d1d6e33239"
      },
      "source": [
        "dfCovid.to_string()"
      ],
      "execution_count": null,
      "outputs": [
        {
          "output_type": "execute_result",
          "data": {
            "application/vnd.google.colaboratory.intrinsic+json": {
              "type": "string"
            },
            "text/plain": [
              "'                    data                                                                                                                                                     texto  retweet idioma                    lugar                        pais sigla    latitude  longitude\\n0    2020-05-23 00:21:14                       Para voltar tudo ao normal, você precisa fazer o isolamento social e sair apenas para o essencial... Então… https://t.co/EcaGjadUQE        0     pt           Rio das Ostras                      Brazil    BR  -41.937900 -22.522600\\n1    2020-03-22 22:57:51                                                                     14.245 – O que é a hidroxicloroquina? https://t.co/XaxsRnB10Q https://t.co/dy40zuc7wk        0     pt                Sao Paulo                      Brazil    BR  -46.674739 -23.606067\\n2    2020-04-14 00:11:33                          Quarta morte em Lar de Estarreja associada à Covid-19 https://t.co/wevTDyEotP Em https://t.co/MDmhqgtnSp https://t.co/eZI7567hWm        1     pt                   Lisbon                    Portugal    PT   -9.099043  38.747518\\n3    2020-05-25 20:45:43               COVID-19 |  Hospital municipal Tide Setúbal, na periferia de São Paulo, parentes se reúnem diariamente a espera de… https://t.co/erdJ2kQh2B        0     pt                Sao Paulo                      Brazil    BR  -46.633300 -23.550000\\n4    2020-04-15 10:34:39                                  #cenasdocotidiano #santos #distanciamentosocial #documentário #trabalhando #estiva #estivadores… https://t.co/3v4ZCfDJs6        0     pt                   Santos                      Brazil    BR  -46.293700 -23.975947\\n5    2020-03-27 22:59:12              O Papa Francisco rezando sozinho na imensa praça vazia de São Pedro, Vaticano. Deu a bênção e a indulgência plenári… https://t.co/Rxh0WUPSFS        0     pt             Vatican City                Vatican City    VA   12.457018  41.902473\\n6    2020-05-25 10:39:40              Estudo randomizado com remdesivir para o tratamento de #covid_19  em adultos hospitalizados, É O PRIMEIRO a mostrar… https://t.co/foSKEnNEjD        0     pt                 Kingston                      Canada    CA  -76.482852  44.232424\\n7    2020-03-22 19:12:37               Memórias do cárcere. Hoje deu até pra treinar hein! Acostumando à nova realidade. Pausa pra modelar de cara limpa.… https://t.co/mAnB4kdpFs        0     pt           Rio de Janeiro                      Brazil    BR  -43.273900 -22.961900\\n8    2020-04-17 10:37:04                      Bélgica ultrapassa barreira das 5.000 mortes por Covid-19 https://t.co/jSIVkjlJwn Em https://t.co/MDmhqgtnSp https://t.co/soQnjtKy9z        0     pt                   Lisbon                    Portugal    PT   -9.099043  38.747518\\n9    2020-04-14 11:57:33                                                   Covid-19 | Ninguém paga água no concelho - Até 17 junho https://t.co/p95VFDwmKW https://t.co/a0fHhJubxJ        0     pt               Montalegre                    Portugal    PT   -7.791839  41.823221\\n10   2020-03-26 20:57:34                                Mais de 23 mil mortes e 505 mil infeções em todo o mundo pela Covid-19 https://t.co/ucyTtqyd8w Em… https://t.co/FcU0wL1gzv        2     pt                   Lisbon                    Portugal    PT   -9.099043  38.747518\\n11   2020-02-14 02:25:32              Em toda a China, as pessoas estão falando sobre o Dr. Li Wen Liang. Ele foi o médico que descobriu o novo coronavír… https://t.co/rTDGx7boU8        0     pt                 Curitiba                      Brazil    BR  -49.269900 -25.434600\\n12   2020-03-22 14:51:40              O isolamento social recomendado pelas autoridades da saúde para conter a propagação do Covid-19 alterou a rotina do… https://t.co/paZQBqOoaS        0     pt                    Natal                      Brazil    BR  -35.209500  -5.800800\\n13   2020-04-05 15:56:52                  💁\\u200d♀️\\U0001f929 #Lookdodia... aliás, do Fim de semana hahahahahahah bem ensacadinho hahahahah quem se identifica?!!  💁\\u200d♀️… https://t.co/Ixx8FQmor3        0     pt                    Natal                      Brazil    BR  -35.209500  -5.800800\\n14   2020-05-27 20:05:18              Atenção, foco e concentração no desenvolvimento de estratégias para melhor atendimento aos clientes no desenvolvime… https://t.co/rG7CHgP3Yg        0     pt  Cachoeiro de Itapemirim                      Brazil    BR  -41.109000 -20.847800\\n15   2020-03-31 12:14:37                         Em tempos de isolamento social, vamos de trabalho Home Office!!! em Neópolis, Rio Grande Do Norte, Brazil https://t.co/v264QLxuk5        0     pt                    Natal                      Brazil    BR  -35.206731  -5.868995\\n16   2020-05-18 23:45:11              E aí vamos testar uma live amanhã, fazer conteúdos diferenciados, só bora nessa quarentena!!! em Barra Do Garças, M… https://t.co/hXHImftlqy        0     pt                Aragarças                      Brazil    BR  -52.260080 -15.892750\\n17   2020-03-18 02:46:27              A Prefeitura Municipal de Caraúbas vem, por meio desta, orientar sobre as providências a serem tomadas diante da pa… https://t.co/uzsHge80Mh        0     pt                  Upanema                      Brazil    BR  -37.303100  -5.530000\\n18   2020-03-19 18:45:05                        Quarta morte por Covid-19 em Portugal. Primeira em Ovar https://t.co/8YfbkxXvb1 Em https://t.co/MDmhqgtnSp https://t.co/u2NBk7aZKu        4     pt                   Lisbon                    Portugal    PT   -9.099043  38.747518\\n19   2020-05-22 16:58:23              Estudo multicêntrico no lancet com 96k pacientes. Hidroxicloroquina (com ou sem azitro) com início em até 48h do di… https://t.co/TKD2U5ggWW        0     pt             Ponta Grossa                      Brazil    BR  -50.165100 -25.090600\\n20   2020-03-20 11:34:05                        Faça por você, faça por mim, faça pelos seus...se isole. Isolamento social  evita a transmissão do vírus.… https://t.co/bw69TOVpKP        0     pt                  Cambuci                      Brazil    BR  -41.911119 -21.577385\\n21   2020-03-17 23:58:30                     Até a Dica Contábil de hoje foi sobre o Coronavirus. Os empresários e os funcionários receberam orientações.… https://t.co/QmKyvNVVf4        0     pt          Delmiro Gouveia                      Brazil    BR  -38.005157  -9.386176\\n22   2020-03-31 17:01:16                                          Nesse momento de isolamento social, é importante uma orientação profissional. em Paraíba https://t.co/b5X5kabIvf        0     pt                  Taperoá                      Brazil    BR  -36.825000  -7.162778\\n23   2020-05-21 19:12:32                  “Em tempos de corona vírus, jornalistas ficam mais cabeludos e passam mais tempo apurando”, diz estudo. 😂🤷🏻\\u200d♂️👀… https://t.co/HkRbzpaWtg        0     pt                Sao Paulo                      Brazil    BR  -46.598056 -23.559167\\n24   2020-04-04 01:03:10              Nesse momento de isolamento social, caso você não queira fazer sua comida, e for pedir delivery, peça no estabeleci… https://t.co/sgWU8iCjsh        0     pt                Guarulhos                      Brazil    BR  -46.441020 -23.471097\\n25   2020-03-29 13:38:03                                 #valternuporai #esiliocovid19#covıd19 #ficaemcasa #querovoltarpracasa em Alfama, Lisboa, Portugal https://t.co/fbodu0JIek        0     pt                   Lisbon                    Portugal    PT   -9.128200  38.711500\\n26   2020-03-21 20:45:32              Pensando em nossa população nesse momento de Pandemia do Coronavírus e ao aumento do consumo de Água e Energia Elét… https://t.co/VQD2KHDhyb        0     pt                 Manhuaçu                      Brazil    BR  -42.036040 -20.266600\\n27   2020-04-03 19:21:04              Festival Vai à Janela, produzido pelos alunos da World Academy, das janelas de Lisboa para o mundo! Foto: Michele S… https://t.co/hUoKieWQSv        1     pt                   Lisbon                    Portugal    PT   -9.156389  38.706944\\n28   2020-03-24 19:05:47              Fique em casa, pratique em casa. Cuide da saúde do corpo e também da saúde da mente. Apesar das dificuldades atuais… https://t.co/rd3jrbgRUc        0     pt    São Bernardo do Campo                      Brazil    BR  -46.553455 -23.717245\\n29   2020-04-03 17:12:04              COVID 19 já está circulando entre nós algum tempo. Se olharmos por este ângulo, acredito que muitos de nós já estam… https://t.co/RpaRNGojzp        0     pt    São Félix do Araguaia                      Brazil    BR  -53.000000 -11.000000\\n30   2020-04-06 09:54:59              Durante a Pandemia estamos em isolamento social. Por cuidado com a Família Maís Academia. Faça o mesmo, Fique em Ca… https://t.co/ygOBhCunKs        0     pt                   Tombos                      Brazil    BR  -42.025609 -20.906790\\n31   2020-05-21 11:09:11              O Ministério da Saúde entrou em contradição nesta quarta-feira ao comentar a falta de assinaturas nas novas orienta… https://t.co/42oucA6Xje        0     pt              João Pessoa                      Brazil    BR  -34.862700  -7.120700\\n32   2020-03-30 01:34:48              Em tempos de isolamento social, acompanhar uma live com a rosana.brown para milhares de pessoas com um show de alto… https://t.co/ZcgX57JiiK        0     pt                 Brasília                      Brazil    BR  -47.884840 -15.804728\\n33   2020-04-15 18:15:50              Ei...já posso sair da quarentena?☺️🐶 Westie: Joey Of Zoe Harus | Canil: Zoe Harus - Apaixonados por Westies | Cidad… https://t.co/WyKWCh5ctW        0     pt           Rio de Janeiro                      Brazil    BR  -43.197500 -22.908000\\n34   2020-03-31 15:38:32                         11:23 Avenida Paulista sem carros 🚘 #avenidapaulista #saopaulo #covid19 #coronavirus em São Paulo, Brazil https://t.co/SNojwInpwa        0     pt                Sao Paulo                      Brazil    BR  -46.633300 -23.550000\\n35   2020-02-28 11:06:33                Coronavírus detetado em cão. Animais de estimação vão ficar em quarentena em Hong Kong https://t.co/TOExmds4SZ Em… https://t.co/dr2bjSYzFC        1     pt                   Lisbon                    Portugal    PT   -9.099043  38.747518\\n36   2020-05-25 16:06:01              Saudade da academia né meu filho? Fácil não está sendo, mas logo isso vai passar. #fiqueemcasa #covid19 em Riacho d… https://t.co/xwVSYqyr43        0     pt       Riacho dos Cavalos                      Brazil    BR  -37.656560  -6.435830\\n37   2020-04-08 18:24:03              A realidade no hospital de referência para o tratamento do COVID-19. Como está o enfrentamento ao corona vírus no H… https://t.co/hDAO2kezH2        0     pt             Juiz de Fora                      Brazil    BR  -43.348464 -21.679280\\n38   2020-05-30 00:55:26               a partir de segunda (01/06), o estado de SP vai afrouxar o isolamento social e isso ao meu ver ainda é equivocado.… https://t.co/fnrSf2d1vb        0     pt                Sao Paulo                      Brazil    BR  -46.633300 -23.550000\\n39   2020-03-31 11:51:35              Fique em casa, pratique em casa. Cuide da saúde do corpo e também da saúde da mente. Apesar das dificuldades atuais… https://t.co/4usRMfsev8        0     pt    São Bernardo do Campo                      Brazil    BR  -46.561100 -23.719000\\n40   2020-04-03 00:20:04               Qual é a primeira coisa que você vai fazer quando o distanciamento social acabar? Eu: vou fazer um belo de um rolê… https://t.co/r9GSwah1Zc        0     pt                  Peruíbe                      Brazil    BR  -46.999140 -24.319180\\n41   2020-03-18 10:30:03                               Morreu Vieira Monteiro. Presidente do Santander Portugal tinha Covid-19 https://t.co/Fd0JCZBuWw Em… https://t.co/UkDJeyOEGA        2     pt                   Lisbon                    Portugal    PT   -9.099043  38.747518\\n42   2020-05-19 23:13:21                      Alguém sabe onde esse homem fez faculdade de medicina pra sair liberando remédio? #indignada #forabolsonaro… https://t.co/g5B75Budu8        0     pt                Sao Paulo                      Brazil    BR  -46.711885 -23.475639\\n43   2020-03-06 18:02:03                      Covid-19: subida de preços de máscaras não compromete fornecimento nos hospitais https://t.co/26UtwjHj6S Em… https://t.co/Ad8ePIvZoX        1     pt                   Lisbon                    Portugal    PT   -9.099043  38.747518\\n44   2020-03-12 12:33:15              O governo precisa urgente adotar políticas públicas para prevenir e evitar a transmissibilidade do Covid19. Falta i… https://t.co/XqaYOQkDpk        0     pt                Sao Paulo                      Brazil    BR  -46.653063 -23.564266\\n45   2020-03-18 21:06:34                       OMS lança \"ensaio clínico solidário\" para encontrar tratamentos para a Covid-19 https://t.co/Z0mJwvqmlX Em… https://t.co/z1iOyOODUg        0     pt                   Lisbon                    Portugal    PT   -9.099043  38.747518\\n46   2020-03-18 10:15:03                   Humanos começam a testar vacina para o Covid-19. O que os cientistas já descobriram https://t.co/SvNxIpnKIO Em… https://t.co/lb1bnPbo59        1     pt                   Lisbon                    Portugal    PT   -9.099043  38.747518\\n47   2020-04-02 16:01:05                          Ora pago eu, ora pagas tu. Como privados e Estado gerem doentes com Covid-19 https://t.co/vzBPjUPyA6 Em… https://t.co/N8po8FDWuX        1     pt                   Lisbon                    Portugal    PT   -9.099043  38.747518\\n48   2020-04-05 02:42:01              Mesa Quântica Estelar, Reiki e Frequência Arco íris enviados para a cura planetária contra o coronavírus, com amor,… https://t.co/Wzl7Dg2YSl        0     pt           Rio de Janeiro                      Brazil    BR  -43.197500 -22.908000\\n49   2020-03-09 11:18:49              Na Itália faltam aparelhos respiratórios nas unidades de saúde, a população está em quarentena, estão fechados shop… https://t.co/07NiZo7lQk        0     pt                Jaguaruna                      Brazil    BR  -48.906470 -28.623002\\n50   2020-04-15 19:17:29                            Campo Grande: Vereador Chiquinho Telles manifesta preocupação com a baixa adesão ao isolamento social… https://t.co/uN33lOtNVN        0     pt             Campo Grande                      Brazil    BR  -54.616700 -20.450000\\n51   2020-04-06 18:07:36              Seu pet precisa de um lugar pra brincar e se divertir, gastar energia?! 🐕 Manda ele pra cá?! 😊 A gente faz o transp… https://t.co/W2zMfyzhgd        0     pt           Rio de Janeiro                      Brazil    BR  -43.374200 -22.864700\\n52   2020-03-14 20:47:41                 Podia ser hoje, mas o isolamento social não deixa 🏡 Já agora, para quê tanto papel higiénico? em Lisbon, Portugal https://t.co/HmHsuqQNXK        0     pt                   Lisbon                    Portugal    PT   -9.139400  38.726100\\n53   2020-03-31 20:23:05              Estimo pronta recuperação ao Sr. José Paulo Cairoli. Pessoa de moral ilibada e dono de currículo profissional brilh… https://t.co/irKS0gFC9k        0     pt             Porto Alegre                      Brazil    BR  -51.220800 -30.029100\\n54   2020-03-05 10:11:05                         Covid-19 em Portugal: \"Mais vale fazer as coisas por excesso que por defeito\" https://t.co/jp4FSLh7qS Em… https://t.co/1bUCAqOOD4        0     pt                   Lisbon                    Portugal    PT   -9.099043  38.747518\\n55   2020-03-18 03:22:12              Distânciamento social pode salvar os avos, os doentes de câncer e muitos outros grupos mais vulneráveis. Coronaviru… https://t.co/FcYYuYWHHN        0     pt                    Miami               United States    US  -80.192000  25.775200\\n56   2020-05-27 21:38:23              Nesta quarta, 27 de maio, a Paraíba registra 1290 novos casos de Covid-19 e 12 óbitos confirmados desde a ultima at… https://t.co/BK1oX6L6Bf        0     pt              João Pessoa                      Brazil    BR  -34.862700  -7.120700\\n57   2020-03-23 19:14:33                   #resumodofds #gordices #credoquedelícia #séries #filmes #distanciamentosocial #combateaocoronavírus #quempuder… https://t.co/b4RDgPcroI        0     pt                 Caieiras                      Brazil    BR  -46.740080 -23.364520\\n58   2020-04-05 08:16:17                                                                                 #dirumahaja #corona #covid19 #ponorogo @ Ponorogo https://t.co/vN8wKbn8DM        0     eu                 Ponorogo                   Indonesia    ID  111.466700  -7.864919\\n59   2020-02-24 23:06:03                              Área geográfica atingida por coronavírus passa a ser critério de triagem https://t.co/kLO76g9AEc Em… https://t.co/K4FBo9Z6Bu        1     pt                   Lisbon                    Portugal    PT   -9.099043  38.747518\\n60   2020-05-22 04:00:14               👉🏻Atualização com informações repassadas pela Secretaria Municipal de Saúde de Lages. \\U0001f9a0Dos 62 casos positivados de… https://t.co/XkHiP3FHNO        0     pt                    Lages                      Brazil    BR  -50.325800 -27.815800\\n61   2020-05-26 21:02:38              Muito triste ver que 195 adolescentes foram contaminados na EPCAR. Me formei nessa escola em 1999 e sabemos que é i… https://t.co/cfqYaM5aZP        0     pt                Barbacena                      Brazil    BR  -43.766317 -21.219582\\n62   2020-03-10 20:08:06                      Covid-19: Conselho dos Politécnicos não vê razões para encerrar estabelecimentos https://t.co/DvOXoGvXGz Em… https://t.co/WGxNGVysZ6        0     pt                   Lisbon                    Portugal    PT   -9.099043  38.747518\\n63   2020-03-22 19:47:20              Engajamento total dos moradores e frequentadores da Praia da Costa neste momento de necessite de isolamento social.… https://t.co/mSPm6iyBwB        0     pt               Vila Velha                      Brazil    BR  -40.280587 -20.334203\\n64   2020-03-18 05:46:36                                                                  Algumas medidas contra o Coronavírus(Covid-19). em Montes Claros https://t.co/ANImybSzjJ        0     pt            Montes Claros                      Brazil    BR  -43.863600 -16.732200\\n65   2020-05-17 21:07:44                                                          Dando uma voltinha. 🤗 #pandemia #mascarados #covid19 em Curitiba, Brazil https://t.co/Io69LuKDl1        0     pt                 Curitiba                      Brazil    BR  -49.270500 -25.433900\\n66   2020-04-08 21:06:38              👉🏻Atualização das informações do coronavírus em Lages. De acordo com a Secretaria de Saúde da prefeitura, são 7 cas… https://t.co/xwdnC6m3Zk        1     pt                    Lages                      Brazil    BR  -50.325800 -27.815800\\n67   2020-04-01 22:43:21              Neste episódio do \"Ciência para seus Ouvidos\" abordamos como a matemática pode ajudar a explicar a pandemia do novo… https://t.co/P9lcfq5Zm2        0     pt                  Chapecó                      Brazil    BR  -52.617800 -27.095800\\n68   2020-03-21 19:22:08              Estamos vivendo uma Pandemia do Coronavírus! Para tanto, recomendamos alguns cuidados básicos com o uso dos elevado… https://t.co/usEznXYmqh        0     pt                Sao Paulo                      Brazil    BR  -46.634630 -23.529011\\n69   2020-04-09 23:15:50               Subiu para 11 o número de pessoas mortas em decorrência da Covid-19 na Paraíba. Há 79 casos confirmados de pessoas… https://t.co/VoPK28BFkD        0     pt              João Pessoa                      Brazil    BR  -34.862700  -7.120700\\n70   2020-05-27 15:59:56                                📕- Estou lendo o Devocional Coronavírus e Cristo, com John Piper\\' da YouVersion. Confira aqui: 👉🏻… https://t.co/AUB1LF1w4F        0     pt                 Brasília                      Brazil    BR  -47.900000 -15.800000\\n71   2020-03-27 02:07:47              Nos vemos uma ou duas vezes por ano, quando dá mais... Mas com esse \"distanciamento social\" parece que a saudade ap… https://t.co/GTSDCtguus        0     pt               Scott Lake               United States    US  -80.237185  25.957486\\n72   2020-03-19 20:58:11                                         \\U0001f974🤣😭☠️ #corona #covid_19 #socialdistancing #nofilterpodcast😈😇 @ Colorado Springs, Colorado https://t.co/Q6TAkmMJwL        0     pt         Colorado Springs               United States    US -104.820700  38.830100\\n73   2020-02-13 15:39:40                                              Morre mais um de coronavirus...chegou em casa com a máscara errada!!! em Pato Branco https://t.co/sHwqBAIEo7        0     pt              Pato Branco                      Brazil    BR  -52.666700 -26.216700\\n74   2020-03-21 22:37:44                                                  Vamos ajudar a combater o vetor chinês chamado de Coronavirus. em Recife, Brazil https://t.co/x5QGDf7VmY        1     pt                   Recife                      Brazil    BR  -34.925700  -8.060500\\n75   2020-05-22 21:44:49              A cidade de Nova York, nos Estados Unidos, vai desinfectar o transporte público com equipamentos de luz ultraviolet… https://t.co/Mry1Q1fDUe        0     pt              Los Angeles               United States    US -118.244500  34.056400\\n76   2020-03-31 22:26:13              DIANTE DO CAOS DA PANDEMIA DO COVID-19 (CORONAVÍRUS) PENSEM NOS MENOS PRIVILEGIADOS E TENHA EM SEU CARRO UM TUBINHO… https://t.co/exx1CU3cRf        0     pt                Sao Paulo                      Brazil    BR  -46.633300 -23.550000\\n77   2020-04-05 11:04:08              *Eu creio assim. O Brasil está parando hoje em jejum e oração clamando a Deus para destruir o Coronavirus. Nunca se… https://t.co/r6kVyoMLO5        0     pt          Martinho Campos                      Brazil    BR  -45.060081 -19.498828\\n78   2020-04-14 12:02:26               Até as 23 horas do dia 12 de abril do corrente ano, o Rio Grande do Norte tinha 339 casos confirmados de Covid-19,… https://t.co/K1uglOLNeL        0     pt                    Natal                      Brazil    BR  -35.207771  -5.784792\\n79   2020-03-19 17:01:46              Nós, do Observatório Iberoamericano de Políticas Públicas de Saúde Bucal, estamos disponibilizando, com base em rap… https://t.co/LHMyIPjCUi        0     pt                 Brasília                      Brazil    BR  -47.900000 -15.800000\\n80   2020-03-30 02:14:24              𝒜𝒸𝒽ℯ𝒾 𝓅ℯ𝓇𝒹𝒾𝒹𝒶 𝓃ℴ 𝓇ℴ𝓁ℴ 𝒹𝒶 𝒸𝒶𝓂ℯ𝓇𝒶📸.                                                                 Aproveite esse te… https://t.co/auSv4nOeXT        0     pt               Uberlândia                      Brazil    BR  -48.300000 -18.916700\\n81   2020-02-06 15:16:03                 \"Portugal pode não estar preparado para enfrentar coronavírus\" https://t.co/xMChxXNSaX Em https://t.co/MDmhqgtnSp https://t.co/Wbv7O1QB6e        0     pt                   Lisbon                    Portugal    PT   -9.099043  38.747518\\n82   2020-03-24 21:06:15                      Eita! Kkkkkkkkkkkkkkk... Depois não digam que foi por falta de aviso. #fiqueemcasa #ficaemcasa #coronavirus… https://t.co/vlml8F78kk        0     pt                  Aracaju                      Brazil    BR  -37.064784 -10.949830\\n83   2020-03-30 02:11:41              Mensagem da Igreja Católica Apostólica Romana em todo o Planeta ! A Valorização da Igreja Doméstica em tempos de is… https://t.co/IjS5lNKLRD        0     pt                    Belém                      Brazil    BR  -48.480478  -1.452942\\n84   2020-04-16 22:21:10                                    #quarentena #coronavirus #covid19 #ficaemcasa #isolamentosocial #isolamento em Gugu Nas Teclas https://t.co/IlVtnnxBQw        0     pt                 Camaçari                      Brazil    BR  -38.335600 -12.715024\\n85   2020-03-16 23:39:06                       Coisas incríveis que estão acontecendo nas varandas pela Espanha. #quarentena #mequedoencasa #euficoemcasa… https://t.co/qMMmTOqCjW        0     pt                Barcelona                       Spain    ES    2.168300  41.389400\\n86   2020-03-19 20:45:14              As pesquisas não param! 💻 A equipe do Lab404 se reuniu virtualmente durante o período de isolamento social para con… https://t.co/xJNgHk4SiL        1     pt                Melbourne                   Australia    AU  144.960154 -37.818769\\n87   2020-04-14 02:16:43              Ao promoverem por interesses financeiros e políticos a cloroquina, Trump e Bolsonaro colocam em risco a vida de que… https://t.co/C7BRBZdcMG        0     pt                   Bayeux                      Brazil    BR  -34.945545  -7.157035\\n88   2020-04-04 22:06:08              Última atualização da situação do Município de Rianápolis quanto ao Coronavírus COVID-19. em Rianápolis, Goias, Bra… https://t.co/pn5wEsJrjN        0     pt               Rianápolis                      Brazil    BR  -49.510680 -15.446470\\n89   2020-03-18 14:42:04                              Covid-19: calçado vê \"com muito bons olhos\" medidas de apoio à indústria https://t.co/OtKlna5Dsu Em… https://t.co/uu1s59SeFl        0     pt                   Lisbon                    Portugal    PT   -9.099043  38.747518\\n90   2020-03-26 19:37:21                      folhadespaulo #folhadespaulo #folha #sarscovid19 #sars_cov_19 #covid #covid19brasil #covid_19 #confinamento… https://t.co/mK3k3a5Prr        0     pt           Belo Horizonte                      Brazil    BR  -43.939991 -19.923588\\n91   2020-03-24 17:48:41                       \"A importância do isolamento social na contenção de uma pandemia: Aquele que se afastou salvou os demais!\"… https://t.co/c2DpLn8PbF        0     pt                  Bacabal                      Brazil    BR  -44.780140  -4.221890\\n92   2020-04-09 17:43:40                       #covid19 #coronavirusbrazil #coronavirus #fiqueemcasa #todoscontraocoronavirus em Boa Viagem, Ceara, Brazil https://t.co/g64dvvJXl4        0     pt               Boa Viagem                      Brazil    BR  -39.731430  -5.126360\\n93   2020-04-16 22:31:43              Com o intuito de reforçar a importância do isolamento social, a Prefeitura de Caieiras instituiu através do Decreto… https://t.co/9Bggbg3esk        0     pt                 Caieiras                      Brazil    BR  -46.740080 -23.364520\\n94   2020-03-13 20:22:07                               Pandemia in a nutshell: sexta-feira, 13 do três. em Aeropuerto Internacional de la Ciudad de México https://t.co/PL2P5ZuHjO        0     pt      Venustiano Carranza                      Mexico    MX  -99.082084  19.433873\\n95   2020-01-26 16:37:06                            Embaixada em Pequim alerta portugueses na China para medidas de quarentena https://t.co/YRbmgoCXlv Em… https://t.co/PgjLmzKir8        0     pt                   Lisbon                    Portugal    PT   -9.099043  38.747518\\n96   2020-05-20 13:32:48                                                   Ajudar as pesquisas da UFRJ contra o Covid19. em Tijuca, Rio De Janeiro, Brazil https://t.co/OIVDTyGYgL        0     pt           Rio de Janeiro                      Brazil    BR  -43.233300 -22.933300\\n97   2020-03-22 23:23:47                                  #covid19 turistas continuam passeando de buggy pelas ruas de Natal em Natal, Rio Grande do Norte https://t.co/KF815piFXp        1     pt                    Natal                      Brazil    BR  -35.209500  -5.800800\\n98   2020-02-24 19:28:03                                Bolsas da Europa fecham em forte queda com avanço de coronavírus na Itália https://t.co/GH21uAZNsM https://t.co/GpXkugrlgH        0     pt             Campo Grande                      Brazil    BR  -54.646303 -20.453655\\n99   2020-03-21 19:30:35              Estas são as palavras do presidente jairmessiasbolsonaro em entrevista ontem no sbtprogramadoratinho. Sim, Bolsonar… https://t.co/b6OAdM8UVZ        0     pt                Sao Paulo                      Brazil    BR  -46.668120 -23.614820\\n100  2020-04-16 11:12:31              Boa iniciativa da CNN Brasil de impedir fake news “teórico” sobre a pandemia!  #ficaemcasa em São Luís - Ilha Do Am… https://t.co/rcWlsqtsAE        0     pt                 São Luís                      Brazil    BR  -44.206144  -2.583257\\n101  2020-03-03 00:43:28              A Intelprise alerta os folioes pos-carnavalescos........para evitar a transmissao de coronavirus evite fazer festas… https://t.co/yf01E27hN4        0     pt        North Miami Beach               United States    US  -80.163740  25.946560\\n102  2020-04-16 23:32:27                                                     Agora Bolsonaro resolveu problema do COVID-19 no Brasil em Diadema, Sao Paulo https://t.co/NXi01YeUGC        0     pt                  Diadema                      Brazil    BR  -46.610600 -23.686100\\n103  2020-04-05 15:39:44                    Ensinando ele a jogar #parchis e ja ti apanhando... 🤦\\u200d♂️#melaozinho #jogosdetabuleiro #quarentena #cuarentena… https://t.co/KqFBpN2Mkm        0     pt                 Valencia                       Spain    ES   -0.377000  39.464800\\n104  2020-04-04 19:21:46                                     #SOSMoira @sosmoira https://t.co/rS6B2Pvmmq #coronavirus #corona #covıd19 #refugees @ Utrecht https://t.co/Qd9RDsEPCu        0     nl                  Utrecht             The Netherlands    NL    5.106800  52.087400\\n105  2020-03-06 20:12:03                               Hospital de campanha vai ser instalado no Santa Maria devido à Covid-19 https://t.co/LUf4pql0o4 Em… https://t.co/1YAEfr5uPY        1     pt                   Lisbon                    Portugal    PT   -9.099043  38.747518\\n106  2020-03-03 17:54:18                                                                      #boraviajar #ferias #virus #Coronavirus #saude em Guararapes https://t.co/DbGLicw3gX        0     pt               Guararapes                      Brazil    BR  -50.633300 -21.250000\\n107  2020-03-18 00:58:10              #REPOST @Noemiacunha with get__repost__app   A ANESCO orienta os Esteticistas e Cosmetólogos e os Técnicos em estét… https://t.co/c0tG5M0QSt        0     pt                 Colatina                      Brazil    BR  -40.635826 -19.538932\\n108  2020-04-03 16:14:36                      não permita que o covid-19 atrapalhe suas atividades cotidianas, neste caso, pedir uns 🍪 em Lisbon, Portugal https://t.co/IOw9zu7PAx        0     pt                   Lisbon                    Portugal    PT   -9.139400  38.726100\\n109  2020-03-18 23:30:12              Enquanto isso na sala da justiça 🦇 e o Coronavírus \\U0001f9a0 não passa meu amigo de quarentena Guitar Hero @garcia_lelo fri… https://t.co/S60r8SnDPI        0     pt                Bradenton               United States    US  -82.577700  27.488200\\n110  2020-03-26 17:56:51              Em dias de *Distanciamento social* manter a distância de quem amamos e até de quem não mensuramos  é lei. Daí me pe… https://t.co/llMTegdc1l        0     pt           Campina Grande                      Brazil    BR  -35.882500  -7.219100\\n111  2020-03-10 18:28:03              Terça feira, dia 10 de Março, um dia extremamente agradável, com um sol ☀ e uma temperatura muitíssimo aprazível qu… https://t.co/Ii69kwPBdM        0     pt                  Setúbal                    Portugal    PT   -8.817141  38.520957\\n112  2020-03-24 20:48:19              Gente ficar isolado é ruim. Vai embora logo COVID-19 quero sair. #quarentena #pandemia #coronavirus #tedio em Boa V… https://t.co/blwFzIPmQm        0     pt    São José do Rio Preto                      Brazil    BR  -49.384440 -20.803310\\n113  2020-03-21 21:00:05              Neste momento em São Paulo para controlar à  pandemia do #coronavírus #covid 21/03/20 às  17:56 em São Paulo, Brazil https://t.co/lbxtQC9rE3        0     pt                Sao Paulo                      Brazil    BR  -46.633300 -23.550000\\n114  2020-04-08 21:45:28               NA BRIGA CONTRA O CORONAVÍRUS: A Agência Inis Café entra em Home-Office com e continua atendendo com qualidade e a… https://t.co/gWSfqIddBI        0     pt   Luís Eduardo Magalhães                      Brazil    BR  -45.797802 -12.109919\\n115  2020-03-18 16:58:43              Palestra on-line - Live nessa quinta-feira as 19h aqui no Instagram- Tema: Covid-19 Como a inteligência emocional p… https://t.co/6EdqqvydzP        0     pt                Rio Verde                      Brazil    BR  -50.932800 -17.797900\\n116  2020-05-27 16:36:38                            Calma, se todo mundo ficar tranquilo ninguém se machuca. Só vou levar indo patrão. #frio #coronavirus… https://t.co/fka7lmIBBB        0     pt                 Sorocaba                      Brazil    BR  -47.458100 -23.501700\\n117  2020-04-05 12:55:21               Eu e meu cão em isolamento social. Me sentindo na beira da praia... É o que temos para hoje... em Maringá, Paraná,… https://t.co/DpGnVoNvAf        0     pt                  Maringá                      Brazil    BR  -51.963890 -23.428722\\n118  2020-03-29 17:41:36              Queridos, #oremos pela #vítimas e #acometidos da #COVID19, seus familiares e #pessoas #vulneráveis até pela falta d… https://t.co/tU3m58ttKJ        0     pt                   Cuiabá                      Brazil    BR  -56.066667 -15.566667\\n119  2020-05-19 15:38:47              ATENÇÃO! ⚠🔊🚨 Confira acima os horários do escalonamento obrigatório dos estabelecimentos comerciais que podem funci… https://t.co/2zLTE4v0z2        0     pt     Aparecida de Goiânia                      Brazil    BR  -49.269078 -16.735491\\n120  2020-05-27 21:40:07               Pessoas, estatísticas e ciência. Nesse instante, mais de 40 pesquisadoras e pesquisadores do Brasil inteiro, estão… https://t.co/NQ3USqBGqj        0     pt                Sao Paulo                      Brazil    BR  -46.706214 -23.727396\\n121  2020-03-19 17:51:15              Escrever é algo que uns têm dificuldade e outros facilidade, mas é uma habilidade que pode ser trabalhada por qualq… https://t.co/PKRwTYe52w        2     pt                 Campinas                      Brazil    BR  -47.057222 -22.900833\\n122  2020-04-08 23:38:29                               Estudando na quarentena por Livio Campos #liviocamposfotografo #leica #huaweip20pro #leicandoporai… https://t.co/E6gpdkoS7W        0     pt                  Niterói                      Brazil    BR  -43.107050 -22.907361\\n123  2020-03-27 23:23:18              A cidade de Nova York parece um campo de guerra. O governador do estado solicitou 30 mil respiradores artificiais p… https://t.co/riAKAgHtu0        1     pt                Manhattan               United States    US  -74.006400  40.714200\\n124  2020-05-16 22:22:39              O vice-presidente Hamilton Mourão e a mulher dele, Paula, estão isolados no Palácio do Jaburu desde a manhã deste s… https://t.co/bVt3RGScX1        0     pt                    Patos                      Brazil    BR  -37.275100  -7.019200\\n125  2020-05-23 17:49:42              Só pra deixar registrado e daqui a 1 ano eu me orgulhar, vencemos a Covid-19! Todos nós! Ficamos em casa, só saímos… https://t.co/e21yW9j3Zi        0     pt             Porto Seguro                      Brazil    BR  -39.083300 -16.442700\\n126  2020-03-26 22:10:32              Hoje pela manhã em frente ao Alvorada, Bolsonaro perguntou a um grupo “amontoado” de jornalistas: “o que vocês estã… https://t.co/VfphMgT1gs        0     pt                 Brasília                      Brazil    BR  -47.822175 -15.792772\\n127  2020-03-27 23:37:47               CORONAVÍRUS: NOVAS REGRAS PARA O COMÉRCIO  A Prefeitura de Queimados decreta que a partir da próxima segunda-feira… https://t.co/7Vc3yRu3Fv        0     pt                Queimados                      Brazil    BR  -43.551175 -22.716095\\n128  2020-04-06 19:02:14              Alguns heróis usam máscaras e estão na linha de frente do combate ao corona vírus. Estão espalhados em hospitais, p… https://t.co/Yx7qcJnFhC        0     pt             Porto Alegre                      Brazil    BR  -51.205600 -30.049490\\n129  2020-05-23 21:47:36               Mais 328 casos de Covid-19 em Alagoas foram confirmados, segundo o Boletim Epidemiológico deste sábado (23). Dessa… https://t.co/IVUR6sNSqe        1     pt                Taquarana                      Brazil    BR  -36.550000  -9.570000\\n130  2020-03-23 12:26:19              Manu ajudando a fazer o café da manhã. Tarefas do dia a dia ajudam a manter uma rotina saudável e divertida para as… https://t.co/PTSBWP6xyQ        0     pt             Porto Alegre                      Brazil    BR  -51.220800 -30.029100\\n131  2020-05-26 18:54:19               Discutindo agora na Comissão Externa do Coronavírus medidas para manter o funcionamento dos frigoríficos durante a… https://t.co/xZOI5efP2z        1     pt                 Brasília                      Brazil    BR  -47.864334 -15.800017\\n132  2020-04-09 21:37:02                         Portugal tem mais doentes Covid-19 per capita do que o Reino Unido e a França https://t.co/9cMOJaUzHl Em… https://t.co/WeMY8niS62        3     pt                   Lisbon                    Portugal    PT   -9.099043  38.747518\\n133  2020-04-07 16:35:13              Não tem muito o que pensar. Prorrogar agora antes que a Pandemia vire Pandemônio. Ou morremos por falta de ar ou po… https://t.co/9AfEICd3Rj        0     pt       Balneário Camboriú                      Brazil    BR  -48.632700 -26.989500\\n134  2020-03-30 14:56:12              #isolamentosocial dia 14 : Tentando ser fitness com os aparelhos de ginástica da minha mãe e falhando miseravelment… https://t.co/XD6AayGpAc        0     pt                   Maceió                      Brazil    BR  -35.704613  -9.657992\\n135  2020-03-31 20:46:54              Crônicas do isolamento: a tudo a gente se habitua, já dizia alguma canção. E nesse cenário de pandemia, meu exame d… https://t.co/4Jua9kLPyo        0     pt                Sao Paulo                      Brazil    BR  -46.649758 -23.538854\\n136  2020-03-10 22:55:01              De tanto lavar a mão pra evitar contaminação por Coronavirus, apareceu uma cola que fiz na 7a série em 93. em Jagua… https://t.co/2tNKAEkuCY        0     pt                  Jaguaré                      Brazil    BR  -40.074127 -18.904424\\n137  2020-04-02 20:16:05                           mayaracorreas ❤️ na cobertura do #covid19 para @_60queeGaama #press #jornalismo #hardnews #comunicação… https://t.co/Fz7RTFL8wM        1     pt                 Sorocaba                      Brazil    BR  -47.420922 -23.480470\\n138  2020-05-23 08:24:44              Dia 23/05/2020  Dia 70 da quarentena Covid-19  “Quando somos corrigidos, isso no momento nos parece motivo de trist… https://t.co/X1tjOmyULW        0     pt              João Pessoa                      Brazil    BR  -34.835014  -7.104990\\n139  2020-02-14 17:54:03                                   Embaixada da China em Angola admite efeitos negativos mas limitados do coronavírus na economia… https://t.co/neLmfCCHu2        0     pt                   Lisbon                    Portugal    PT   -9.099043  38.747518\\n140  2020-04-04 16:46:45                                            Para Deus \"varrer\" essa praga de Coronavírus do Brasil....#EuApoioJB em Manaus, Brazil https://t.co/2pIFTuqMtz        0     pt                   Manaus                      Brazil    BR  -60.025300  -3.113330\\n141  2020-04-03 15:46:48                              Imagem de Senhor do Bonfim passando pelas ruas de Salvador agora! Senhor do Bonfim, Rogai por Nós!🙏… https://t.co/LPJsLHjdKU        0     pt                 Salvador                      Brazil    BR  -38.488997 -12.965160\\n142  2020-03-18 21:26:56               #moraesesilvaadvogados #hebersonmoraesadvogado #covid_19 #voltaredonda #errejota #barramansa #rj #pinheiral #pirai… https://t.co/t7bvjxwc5y        0     pt            Volta Redonda                      Brazil    BR  -44.103900 -22.522800\\n143  2020-05-19 22:15:49               Com o objetivo de oferecer comodidade, conforto e segurança aos clientes\\xa0 em tempos de isolamento social por conta… https://t.co/tcimVOR7QE        0     pt                Arapiraca                      Brazil    BR  -36.660015  -9.745281\\n144  2020-03-30 00:22:22                                   @Vamu_Ver #vamuver #pacman #isolamentosocial #covid_19 #covid19portugal ##brasileirospelomundo… https://t.co/V1f4NPPH2A        0     pt                   Lisbon                    Portugal    PT   -9.183333  38.700000\\n145  2020-04-06 21:13:42                        Maringá é recorde em casos de DENGUE, e também de CORONA VÍRUS. De quem é a responsabilidade?⚠️ em Maringá https://t.co/qK793AL9pt        0     pt                  Maringá                      Brazil    BR  -51.932900 -23.418300\\n146  2020-03-13 12:02:22              Mediante recomendações do governo em respeito à “Limitações de frequência para assegurar possibilidade de manter di… https://t.co/tbxklzMSFu        2     pt                   Oeiras                    Portugal    PT   -9.309140  38.695160\\n147  2020-03-24 23:07:35               24/03/2020 - O DesGoverno do Rn destina TRÊS MILHÕES DE REAIS 💵 DO NOSSO DINHEIRO 💰 PARA “SERVIÇOS DE PUBLICIDADE”… https://t.co/wEiKvR52Hs        0     pt                    Natal                      Brazil    BR  -35.209500  -5.800800\\n148  2020-03-26 22:31:05               Atendendo à situação de Pandemia por COVID-19, no nosso país e seguindo as recomendações da Direção Geral de Saúde… https://t.co/QR2le6x6bV        0     pt                     Góis                    Portugal    PT   -8.116670  40.150000\\n149  2020-04-14 21:12:35              ↘️ Decon de Juazeiro do Norte determina medidas sanitárias de proteção à COVID-19 nos Mercados Públicos. A promotor… https://t.co/799kX22VO4        0     pt        Juazeiro do Norte                      Brazil    BR  -39.315000  -7.212778\\n150  2020-04-16 02:30:04              Selfie da Webmeeting institucional @Boehringer referência de todas as 4as feiras às 19h30 para todos os profissiona… https://t.co/3QUPeCW4js        0     pt                 Curitiba                      Brazil    BR  -49.270500 -25.433900\\n151  2020-05-26 23:40:54              Melhor Personal que vi nos últimos 3 meses para essa quarentena. O melhor!!! clovisribheiro linyrayane alinegamafit… https://t.co/wCcBa42mR3        0     pt                 Brasília                      Brazil    BR  -47.956205 -15.856996\\n152  2020-03-31 23:16:45              O mundo não é mais o mesmo depois dessa #pandemia do #coronavirus #covid_19, as pessoas estão em #quarentena e tudo… https://t.co/BBhLw3bzpA        0     pt   Vitória de Santo Antão                      Brazil    BR  -35.295800  -8.119400\\n153  2020-04-09 21:28:32              FAÇA O SEU CONSÓRCIO, FINANCIAMENTO OU O SEU SEGURO SEM SAIR DA SUA CASA! ISSO MESMO! Você ganha tempo e evita a ci… https://t.co/OpVlFgeElS        0     pt               Abre Campo                      Brazil    BR  -42.476260 -20.298590\\n154  2020-03-13 18:48:22              Com o avanço do novo #coronavírus pelo Brasil, temos que intensificar os cuidados com a nossa saúde e se previnir é… https://t.co/DivZwO9LkS        0     pt                Sao Paulo                      Brazil    BR  -46.633300 -23.550000\\n155  2020-02-04 17:52:37              Bora conhecer mais sobre o corona vírus com Dr Eduardo Finger Programa Nova Stella @tvpuc em Museu da Imagem e do S… https://t.co/MlocE8Y20x        0     pt                Sao Paulo                      Brazil    BR  -46.676112 -23.572752\\n156  2020-04-16 07:44:49               A Copa do Nordeste completou nesta quarta-feira (15) um mês paralisado em virtude da pandemia do novo coronavírus.… https://t.co/20pn4J6BDr        0     pt                 Salvador                      Brazil    BR  -38.488997 -12.965160\\n157  2020-05-31 19:48:33              [Vitrine Virtual @Dadynha ] Divulgação voluntária durante a pandemia do Covid-19: com fé, confiança e empatia vence… https://t.co/ocWr9CSp1Q        0     pt               Maranguape                      Brazil    BR  -38.692004  -3.896802\\n158  2020-05-30 15:18:22               Estamos seguindo atendendo desde o início dessa quarentena pelo simples fato de usar Epi\\'s e seguir o protocolo de… https://t.co/RZLt7dt1Ik        0     pt           Rio de Janeiro                      Brazil    BR  -43.560364 -22.874850\\n159  2020-03-19 20:53:17              Comunicado sobre a pandemia da Covid-19 e o funcionamento do escritório nos próximos dias. em Abreu Júdice Advogados https://t.co/zCECBwtrc6        0     pt                  Vitória                      Brazil    BR  -40.289934 -20.317303\\n160  2020-04-13 10:03:35               Day 27 - 😷\\U0001f9a0 #Quarentena #COVID19 #CoronaVirus #EuFicoEmCasa\\xa0\\xa0\\xa0\\xa0 #HomeOffice #TodosPorTodos #FicaEmCasa\\xa0\\xa0\\xa0\\xa0 #Brasil… https://t.co/AD9crcRtji        1     pt                Guarulhos                      Brazil    BR  -46.500125 -23.430756\\n161  2020-03-11 13:43:03                                  Batalha contra a Covid-19 \"para salvar Wuhan\" https://t.co/itoIBDqcqL Em https://t.co/MDmhqgtnSp https://t.co/1LiFJcP5DT        0     pt                   Lisbon                    Portugal    PT   -9.099043  38.747518\\n162  2020-03-13 15:31:19                                                            Vamos todos colaborar 🤜🤛 #covid19 #coronavirus em Samedan, Switzerland https://t.co/pcJqg4HA0P        0     es                  Samedan                 Switzerland    CH    9.873100  46.536070\\n163  2020-03-21 19:44:00              Bate papo com @elielsonlima sobre o efeito CORONA VÍRUS foi riquíssimo, a Live está salva nos stories @ São Lourenç… https://t.co/5hJCC6JdrM        0     pt     São Lourenço da Mata                      Brazil    BR  -35.017800  -8.006600\\n164  2020-05-29 22:41:49                                                                            Respeito ao distanciamento social. em Diocesano Bistrô https://t.co/aCJvwmDACT        0     pt                   Iguatu                      Brazil    BR  -39.290265  -6.354646\\n165  2020-05-16 10:51:41                          #gratulação🙌🏼 #cliente botecodourso.ssa Em tempos de #covid19 temos que nos unir +. #uniao #fiqueemcasa… https://t.co/EC6DAHoMXp        0     pt                 Salvador                      Brazil    BR  -38.448824 -12.982362\\n166  2020-05-27 20:30:49              Décima oitava morte no Estado e a quinta morte por Covid-19 na cidade de Três Lagoas, vítima é uma mulher de 78 ano… https://t.co/jLoHwzL64a        0     pt             Campo Grande                      Brazil    BR  -54.645833 -20.442778\\n167  2020-03-27 12:41:53              6° dia de Lock Down lvl4: Hoje eu saí pra comprar comida e dar uma malhada na pracinha, igual meu amigo Bangu do Ri… https://t.co/7QrmIHHC1G        0     pt                 Auckland                 New Zealand    NZ  174.765000 -36.847000\\n168  2020-03-20 04:01:48              Aqui no CSL utilizamos as mais variadas plataformas digitais para manter a aprendizagem e os estudos à distância ne… https://t.co/EsCQJCIvnD        0     pt                   Canoas                      Brazil    BR  -51.206460 -29.900080\\n169  2020-04-14 22:00:01               Live em dose dupla nesta quarta-feira a partir das 18h. Começarei os trabalhos convidando o amigo @ronnycharlesadv… https://t.co/A99FeuH5li        1     pt                  Aracaju                      Brazil    BR  -37.052600 -10.916200\\n170  2020-03-29 18:47:43                                                                                                    #covid19 #lift #stop @ Curaçao https://t.co/e7p9y3Tl7L        0     pt                  Curaçao                     Curaçao    CW  -69.000000  12.183333\\n171  2020-01-26 00:13:42                  Larp \"Quarentena 64\", Sesc Taubaté, 2019. #larp #larpbrasil #larpquarentena64 #sesctaubate  #confrariadasideias… https://t.co/bPLssIg9mE        2     pt                  Taubaté                      Brazil    BR  -45.567985 -23.004842\\n172  2020-03-18 13:52:21               Diante da pandemia que vivenciamos com o COVID-19, reforço com todos vocês o cuidado detalhado que devemos ter com… https://t.co/tNu8EIdy60        0     pt       Estrela de Alagoas                      Brazil    BR  -36.758600  -9.385000\\n173  2020-03-30 21:24:18                                                           Isolamento Social - verde total em Pedro Do Rio, Rio De Janeiro, Brazil https://t.co/tQ4el6XC7a        0     pt               Petrópolis                      Brazil    BR  -43.134200 -22.331700\\n174  2020-04-04 17:30:31              Para combater à fake news, a Secretaria Estadual de Saúde disponibilizou um canal para tirar dúvidas da população s… https://t.co/sQYSpt6FuB        0     pt                Nilópolis                      Brazil    BR  -43.412707 -22.813424\\n175  2020-05-30 17:13:00              [Vitrine Virtual @Dadynha ] Divulgação voluntária durante a pandemia do Covid-19: com fé, confiança e empatia vence… https://t.co/mQKhbG7wjw        0     pt               Maranguape                      Brazil    BR  -38.683900  -3.893500\\n176  2020-04-03 00:32:01              Boa Noite Galera Estamos em Off Works em  LockDown Quarantaine nos Shows Eventos devido situação pandemia. Porem es… https://t.co/zuwSgCsKTS        0     pt                Sao Paulo                      Brazil    BR  -46.633300 -23.550000\\n177  2020-05-21 16:11:34              Lançada na terça-feira (19), a nova campanha do Ministério Público intitulada como “TodaVidaVale busca conscientiza… https://t.co/PYovflq7dE        0     pt                   Maceió                      Brazil    BR  -35.724800  -9.623200\\n178  2020-05-23 21:42:57              Como não passei vergonha suficiente em 2018 com a publicidade da #telesena... deixo para passar agora na Pandemia d… https://t.co/jKJy6QCp2P        0     pt                    Milan                       Italy    IT    9.189700  45.464300\\n179  2020-05-23 21:04:38              Mãe de criança falecida alega que ela não teve acompanhamento pediátrico devido as restrições devido ao foco na Cov… https://t.co/grWliEBE6N        0     pt             Bom Despacho                      Brazil    BR  -45.252000 -19.736780\\n180  2020-04-08 21:48:44              Boa noite! O dia foi tão complicado e amanhã promete ser mais complicado ainda!! Mas vamos lá, nunca fui contra a i… https://t.co/jfl6QdvmB1        0     pt           Rio de Janeiro                      Brazil    BR  -43.197500 -22.908000\\n181  2020-04-07 17:59:58                                                                                               #lockdown #latestpic @ Delhi, India https://t.co/JURTZjV7Qo        0     pt                New Delhi                       India    IN   77.219672  28.631747\\n182  2020-03-24 22:45:47              Essa pandemia servirá para unir as famílias, os casais conversarão sobre assuntos dos mais comuns,  porém, tão impo… https://t.co/bBH8KgU9Xd        0     pt            Caxias do Sul                      Brazil    BR  -51.183300 -29.166700\\n183  2020-03-18 13:16:25               Momento é de oração pelo Brasil, pelo mundo e, isolamento social, fique em casa e se sair tome todas as precauções… https://t.co/uwWB38g1Oj        0     pt                 Brasília                      Brazil    BR  -47.900000 -15.800000\\n184  2020-03-20 10:54:32              A Bahia já apresenta casos de pessoas com a COVID-19 a partir do contágio comunitário. O distanciamento social é um… https://t.co/HZFaGmqk0Q        0     pt                 Salvador                      Brazil    BR  -38.476700 -12.974700\\n185  2020-03-20 16:18:58              Cloroquina\\xa0é um medicamento usado no tratamento de\\xa0malária\\xa0em regiões onde a malária é susceptível ao seu efeito.Em… https://t.co/4el8LD1I1m        0     pt             Boca da Mata                      Brazil    BR  -36.211300  -9.645000\\n186  2020-05-19 19:09:57              Nesse tempo de isolamento social,não se isole de Deus.Vamos chamar sua presença louvando seu nome com a nossa grand… https://t.co/KkdxgdDF0h        0     pt           Rio de Janeiro                      Brazil    BR  -43.373770 -22.931997\\n187  2020-03-26 23:45:52                                                                                           COVID-19: BOLETIM ATUALIZADO em Alagoas https://t.co/rqxvOtywFc        0     pt                Taquarana                      Brazil    BR  -36.550000  -9.570000\\n188  2020-05-20 23:01:55              Em épocas de isolamento social, não posso estar perto pra dar um xero no meu sobrinho postiço miguelmelocalil mas a… https://t.co/dViUgw7fIP        0     pt                Sao Paulo                      Brazil    BR  -46.633300 -23.550000\\n189  2020-04-09 22:07:41              Alagoas permanece com 37 casos confirmados de Covid-19. A informação foi divulgada pela Secretária de Saúde do Esta… https://t.co/iwGvdNxIdq        1     pt                Taquarana                      Brazil    BR  -36.550000  -9.570000\\n190  2020-04-15 20:54:41              Tenho visto com grande preocupação o comportamento da população lapense ante a pandemia do novo coronavírus (Sars-C… https://t.co/Idndo9uCwv        0     pt        Bom Jesus da Lapa                      Brazil    BR  -43.420070 -13.253850\\n191  2020-03-19 18:49:01                                                #Corona #Coronavírus #Covid #Covid19 #Covid-19 #FiqueEmCasa em João Pessoa, Brazil https://t.co/9vxJcDzOb3        0     pt              João Pessoa                      Brazil    BR  -34.862700  -7.120700\\n192  2020-03-18 23:29:23              😷\\U0001f9a0 Amor em tempo de #coronavirus.  #TamoJuntoEIsolado | Campanha do @mineirao para espalhar que “não é sobre pegar;… https://t.co/ikvZheVlpI        3     pt           Belo Horizonte                      Brazil    BR  -43.938700 -19.919100\\n193  2020-04-15 23:42:30                                                            Quando você tem 100 e não 15 metros pra correr... 🏠🏃🏼\\u200d♂️ em Quarentena https://t.co/2tYBnvSBGP        0     pt                     Magé                      Brazil    BR  -43.185902 -22.586977\\n194  2020-04-06 19:11:46              Pacientes de Goiás e de outros estados já podem ser atendidos remotamente por médicos especialistas, inclusive infe… https://t.co/C5zX3BzAnB        0     pt                  Goiânia                      Brazil    BR  -49.274331 -16.686405\\n195  2020-03-19 18:35:34              Com a crise do #covid_19 temos que lavar as mãos mas não esqueça de fechar a torneira enquanto ensaboa sua mão para… https://t.co/EGamFhGHYr        0     pt                Sao Paulo                      Brazil    BR  -46.633300 -23.550000\\n196  2020-03-21 17:52:32                      Dois ou três?  \\U0001f9a0🤷🏼\\u200d♂️ #covid19 #coronavirus #jornal #newspaper #serranegra em Serra Negra, Sao Paulo, Brazil https://t.co/lyfOiYEeTZ        0     pt              Serra Negra                      Brazil    BR  -46.701650 -22.614110\\n197  2020-04-03 21:31:41              ↘ Hospital Regional do Cariri tem 15 internados e um paciente entubado com suspeita de coronavírus. A região do Car… https://t.co/A2Bo0hL75u        0     pt        Juazeiro do Norte                      Brazil    BR  -39.315000  -7.212778\\n198  2020-03-21 23:31:34              DIA 24/3, 21:00 horas LIVE no perfil da Dra Raquel Arias https://t.co/Y9QhPQSFfV falando sobre o funcionamento do T… https://t.co/cvFVFOIePO        0     pt                   Santos                      Brazil    BR  -46.325000 -23.935400\\n199  2020-04-14 15:36:59              Pessoal e nossa sequência de Lives continua essa semana, hoje não percam hein!! paulo_lagana #juntossomosmaisfortes… https://t.co/HQNIdC5Ipl        0     pt                Sao Paulo                      Brazil    BR  -46.685660 -23.626860\\n200  2020-04-06 19:43:50              Governo Federal aportará R$ 34 bilhões para que pequenas e médias empresas brasileiras possam manter as folhas de p… https://t.co/pITRVITfkE        0     pt                   Maceió                      Brazil    BR  -35.716214  -9.584293\\n201  2020-05-30 15:46:27              O prefeito de Bom Jesus da Lapa-Bahia, Eures Ribeiro, informou em sua live nessa manhã de sábado 30/05/2020, que os… https://t.co/herJvZUQom        0     pt        Bom Jesus da Lapa                      Brazil    BR  -43.420070 -13.253850\\n202  2020-03-18 12:34:39                                                                 #usodemascara contra a disseminação do COVID-19. em Montes Claros https://t.co/xRxHUMtuSy        0     pt            Montes Claros                      Brazil    BR  -43.863600 -16.732200\\n203  2020-03-22 17:41:58                                 #coronavirus #covid19 #covid_19 \\U0001f9a0 😷 #quarantine #socialdistancing #selfquarantine 🤣🤣 @ Quarantine https://t.co/gzWX6ooVFa        0     it               Montpelier               United States    US  -72.598119  44.152532\\n204  2020-03-10 07:41:03                           Parlamento Europeu debate resposta da UE a Covid-19 em sessão \\'minimalista\\' https://t.co/7dR0Fyzhn0 Em… https://t.co/in3uVmSPoV        0     pt                   Lisbon                    Portugal    PT   -9.099043  38.747518\\n205  2020-05-21 01:40:26              O presidente americano, Donald Trump, afirmou nesta quarta-feira que o uso da cloroquina, remédio contra malária qu… https://t.co/NNdXwNMhbZ        0     pt                    Patos                      Brazil    BR  -37.275100  -7.019200\\n206  2020-04-14 09:35:03                                Casos curados voltam a superar novas infeções por Covid-19 na Alemanha https://t.co/JIYMJavaDx Em… https://t.co/bzKh6dNXw2        2     pt                   Lisbon                    Portugal    PT   -9.099043  38.747518\\n207  2020-03-19 17:31:28               Em virtude da propagação da pandemia ocasionada pelo vírus COVID-19, estamos realizando somente expediente interno… https://t.co/9jWiGwcVK8        0     pt  São Gonçalo do Amarante                      Brazil    BR  -35.262304  -5.769082\\n208  2020-04-04 18:59:01              No meu isolamento social, revendo velhos tempos de piano, meio enferrujado mas esta valendo para arejar a mente. Mi… https://t.co/Qk2hVrx0Pk        0     pt                   Manaus                      Brazil    BR  -60.025300  -3.113330\\n209  2020-02-27 11:37:23              Ministério da Saúde. Epidemiologia. CORONAVÍRUS (COVID-19). Casos só são oficialmente reconhecidos como suspeitos a… https://t.co/GY38qPbgTy        0     pt           Rio de Janeiro                      Brazil    BR  -43.197500 -22.908000\\n210  2020-03-19 23:12:00              \"Quem tem empresa precisa reforçar os cuidados para evitar a proliferação do coronavírus (Covid-19) entre funcionár… https://t.co/7uAUQpeCPu        0     pt                 Salvador                      Brazil    BR  -38.488997 -12.965160\\n211  2020-03-24 22:57:18              Conte comigo! Enquanto o isolamento social for necessário, TODOS os dias diversos conteúdos sobre DOR estarão dispo… https://t.co/hQlWClBhu9        0     pt            Florianópolis                      Brazil    BR  -48.594150 -27.609183\\n212  2020-04-16 04:11:02                                                                                                  Covid-19 o el desvelador silente https://t.co/VFRh5OjK2M        0     es   anto Domingo de Guzmán          Dominican Republic    DO  -69.948508  18.459688\\n213  2020-04-03 11:08:03                                       Esgotos podem ajudar a combater Covid-19 https://t.co/4izS7Y1W9P Em https://t.co/MDmhqgtnSp https://t.co/8Kr6w1AN94        0     pt                   Lisbon                    Portugal    PT   -9.099043  38.747518\\n214  2020-03-29 18:52:50                           Né Alice uma piscina e um sorvete nem cai bem ! Mais nosso amigo #covid19 não ajuda ! em Praia Itanhaem https://t.co/sURRlxxAz9        0     pt                Sao Paulo                      Brazil    BR  -46.649423 -23.594328\\n215  2020-04-09 20:22:02              ↘️ Juazeiro do Norte terá 180 leitos para atender pacientes da Covid-19. O Prefeito de Juazeiro do Norte, Arnon Bez… https://t.co/EfvHE4JaKu        0     pt        Juazeiro do Norte                      Brazil    BR  -39.315000  -7.212778\\n216  2020-01-14 01:01:54              O isolamento social é um problema cada vez mais comum e com causas muito variáveis. O índice de suicídio em pessoas… https://t.co/1YvBZ3Swpp        0     pt                 Salvador                      Brazil    BR  -38.521809 -13.005499\\n217  2020-04-05 20:04:28              Aquele olhar de quem descobriu que o Presidente fez um chamado para jejum religioso, num país que já está há 3 sema… https://t.co/5T145zn38I        0     pt      São José dos Campos                      Brazil    BR  -45.827342 -23.179614\\n218  2020-03-22 19:29:53                                                                           Evolução da Covid19 em PE, DF, CE e PR @ Recife, Brazil https://t.co/jbiffdar3d        0     pt                   Recife                      Brazil    BR  -34.925700  -8.060500\\n219  2020-04-02 20:35:03                                                                                  Passa tempo #distanciamentosocial em Vila Comari https://t.co/lNne1OLTGF        0     pt           Rio de Janeiro                      Brazil    BR  -43.558271 -22.919016\\n220  2020-03-03 13:31:04                               UE e indústria farmacêutica financiam novos tratamentos para o Covid-19 https://t.co/k6NiYHV1km Em… https://t.co/mMVT19pxSI        1     pt                   Lisbon                    Portugal    PT   -9.099043  38.747518\\n221  2020-04-02 21:57:30              Com o resultado dos exames de sangue realizados nos suspeitos chegando, o número de confirmados naturalmente e infe… https://t.co/90yh4n24vi        0     pt         Fernando Pedroza                      Brazil    BR  -36.550000  -5.740000\\n222  2020-01-31 16:57:03                                            As oito dúvidas sobre o coronavírus https://t.co/RQc0ryAaEp Em https://t.co/MDmhqgtnSp https://t.co/ViXudqXxu3        0     pt                   Lisbon                    Portugal    PT   -9.099043  38.747518\\n223  2020-05-22 04:34:25              ° 📌 Segundo dia de quarentena. Mais uma visita ao HEB para fazer a medicação prescritas no setor de covid-19 no jov… https://t.co/pDmr96EUJc        0     pt                     Apuí                      Brazil    BR  -59.892244  -7.199220\\n224  2020-03-21 19:22:14                                        #coronavirus #dicasdodoutor #cuidese em Rivaldo Emmerich Sociedade Individual de Advocacia https://t.co/N2syreTmg4        0     pt                Sao Paulo                      Brazil    BR  -46.764361 -23.642063\\n225  2020-02-07 17:48:03                       OMS preocupada com elevada procura de equipamentos de proteção para coronavírus https://t.co/oQulVepODz Em… https://t.co/fsqGj57wxs        0     pt                   Lisbon                    Portugal    PT   -9.099043  38.747518\\n226  2020-03-17 18:53:36              Sei que existem muitos outros fatores importantes,mas esse isolamento social é preocupante,porém precisamos atentar… https://t.co/QLVGAbutuH        0     pt                Nilópolis                      Brazil    BR  -43.413900 -22.807800\\n227  2020-04-04 21:21:39              Em tempos de Coronavirus no Brasil o povo está preocupado com as contas, mas se esquece de que a saúde é importante… https://t.co/5XjnkkBXZ4        0     pt                   Santos                      Brazil    BR  -46.320418 -23.975065\\n228  2020-03-23 13:36:47                                                                                     isolamento social em Mesquita, Rio de Janeiro https://t.co/KeefAy3Vtt        0     pt                 Mesquita                      Brazil    BR  -43.428800 -22.781900\\n229  2020-04-16 22:12:55              Afinal o Covid 19, é  uma criação  de laboratório para lucros de alguns, é prejuízos de outros tantos. Com a.palvra… https://t.co/HApzfiuPcv        0     pt                Sao Paulo                      Brazil    BR  -46.572758 -23.538158\\n230  2020-04-05 05:23:43              Sábado a tarde! Em casa, cara limpa, sem filtro. Seguindo no isolamento social. em Condominio Residencial das Minas… https://t.co/pzYMZW3Bi6        0     pt           Belo Horizonte                      Brazil    BR  -44.021276 -19.937304\\n231  2020-05-20 23:04:50                    Partiu! Fazer aquilo que mais amo. Claro com todos os cuidados. #patinsinline #pandemia #patinsstreet #patins… https://t.co/IoUnEsAm4J        1     pt    São José do Rio Preto                      Brazil    BR  -49.384440 -20.803310\\n232  2020-03-19 17:25:31              Covid-19 Como trabalhar de casa em tempos de corona vírus? O vídeo está no meu canal no YouTube é só buscar por Afr… https://t.co/DNfPAgqfsW        0     pt                   Cuiabá                      Brazil    BR  -56.096900 -15.595800\\n233  2020-04-15 22:22:28              Já fizemos quarentena. Já deu tempo de prepararem hospitais. Agora, a partir daqui, qual é o plano? Se não tem test… https://t.co/JopWjugGsC        0     pt                  Vitória                      Brazil    BR  -40.337800 -20.318900\\n234  2020-04-15 21:17:08                                                                                                     Corona Vírus \\U0001f9a0 em Rabeia Bode https://t.co/8oci0e8jGW        0     pt                   Gurupi                      Brazil    BR  -49.069960 -11.768340\\n235  2020-02-23 18:26:33                          FMI considera que surto de coronavírus põe em risco recuperação da económica https://t.co/YqJ08jVA7m Em… https://t.co/eomk5xcYnw        0     pt                   Lisbon                    Portugal    PT   -9.099043  38.747518\\n236  2020-04-14 00:00:22               Alagoas tem mais um óbito por Covid-19 confirmado e o número de casos subiu para 58. A informação foi divulgada no… https://t.co/Vg33L06NGh        2     pt                Taquarana                      Brazil    BR  -36.550000  -9.570000\\n237  2020-05-25 18:33:00              Venho com muita humildade, informar a todos que o meu Pai Ednaldo (mais conhecido como seu Naldinho), encontra-se i… https://t.co/29SIZYnwfg        0     pt                   Caxias                      Brazil    BR  -43.347690  -4.882128\\n238  2020-05-30 12:18:43              É chegado o momento de verdadeira transparência nas investigações do uso do dinheiro do povo na condução dos trabal… https://t.co/66zu5F2cRe        0     pt    São Bernardo do Campo                      Brazil    BR  -46.561100 -23.719000\\n239  2020-03-24 19:48:59              A Meu Pé de Bitcoin, vem a público através desta, informar que a COPA MEU PÉ DE BITCOIN 2020 está oficialmente CANC… https://t.co/IxkP4yMkSa        0     pt                 Sertânia                      Brazil    BR  -37.266450  -8.071530\\n240  2020-05-27 18:33:25              Em Corumbá, mais dois casos confirmados de Covid-19 pelo sistema Drive-thru, um de 71 anos e o outro de 44 anos, os… https://t.co/7itDMbvnZB        0     pt             Campo Grande                      Brazil    BR  -54.645833 -20.442778\\n241  2020-05-31 15:00:01              Lisboa.... e Arredores! Cuidado com o ChicoZaragatoa! Depois não se venham queixar que vos faz cócegas nos entrefol… https://t.co/vFKLzOxCZ1        0     pt                   Lisbon                    Portugal    PT   -9.139400  38.726100\\n242  2020-03-30 23:18:33              O isolamento social é um período para que fiquemos em casa, cuidando da nossa saúde e tendo atenção na família. Pod… https://t.co/TP6oWgmXcs        0     pt                   Sobral                      Brazil    BR  -40.353000  -3.687500\\n243  2020-03-26 18:57:59                         Organizei uma parte dos meus livros 😍💙📚 #livro #livros #livrosemaislivros #estantedelivros #ler #leitura… https://t.co/OmN4Rmevd7        0     pt                   Maceió                      Brazil    BR  -35.724800  -9.623200\\n244  2020-04-03 20:08:27              Hoje ela se superou!!! O isolamento social provocado pela pandemia coronavírus resgatou o dom culinário da Minha Li… https://t.co/up8FLr5aQA        0     pt              João Pessoa                      Brazil    BR  -34.830488  -7.076338\\n245  2020-01-29 22:44:03                       Surto de coronavírus pode ameaçar economia internacional https://t.co/rilew3cd5T Em https://t.co/MDmhqgtnSp https://t.co/EQlN7gfqZB        0     pt                   Lisbon                    Portugal    PT   -9.099043  38.747518\\n246  2020-03-20 13:38:44              Com a necessidade de isolamento social, algumas plataformas virtuais liberaram seu conteúdo para que as pessoas pos… https://t.co/am3YzKZSTA        1     pt         São João del Rei                      Brazil    BR  -44.258280 -21.133020\\n247  2020-04-04 16:47:49              Não existe tempestades eternas; um dia o tempo vai abrir, o sol vai aparecer, e estaremos mais fortes e preparados.… https://t.co/lX33fMlP1a        0     pt          Arraial do Cabo                      Brazil    BR  -42.030690 -22.976070\\n248  2020-04-16 15:19:45               Estão dizendo: Primeiro a saúde, depois o dinheiro. Concordo, desde que aprovassem uma medida suspendendo todos os… https://t.co/9dHccm8aoS        0     pt             Porto Alegre                      Brazil    BR  -51.201811 -30.024336\\n249  2020-04-06 18:41:09              Só queria estar despreocupado com meu amigo Engenheiro Barrageiro, sem esse negócio de corona vírus. em Barragem de… https://t.co/rHO7xJ1yQf        0     pt            Foz do Iguaçu                      Brazil    BR  -54.586814 -25.413745\\n250  2020-04-09 17:08:08                                                                                               #covid-19 em Photos - Alex G. Ramos https://t.co/sVc9yHdfmM        0     pt                Sao Paulo                      Brazil    BR  -46.406390 -23.569290\\n251  2020-03-26 22:54:31                                                                                        🤐 #coronavirus #covid19 @ Toronto, Ontario https://t.co/iPyI2QAJ8q        0     pt                  Toronto                      Canada    CA  -79.387200  43.648000\\n252  2020-03-19 17:37:12                                                Auto-isolamento no combate à pandemia do CORONAVÍRUS (COVID-19) em Goiânia, Brazil https://t.co/08yRKx8lmx        0     pt                  Goiânia                      Brazil    BR  -49.270700 -16.686900\\n253  2020-03-18 18:05:28              Seguindo as orientações dos órgãos responsáveis pela prevenção do contágio por COVID-19 (Coronavírus) é que tomamos… https://t.co/TTAfzWYWzo        0     pt            Foz do Iguaçu                      Brazil    BR  -54.585494 -25.539696\\n254  2020-03-05 08:12:32                                   Companhia aérea britânica Flybe abre falência por causa do Covid-19 https://t.co/ugRBEFLrEt Em… https://t.co/L5UftBhZcu        0     pt                   Lisbon                    Portugal    PT   -9.099043  38.747518\\n255  2020-04-04 19:19:35              As equipes de educadores sociais dos Guardiões da Vida seguem com as abordagens por toda a cidade. O intuito é orie… https://t.co/G8E9EUnFKe        0     pt       São Caetano do Sul                      Brazil    BR  -46.569700 -23.623800\\n256  2020-04-14 04:50:03              A Medida Provisória nº 925, de 18 de março de 2020, trouxe medidas de emergência para a aviação no Brasil✈, tendo e… https://t.co/9Zbm9XO1dD        0     pt                Sao Paulo                      Brazil    BR  -46.638670 -23.540780\\n257  2020-03-31 16:23:46              A pandemia de coronavírus e as precauções tomadas em relação a ela levaram à suspensão da produção industrial, ou s… https://t.co/un90wkyKUE        0     pt              Itacoatiara                      Brazil    BR  -58.433300  -3.050000\\n258  2020-04-07 15:54:21              Olá, em tempo de isolamento social, resolvemos preparar um material exclusivo para nossos alunos, clientes e seguid… https://t.co/tdY7MJgL1C        0     pt                  Camacan                      Brazil    BR  -39.495630 -15.417540\\n259  2020-04-16 15:57:29              Ter flexibilidade e se reinventar em tempo de pandemia, estamos trabalhando home office com todo cuidado para dar a… https://t.co/d7ZP0qtJGp        0     pt           Rio de Janeiro                      Brazil    BR  -43.197500 -22.908000\\n260  2020-03-21 21:28:47              Com todas as competições paralisadas na América do Sul, por conta da pandemia de coronavírus, há um risco de desequ… https://t.co/cvXo4B5aCH        0     pt                Sao Paulo                      Brazil    BR  -46.678915 -23.527813\\n261  2020-03-21 19:48:59              Agora são 16:30 de sábado 21/03 e esta é a verdade sobre os casos de coronavírus em Barretos! Continuamos trabalhan… https://t.co/hu5asqU0Pz        0     pt                 Barretos                      Brazil    BR  -48.567800 -20.557200\\n262  2020-03-30 14:38:35                                         #iess #covid19 #coronavirus #er #pandemic #quarentine #wearesaved  #nossalvamos @ Chipipe https://t.co/Gw2YEHi85Y        0     pt                  Salinas                     Ecuador    EC  -80.981046  -2.198850\\n263  2020-03-24 20:53:08              Foi publicada no Diário oficial de domingo, 22/03/2020, a Medida Provisória – MP 927 que trata das alternativas tra… https://t.co/OdcD2ZZaue        0     pt            Florianópolis                      Brazil    BR  -48.578596 -27.606662\\n264  2020-03-13 16:45:50              #Repost cnj_oficial ⚠️ Em razão da classificação, pela Organização Mundial de Saúde (OMS), do Novo Coronavírus (COV… https://t.co/ZcWDuIiuuH        0     pt                 Brasília                      Brazil    BR  -47.896389 -15.745781\\n265  2020-03-02 17:44:33                                 Merkel e os seus ministros deixam de apertar a mão devido ao Covid-19 https://t.co/H273uytaPn Em… https://t.co/NCEY9VSKaa        1     pt                   Lisbon                    Portugal    PT   -9.099043  38.747518\\n266  2020-03-30 12:20:42              Reposted from @AkiraSaito Fique em casa, pratique em casa. Cuide da saúde do corpo e também da saúde da mente. Apes… https://t.co/hBWXjiX7YF        0     pt    São Bernardo do Campo                      Brazil    BR  -46.561100 -23.719000\\n267  2020-04-04 23:33:03              Sou favorável ao passaporte da imunidade sobre quem faz um teste rápido do coronavírus, quem fizer o teste e der ne… https://t.co/YbYEIaqqyW        0     pt                  Caucaia                      Brazil    BR  -38.617136  -3.765554\\n268  2020-03-20 10:23:49              Prefeitura de Guarulhos oferecerá cesta básica às famílias de alunos da rede municipal durante o período de isolame… https://t.co/YhzdqSBMcw        0     pt                Guarulhos                      Brazil    BR  -46.518801 -23.452721\\n269  2020-04-03 18:33:28                                                             Isolamento Social #day18 #coronavirusbrazil em Eusébio, Ceara, Brazil https://t.co/W3HGeqyjs1        0     pt                  Eusébio                      Brazil    BR  -38.449840  -3.890820\\n270  2020-03-19 22:46:03              #BoaNoiteVamosOrar ... O Governo de Rondônia é responsável pela calamidade pública da qual assola este estado, devi… https://t.co/TzHB10NCsq        0     pt              Porto Velho                      Brazil    BR  -63.858396  -8.746932\\n271  2020-04-07 10:40:34                 Vambora começar mais um dia fora da rotina ... terça-feira com garoa fina pelo #sertãopaulista ... #bomdiabrasil… https://t.co/KRRUW1kTK7        1     pt                 Mirassol                      Brazil    BR  -49.478348 -20.820459\\n272  2020-03-24 23:40:05                                                   O que se fazer em momentos de quarentena.... 🎂🍰 em Jardim Bandeirantes, Marília https://t.co/2f8DnGTl6L        0     pt                  Marília                      Brazil    BR  -49.971716 -22.208268\\n273  2020-04-04 15:35:50               Em época de isolamento social e sem jogo do Corinthians.  Segue o sabadão.  Paz e bem. #fiqueemcasa . Sair só para… https://t.co/esqTiXPT6K        0     pt                 Brasília                      Brazil    BR  -47.757778 -15.795000\\n274  2020-04-16 00:34:54              A secretaria de Saúde da Paraíba confirmou nesta quarta-feira (15) mais três mortes por Coronavírus no estado, agor… https://t.co/Frc6ACFodK        0     pt                  Taperoá                      Brazil    BR  -36.825000  -7.162778\\n275  2020-03-13 17:35:30              Em tempos de #pandemia devido ao #coronavirus, o reflexo na população tem feito muita gente mudar seus hábitos refe… https://t.co/Yh9bst0l0C        0     pt                   Cuiabá                      Brazil    BR  -56.086836 -15.585961\\n276  2020-03-19 19:10:03              Vivemos numa \"sociedade do medo\" mas \"há vida depois da pandemia\" https://t.co/egrVIvmz3C Em https://t.co/MDmhqgtnSp https://t.co/mXDYs6OfJx        1     pt                   Lisbon                    Portugal    PT   -9.099043  38.747518\\n277  2020-03-19 21:39:32                     #2830 #barreiroportugal #barreirolive #barreiro2830 #postcardsfrom2830 #covid19 @ Barreiro, Setúbal, Portugal https://t.co/rU2GKWLXGI        0     pt                 Barreiro                    Portugal    PT   -9.068681  38.659052\\n278  2020-03-05 13:20:02                Todos querem adiamento da BTL por causa do covid-19, mas organização ainda não decidiu https://t.co/36vdXGMoqQ Em… https://t.co/vUcj5j7W3v        0     pt                   Lisbon                    Portugal    PT   -9.099043  38.747518\\n279  2020-05-30 16:12:26              [Vitrine Virtual @Dadynha ] Divulgação voluntária durante a pandemia do Covid-19: com fé, confiança e empatia vence… https://t.co/Foh4bXNmPu        0     pt               Maranguape                      Brazil    BR  -38.683900  -3.893500\\n280  2020-04-16 14:21:08              O ministro da Saúde, Luiz Henrique Mandetta, desabafou em entrevista ao site da revista Veja sobre os desgastes viv… https://t.co/nOvz2IoQA1        0     pt              João Pessoa                      Brazil    BR  -34.862700  -7.120700\\n281  2020-03-23 20:13:43               Visando resguardar a saúde de todos - diante da pandemia de Covid-19 (Coronavírus) - a @ibratex, informa que está,… https://t.co/OPFJFuE9xU        0     pt           Ribeirão Preto                      Brazil    BR  -47.810247 -21.170226\\n282  2020-04-07 13:20:13               Nunca imaginei que fosse comemorar um aniversário no meio de uma pandemia, desempregada e em isolamento social. Os… https://t.co/bEvhlFSKB4        0     pt                Sao Paulo                      Brazil    BR  -46.649256 -23.547737\\n283  2020-04-16 20:19:14              Devido a pandemia do novo Coronavírus (Covid-19), o sistema e-commerce e os serviços de delivery ampliaram seus ate… https://t.co/YhM1klkrjj        0     pt                Sao Paulo                      Brazil    BR  -46.633300 -23.550000\\n284  2020-04-13 18:41:50              Não pense que o mundo vai voltar a ser como antes tão rapidamente, depois que o \"lockdown\" passar, teremos uma fort… https://t.co/2WjKGmMyqQ        0     pt                Sao Paulo                      Brazil    BR  -46.688056 -23.607222\\n285  2020-04-04 16:42:00                                                           Em tempo de #coronavirus  Conheça o #ShotdaAlegria em São Paulo, Brazil https://t.co/9Nahm8rMzq        0     pt                Sao Paulo                      Brazil    BR  -46.633300 -23.550000\\n286  2020-05-27 19:01:04                   Oremos, irmãos! 😎😎😎 #ods35 #façaasuaparte #COVID19 #fiqueemcasa #bolsocorno🐃🐄🐂🤡 #eviteaglomerações #bolsovirus… https://t.co/xjUWx9Cgy1        0     pt             Porto Alegre                      Brazil    BR  -51.186595 -30.022210\\n287  2020-04-16 20:15:35              Quinta morte no Estado é registrada em Três Lagoas, por ser divisa com São Paulo, a fiscalização está sendo redobra… https://t.co/5DPi8tAKzf        0     pt             Campo Grande                      Brazil    BR  -54.645833 -20.442778\\n288  2020-04-07 17:21:20              Há quase sete meses, eu me formei como jornalista. O orgulho por essa profissão é imenso. Ainda mais no atual momen… https://t.co/MHTrpyCaZC        0     pt             Porto Alegre                      Brazil    BR  -51.218831 -30.033333\\n289  2020-05-25 22:44:05              Começar a semana falando de morte não agrada ninguém, mas não dá dando pra evitar. Hoje a Organização Mundial da Sa… https://t.co/WkbphcV1LQ        0     pt            Florianópolis                      Brazil    BR  -48.523577 -27.594325\\n290  2020-03-21 21:29:07              Hoje foi dia de falar sobre prevenção ao Coronavírus (Covid-19), no programa Evolução Hip-Hop @evolucaohiphop na 10… https://t.co/R6ZkcqvG62        0     pt                 Salvador                      Brazil    BR  -38.499667 -12.997173\\n291  2020-04-02 22:29:55              Ruth\\'s Gourmet agora com DELIVERY!!! 🤗🤗 Diante dos desdobramentos da pandemia da COVID-19 e seguindo as medidas pre… https://t.co/InqCi6KHuU        0     pt           Rio de Janeiro                      Brazil    BR  -43.358100 -22.942800\\n292  2020-04-09 18:50:48                  Atualmente, é  #Covid19, #certeza! 🙄 #oldbutgold #quarentena #quarantine #tired em São Bernardo do Campo, Brazil https://t.co/Z3qcnp0FOR        0     pt    São Bernardo do Campo                      Brazil    BR  -46.561100 -23.719000\\n293  2020-04-01 23:11:36              Durante a #quarentena queremos ver você aqui. Fique em casa. Mas vamos nos encontrar aqui nas redes sociais. Olha a… https://t.co/ssTzIexo7j        0     pt                  Chapecó                      Brazil    BR  -52.706179 -27.056512\\n294  2020-03-19 19:34:01              📣🚨📣A equipe do Mundo da Lupa têm acompanhado as notícias sobre o COVID-19(Coronavírus) e por recomendação da OMS en… https://t.co/u0RhcfSoRc        0     pt                 Curitiba                      Brazil    BR  -49.269900 -25.434600\\n295  2020-04-03 11:08:06                               Pague €28 e leve mais de €1000 em jogos (e ajude a combater a COVID-19) https://t.co/VLBHsCfVyc Em… https://t.co/BYHfmkS9gO        0     pt                   Lisbon                    Portugal    PT   -9.099043  38.747518\\n296  2020-04-02 00:01:34              Diário de um padre em tempos de COVID-19: Diante dos olhos vejo as câmeras, mas no coração trago o meu povo, meus i… https://t.co/dhqPZ7ttaR        3     pt                Fortaleza                      Brazil    BR  -38.501316  -3.734338\\n297  2020-03-11 18:39:04                          Covid-19: de epidemia a pandemia. Qual é a diferença? https://t.co/ysj9dlqLm5 Em https://t.co/MDmhqgtnSp https://t.co/W95BI0TUz0        0     pt                   Lisbon                    Portugal    PT   -9.099043  38.747518\\n298  2020-03-31 17:02:13              No artigo dessa semana falamos um pouco sobre os reflexos na economia após medidas adotadas para conter o avanço do… https://t.co/E4tEtTRfL4        0     pt                   Manaus                      Brazil    BR  -60.025300  -3.113330\\n299  2020-03-31 18:21:16                                                                                      #dia9 #isolamentosocial em São Paulo, Brazil https://t.co/TptFR4mZiA        0     pt                Sao Paulo                      Brazil    BR  -46.633300 -23.550000\\n300  2020-02-24 15:13:35                          \"As ruas estão apinhadas de gente.\" Coronavírus não trava carnaval de Veneza https://t.co/dpMNM8r1N1 Em… https://t.co/kQTh3mUcTO        1     pt                   Lisbon                    Portugal    PT   -9.099043  38.747518\\n301  2020-05-22 02:30:17               👉🏻Atualização com informações repassadas pela Secretaria Municipal de Saúde de Lages. \\U0001f9a0Dos 61 casos positivados de… https://t.co/7WF3G6DAdt        0     pt                    Lages                      Brazil    BR  -50.325800 -27.815800\\n302  2020-03-19 13:23:56                                                                                isolamento social em Parque Nacional Serra do Cipó https://t.co/ovTZFo7cAF        0     pt            Jaboticatubas                      Brazil    BR  -43.619444 -19.349167\\n303  2020-05-26 23:19:29                                   CANUDOS  BAHIA  05  CASOS CONFIRMADOS   DE  CORONA VÍRUS  . em Euclides Da Cunha, Bahia, Brazil https://t.co/eL0spGLWVB        0     pt        Euclides da Cunha                      Brazil    BR  -39.014620 -10.505250\\n304  2020-04-06 23:32:33                                           Ministério define novas orientações sobre distanciamento social https://t.co/OLPeYD5Wei https://t.co/GndJIorwRI        0     pt             Campo Grande                      Brazil    BR  -54.646303 -20.453655\\n305  2020-03-18 18:51:12                                                                                     #covıd19 #covid_19 #2020 em São Paulo, Brazil https://t.co/Bf57UASHMo        0     pt                Sao Paulo                      Brazil    BR  -46.633300 -23.550000\\n306  2020-02-05 00:00:35               Jogador é alvo do Verdão e pode deixar a China por conta do Corona Vírus; torcedores se animam após \"indicação\" do… https://t.co/CXVHwAFtl8        0     pt                Sao Paulo                      Brazil    BR  -46.753312 -23.749408\\n307  2020-02-27 13:34:54              A identificação do primeiro caso do novo coronavírus Covid-19 na cidade São Paulo gerou muitas dúvidas. Separamos a… https://t.co/vTNvICV4N6        0     pt                Sao Paulo                      Brazil    BR  -46.617573 -23.493366\\n308  2020-02-14 13:11:34                               Mais um caso suspeito de coronavírus em Portugal https://t.co/RBpdXvi1rA Em https://t.co/MDmhqgtnSp https://t.co/NDmDhG11q7        1     pt                   Lisbon                    Portugal    PT   -9.099043  38.747518\\n309  2020-03-30 23:58:45              Hoje foi dia de entrevistar o vovô sobre a rua e bairro que as crianças moram. Pois os estudos continuam em casa em… https://t.co/uEdGZSWdVJ        0     pt         Feira de Santana                      Brazil    BR  -38.950000 -12.250000\\n310  2020-03-14 20:16:45              Amigos, Clientes e Colaboradores do Dominatrix Augusta, a expansão dos casos de COVID19 demanda de todos atitudes r… https://t.co/0rNNgd1vjM        0     pt                Sao Paulo                      Brazil    BR  -46.658700 -23.553267\\n311  2020-05-22 22:17:50                  Fazer parte desse momento ao lado dessa fera da enfermagem não tem preço . Vamos de live é daqui a pouco 🙏✌️👋🇧🇷… https://t.co/Ev0wZesnbj        0     pt                 São Luís                      Brazil    BR  -44.299200  -2.533300\\n312  2020-02-27 01:40:22              Boa noite a todos excelente @drpedroneuro O primeiro caso de Coronavírus (Covid-19) foi confirmado ontem em São Pau… https://t.co/BXncZTvrIL        0     pt                   Franca                      Brazil    BR  -47.398700 -20.521164\\n313  2020-04-06 16:54:48                          #todosjuntos na #luta #contra o #Coronavírus #covid_19 !!! #juntossomosmaisfortes !!! em Mauá, São Paulo https://t.co/37lS7pGBrm        0     pt                     Mauá                      Brazil    BR  -46.460800 -23.667800\\n314  2020-05-20 23:53:01              A prefeita de Pilõezinhos, agreste Paraibano, Mônica Cristina confirmou nesta quarta-feira (20) que testou positivo… https://t.co/y9Q671avm7        0     pt              Pilõezinhos                      Brazil    BR  -35.532020  -6.843880\\n315  2020-04-02 11:31:48              Amigas queridas e o distanciamento social. Eeee coronavírus. bruna.mendestv crislaine.jor com dudu. em TV Morena, C… https://t.co/mZgkgjuCrk        0     pt             Campo Grande                      Brazil    BR  -54.601769 -20.484398\\n316  2020-04-04 17:04:34                                   Parabéns #Heineken #brasil #brindedobem #coronavirus #covid19 em Serra Negra, Sao Paulo, Brazil https://t.co/jXEqP3iNS8        1     pt              Serra Negra                      Brazil    BR  -46.701650 -22.614110\\n317  2020-03-18 23:58:26              Com o objetivo de proteger a nossa população conta o novo Coronavírus, a Prefeitura precisou suspender os atendimen… https://t.co/2qDePiQT2O        0     pt                    Cotia                      Brazil    BR  -46.907880 -23.599610\\n318  2020-03-12 17:35:52              A reitoria do Instituto Federal de Sâo Paulo informa que, sob orientação do Ministério da Saúde a respeito da conta… https://t.co/gXcBPYk8aI        1     pt                Sao Paulo                      Brazil    BR  -46.621888 -23.524424\\n319  2020-04-07 18:52:26              Semana passada fizemos a Live de louvores e teve mais de 1 mil acessos, e a pedidos vamos repetir hoje com muita al… https://t.co/oQNib1mqc6        0     pt                Rio Claro                      Brazil    BR  -47.550000 -22.400000\\n320  2020-04-03 13:24:12              Informação é o melhor remédio contra o Coronavírus. Sintoniza FM 102,9 , Acesse https://t.co/R5cozyBArk ou Acompanh… https://t.co/ApKZj2jPm1        0     pt                 Londrina                      Brazil    BR  -51.150000 -23.300000\\n321  2020-05-31 12:24:15                                  Sair de casa só naquele estilo! 😎😷😅 #mascara #quarentena #covid #covid19 em Rio Claro, Sao Paulo https://t.co/JdBuBI6shM        0     pt                Rio Claro                      Brazil    BR  -47.550000 -22.400000\\n322  2020-04-05 12:59:56                            Meu objetivo de quarentena e reviver meu cacto morto ... #cacto #zumbi #regis #planta #fazendomilagre… https://t.co/qvQnAxE9HS        0     pt                   Santos                      Brazil    BR  -46.309422 -23.972999\\n323  2020-05-27 17:24:04                                                                                     #Sai_Covid-19 nos deixe em paz! em Capão City https://t.co/exQd71rvVB        0     pt                Sao Paulo                      Brazil    BR  -46.779219 -23.663874\\n324  2020-05-24 15:50:43              Gente...acertamos o rumo das férias frustadas do Covid-19! Agora ele precisa colaborar e ir embora até Fevereiro...… https://t.co/xcM5UyfJFf        0     pt                  Niterói                      Brazil    BR  -43.119000 -22.889700\\n325  2020-03-21 21:32:58                                                                     Obedecendo e apoiando, não saia de casa. #coronavírus #Brasil https://t.co/dZ9vKhWy8Z        0     pt                  Barueri                      Brazil    BR  -46.882775 -23.530094\\n326  2020-03-19 23:15:33                 Covid-19: Toyota, Volkwagen, Subaru e Tesla suspendem produção https://t.co/Sts9UHNqu4 Em https://t.co/MDmhqgtnSp https://t.co/gVojjn979f        0     pt                   Lisbon                    Portugal    PT   -9.099043  38.747518\\n327  2020-01-31 20:18:25              Sobe para doze o número de casos suspeitos de coronavírus no Brasil. Em balanço divulgado na tarde desta sexta-feir… https://t.co/qgHtZA7twS        0     pt            Guajará-Mirim                      Brazil    BR  -65.316463 -10.765051\\n328  2020-03-10 14:05:04                         Covid-19: Parlamento espanhol suspende sessão depois de deputado dar positivo https://t.co/m9C979jBUJ Em… https://t.co/NL3VOKiLeE        0     pt                   Lisbon                    Portugal    PT   -9.099043  38.747518\\n329  2020-03-18 10:44:33                      Macau regista mais um caso de Covid-19, o quinto importado em menos de três dias https://t.co/k5nmRXv57s Em… https://t.co/0Vl0h93uWN        1     pt                   Lisbon                    Portugal    PT   -9.099043  38.747518\\n330  2020-04-16 21:31:53              .@PauloCamara40 @governope #veracruz e cia. onde está a ordem de distância social p/ as empresas de ônibus do PE? Ñ… https://t.co/asSWZptk76        0     pt                   Recife                      Brazil    BR  -34.939190  -8.113884\\n331  2020-03-06 19:33:33                             Covid-19: Organização Mundial do Turismo estima perdas até 45 mil milhões https://t.co/Wwta63kYJA Em… https://t.co/GzqREMKVlM        2     pt                   Lisbon                    Portugal    PT   -9.099043  38.747518\\n332  2020-04-13 21:16:35              Gente essa pandemia é coisa seria. Não se deixe enganar por pessoas levianas e mal informadas (ou só mau carater me… https://t.co/HK9kVxrk3c        0     pt           Rio de Janeiro                      Brazil    BR  -43.197500 -22.908000\\n333  2020-03-22 15:26:46              Day 5 - 😷\\U0001f9a0 #Quarentena #COVID19 #CoronaVirus #EuFicoEmCasa #HomeOffice #TodosPorTodos #FicaEmCasa #Brasil (@ Guarul… https://t.co/vwedzFrsIA        0     pt                Guarulhos                      Brazil    BR  -46.500125 -23.430756\\n334  2020-04-08 18:49:57              A Cloraquina + Azitromicina prescrita no INÍCIO dos sintomas do novo vírus, é muito EFICAZ! A prova é tanta que o D… https://t.co/5GtIOBl2I8        0     pt                Sao Paulo                      Brazil    BR  -46.708363 -23.612016\\n335  2020-04-17 02:16:13              Quando a piada já nasce pronta... 😜🙃\\U0001f92a #ods35 #façaasuaparte #COVID19 #fiqueemcasa #forafundamentalistas em Av. Plín… https://t.co/yO4sZXOtk0        0     pt             Porto Alegre                      Brazil    BR  -51.186595 -30.022210\\n336  2020-02-07 15:02:08                                Hong Kong irá deter ou multar quem incumprir quarentena do coronavírus https://t.co/x05IpQKuSR Em… https://t.co/LgUXlzydAX        0     pt                   Lisbon                    Portugal    PT   -9.099043  38.747518\\n337  2020-02-04 12:09:03                               OMS diz que coronavírus ainda não é uma pandemia https://t.co/8GYhFo5Qi7 Em https://t.co/MDmhqgtnSp https://t.co/98XlRzmSA5        0     pt                   Lisbon                    Portugal    PT   -9.099043  38.747518\\n338  2020-04-16 15:35:40                           Há 629 mortes por Covid-19 em Portugal. Número de infetados sobe para 18841 https://t.co/nJEbMCgVz9 Em… https://t.co/cG6CU420Ib        1     pt                   Lisbon                    Portugal    PT   -9.099043  38.747518\\n339  2020-04-02 11:56:04              Aqui estão as pessoas que compartilharam comigo o dia do meu niver, mesmo eu dizendo para todos eles que não ficari… https://t.co/7HhGOOYIHu        0     pt           Rio de Janeiro                      Brazil    BR  -43.534005 -22.919104\\n340  2020-03-18 16:24:06                                                                                   #covid_19 #coronavírus em Penha, Santa Catarina https://t.co/SUQ3GzRJgB        0     pt                    Penha                      Brazil    BR  -48.649850 -26.771710\\n341  2020-04-04 02:27:12                                                                                                 Anti coronavirus em Capão Redondo https://t.co/Ba0fdzamRh        0     pt                Sao Paulo                      Brazil    BR  -46.768177 -23.659251\\n342  2020-03-23 18:35:42              Informamos que o escritório Marcus Ribeiro Advogados estará trabalhando de casa nesses dias de pandemia, estamos at… https://t.co/o4dB2UieFI        0     pt      Palmeira dos Índios                      Brazil    BR  -36.628644  -9.408782\\n343  2020-03-23 16:29:49              ↘ Equipe passa medir temperatura de passageiros na rodoviária de Juazeiro do Norte. A medida ocorre em meio a pande… https://t.co/v9bECYmYIX        0     pt        Juazeiro do Norte                      Brazil    BR  -39.315000  -7.212778\\n344  2020-04-04 14:48:33                     Portugal vai fazer testes de imunidade ao novo coronavírus https://t.co/UERM9a3fKm Em https://t.co/MDmhqgtnSp https://t.co/70YNFXZCwZ        1     pt                   Lisbon                    Portugal    PT   -9.099043  38.747518\\n345  2020-04-05 15:45:54                       Agora é a hora de praticar a empatia que tanto posta! #quarentena #empatia #domingo #coronavirus em Propriá https://t.co/ZdNjjvMgjH        0     pt                  Propriá                      Brazil    BR  -36.837490 -10.213290\\n346  2020-03-21 04:41:43              s mudanças no estilo de vida são necessárias, neste momento, para manter o distanciamento social e prevenir a conta… https://t.co/DPvBX4Lz7M        0     pt                   Cuiabá                      Brazil    BR  -56.096900 -15.595800\\n347  2020-05-21 16:32:52                 O criminoso Jair Bolsonaro tentou alterar a Bula da cloroquina, isso é muito grave pois é caso de saúde pública.… https://t.co/B2MRBu5iFz        0     pt                    Belém                      Brazil    BR  -48.477200  -1.451100\\n348  2020-04-15 00:43:51  --&gt; Como fazer networking em período de distanciamento social &gt;&gt;&gt; https://t.co/L8sslzvQ1W em Petrópolis - Cidade Im… https://t.co/yKrl4n8yQI        0     pt                Joinville                      Brazil    BR  -48.831792 -26.342554\\n349  2020-02-14 18:13:03                           Coronavírus. Duas alunas vão ficar em quarentena no politécnico de Bragança https://t.co/1jp5AVEtFt Em… https://t.co/QOzo42LKWO        0     pt                   Lisbon                    Portugal    PT   -9.099043  38.747518\\n350  2020-03-30 15:37:08              A partir de hoje a @diogo_in começa uma nova série de dicas para te ajudar a ficar bem e fazer a sua parte como cid… https://t.co/rKdbiCybrl        0     pt                Guarulhos                      Brazil    BR  -46.416453 -23.435268\\n351  2020-05-31 20:26:27              Como cidadão, à condição de uma jovem idosa. E como tal encontra-se sob os efeitos severos da pandemia provocada pe… https://t.co/DiYbcT4jxo        0     pt            São Sebastião                      Brazil    BR  -36.548780  -9.931810\\n352  2020-04-08 17:55:36              Durante este momento difícil fale com pessoas que você confia. Considere se aproximar de amigos e familiares. Se vo… https://t.co/FeCALnHqQ3        0     pt                Sao Paulo                      Brazil    BR  -46.633300 -23.550000\\n353  2020-04-14 12:54:32              #covid #angradosreis #covid_19 #coronavirusbrazil #riodejaneiro #olharjornalistico #seucorona #oc em Angra dos Reis… https://t.co/32lmfih3V7        0     pt           Angra dos Reis                      Brazil    BR  -44.305500 -22.997500\\n354  2020-02-21 10:34:40                                                                              Australia’s first dedicated e-sports bar @ GG EZ Bar https://t.co/B3ZgmSSVui        0     en                Melbourne                   Australia    AU  144.961030 -37.816360\\n355  2020-03-12 07:32:05                             A informação ajuda na prevenção. Hoje, no Globo 🌎 #covid19 #coronavirus em Natal, Rio Grande do Norte https://t.co/ACk8UDu1WU        0     pt                    Natal                      Brazil    BR  -35.209500  -5.800800\\n356  2020-02-04 07:01:41              A China concluiu em 10 DIAS um hospital com mais de 1000 leitos completos para tratar vítimas de coronavírus. em Ch… https://t.co/AmwTJbktWb        0     pt                    Gansu  People\\'s Republic of China    CN  103.000000  35.000000\\n357  2020-04-14 11:03:04                     1000** casos COVID-19 Até 12.04.2020... no ano de 2016 morria 5.116* por diabetes por mês, o que mudou Hj...… https://t.co/8LCXDB6NWD        0     pt    São Félix do Araguaia                      Brazil    BR  -53.000000 -11.000000\\n358  2020-02-28 14:25:38               O governador da São Paulo, João Dória recebeu Luiz Henrique Mandetta, ministro da saúde para planejar contingência… https://t.co/hMyiJKURiq        0     pt                Sao Paulo                      Brazil    BR  -46.712114 -23.601587\\n359  2020-02-09 10:24:32                     Hong Kong levanta quarentena no navio cruzeiro World Dream https://t.co/xIWYRh8Q93 Em https://t.co/MDmhqgtnSp https://t.co/86aWdmcai9        0     pt                   Lisbon                    Portugal    PT   -9.099043  38.747518\\n360  2020-03-22 23:47:03                                                       #isoladosemAcau #isolamentoSocial #ficaemCasa #quarentena em Praia de  Acaú https://t.co/PD7ZyVn3zN        0     pt                  Pitimbu                      Brazil    BR  -34.827386  -7.542083\\n361  2020-04-06 01:34:22                                            Em época de isolamento social o cavalinho recomendou: #fiqueemcasa em Federal District https://t.co/SiXO86SLwc        0     pt                 Brasília                      Brazil    BR  -47.757778 -15.795000\\n362  2020-05-27 21:14:27                  Boletim Epidemiológico de Rio Tinto (Covid-19). Atualizado às 16h53 de 27/05/2020. em Rio Tinto, Paraiba, Brazil https://t.co/KtuBqlFo8f        0     pt                Rio Tinto                      Brazil    BR  -35.075400  -6.811370\\n363  2020-03-23 21:39:31              #MorteAoCovid19 o isolamento social nesse momento é imprescindível para o sucesso da contenção do avanço deste víru… https://t.co/Gpaj70BeSc        0     pt              Santo André                      Brazil    BR  -46.512089 -23.672637\\n364  2020-04-13 23:32:58              Daqui a pouco , vamos voltar às atividades normalmente , por enquanto vamos esperar essa Pandemia passar e voltarem… https://t.co/mVKJrrN73V        0     pt                  Diadema                      Brazil    BR  -46.605680 -23.700940\\n365  2020-03-23 13:54:33              Nesse período de distanciamento social, para quem tem uma rotina de atividade física, o importante é não deixar o c… https://t.co/HM6PauYhXq        0     pt                 Camaçari                      Brazil    BR  -38.044700 -12.593500\\n366  2020-03-19 20:31:49              Neste momento em que é fundamental somarmos esforços para reduzir o impacto da proliferação do vírus Covid 19, mani… https://t.co/VN9aJQG1wV        0     pt                 Teresina                      Brazil    BR  -42.781200  -5.094700\\n367  2020-03-31 14:44:39              Pois é... pelo menos mais 15 dias em distanciamento social,  familiar, profissional. Rogo aos Deuses serenidade e s… https://t.co/oVDdh7Jrpc        0     pt                Sao Paulo                      Brazil    BR  -46.504364 -23.623593\\n368  2020-05-22 21:47:43              É assim mesmo... principalmente no momento como o atual, que precisamos de apoio dos amigos! Só posso agradecer aos… https://t.co/9NUzQifgCC        0     pt                   Manaus                      Brazil    BR  -60.025300  -3.113330\\n369  2020-03-20 20:13:55              Boa tarde! Sigo no meu “isolamento social” mas esclareço que não estou doente com a COVID19. O isolamento é por pre… https://t.co/18XKoWWIYQ        0     pt                    Natal                      Brazil    BR  -35.209500  -5.800800\\n370  2020-05-31 15:27:26               A manutenção do exercício físico no contexto atual da\\xa0pandemia do coronavírus\\xa0juntamente à restrição de mobilidade… https://t.co/FTyGagMll2        0     pt                Sao Paulo                      Brazil    BR  -46.688056 -23.607222\\n371  2020-03-31 22:32:24              @jdoriajr eu vi um post em seu perfil dizendo que é fake news a questão de todos os atestados de óbitos de mortes s… https://t.co/L5JbTzXasG        0     pt                Sao Paulo                      Brazil    BR  -46.633300 -23.550000\\n372  2020-03-21 19:11:10                                  Decreto de prevenção e enfrentamento da propagação do Corona Vírus! #poconet em Poconet Noticias https://t.co/oUoh414ZPB        0     pt                   Poconé                      Brazil    BR  -56.644074 -16.268831\\n373  2020-03-26 18:08:55              Doença viral (COVID-19). Dos 331 casos confirmados até quarta-feira (25), a grande maioria estava na faixa etária d… https://t.co/wvuMok6zja        0     pt           Rio de Janeiro                      Brazil    BR  -43.197500 -22.908000\\n374  2020-03-19 21:15:33              Atentos a todos os movimentos mundiais no combate à evolução do COVID19, nós do STUDIO 10, no intuito de arrefecerm… https://t.co/YT1KkCxTFn        0     pt            Novo Hamburgo                      Brazil    BR  -51.130200 -29.684400\\n375  2020-03-22 23:04:02              Por aqui nada mudou, pescaria de gigantes!!! 🐋 #pas #pescaria #isolamentosocial #quarentena #domingo em Fazenda Mat… https://t.co/KRxoFpd85t        0     pt                Brasnorte                      Brazil    BR  -57.336778 -12.924264\\n376  2020-03-18 15:14:00                                                                                   Covid-19 # CoronaVirus bahia_meiodiafc em Bahia https://t.co/VrQ8HsJseO        0     pt                   Seabra                      Brazil    BR  -41.690000 -12.520000\\n377  2020-05-21 02:09:17              O Município de Rianápolis recebeu um recurso provindo do Fundo Nacional de Saúde no valor de R$ 100.000,00 para aju… https://t.co/55oN8sKcTX        0     pt               Rianápolis                      Brazil    BR  -49.510680 -15.446470\\n378  2020-03-31 18:38:50              Hoje estou escultora, vamos ver Monique vai dá! #escultor#escultora#escultura#coronavirus#habilidades #aninhaav#ins… https://t.co/567N4Noet5        1     pt              João Pessoa                      Brazil    BR  -34.843412  -7.066898\\n379  2020-03-21 20:17:14                                                               #isolamentosocial é o melhor para todos agora. em São Paulo, Brazil https://t.co/jIlvICJcGQ        0     pt                Sao Paulo                      Brazil    BR  -46.633300 -23.550000\\n380  2020-04-04 19:17:25              Mulher de 28 anos, morreu ontem sexta-feira em Itapetinga-Bahia, dias depois de dar a luz, a informação que ela foi… https://t.co/FstvlmFdFq        0     pt        Bom Jesus da Lapa                      Brazil    BR  -43.420070 -13.253850\\n381  2020-05-24 11:11:54                     Foram sábias palavras do Palhaço Cloroquina. (melhores momentos da reunião) em Palácio Do Planalto - Brasília https://t.co/SsuFY32Ed3        0     pt                 Salvador                      Brazil    BR  -38.493643 -12.976952\\n382  2020-05-18 13:40:43               CUIDEM DAS NOSSAS CRIANÇAS! Isolamento social na pandemia potencializa aumento de casos de abuso contra crianças e… https://t.co/Uj3F3nIaFF        0     pt                Queimados                      Brazil    BR  -43.556180 -22.719750\\n383  2020-04-04 15:23:04                 Em tempos de Coronavírus, também faz parte uma caninha Samanaú, né?... em Petrópolis, Rio Grande Do Norte, Brazil https://t.co/01e203WJII        0     pt                    Natal                      Brazil    BR  -35.201700  -5.782220\\n384  2020-04-17 08:56:33                            Alemanha garante que já controlou surto de Covid-19 https://t.co/K44Qz4OqGK Em https://t.co/MDmhqgtnSp https://t.co/FGH15Cz72C        1     pt                   Lisbon                    Portugal    PT   -9.099043  38.747518\\n385  2020-05-25 01:11:09              na falta de um manequim de moulage, faça um com fita crepe e três travesseiros! lhes apresento JANET, minha manequi… https://t.co/ZA6C1rRGOC        0     pt                    Cotia                      Brazil    BR  -46.834750 -23.585059\\n386  2020-04-05 22:59:33                         #selfisolation #quarantine #covid19 #coronavirus #crazy #whatdayisit #stayhome #selfie @ Toronto, Ontario https://t.co/U00tSVxQFv        2     pt                  Toronto                      Canada    CA  -79.387200  43.648000\\n387  2020-05-24 03:35:16              Mais 10 leitos abertos neste sábado para ampliar o atendimento a pacientes com #Covid19 na região de #Jequié. Os le… https://t.co/E32TGpgyns        0     pt                   Jequié                      Brazil    BR  -40.083800 -13.859100\\n388  2020-04-04 04:47:55              Esses dias de #coronavirus estão deixando vocês um pouco malucos??? Pq eu e @Laisdourado_ perdemos um pouco a linha… https://t.co/CIusd0st64        3     pt                   Recife                      Brazil    BR  -34.874576  -8.062107\\n389  2020-03-21 22:39:25              Não seja burro. Gato e cachorro não transmite coronavirus. Por favor! Foto: @isagateira em Praia Grande, Sao Paulo,… https://t.co/fGZ8ERI7xc        0     pt             Praia Grande                      Brazil    BR  -46.417900 -24.010700\\n390  2020-05-31 16:51:03                           Existe vida mais barata , mas também existe vida mais cara... então empatamos! #oimportanteéaproveitar… https://t.co/stlUpHeIa4        0     pt           Angra dos Reis                      Brazil    BR  -44.338708 -22.940978\\n391  2020-03-22 23:18:53                                                         #protectallworkers #workersfirst #stayathome #covid19 @ Chicago, Illinois https://t.co/bDSg5EAdsj        0     pt                  Chicago               United States    US  -87.632496  41.883222\\n392  2020-05-22 15:37:07              No blog @voandobaixo tem um texto sobre o retorno da Nascar após a pandemia. \"Após Covid-19, Nascar é a primeira da… https://t.co/zerEpKciEF        2     pt               Darlington               United States    US  -79.910371  34.294532\\n393  2020-03-18 15:32:58              A doença provocada pelo novo Coronavírus é oficialmente conhecida como COVID-19. Vírus que causa doença respiratóri… https://t.co/ZOnw5sM56Z        0     pt                  Goiânia                      Brazil    BR  -49.270700 -16.686900\\n394  2020-04-15 17:10:51              \"Deus nos concede, a cada dia, uma página de vida nova no livro do tempo. Aquilo que colocarmos nela, corre por nos… https://t.co/zJtEzCKi6I        0     pt  Cabo de Santo Agostinho                      Brazil    BR  -34.950106  -8.357582\\n395  2020-04-05 14:01:50                          Distanciamento social não é sinônimo de clausura!! Bora viver!!! Com as devidas precauções em Mogi-Mirim https://t.co/GRrgAjIy1D        0     pt               Mogi Mirim                      Brazil    BR  -46.958080 -22.432030\\n396  2020-03-31 14:41:07              \"Isolamento social só serve para classe alta e média alta, esses tem condições e tem que fazer mesmo, saindo só o n… https://t.co/sMa22fkQ8h        0     pt    São Félix do Araguaia                      Brazil    BR  -53.000000 -11.000000\\n397  2020-03-26 22:01:18              As provisões dos cenários pessimistas do avanço do Coronavírus no Brasil e no Estado de São Paulo se estão confirma… https://t.co/kl7YaFBjbP        0     pt          Mogi das Cruzes                      Brazil    BR  -46.194100 -23.526400\\n398  2020-04-03 17:03:20              Eiiii pissual! Hoje quero enaltecer essaa heroínas e heróis que estão fazendo um trabalho incrível nesse momento de… https://t.co/MHfEp0KDfi        0     pt                  Itabira                      Brazil    BR  -43.224400 -19.624400\\n399  2020-03-19 12:30:16                                                                      Meu #tbt de isolamento social 🏕🌵 #namibia #africa em Namibia https://t.co/tBgr8P7bZq        0     pt                  Namibia                     Namibia   NaN   17.000000 -23.000000\\n400  2020-05-15 22:43:07              O distanciamento social, medida necessária e recomendada por especialistas para combater a covid-19, aumenta a preo… https://t.co/IrOGdy3766        0     pt                  Goiânia                      Brazil    BR  -49.274331 -16.686405\\n401  2020-03-12 15:28:51              #TBT para um dia de outono em Paris, em uma época que o ir e vir era tranquilo! 🙌🏼 Em tempos de pandemia, pense mui… https://t.co/YLzGz7qgzq        0     pt                    Paris                      France    FR    2.349200  48.857300\\n402  2020-04-15 21:00:00              Acredito que essa está sendo a realidade de muitas mulheres, principalmente nessa quarentena, quando todos estão em… https://t.co/KlldW4dVif        0     pt                 Salvador                      Brazil    BR  -38.476700 -12.974700\\n403  2020-05-21 19:19:33                       Hoje no programa Sucupirasat é dia de Alternative, entao apartir das 17h vem com a gente! O link tá na bio… https://t.co/cVSL1g3mYk        0     pt            Guaratinguetá                      Brazil    BR  -45.195087 -22.825639\\n404  2020-03-19 20:02:36                                                                            #covid_19 #ficaemcasa em Hospital Estadual Rocha Faria https://t.co/1txYDGqs2t        1     pt           Rio de Janeiro                      Brazil    BR  -43.562415 -22.908563\\n405  2020-04-06 16:53:52                          #todosjuntos na #luta #contra o #Coronavírus #covid_19 !!! #juntossomosmaisfortes !!! em Mauá, São Paulo https://t.co/eQ6NovEXDQ        0     pt                     Mauá                      Brazil    BR  -46.460800 -23.667800\\n406  2020-04-03 14:39:29                                                                                                   #COVID #Indiana #isdh @ Indiana https://t.co/ofNbKl43AU        0     in                   Carmel               United States    US  -86.216667  39.933333\\n407  2020-04-06 23:42:33                                       Descoberto principal local de propagação do CORONAVÍRUS em Pernambuco! em Galo da Madrugada https://t.co/7emYdViMWV        0     pt                   Recife                      Brazil    BR  -34.884530  -8.071750\\n408  2020-03-22 16:22:35              Aquele momento que você vai tomar um #cafezinho pra começar mais um dia de #isolamentosocial e... #BANG... Você des… https://t.co/B7m43wCkG7        0     pt               Uberlândia                      Brazil    BR  -48.255545 -18.884350\\n409  2020-04-07 22:12:13                                                     No tempo do \"coronavírus\" é bom manter distância, risos! em Fortaleza, Brazil https://t.co/ftX9RCkMSw        0     pt                Fortaleza                      Brazil    BR  -38.526600  -3.729300\\n410  2020-03-31 22:07:37              Roedores não combinam com isolamento social! Em caso de infestação chame uma dedetizadora. Elas estão funcionando p… https://t.co/kZKmuYMPOH        0     pt                Sao Paulo                      Brazil    BR  -46.633300 -23.550000\\n411  2020-05-18 23:35:09              O Brasil não deve estar entre os primeiros países a receber a vacina contra o coronavírus quando esta for desenvolv… https://t.co/yIOUWgkuFK        0     pt                Arapiraca                      Brazil    BR  -36.660800  -9.751900\\n412  2020-04-13 08:56:24                          #prevenzione durante il #coronavirus #covid19 #covid_19 #roma #milano #lombardia #reggioemilia #abruzzo… https://t.co/MVHI6C9Bw4        0     it                     Rome                       Italy    IT   12.500000  41.900000\\n413  2020-03-31 04:21:22                                                       Isolamento social dia 12: passei a máquina no cabelo 🙈 em Av. Tulio De Rose https://t.co/YAN3oXBNDb        0     pt             Porto Alegre                      Brazil    BR  -51.159606 -30.022393\\n414  2020-04-13 22:08:16                                                                                                Em tempos de pandemia. \\U0001f9a0 em Por Aí https://t.co/iu8cM7FuqE        0     pt                Sao Paulo                      Brazil    BR  -46.633300 -23.550000\\n415  2020-01-29 20:03:23                   Olha aí novidades chegando! Em breve... #heavymetal #speedmetal #powermetal #trheashmetal #doctordeath #ep #cd… https://t.co/Sl6sd9CWn7        0     pt                   Suzano                      Brazil    BR  -46.330614 -23.545886\\n416  2020-04-15 19:06:54              Em tempos de quarentena e “solidão “ porque não trocar a solidão por solitude?  Leia um livro . #fiqueemcasa em Man… https://t.co/baa8BJM656        0     pt              João Pessoa                      Brazil    BR  -34.835014  -7.104990\\n417  2020-05-22 22:28:01              Da série \"O que nossos alunos estão fazendo na\\xa0#quarentena\\xa0?\" Hoje foi a vez de Mikaelle\\xa0mikaelle.machado03\\xa0, estud… https://t.co/e7RpnoNdv5        0     pt     Vitória da Conquista                      Brazil    BR  -40.850000 -14.850000\\n418  2020-02-19 21:43:05              Coronavírus. Meia centena de cidadãos em Angola deixam quarentena https://t.co/ej6xD6QHu9 Em https://t.co/MDmhqgtnSp https://t.co/ZwPKeNe5OQ        0     pt                   Lisbon                    Portugal    PT   -9.099043  38.747518\\n419  2020-04-01 23:27:20                                                                                   A gente se vira na quarentena em Várzea, Recife https://t.co/PSTkD9R2B4        2     pt                   Recife                      Brazil    BR  -34.951657  -8.034983\\n420  2020-03-18 21:39:23                               #covid_19 #humble #humanity #bethesolutionnottheproblem #mymind #myearth #bekind #respect #recover… https://t.co/c8AxZFIgjp        0     pt                  Toronto                      Canada    CA  -79.387200  43.648000\\n421  2020-04-14 15:31:05                                         Segue assim os dados no município de Maracás no Boletim Covid-19 em Maracás Terra do Frio https://t.co/V4sI8JULmQ        0     pt                  Maracás                      Brazil    BR  -40.435277 -13.439027\\n422  2020-03-26 22:10:06                                                         Me escondendo do COVID-19 #tbt #fiqueemcasa #coronavirus em Nova Londrina https://t.co/IDe8LEadKg        0     pt            Nova Londrina                      Brazil    BR  -52.986430 -22.765130\\n423  2020-03-23 15:43:05              Aproveite esses dias de isolamento social para rever ou até mesmo elaborar sua lista de convidados. Afinal.... É at… https://t.co/Swp0hPREqP        0     pt              Nova Iguaçu                      Brazil    BR  -43.448394 -22.732481\\n424  2020-04-15 20:14:31              Oieeeeee , tudo bem com vocês ?! Durante essa quarentena vou postar para vocês alguns dicas ( looks , tendência , b… https://t.co/WQNJ4CXkVh        0     pt                     Lyon                      France    FR    4.842200  45.759700\\n425  2020-03-22 13:50:18                   Os treinos de vcs também estão sendo mais divertidos? 😆🙌🏻🇧🇷 Fique em casa. É legal! @elite_cycling #ficaemcasa… https://t.co/MbhsUUnsx8        0     pt                Sao Paulo                      Brazil    BR  -46.671553 -23.538405\\n426  2020-03-18 13:15:42              Professor de Educação Física é profissional de saúde e deve fazer sua parte contra a pandemia do Covid-19 (Coronavi… https://t.co/MaVG1xO9hH        0     pt           Rio de Janeiro                      Brazil    BR  -43.354932 -22.885008\\n427  2020-03-12 15:20:58              Em face da evolução do COVID 19 no distrito de Lisboa, de conhecimento geral, após comunicado da Federação Portugue… https://t.co/733IrsrwOC        0     pt                   Loures                    Portugal    PT   -9.139981  38.803781\\n428  2020-04-14 23:46:48              Se você acha que apenas os idosos fazem parte do grupo de risco da Covid-19, a doença causada pelo novo coronavírus… https://t.co/opNQ16jboF        0     pt                 Salvador                      Brazil    BR  -38.476700 -12.974700\\n429  2020-04-16 01:06:18              Em tempos de pandemia seu computador não pode parar. Seu contato com o mundo deve estar sadio e funcionando perfeit… https://t.co/2ACS0ygTrT        1     pt                  Mossoró                      Brazil    BR  -37.355984  -5.200161\\n430  2020-05-25 03:32:56               CORONAVÍRUS - Em novo boletim divulgado nesse domingo (24/5) a Secretaria da Saúde de Joinville confirmou 16 novos… https://t.co/aboB05uzft        0     pt                Joinville                      Brazil    BR  -48.843700 -26.320400\\n431  2020-04-16 22:32:28               Hoje, 16/04, diante da situação de calamidade pública decorrente da pandemia de COVID-19, o Ministro Luiz Henrique… https://t.co/VRsScERd6B        0     pt           Rio de Janeiro                      Brazil    BR  -43.197500 -22.908000\\n432  2020-01-31 21:06:36                       E lá fui eu caçar o tal do novo Coronavirus. Podem ficar tranquilos que não encontrei 😅 em Curitiba, Paraná https://t.co/nDorq74h1N        0     pt                 Curitiba                      Brazil    BR  -49.276342 -25.428955\\n433  2020-05-15 23:59:11              Polêmicas à parte, esses foram os medicamentos usados no tratamento ao qual me submeti durante o período de coronav… https://t.co/I6E0xL0Zbg        1     pt                   Manaus                      Brazil    BR  -60.025300  -3.113330\\n434  2020-04-16 20:00:34                                                                      #covid19 #saojose #campinas #mascara em Vigilância Sanitária https://t.co/zB2zNltfuj        0     pt                 São José                      Brazil    BR  -48.608232 -27.598199\\n435  2020-01-23 15:27:32                     \"É impressionante.\" Português descreve vida em Wuhan, onde apareceu o coronavírus https://t.co/gu8TPYcWTS Em… https://t.co/95XonLHxSa        0     pt                   Lisbon                    Portugal    PT   -9.099043  38.747518\\n436  2020-04-04 13:16:54                                              IMPORTANTE- Confirmações de casos de coronavirus em Barretos. em Barretos, Sao Paulo https://t.co/PTMe0QAlAc        0     pt                 Barretos                      Brazil    BR  -48.567800 -20.557200\\n437  2020-04-16 05:26:51              Pode colocar 10x mais em cima desses números, a Santa Casa já tem 60 leitos ocupados por pacientes contaminados pel… https://t.co/KY0G6HWKFc        0     pt                   Santos                      Brazil    BR  -46.324411 -23.933876\\n438  2020-05-26 20:45:57                                                         #FicaEmCasa se puder e mantenha o distanciamento social. em Forja Do Ogro https://t.co/HEHwgat0gj        0     pt           Rio de Janeiro                      Brazil    BR  -43.218761 -22.915558\\n439  2020-03-21 20:43:39              Nossa diversão dará lugar à luta contra o Coronavírus. Por isso, informamos que em respeito à saúde de todos, iremo… https://t.co/4gWKuoTlNA        0     pt                 Barretos                      Brazil    BR  -48.584118 -20.576385\\n440  2020-03-18 23:37:34                                  Não aguento mais ler sobre o covid-19 por isso vou postar sobre o Carnaval! em Cruzeiro Soberano https://t.co/sgFOlJt7Kz        0     pt                Sao Paulo                      Brazil    BR  -46.540299 -23.529595\\n441  2020-03-21 19:01:57              Prefeito Francisco Nagib apresenta compras de equipamentos para combater entrada de pessoas com sintomas de CORONAV… https://t.co/cVHRbbHvIp        0     pt                     Codó                      Brazil    BR  -43.892849  -4.456661\\n442  2020-04-14 21:32:14              Videoconferência com o prefeito Auricchio tratando dos projetos de incentivo à economia e das ações de combate ao n… https://t.co/5ReWVK3KEd        0     pt       São Caetano do Sul                      Brazil    BR  -46.569700 -23.623800\\n443  2020-04-07 17:14:32              São tantos dias de isolamento social que vou ter que me adaptar pouco a pouco na volta às atividades diárias! Idoso… https://t.co/OQXyPvQkeB        0     pt                   Manaus                      Brazil    BR  -60.013600  -3.064720\\n444  2020-04-03 05:21:43              Madrugada sem sono nesse período de isolamento social. Um convite à celebração da Santa missa com o papa Francisco.… https://t.co/7kniPpMnpt        0     pt                 Brasília                      Brazil    BR  -47.757778 -15.795000\\n445  2020-03-12 13:37:32              Recebemos turistas de diversos cantos do Brasil e do mundo ! TODA A EQUIPE DO hotelmarpalaceoficial já está tomando… https://t.co/D0A1fjiHra        0     pt           Rio de Janeiro                      Brazil    BR  -43.184460 -22.968800\\n446  2020-04-04 00:01:53              Governadores e Prefeitos metidos a imperadores precisarãm ser responsabilizados pelas mortes causadas por abusos co… https://t.co/eBV5vNVK6m        0     pt           Rio de Janeiro                      Brazil    BR  -43.344630 -22.939070\\n447  2020-03-24 21:52:56              Moto Honda da Amazônia suspende a produção de motocicletas no Brasil em função dos impactos da pandemia do Covid-19… https://t.co/tobfOdF3Cj        0     pt                Sao Paulo                      Brazil    BR  -46.633300 -23.550000\\n448  2020-03-23 12:22:39              Gio ajudando a arrumar a mesa do café da manhã. Tarefas do dia a dia ajudam a manter uma rotina saudável e divertid… https://t.co/XLLYwAphri        0     pt             Porto Alegre                      Brazil    BR  -51.220800 -30.029100\\n449  2020-04-15 19:19:25                         Tempos de quarentena, que tudo se resolva da melhor maneira possível. 🙏🏻🙌🏻 em Santo Antônio, Porto Alegre https://t.co/tzwp482O5n        0     pt             Porto Alegre                      Brazil    BR  -51.203839 -30.057708\\n450  2020-01-31 16:50:40                                                     #nCOV2019 HOJE ÀS 16:00h LIVE sobre CORONAVÍRUS AQUI!! em Contexto Assessoria https://t.co/eB6GuT1bVV        0     pt           Rio de Janeiro                      Brazil    BR  -43.319746 -23.002840\\n451  2020-04-15 23:47:27               Niver de geminiano em tempos de distanciamento e isolamento social é pra matar a gente de tristeza... 😭 em Rio das… https://t.co/ISpCA3Lw74        0     pt           Rio das Ostras                      Brazil    BR  -41.937900 -22.522600\\n452  2020-04-06 20:13:17              Prefeito afirma que caso a quantidade de pessoas infectadas com COVID-19 aumente, o comércio terá de fechar as port… https://t.co/KvFZ5iaApS        0     pt             Campo Grande                      Brazil    BR  -54.616700 -20.450000\\n453  2020-03-13 21:02:00                         #CANADA #covid_19 #covıd19 #coronavirus #truth #ppc #government #liberal #conservative @ Toronto, Ontario https://t.co/tv3zuugAYv        0     pt                  Toronto                      Canada    CA  -79.387200  43.648000\\n454  2020-04-11 06:25:15              A tranquilidade de quem aderiu cedo ao lockdown, estabilizou o número de casos e vítimas, agora estuda a perspectiv… https://t.co/eKXXsvfSTC        0     pt                 Auckland                 New Zealand    NZ  174.765000 -36.847000\\n455  2020-03-08 19:30:30              O programa Passando a Limpo com Carla Machado desta semana, abordará assuntos como Covid-19, hospital, duplicação d… https://t.co/akF0QXeevW        0     pt           Angra dos Reis                      Brazil    BR  -44.317986 -23.007902\\n456  2020-04-17 05:39:44              O nosso maior valor é a vida. Salve a ti e o mundo do COVID 19 \"ficando em casa\". em Vila De Montepuez, Cabo Delgad… https://t.co/GB08re5Lv1        0     pt   Republic of Mozambique      Republic of Mozambique    MZ   38.999700 -13.125600\\n457  2020-04-03 13:44:00              O TRABALHO NÃO PODE PARAR! \\\\\\\\ Devido a pandemia causada pelo Covid-19, seguimos orientações do Ministério da Cidada… https://t.co/IPji85Yz0B        1     pt                  Mossoró                      Brazil    BR  -37.343889  -5.187778\\n458  2020-03-03 22:38:55              Gravei hoje com a equipe do Jornal da Record sobre o coronavírus e os direitos dos consumidores de cancelarem passa… https://t.co/KqAN9PCaRa        1     pt                Sao Paulo                      Brazil    BR  -46.660270 -23.555720\\n459  2020-03-17 23:18:39                                         Coronavírus, a prevenção é fundamental! #covıd19 #prevencaocoronavírus em Caldo de Boteco https://t.co/GXBuSf1SF5        0     pt                   Recife                      Brazil    BR  -34.890080  -8.059860\\n460  2020-03-30 17:45:49                                        #reflexão #COVID19 #coronavirusbrazil #quarentena #kikoedeo #fato em Pituba, Bahia, Brazil https://t.co/sG0oSocKVb        0     pt                 Salvador                      Brazil    BR  -38.462041 -12.998912\\n461  2020-03-06 11:53:38              Linha de apoio aos viajantes com dúvidas sobre o Covid-19 recebe quase 44 chamadas por hora https://t.co/2NdOaprFV7… https://t.co/wiPxC7yCrc        1     pt                   Lisbon                    Portugal    PT   -9.099043  38.747518\\n462  2020-03-14 17:37:48              #danielnews #profdanielramos #coronavirus #covid19 #pandemia #mascarafacial #mascara #alcoolgel #alcool em Belo Hor… https://t.co/rt5tJ0nnHC        0     pt           Belo Horizonte                      Brazil    BR  -43.938700 -19.919100\\n463  2020-05-30 14:09:42              Repost • governosergipe O momento agora é de isolamento social. Quando tudo isso passar, você poderá se encontrar e… https://t.co/mKJfQKbnff        0     pt                   Fátima                      Brazil    BR  -38.183300 -10.700000\\n464  2020-05-31 22:48:54                                                                        SOCIEDADE HIPÓCRITA. CORONAVÍRUS... em Magalhães Advocacia https://t.co/IwTIaQNAY1        0     pt                 Guanambi                      Brazil    BR  -42.776079 -14.216078\\n465  2020-04-01 23:55:50               Aproveite esse tempo de quarentena e vá estudar, vá ler um livro, vá fazer um curso para se profissionalizar mais,… https://t.co/97jWqLT7UB        0     pt                Sao Paulo                      Brazil    BR  -46.633300 -23.550000\\n466  2020-01-21 12:01:34                      Coronavírus. Macau cria centro de contingência e aumenta controlo nos aeroportos https://t.co/0ZQgrcfD7d Em… https://t.co/ocMxKeaMjh        1     pt                   Lisbon                    Portugal    PT   -9.099043  38.747518\\n467  2020-03-22 17:59:35                         #almocinhodedomingo #churras #credoquedelícia #distanciamentosocial #fiquememcasa #seprotejam em Caieiras https://t.co/2lPkYuL6Iu        0     pt                 Caieiras                      Brazil    BR  -46.740080 -23.364520\\n468  2020-04-15 23:37:04                            Foto: Dimas Cardoso / Outono 2020 #quarentena #outono2020 #urbanova  #saojosedoscampos #sjcampos #sjc… https://t.co/5Ht324CKlK        0     pt      São José dos Campos                      Brazil    BR  -45.879360 -23.231156\\n469  2020-03-18 16:40:26               #Quarentena #AulasSuspensas #USP #FFLCHUSP #FEUSP #Psicanalise #PsicanaliseInfantil #Licenciatura #CienciasSociais… https://t.co/h8KHm0k9ea        0     pt                    Cotia                      Brazil    BR  -46.870671 -23.614586\\n470  2020-05-19 02:57:10              E DAI?  Que a Novalgina que todo mundo toma pra dorzinha de cabeça e sem receita médica, também cause arritmia card… https://t.co/qj8amn8T2I        0     pt                Sao Paulo                      Brazil    BR  -46.633300 -23.550000\\n471  2020-05-27 19:37:48                 🌴 Um paraíso chamado Praia do Forte, Bahia. 🌴 #djponttes #praiadeserta #paradise #diadesol #sunnyday #sol #praia… https://t.co/n6mSjsYVhp        0     pt         Mata de São João                      Brazil    BR  -38.006686 -12.576634\\n472  2020-03-22 13:14:24              Bom dia! Queridos pacientes devido ao aumento de casos no país de Covid19 e à necessidade cada vez maior de isolame… https://t.co/t5U98KlvII        0     pt                 Ourinhos                      Brazil    BR  -49.863711 -22.986262\\n473  2020-03-21 21:52:11              Nossa ultima LIVE da serie Dança de Salão X Corona Vírus, teremos 03 grandes monstros/professores que eu já fiz aul… https://t.co/8F2AX3K4rm        0     pt                Sao Paulo                      Brazil    BR  -46.633300 -23.550000\\n474  2020-05-20 20:08:51              Amigas e amigos, também fiz o teste para o Covid -19 e deu positivo. Antes de tudo quero dizer que estou bem, sem n… https://t.co/7CgaXS43Hi        0     pt                   Recife                      Brazil    BR  -34.891205  -8.048379\\n475  2020-04-08 14:47:56                                                              ISOLAMENTO SOCIAL 👍♥️ COMBINEI COM A CADEIRA❗ em Magalhães Advocacia https://t.co/m6PytgLwbn        0     pt                 Guanambi                      Brazil    BR  -42.776079 -14.216078\\n476  2020-05-31 15:36:34              \"É difícil ver as pessoas morrendo, sendo tratadas como números... Em um momento de pandemia, ver essas fake news é… https://t.co/F22ySmMhPm        0     pt           Rio de Janeiro                      Brazil    BR  -43.369131 -22.968272\\n477  2020-01-23 14:49:02               Coronavírus encerra Cidade Proibida de Pequim até futuras ordens https://t.co/hQLqJwZOcH Em https://t.co/MDmhqgtnSp https://t.co/9uBA0waZMC        1     pt                   Lisbon                    Portugal    PT   -9.099043  38.747518\\n478  2020-03-25 17:34:20                   Boa tarde ! Precisamos reagir agora ...Lockdown vertical é a única possibilidade de salvação para o Brasil !!!… https://t.co/Ueus3Owusa        0     pt             Porto Alegre                      Brazil    BR  -51.175074 -30.043128\\n479  2020-04-03 13:41:56                      #covid #covidmemes #covidkindness #covid2020 #covid19 #pandemia #pandemic #stayhome #stayathome #staystrong… https://t.co/sNHQXtwOqH        0     ca                     Reus                       Spain    ES    1.108359  41.155124\\n480  2020-04-06 20:22:49              O Sistema CNA/Senar lançou o projeto Feira Segura para orientar estados e municípios a promover feiras livres com s… https://t.co/wyt81Zk8QX        1     pt    São Félix do Araguaia                      Brazil    BR  -53.000000 -11.000000\\n481  2020-03-13 18:39:03                       Santa Maria abre primeira enfermaria do país exclusiva para doentes da pandemia https://t.co/9yeMRhgIE1 Em… https://t.co/Gu4JA3tUlX        1     pt                   Lisbon                    Portugal    PT   -9.099043  38.747518\\n482  2020-04-02 16:58:58              #TBT especial neste Dia Mundial de Conscientização do Autismo. São registros em diversas caminhadas promovidas anua… https://t.co/ELoRLIqHju        0     pt                 Sorocaba                      Brazil    BR  -47.504517 -23.487882\\n483  2020-03-21 16:05:28               Sejam otimistas vamos cooperar com as quarentenas, só isso pode nos salvar até que surja a vacina contra covid19 😎… https://t.co/0UcOCQajJ5        0     pt          Mogi das Cruzes                      Brazil    BR  -46.194014 -23.523959\\n484  2020-04-08 01:41:56              Atividades diversificafas. Não estamos de férias. Estamos em isolamento social e continuamos estudando normalmente.… https://t.co/iQ4BMFyLdw        0     pt         Feira de Santana                      Brazil    BR  -38.949887 -12.273669\\n485  2020-04-14 23:37:07              Na missão quase impossivel que se tornou ir no mercado! Se cuida! Fica em casa e só sai pro essencial! ;) #stayhome… https://t.co/ew8yiiOvpx        1     pt                   Recife                      Brazil    BR  -34.925700  -8.060500\\n486  2020-04-03 04:08:13              Vamos mostrar na mídia a quantidade de pessoas curadas do Covid 19 e não ficar apenas mostrando a quantidade de mor… https://t.co/x0yzVF9hiV        0     pt               Petrópolis                      Brazil    BR  -43.199658 -22.533328\\n487  2020-03-18 10:02:58               Pessoal, estamos diante de uma situação, para a nossa geração, inédita no Brasil e no mundo. Não estamos de férias… https://t.co/6QZxQ8xu2y        0     pt                   Recife                      Brazil    BR  -34.896278  -8.116724\\n488  2020-03-21 20:59:35              Amigos idosos se vocês não ficarem em casa nesse momento de isolamento social, veja quantas coisas boas vocês poder… https://t.co/B0CLt7xnjT        0     pt                Ibertioga                      Brazil    BR  -43.963650 -21.432240\\n489  2020-04-07 22:11:41                        Quando era verão e era seguro ir à praia. Saudades. #tb #summervibes #summertime #summerlovers #sealovers… https://t.co/hHQ8vHQ6vc        0     pt            Florianópolis                      Brazil    BR  -48.506734 -27.677304\\n490  2020-04-16 19:29:12                  Alguém disse coxinha?! #ChelseaExpress #AngeloPersona #Deliveroo #KeyWorker #London #Quarentine #Covid #Covid19… https://t.co/IvC7t3uldM        1     pt           City of London              United Kingdom    GB   -0.109400  51.514100\\n491  2020-04-16 05:34:04                                     Luanda Leaks, Brexit ou a vingança do Irão. Grandes problemas esquecidos no furacão Covid-19… https://t.co/fK0RX3lfFw        0     pt                   Lisbon                    Portugal    PT   -9.099043  38.747518\\n492  2020-05-25 14:43:25              De acordo com a nova pesquisa Kantar IBOPE, a audiência de rádio segue crescendo em meio ao isolamento social!! 📻🤗V… https://t.co/eaYI7MljRE        0     pt                  Caruaru                      Brazil    BR  -35.969399  -8.286753\\n493  2020-04-08 23:40:59              A Lei 13.987/20 garante a distribuição dos alimentos da merenda escolar às famílias dos estudantes que tiveram susp… https://t.co/a1BZSFFuOg        0     pt               Medianeira                      Brazil    BR  -54.104104 -25.297434\\n494  2020-04-14 12:06:38              A 2ª Vara de Família e Sucessões de Jacareí, em São Paulo, alterou o valor do pagamento de alimentos em razão da pa… https://t.co/geQfoHByfv        0     pt                Sao Paulo                      Brazil    BR  -46.638670 -23.540780\\n495  2020-04-07 16:14:13                                                O isolamento social também serve para mostrar que algumas pessoas não fazem a menor falta em nossas vidas.        1     pt               Rio Branco                      Brazil    BR  -67.859657  -9.932246\\n496  2020-03-26 18:02:28              Enquanto o mundo está atento ao covid 19 é o Brasil especificamente estarrecido com as merdas ditas pela presidente… https://t.co/ek6IoQMraq        0     pt           Rio de Janeiro                      Brazil    BR  -43.358100 -22.942800\\n497  2020-03-18 05:28:16                                                                                            #covid_19 #stayhome @ Toronto, Ontario https://t.co/NDRW3Jbvkv        0     pt                  Toronto                      Canada    CA  -79.387200  43.648000\\n498  2020-03-03 21:27:11                                 Um vira-lata sem Coronavirus #joeviralata #dog #cachorro #viralata #saopaulo em São Paulo, Brazil https://t.co/Y7tGfMy56D        0     pt                Sao Paulo                      Brazil    BR  -46.633300 -23.550000\\n499  2020-01-21 13:18:03                                  Portugal já está a preparar-se para responder a surto de coronavírus https://t.co/o2fEXUZw0Q Em… https://t.co/ZKzFdoWOuy        1     pt                   Lisbon                    Portugal    PT   -9.099043  38.747518'"
            ]
          },
          "metadata": {
            "tags": []
          },
          "execution_count": 56
        }
      ]
    },
    {
      "cell_type": "markdown",
      "metadata": {
        "id": "tnJi-zlumrmu",
        "colab_type": "text"
      },
      "source": [
        "Exemplo de exportação para CSV."
      ]
    },
    {
      "cell_type": "code",
      "metadata": {
        "id": "vgRpPzCNvIeR",
        "colab_type": "code",
        "colab": {}
      },
      "source": [
        "dfCovid.to_csv(\"new_covid.csv\")"
      ],
      "execution_count": null,
      "outputs": []
    },
    {
      "cell_type": "markdown",
      "metadata": {
        "id": "rD9Txkz1nAVX",
        "colab_type": "text"
      },
      "source": [
        "Selecinados os elementos de um determinado atributo."
      ]
    },
    {
      "cell_type": "code",
      "metadata": {
        "id": "djpN1wEUv_l2",
        "colab_type": "code",
        "colab": {
          "base_uri": "https://localhost:8080/",
          "height": 225
        },
        "outputId": "9c105a30-b228-4f3a-a9ec-4dd440d8048f"
      },
      "source": [
        "dfCovid['lugar']"
      ],
      "execution_count": null,
      "outputs": [
        {
          "output_type": "execute_result",
          "data": {
            "text/plain": [
              "0      Rio das Ostras\n",
              "1           Sao Paulo\n",
              "2              Lisbon\n",
              "3           Sao Paulo\n",
              "4              Santos\n",
              "            ...      \n",
              "495        Rio Branco\n",
              "496    Rio de Janeiro\n",
              "497           Toronto\n",
              "498         Sao Paulo\n",
              "499            Lisbon\n",
              "Name: lugar, Length: 500, dtype: object"
            ]
          },
          "metadata": {
            "tags": []
          },
          "execution_count": 62
        }
      ]
    },
    {
      "cell_type": "code",
      "metadata": {
        "id": "9RP3NMd2wEy-",
        "colab_type": "code",
        "colab": {
          "base_uri": "https://localhost:8080/",
          "height": 597
        },
        "outputId": "69888c58-b72c-402e-c96b-cc020e8b8b95"
      },
      "source": [
        "df_Covid"
      ],
      "execution_count": null,
      "outputs": [
        {
          "output_type": "execute_result",
          "data": {
            "text/html": [
              "<div>\n",
              "<style scoped>\n",
              "    .dataframe tbody tr th:only-of-type {\n",
              "        vertical-align: middle;\n",
              "    }\n",
              "\n",
              "    .dataframe tbody tr th {\n",
              "        vertical-align: top;\n",
              "    }\n",
              "\n",
              "    .dataframe thead th {\n",
              "        text-align: right;\n",
              "    }\n",
              "</style>\n",
              "<table border=\"1\" class=\"dataframe\">\n",
              "  <thead>\n",
              "    <tr style=\"text-align: right;\">\n",
              "      <th></th>\n",
              "      <th>data</th>\n",
              "      <th>texto</th>\n",
              "      <th>retweet</th>\n",
              "      <th>idioma</th>\n",
              "      <th>lugar</th>\n",
              "      <th>pais</th>\n",
              "      <th>sigla</th>\n",
              "      <th>latitude</th>\n",
              "      <th>longitude</th>\n",
              "    </tr>\n",
              "  </thead>\n",
              "  <tbody>\n",
              "    <tr>\n",
              "      <th>0</th>\n",
              "      <td>2020-05-23 00:21:14</td>\n",
              "      <td>Para voltar tudo ao normal, você precisa fazer...</td>\n",
              "      <td>0</td>\n",
              "      <td>pt</td>\n",
              "      <td>Rio das Ostras</td>\n",
              "      <td>Brazil</td>\n",
              "      <td>BR</td>\n",
              "      <td>-41.937900</td>\n",
              "      <td>-22.522600</td>\n",
              "    </tr>\n",
              "    <tr>\n",
              "      <th>1</th>\n",
              "      <td>2020-03-22 22:57:51</td>\n",
              "      <td>14.245 – O que é a hidroxicloroquina? https://...</td>\n",
              "      <td>0</td>\n",
              "      <td>pt</td>\n",
              "      <td>Sao Paulo</td>\n",
              "      <td>Brazil</td>\n",
              "      <td>BR</td>\n",
              "      <td>-46.674739</td>\n",
              "      <td>-23.606067</td>\n",
              "    </tr>\n",
              "    <tr>\n",
              "      <th>2</th>\n",
              "      <td>2020-04-14 00:11:33</td>\n",
              "      <td>Quarta morte em Lar de Estarreja associada à C...</td>\n",
              "      <td>1</td>\n",
              "      <td>pt</td>\n",
              "      <td>Lisbon</td>\n",
              "      <td>Portugal</td>\n",
              "      <td>PT</td>\n",
              "      <td>-9.099043</td>\n",
              "      <td>38.747518</td>\n",
              "    </tr>\n",
              "    <tr>\n",
              "      <th>3</th>\n",
              "      <td>2020-05-25 20:45:43</td>\n",
              "      <td>COVID-19 |  Hospital municipal Tide Setúbal, n...</td>\n",
              "      <td>0</td>\n",
              "      <td>pt</td>\n",
              "      <td>Sao Paulo</td>\n",
              "      <td>Brazil</td>\n",
              "      <td>BR</td>\n",
              "      <td>-46.633300</td>\n",
              "      <td>-23.550000</td>\n",
              "    </tr>\n",
              "    <tr>\n",
              "      <th>4</th>\n",
              "      <td>2020-04-15 10:34:39</td>\n",
              "      <td>#cenasdocotidiano #santos #distanciamentosocia...</td>\n",
              "      <td>0</td>\n",
              "      <td>pt</td>\n",
              "      <td>Santos</td>\n",
              "      <td>Brazil</td>\n",
              "      <td>BR</td>\n",
              "      <td>-46.293700</td>\n",
              "      <td>-23.975947</td>\n",
              "    </tr>\n",
              "    <tr>\n",
              "      <th>...</th>\n",
              "      <td>...</td>\n",
              "      <td>...</td>\n",
              "      <td>...</td>\n",
              "      <td>...</td>\n",
              "      <td>...</td>\n",
              "      <td>...</td>\n",
              "      <td>...</td>\n",
              "      <td>...</td>\n",
              "      <td>...</td>\n",
              "    </tr>\n",
              "    <tr>\n",
              "      <th>495</th>\n",
              "      <td>2020-04-07 16:14:13</td>\n",
              "      <td>O isolamento social também serve para mostrar ...</td>\n",
              "      <td>1</td>\n",
              "      <td>pt</td>\n",
              "      <td>Rio Branco</td>\n",
              "      <td>Brazil</td>\n",
              "      <td>BR</td>\n",
              "      <td>-67.859657</td>\n",
              "      <td>-9.932246</td>\n",
              "    </tr>\n",
              "    <tr>\n",
              "      <th>496</th>\n",
              "      <td>2020-03-26 18:02:28</td>\n",
              "      <td>Enquanto o mundo está atento ao covid 19 é o B...</td>\n",
              "      <td>0</td>\n",
              "      <td>pt</td>\n",
              "      <td>Rio de Janeiro</td>\n",
              "      <td>Brazil</td>\n",
              "      <td>BR</td>\n",
              "      <td>-43.358100</td>\n",
              "      <td>-22.942800</td>\n",
              "    </tr>\n",
              "    <tr>\n",
              "      <th>497</th>\n",
              "      <td>2020-03-18 05:28:16</td>\n",
              "      <td>#covid_19 #stayhome @ Toronto, Ontario https:/...</td>\n",
              "      <td>0</td>\n",
              "      <td>pt</td>\n",
              "      <td>Toronto</td>\n",
              "      <td>Canada</td>\n",
              "      <td>CA</td>\n",
              "      <td>-79.387200</td>\n",
              "      <td>43.648000</td>\n",
              "    </tr>\n",
              "    <tr>\n",
              "      <th>498</th>\n",
              "      <td>2020-03-03 21:27:11</td>\n",
              "      <td>Um vira-lata sem Coronavirus #joeviralata #dog...</td>\n",
              "      <td>0</td>\n",
              "      <td>pt</td>\n",
              "      <td>Sao Paulo</td>\n",
              "      <td>Brazil</td>\n",
              "      <td>BR</td>\n",
              "      <td>-46.633300</td>\n",
              "      <td>-23.550000</td>\n",
              "    </tr>\n",
              "    <tr>\n",
              "      <th>499</th>\n",
              "      <td>2020-01-21 13:18:03</td>\n",
              "      <td>Portugal já está a preparar-se para responder ...</td>\n",
              "      <td>1</td>\n",
              "      <td>pt</td>\n",
              "      <td>Lisbon</td>\n",
              "      <td>Portugal</td>\n",
              "      <td>PT</td>\n",
              "      <td>-9.099043</td>\n",
              "      <td>38.747518</td>\n",
              "    </tr>\n",
              "  </tbody>\n",
              "</table>\n",
              "<p>500 rows × 9 columns</p>\n",
              "</div>"
            ],
            "text/plain": [
              "                    data  ...  longitude\n",
              "0    2020-05-23 00:21:14  ... -22.522600\n",
              "1    2020-03-22 22:57:51  ... -23.606067\n",
              "2    2020-04-14 00:11:33  ...  38.747518\n",
              "3    2020-05-25 20:45:43  ... -23.550000\n",
              "4    2020-04-15 10:34:39  ... -23.975947\n",
              "..                   ...  ...        ...\n",
              "495  2020-04-07 16:14:13  ...  -9.932246\n",
              "496  2020-03-26 18:02:28  ... -22.942800\n",
              "497  2020-03-18 05:28:16  ...  43.648000\n",
              "498  2020-03-03 21:27:11  ... -23.550000\n",
              "499  2020-01-21 13:18:03  ...  38.747518\n",
              "\n",
              "[500 rows x 9 columns]"
            ]
          },
          "metadata": {
            "tags": []
          },
          "execution_count": 63
        }
      ]
    },
    {
      "cell_type": "code",
      "metadata": {
        "id": "lj1PGXzAwL41",
        "colab_type": "code",
        "colab": {
          "base_uri": "https://localhost:8080/",
          "height": 243
        },
        "outputId": "4d83277b-83a0-450f-ccca-4d5553da4f7a"
      },
      "source": [
        "localSerie = dfCovid['lugar']\n",
        "print(localSerie)\n",
        "print(type(localSerie))"
      ],
      "execution_count": null,
      "outputs": [
        {
          "output_type": "stream",
          "text": [
            "0      Rio das Ostras\n",
            "1           Sao Paulo\n",
            "2              Lisbon\n",
            "3           Sao Paulo\n",
            "4              Santos\n",
            "            ...      \n",
            "495        Rio Branco\n",
            "496    Rio de Janeiro\n",
            "497           Toronto\n",
            "498         Sao Paulo\n",
            "499            Lisbon\n",
            "Name: lugar, Length: 500, dtype: object\n",
            "<class 'pandas.core.series.Series'>\n"
          ],
          "name": "stdout"
        }
      ]
    },
    {
      "cell_type": "code",
      "metadata": {
        "id": "b3FiRGbpwa9a",
        "colab_type": "code",
        "colab": {
          "base_uri": "https://localhost:8080/",
          "height": 104
        },
        "outputId": "291d13ab-c81f-410a-93ae-7892dde5d7f4"
      },
      "source": [
        "localSerie.describe()"
      ],
      "execution_count": null,
      "outputs": [
        {
          "output_type": "execute_result",
          "data": {
            "text/plain": [
              "count        500\n",
              "unique       202\n",
              "top       Lisbon\n",
              "freq          61\n",
              "Name: lugar, dtype: object"
            ]
          },
          "metadata": {
            "tags": []
          },
          "execution_count": 83
        }
      ]
    },
    {
      "cell_type": "markdown",
      "metadata": {
        "id": "gLsfSz78pOO0",
        "colab_type": "text"
      },
      "source": [
        "Criando uma Tupla dando Slice no Data Frame."
      ]
    },
    {
      "cell_type": "code",
      "metadata": {
        "id": "FbxdHNZYwqUM",
        "colab_type": "code",
        "colab": {
          "base_uri": "https://localhost:8080/",
          "height": 206
        },
        "outputId": "2a2329ce-ff63-4e88-b007-7a499dd9761a"
      },
      "source": [
        "localTuple = dfCovid[['lugar', 'texto']]\n",
        "localTuple.head()"
      ],
      "execution_count": null,
      "outputs": [
        {
          "output_type": "execute_result",
          "data": {
            "text/html": [
              "<div>\n",
              "<style scoped>\n",
              "    .dataframe tbody tr th:only-of-type {\n",
              "        vertical-align: middle;\n",
              "    }\n",
              "\n",
              "    .dataframe tbody tr th {\n",
              "        vertical-align: top;\n",
              "    }\n",
              "\n",
              "    .dataframe thead th {\n",
              "        text-align: right;\n",
              "    }\n",
              "</style>\n",
              "<table border=\"1\" class=\"dataframe\">\n",
              "  <thead>\n",
              "    <tr style=\"text-align: right;\">\n",
              "      <th></th>\n",
              "      <th>lugar</th>\n",
              "      <th>texto</th>\n",
              "    </tr>\n",
              "  </thead>\n",
              "  <tbody>\n",
              "    <tr>\n",
              "      <th>0</th>\n",
              "      <td>Rio das Ostras</td>\n",
              "      <td>Para voltar tudo ao normal, você precisa fazer...</td>\n",
              "    </tr>\n",
              "    <tr>\n",
              "      <th>1</th>\n",
              "      <td>Sao Paulo</td>\n",
              "      <td>14.245 – O que é a hidroxicloroquina? https://...</td>\n",
              "    </tr>\n",
              "    <tr>\n",
              "      <th>2</th>\n",
              "      <td>Lisbon</td>\n",
              "      <td>Quarta morte em Lar de Estarreja associada à C...</td>\n",
              "    </tr>\n",
              "    <tr>\n",
              "      <th>3</th>\n",
              "      <td>Sao Paulo</td>\n",
              "      <td>COVID-19 |  Hospital municipal Tide Setúbal, n...</td>\n",
              "    </tr>\n",
              "    <tr>\n",
              "      <th>4</th>\n",
              "      <td>Santos</td>\n",
              "      <td>#cenasdocotidiano #santos #distanciamentosocia...</td>\n",
              "    </tr>\n",
              "  </tbody>\n",
              "</table>\n",
              "</div>"
            ],
            "text/plain": [
              "            lugar                                              texto\n",
              "0  Rio das Ostras  Para voltar tudo ao normal, você precisa fazer...\n",
              "1       Sao Paulo  14.245 – O que é a hidroxicloroquina? https://...\n",
              "2          Lisbon  Quarta morte em Lar de Estarreja associada à C...\n",
              "3       Sao Paulo  COVID-19 |  Hospital municipal Tide Setúbal, n...\n",
              "4          Santos  #cenasdocotidiano #santos #distanciamentosocia..."
            ]
          },
          "metadata": {
            "tags": []
          },
          "execution_count": 84
        }
      ]
    },
    {
      "cell_type": "markdown",
      "metadata": {
        "id": "f2FKCTyZpcQl",
        "colab_type": "text"
      },
      "source": [
        "Slice das linhas do Data Frame."
      ]
    },
    {
      "cell_type": "code",
      "metadata": {
        "id": "DFtqynjtxZ_G",
        "colab_type": "code",
        "colab": {
          "base_uri": "https://localhost:8080/",
          "height": 196
        },
        "outputId": "a7d5575a-5a8c-40c8-902d-2beb7f780dcb"
      },
      "source": [
        "dfCovid[0:3]"
      ],
      "execution_count": null,
      "outputs": [
        {
          "output_type": "execute_result",
          "data": {
            "text/html": [
              "<div>\n",
              "<style scoped>\n",
              "    .dataframe tbody tr th:only-of-type {\n",
              "        vertical-align: middle;\n",
              "    }\n",
              "\n",
              "    .dataframe tbody tr th {\n",
              "        vertical-align: top;\n",
              "    }\n",
              "\n",
              "    .dataframe thead th {\n",
              "        text-align: right;\n",
              "    }\n",
              "</style>\n",
              "<table border=\"1\" class=\"dataframe\">\n",
              "  <thead>\n",
              "    <tr style=\"text-align: right;\">\n",
              "      <th></th>\n",
              "      <th>data</th>\n",
              "      <th>texto</th>\n",
              "      <th>retweet</th>\n",
              "      <th>idioma</th>\n",
              "      <th>lugar</th>\n",
              "      <th>pais</th>\n",
              "      <th>sigla</th>\n",
              "      <th>latitude</th>\n",
              "      <th>longitude</th>\n",
              "    </tr>\n",
              "  </thead>\n",
              "  <tbody>\n",
              "    <tr>\n",
              "      <th>0</th>\n",
              "      <td>2020-05-23 00:21:14</td>\n",
              "      <td>Para voltar tudo ao normal, você precisa fazer...</td>\n",
              "      <td>0</td>\n",
              "      <td>pt</td>\n",
              "      <td>Rio das Ostras</td>\n",
              "      <td>Brazil</td>\n",
              "      <td>BR</td>\n",
              "      <td>-41.937900</td>\n",
              "      <td>-22.522600</td>\n",
              "    </tr>\n",
              "    <tr>\n",
              "      <th>1</th>\n",
              "      <td>2020-03-22 22:57:51</td>\n",
              "      <td>14.245 – O que é a hidroxicloroquina? https://...</td>\n",
              "      <td>0</td>\n",
              "      <td>pt</td>\n",
              "      <td>Sao Paulo</td>\n",
              "      <td>Brazil</td>\n",
              "      <td>BR</td>\n",
              "      <td>-46.674739</td>\n",
              "      <td>-23.606067</td>\n",
              "    </tr>\n",
              "    <tr>\n",
              "      <th>2</th>\n",
              "      <td>2020-04-14 00:11:33</td>\n",
              "      <td>Quarta morte em Lar de Estarreja associada à C...</td>\n",
              "      <td>1</td>\n",
              "      <td>pt</td>\n",
              "      <td>Lisbon</td>\n",
              "      <td>Portugal</td>\n",
              "      <td>PT</td>\n",
              "      <td>-9.099043</td>\n",
              "      <td>38.747518</td>\n",
              "    </tr>\n",
              "  </tbody>\n",
              "</table>\n",
              "</div>"
            ],
            "text/plain": [
              "                  data  ...  longitude\n",
              "0  2020-05-23 00:21:14  ... -22.522600\n",
              "1  2020-03-22 22:57:51  ... -23.606067\n",
              "2  2020-04-14 00:11:33  ...  38.747518\n",
              "\n",
              "[3 rows x 9 columns]"
            ]
          },
          "metadata": {
            "tags": []
          },
          "execution_count": 85
        }
      ]
    },
    {
      "cell_type": "code",
      "metadata": {
        "id": "e67emIU9xrTm",
        "colab_type": "code",
        "colab": {
          "base_uri": "https://localhost:8080/",
          "height": 293
        },
        "outputId": "4903c48d-bbfb-4151-d4af-ed6ebdc3dfaf"
      },
      "source": [
        "dfCovid[150:155]"
      ],
      "execution_count": null,
      "outputs": [
        {
          "output_type": "execute_result",
          "data": {
            "text/html": [
              "<div>\n",
              "<style scoped>\n",
              "    .dataframe tbody tr th:only-of-type {\n",
              "        vertical-align: middle;\n",
              "    }\n",
              "\n",
              "    .dataframe tbody tr th {\n",
              "        vertical-align: top;\n",
              "    }\n",
              "\n",
              "    .dataframe thead th {\n",
              "        text-align: right;\n",
              "    }\n",
              "</style>\n",
              "<table border=\"1\" class=\"dataframe\">\n",
              "  <thead>\n",
              "    <tr style=\"text-align: right;\">\n",
              "      <th></th>\n",
              "      <th>data</th>\n",
              "      <th>texto</th>\n",
              "      <th>retweet</th>\n",
              "      <th>idioma</th>\n",
              "      <th>lugar</th>\n",
              "      <th>pais</th>\n",
              "      <th>sigla</th>\n",
              "      <th>latitude</th>\n",
              "      <th>longitude</th>\n",
              "    </tr>\n",
              "  </thead>\n",
              "  <tbody>\n",
              "    <tr>\n",
              "      <th>150</th>\n",
              "      <td>2020-04-16 02:30:04</td>\n",
              "      <td>Selfie da Webmeeting institucional @Boehringer...</td>\n",
              "      <td>0</td>\n",
              "      <td>pt</td>\n",
              "      <td>Curitiba</td>\n",
              "      <td>Brazil</td>\n",
              "      <td>BR</td>\n",
              "      <td>-49.270500</td>\n",
              "      <td>-25.433900</td>\n",
              "    </tr>\n",
              "    <tr>\n",
              "      <th>151</th>\n",
              "      <td>2020-05-26 23:40:54</td>\n",
              "      <td>Melhor Personal que vi nos últimos 3 meses par...</td>\n",
              "      <td>0</td>\n",
              "      <td>pt</td>\n",
              "      <td>Brasília</td>\n",
              "      <td>Brazil</td>\n",
              "      <td>BR</td>\n",
              "      <td>-47.956205</td>\n",
              "      <td>-15.856996</td>\n",
              "    </tr>\n",
              "    <tr>\n",
              "      <th>152</th>\n",
              "      <td>2020-03-31 23:16:45</td>\n",
              "      <td>O mundo não é mais o mesmo depois dessa #pande...</td>\n",
              "      <td>0</td>\n",
              "      <td>pt</td>\n",
              "      <td>Vitória de Santo Antão</td>\n",
              "      <td>Brazil</td>\n",
              "      <td>BR</td>\n",
              "      <td>-35.295800</td>\n",
              "      <td>-8.119400</td>\n",
              "    </tr>\n",
              "    <tr>\n",
              "      <th>153</th>\n",
              "      <td>2020-04-09 21:28:32</td>\n",
              "      <td>FAÇA O SEU CONSÓRCIO, FINANCIAMENTO OU O SEU S...</td>\n",
              "      <td>0</td>\n",
              "      <td>pt</td>\n",
              "      <td>Abre Campo</td>\n",
              "      <td>Brazil</td>\n",
              "      <td>BR</td>\n",
              "      <td>-42.476260</td>\n",
              "      <td>-20.298590</td>\n",
              "    </tr>\n",
              "    <tr>\n",
              "      <th>154</th>\n",
              "      <td>2020-03-13 18:48:22</td>\n",
              "      <td>Com o avanço do novo #coronavírus pelo Brasil,...</td>\n",
              "      <td>0</td>\n",
              "      <td>pt</td>\n",
              "      <td>Sao Paulo</td>\n",
              "      <td>Brazil</td>\n",
              "      <td>BR</td>\n",
              "      <td>-46.633300</td>\n",
              "      <td>-23.550000</td>\n",
              "    </tr>\n",
              "  </tbody>\n",
              "</table>\n",
              "</div>"
            ],
            "text/plain": [
              "                    data  ...  longitude\n",
              "150  2020-04-16 02:30:04  ... -25.433900\n",
              "151  2020-05-26 23:40:54  ... -15.856996\n",
              "152  2020-03-31 23:16:45  ...  -8.119400\n",
              "153  2020-04-09 21:28:32  ... -20.298590\n",
              "154  2020-03-13 18:48:22  ... -23.550000\n",
              "\n",
              "[5 rows x 9 columns]"
            ]
          },
          "metadata": {
            "tags": []
          },
          "execution_count": 86
        }
      ]
    },
    {
      "cell_type": "code",
      "metadata": {
        "id": "VGtOIxt9x6hi",
        "colab_type": "code",
        "colab": {
          "base_uri": "https://localhost:8080/",
          "height": 34
        },
        "outputId": "c7cfc6f1-a58e-4670-c536-7417956602eb"
      },
      "source": [
        "print(type(dfCovid[150:155]))"
      ],
      "execution_count": null,
      "outputs": [
        {
          "output_type": "stream",
          "text": [
            "<class 'pandas.core.frame.DataFrame'>\n"
          ],
          "name": "stdout"
        }
      ]
    },
    {
      "cell_type": "markdown",
      "metadata": {
        "id": "CIRBYzEGpy4q",
        "colab_type": "text"
      },
      "source": [
        "**iloc**\n",
        "\n",
        "Slice do Data Frame, selecionando um range de linhas e um range de colunas, se baseando no índice."
      ]
    },
    {
      "cell_type": "code",
      "metadata": {
        "id": "jxJsu_2yyJNb",
        "colab_type": "code",
        "colab": {
          "base_uri": "https://localhost:8080/",
          "height": 143
        },
        "outputId": "20dab1c9-fec5-4e92-b508-29b454479308"
      },
      "source": [
        "dfCovid.iloc[0:3, 1:4]"
      ],
      "execution_count": null,
      "outputs": [
        {
          "output_type": "execute_result",
          "data": {
            "text/html": [
              "<div>\n",
              "<style scoped>\n",
              "    .dataframe tbody tr th:only-of-type {\n",
              "        vertical-align: middle;\n",
              "    }\n",
              "\n",
              "    .dataframe tbody tr th {\n",
              "        vertical-align: top;\n",
              "    }\n",
              "\n",
              "    .dataframe thead th {\n",
              "        text-align: right;\n",
              "    }\n",
              "</style>\n",
              "<table border=\"1\" class=\"dataframe\">\n",
              "  <thead>\n",
              "    <tr style=\"text-align: right;\">\n",
              "      <th></th>\n",
              "      <th>texto</th>\n",
              "      <th>retweet</th>\n",
              "      <th>idioma</th>\n",
              "    </tr>\n",
              "  </thead>\n",
              "  <tbody>\n",
              "    <tr>\n",
              "      <th>0</th>\n",
              "      <td>Para voltar tudo ao normal, você precisa fazer...</td>\n",
              "      <td>0</td>\n",
              "      <td>pt</td>\n",
              "    </tr>\n",
              "    <tr>\n",
              "      <th>1</th>\n",
              "      <td>14.245 – O que é a hidroxicloroquina? https://...</td>\n",
              "      <td>0</td>\n",
              "      <td>pt</td>\n",
              "    </tr>\n",
              "    <tr>\n",
              "      <th>2</th>\n",
              "      <td>Quarta morte em Lar de Estarreja associada à C...</td>\n",
              "      <td>1</td>\n",
              "      <td>pt</td>\n",
              "    </tr>\n",
              "  </tbody>\n",
              "</table>\n",
              "</div>"
            ],
            "text/plain": [
              "                                               texto  retweet idioma\n",
              "0  Para voltar tudo ao normal, você precisa fazer...        0     pt\n",
              "1  14.245 – O que é a hidroxicloroquina? https://...        0     pt\n",
              "2  Quarta morte em Lar de Estarreja associada à C...        1     pt"
            ]
          },
          "metadata": {
            "tags": []
          },
          "execution_count": 88
        }
      ]
    },
    {
      "cell_type": "code",
      "metadata": {
        "id": "M_Nd7ZOktzxJ",
        "colab_type": "code",
        "colab": {
          "base_uri": "https://localhost:8080/",
          "height": 191
        },
        "outputId": "97dc3298-e7ac-412d-cbe2-52f2b98d9329"
      },
      "source": [
        "dfCovid.iloc[0]"
      ],
      "execution_count": null,
      "outputs": [
        {
          "output_type": "execute_result",
          "data": {
            "text/plain": [
              "data                                       2020-05-23 00:21:14\n",
              "texto        Para voltar tudo ao normal, você precisa fazer...\n",
              "retweet                                                      0\n",
              "idioma                                                      pt\n",
              "lugar                                           Rio das Ostras\n",
              "pais                                                    Brazil\n",
              "sigla                                                       BR\n",
              "latitude                                              -41.9379\n",
              "longitude                                             -22.5226\n",
              "Name: 0, dtype: object"
            ]
          },
          "metadata": {
            "tags": []
          },
          "execution_count": 92
        }
      ]
    },
    {
      "cell_type": "code",
      "metadata": {
        "id": "_QqYzyYsuu4g",
        "colab_type": "code",
        "colab": {
          "base_uri": "https://localhost:8080/",
          "height": 225
        },
        "outputId": "b434f690-d688-4240-91fb-8da781e2887d"
      },
      "source": [
        "dfCovid.iloc[:, 1]"
      ],
      "execution_count": null,
      "outputs": [
        {
          "output_type": "execute_result",
          "data": {
            "text/plain": [
              "0      Para voltar tudo ao normal, você precisa fazer...\n",
              "1      14.245 – O que é a hidroxicloroquina? https://...\n",
              "2      Quarta morte em Lar de Estarreja associada à C...\n",
              "3      COVID-19 |  Hospital municipal Tide Setúbal, n...\n",
              "4      #cenasdocotidiano #santos #distanciamentosocia...\n",
              "                             ...                        \n",
              "495    O isolamento social também serve para mostrar ...\n",
              "496    Enquanto o mundo está atento ao covid 19 é o B...\n",
              "497    #covid_19 #stayhome @ Toronto, Ontario https:/...\n",
              "498    Um vira-lata sem Coronavirus #joeviralata #dog...\n",
              "499    Portugal já está a preparar-se para responder ...\n",
              "Name: texto, Length: 500, dtype: object"
            ]
          },
          "metadata": {
            "tags": []
          },
          "execution_count": 93
        }
      ]
    },
    {
      "cell_type": "code",
      "metadata": {
        "id": "gI0wfRQVu04n",
        "colab_type": "code",
        "colab": {
          "base_uri": "https://localhost:8080/",
          "height": 191
        },
        "outputId": "56a9f8fd-131b-4d14-e2b9-b06a253acc32"
      },
      "source": [
        "dfCovid.iloc[-5, :]"
      ],
      "execution_count": null,
      "outputs": [
        {
          "output_type": "execute_result",
          "data": {
            "text/plain": [
              "data                                       2020-04-07 16:14:13\n",
              "texto        O isolamento social também serve para mostrar ...\n",
              "retweet                                                      1\n",
              "idioma                                                      pt\n",
              "lugar                                               Rio Branco\n",
              "pais                                                    Brazil\n",
              "sigla                                                       BR\n",
              "latitude                                              -67.8597\n",
              "longitude                                             -9.93225\n",
              "Name: 495, dtype: object"
            ]
          },
          "metadata": {
            "tags": []
          },
          "execution_count": 94
        }
      ]
    },
    {
      "cell_type": "markdown",
      "metadata": {
        "id": "4w_zLWMMp9bV",
        "colab_type": "text"
      },
      "source": [
        "Filtrando registros no Data Frame."
      ]
    },
    {
      "cell_type": "code",
      "metadata": {
        "id": "FzfCLgvYy23l",
        "colab_type": "code",
        "colab": {
          "base_uri": "https://localhost:8080/",
          "height": 191
        },
        "outputId": "650ea5e8-471c-4550-a882-e5c66db3229d"
      },
      "source": [
        "dfCovid[dfCovid['sigla'] == 'BR'].count()"
      ],
      "execution_count": null,
      "outputs": [
        {
          "output_type": "execute_result",
          "data": {
            "text/plain": [
              "data         392\n",
              "texto        392\n",
              "retweet      392\n",
              "idioma       392\n",
              "lugar        392\n",
              "pais         392\n",
              "sigla        392\n",
              "latitude     392\n",
              "longitude    392\n",
              "dtype: int64"
            ]
          },
          "metadata": {
            "tags": []
          },
          "execution_count": 89
        }
      ]
    },
    {
      "cell_type": "markdown",
      "metadata": {
        "id": "285Ug7ezu7E_",
        "colab_type": "text"
      },
      "source": [
        "**loc**\n",
        "\n",
        "Slice do Data Frame, selecionando um range de linhas e um range de colunas, se baseando no índice ou no nome."
      ]
    },
    {
      "cell_type": "code",
      "metadata": {
        "id": "B22Ac2V-vA6w",
        "colab_type": "code",
        "colab": {
          "base_uri": "https://localhost:8080/",
          "height": 35
        },
        "outputId": "77d24a23-9f79-4884-8064-bfb64491443a"
      },
      "source": [
        "dfCovid.loc[0, 'lugar']"
      ],
      "execution_count": null,
      "outputs": [
        {
          "output_type": "execute_result",
          "data": {
            "application/vnd.google.colaboratory.intrinsic+json": {
              "type": "string"
            },
            "text/plain": [
              "'Rio das Ostras'"
            ]
          },
          "metadata": {
            "tags": []
          },
          "execution_count": 96
        }
      ]
    },
    {
      "cell_type": "markdown",
      "metadata": {
        "id": "sl0gXgYKwJOv",
        "colab_type": "text"
      },
      "source": [
        "Atribuindo um novo valor para o atributo texto para a linha 3."
      ]
    },
    {
      "cell_type": "code",
      "metadata": {
        "id": "ftvSS72yzTKO",
        "colab_type": "code",
        "colab": {
          "base_uri": "https://localhost:8080/",
          "height": 597
        },
        "outputId": "6c63770f-4da6-4e50-c71f-90630c225f86"
      },
      "source": [
        "dfCovid.loc[2, \"texto\"] = \"Novo Texto\"\n",
        "dfCovid"
      ],
      "execution_count": null,
      "outputs": [
        {
          "output_type": "execute_result",
          "data": {
            "text/html": [
              "<div>\n",
              "<style scoped>\n",
              "    .dataframe tbody tr th:only-of-type {\n",
              "        vertical-align: middle;\n",
              "    }\n",
              "\n",
              "    .dataframe tbody tr th {\n",
              "        vertical-align: top;\n",
              "    }\n",
              "\n",
              "    .dataframe thead th {\n",
              "        text-align: right;\n",
              "    }\n",
              "</style>\n",
              "<table border=\"1\" class=\"dataframe\">\n",
              "  <thead>\n",
              "    <tr style=\"text-align: right;\">\n",
              "      <th></th>\n",
              "      <th>data</th>\n",
              "      <th>texto</th>\n",
              "      <th>retweet</th>\n",
              "      <th>idioma</th>\n",
              "      <th>lugar</th>\n",
              "      <th>pais</th>\n",
              "      <th>sigla</th>\n",
              "      <th>latitude</th>\n",
              "      <th>longitude</th>\n",
              "    </tr>\n",
              "  </thead>\n",
              "  <tbody>\n",
              "    <tr>\n",
              "      <th>0</th>\n",
              "      <td>2020-05-23 00:21:14</td>\n",
              "      <td>Para voltar tudo ao normal, você precisa fazer...</td>\n",
              "      <td>0</td>\n",
              "      <td>pt</td>\n",
              "      <td>Rio das Ostras</td>\n",
              "      <td>Brazil</td>\n",
              "      <td>BR</td>\n",
              "      <td>-41.937900</td>\n",
              "      <td>-22.522600</td>\n",
              "    </tr>\n",
              "    <tr>\n",
              "      <th>1</th>\n",
              "      <td>2020-03-22 22:57:51</td>\n",
              "      <td>14.245 – O que é a hidroxicloroquina? https://...</td>\n",
              "      <td>0</td>\n",
              "      <td>pt</td>\n",
              "      <td>Sao Paulo</td>\n",
              "      <td>Brazil</td>\n",
              "      <td>BR</td>\n",
              "      <td>-46.674739</td>\n",
              "      <td>-23.606067</td>\n",
              "    </tr>\n",
              "    <tr>\n",
              "      <th>2</th>\n",
              "      <td>2020-04-14 00:11:33</td>\n",
              "      <td>Novo Texto</td>\n",
              "      <td>1</td>\n",
              "      <td>pt</td>\n",
              "      <td>Lisbon</td>\n",
              "      <td>Portugal</td>\n",
              "      <td>PT</td>\n",
              "      <td>-9.099043</td>\n",
              "      <td>38.747518</td>\n",
              "    </tr>\n",
              "    <tr>\n",
              "      <th>3</th>\n",
              "      <td>2020-05-25 20:45:43</td>\n",
              "      <td>COVID-19 |  Hospital municipal Tide Setúbal, n...</td>\n",
              "      <td>0</td>\n",
              "      <td>pt</td>\n",
              "      <td>Sao Paulo</td>\n",
              "      <td>Brazil</td>\n",
              "      <td>BR</td>\n",
              "      <td>-46.633300</td>\n",
              "      <td>-23.550000</td>\n",
              "    </tr>\n",
              "    <tr>\n",
              "      <th>4</th>\n",
              "      <td>2020-04-15 10:34:39</td>\n",
              "      <td>#cenasdocotidiano #santos #distanciamentosocia...</td>\n",
              "      <td>0</td>\n",
              "      <td>pt</td>\n",
              "      <td>Santos</td>\n",
              "      <td>Brazil</td>\n",
              "      <td>BR</td>\n",
              "      <td>-46.293700</td>\n",
              "      <td>-23.975947</td>\n",
              "    </tr>\n",
              "    <tr>\n",
              "      <th>...</th>\n",
              "      <td>...</td>\n",
              "      <td>...</td>\n",
              "      <td>...</td>\n",
              "      <td>...</td>\n",
              "      <td>...</td>\n",
              "      <td>...</td>\n",
              "      <td>...</td>\n",
              "      <td>...</td>\n",
              "      <td>...</td>\n",
              "    </tr>\n",
              "    <tr>\n",
              "      <th>495</th>\n",
              "      <td>2020-04-07 16:14:13</td>\n",
              "      <td>O isolamento social também serve para mostrar ...</td>\n",
              "      <td>1</td>\n",
              "      <td>pt</td>\n",
              "      <td>Rio Branco</td>\n",
              "      <td>Brazil</td>\n",
              "      <td>BR</td>\n",
              "      <td>-67.859657</td>\n",
              "      <td>-9.932246</td>\n",
              "    </tr>\n",
              "    <tr>\n",
              "      <th>496</th>\n",
              "      <td>2020-03-26 18:02:28</td>\n",
              "      <td>Enquanto o mundo está atento ao covid 19 é o B...</td>\n",
              "      <td>0</td>\n",
              "      <td>pt</td>\n",
              "      <td>Rio de Janeiro</td>\n",
              "      <td>Brazil</td>\n",
              "      <td>BR</td>\n",
              "      <td>-43.358100</td>\n",
              "      <td>-22.942800</td>\n",
              "    </tr>\n",
              "    <tr>\n",
              "      <th>497</th>\n",
              "      <td>2020-03-18 05:28:16</td>\n",
              "      <td>#covid_19 #stayhome @ Toronto, Ontario https:/...</td>\n",
              "      <td>0</td>\n",
              "      <td>pt</td>\n",
              "      <td>Toronto</td>\n",
              "      <td>Canada</td>\n",
              "      <td>CA</td>\n",
              "      <td>-79.387200</td>\n",
              "      <td>43.648000</td>\n",
              "    </tr>\n",
              "    <tr>\n",
              "      <th>498</th>\n",
              "      <td>2020-03-03 21:27:11</td>\n",
              "      <td>Um vira-lata sem Coronavirus #joeviralata #dog...</td>\n",
              "      <td>0</td>\n",
              "      <td>pt</td>\n",
              "      <td>Sao Paulo</td>\n",
              "      <td>Brazil</td>\n",
              "      <td>BR</td>\n",
              "      <td>-46.633300</td>\n",
              "      <td>-23.550000</td>\n",
              "    </tr>\n",
              "    <tr>\n",
              "      <th>499</th>\n",
              "      <td>2020-01-21 13:18:03</td>\n",
              "      <td>Portugal já está a preparar-se para responder ...</td>\n",
              "      <td>1</td>\n",
              "      <td>pt</td>\n",
              "      <td>Lisbon</td>\n",
              "      <td>Portugal</td>\n",
              "      <td>PT</td>\n",
              "      <td>-9.099043</td>\n",
              "      <td>38.747518</td>\n",
              "    </tr>\n",
              "  </tbody>\n",
              "</table>\n",
              "<p>500 rows × 9 columns</p>\n",
              "</div>"
            ],
            "text/plain": [
              "                    data  ...  longitude\n",
              "0    2020-05-23 00:21:14  ... -22.522600\n",
              "1    2020-03-22 22:57:51  ... -23.606067\n",
              "2    2020-04-14 00:11:33  ...  38.747518\n",
              "3    2020-05-25 20:45:43  ... -23.550000\n",
              "4    2020-04-15 10:34:39  ... -23.975947\n",
              "..                   ...  ...        ...\n",
              "495  2020-04-07 16:14:13  ...  -9.932246\n",
              "496  2020-03-26 18:02:28  ... -22.942800\n",
              "497  2020-03-18 05:28:16  ...  43.648000\n",
              "498  2020-03-03 21:27:11  ... -23.550000\n",
              "499  2020-01-21 13:18:03  ...  38.747518\n",
              "\n",
              "[500 rows x 9 columns]"
            ]
          },
          "metadata": {
            "tags": []
          },
          "execution_count": 98
        }
      ]
    },
    {
      "cell_type": "code",
      "metadata": {
        "id": "1JsCRhmpGTS9",
        "colab_type": "code",
        "colab": {
          "base_uri": "https://localhost:8080/",
          "height": 191
        },
        "outputId": "35ecdcf2-4ab9-4440-f7fe-692df8933e3b"
      },
      "source": [
        "dfCovid.dtypes"
      ],
      "execution_count": 123,
      "outputs": [
        {
          "output_type": "execute_result",
          "data": {
            "text/plain": [
              "data          object\n",
              "texto         object\n",
              "retweet        int64\n",
              "idioma        object\n",
              "lugar         object\n",
              "pais          object\n",
              "sigla         object\n",
              "latitude     float64\n",
              "longitude    float64\n",
              "dtype: object"
            ]
          },
          "metadata": {
            "tags": []
          },
          "execution_count": 123
        }
      ]
    },
    {
      "cell_type": "markdown",
      "metadata": {
        "id": "JfOuAf-YGDIZ",
        "colab_type": "text"
      },
      "source": [
        "**astype** \n",
        "\n",
        "Permite forçar o tipo do campo."
      ]
    },
    {
      "cell_type": "code",
      "metadata": {
        "id": "Wk3TgS5AGKHt",
        "colab_type": "code",
        "colab": {
          "base_uri": "https://localhost:8080/",
          "height": 191
        },
        "outputId": "b1447b05-30fa-47e4-9098-3968487a9e1c"
      },
      "source": [
        "#Colab: não funcionou\n",
        "dfCovid.retweet.astype('float64')\n",
        "dfCovid.dtypes"
      ],
      "execution_count": 125,
      "outputs": [
        {
          "output_type": "execute_result",
          "data": {
            "text/plain": [
              "data          object\n",
              "texto         object\n",
              "retweet        int64\n",
              "idioma        object\n",
              "lugar         object\n",
              "pais          object\n",
              "sigla         object\n",
              "latitude     float64\n",
              "longitude    float64\n",
              "dtype: object"
            ]
          },
          "metadata": {
            "tags": []
          },
          "execution_count": 125
        }
      ]
    },
    {
      "cell_type": "markdown",
      "metadata": {
        "id": "JA4hz8C4wuox",
        "colab_type": "text"
      },
      "source": [
        "**help**\n",
        "\n",
        "Principais métodos se baseando no tipo passado por parâmetro."
      ]
    },
    {
      "cell_type": "code",
      "metadata": {
        "id": "vNOxEuZLzmpV",
        "colab_type": "code",
        "colab": {
          "base_uri": "https://localhost:8080/",
          "height": 1000
        },
        "outputId": "452ea649-3582-4cd7-a13f-80ade005357e"
      },
      "source": [
        "help(dfCovid.loc)"
      ],
      "execution_count": null,
      "outputs": [
        {
          "output_type": "stream",
          "text": [
            "Help on _LocIndexer in module pandas.core.indexing object:\n",
            "\n",
            "class _LocIndexer(_LocationIndexer)\n",
            " |  Access a group of rows and columns by label(s) or a boolean array.\n",
            " |  \n",
            " |  ``.loc[]`` is primarily label based, but may also be used with a\n",
            " |  boolean array.\n",
            " |  \n",
            " |  Allowed inputs are:\n",
            " |  \n",
            " |  - A single label, e.g. ``5`` or ``'a'``, (note that ``5`` is\n",
            " |    interpreted as a *label* of the index, and **never** as an\n",
            " |    integer position along the index).\n",
            " |  - A list or array of labels, e.g. ``['a', 'b', 'c']``.\n",
            " |  - A slice object with labels, e.g. ``'a':'f'``.\n",
            " |  \n",
            " |    .. warning:: Note that contrary to usual python slices, **both** the\n",
            " |        start and the stop are included\n",
            " |  \n",
            " |  - A boolean array of the same length as the axis being sliced,\n",
            " |    e.g. ``[True, False, True]``.\n",
            " |  - A ``callable`` function with one argument (the calling Series or\n",
            " |    DataFrame) and that returns valid output for indexing (one of the above)\n",
            " |  \n",
            " |  See more at :ref:`Selection by Label <indexing.label>`\n",
            " |  \n",
            " |  Raises\n",
            " |  ------\n",
            " |  KeyError\n",
            " |      If any items are not found.\n",
            " |  \n",
            " |  See Also\n",
            " |  --------\n",
            " |  DataFrame.at : Access a single value for a row/column label pair.\n",
            " |  DataFrame.iloc : Access group of rows and columns by integer position(s).\n",
            " |  DataFrame.xs : Returns a cross-section (row(s) or column(s)) from the\n",
            " |      Series/DataFrame.\n",
            " |  Series.loc : Access group of values using labels.\n",
            " |  \n",
            " |  Examples\n",
            " |  --------\n",
            " |  **Getting values**\n",
            " |  \n",
            " |  >>> df = pd.DataFrame([[1, 2], [4, 5], [7, 8]],\n",
            " |  ...      index=['cobra', 'viper', 'sidewinder'],\n",
            " |  ...      columns=['max_speed', 'shield'])\n",
            " |  >>> df\n",
            " |              max_speed  shield\n",
            " |  cobra               1       2\n",
            " |  viper               4       5\n",
            " |  sidewinder          7       8\n",
            " |  \n",
            " |  Single label. Note this returns the row as a Series.\n",
            " |  \n",
            " |  >>> df.loc['viper']\n",
            " |  max_speed    4\n",
            " |  shield       5\n",
            " |  Name: viper, dtype: int64\n",
            " |  \n",
            " |  List of labels. Note using ``[[]]`` returns a DataFrame.\n",
            " |  \n",
            " |  >>> df.loc[['viper', 'sidewinder']]\n",
            " |              max_speed  shield\n",
            " |  viper               4       5\n",
            " |  sidewinder          7       8\n",
            " |  \n",
            " |  Single label for row and column\n",
            " |  \n",
            " |  >>> df.loc['cobra', 'shield']\n",
            " |  2\n",
            " |  \n",
            " |  Slice with labels for row and single label for column. As mentioned\n",
            " |  above, note that both the start and stop of the slice are included.\n",
            " |  \n",
            " |  >>> df.loc['cobra':'viper', 'max_speed']\n",
            " |  cobra    1\n",
            " |  viper    4\n",
            " |  Name: max_speed, dtype: int64\n",
            " |  \n",
            " |  Boolean list with the same length as the row axis\n",
            " |  \n",
            " |  >>> df.loc[[False, False, True]]\n",
            " |              max_speed  shield\n",
            " |  sidewinder          7       8\n",
            " |  \n",
            " |  Conditional that returns a boolean Series\n",
            " |  \n",
            " |  >>> df.loc[df['shield'] > 6]\n",
            " |              max_speed  shield\n",
            " |  sidewinder          7       8\n",
            " |  \n",
            " |  Conditional that returns a boolean Series with column labels specified\n",
            " |  \n",
            " |  >>> df.loc[df['shield'] > 6, ['max_speed']]\n",
            " |              max_speed\n",
            " |  sidewinder          7\n",
            " |  \n",
            " |  Callable that returns a boolean Series\n",
            " |  \n",
            " |  >>> df.loc[lambda df: df['shield'] == 8]\n",
            " |              max_speed  shield\n",
            " |  sidewinder          7       8\n",
            " |  \n",
            " |  **Setting values**\n",
            " |  \n",
            " |  Set value for all items matching the list of labels\n",
            " |  \n",
            " |  >>> df.loc[['viper', 'sidewinder'], ['shield']] = 50\n",
            " |  >>> df\n",
            " |              max_speed  shield\n",
            " |  cobra               1       2\n",
            " |  viper               4      50\n",
            " |  sidewinder          7      50\n",
            " |  \n",
            " |  Set value for an entire row\n",
            " |  \n",
            " |  >>> df.loc['cobra'] = 10\n",
            " |  >>> df\n",
            " |              max_speed  shield\n",
            " |  cobra              10      10\n",
            " |  viper               4      50\n",
            " |  sidewinder          7      50\n",
            " |  \n",
            " |  Set value for an entire column\n",
            " |  \n",
            " |  >>> df.loc[:, 'max_speed'] = 30\n",
            " |  >>> df\n",
            " |              max_speed  shield\n",
            " |  cobra              30      10\n",
            " |  viper              30      50\n",
            " |  sidewinder         30      50\n",
            " |  \n",
            " |  Set value for rows matching callable condition\n",
            " |  \n",
            " |  >>> df.loc[df['shield'] > 35] = 0\n",
            " |  >>> df\n",
            " |              max_speed  shield\n",
            " |  cobra              30      10\n",
            " |  viper               0       0\n",
            " |  sidewinder          0       0\n",
            " |  \n",
            " |  **Getting values on a DataFrame with an index that has integer labels**\n",
            " |  \n",
            " |  Another example using integers for the index\n",
            " |  \n",
            " |  >>> df = pd.DataFrame([[1, 2], [4, 5], [7, 8]],\n",
            " |  ...      index=[7, 8, 9], columns=['max_speed', 'shield'])\n",
            " |  >>> df\n",
            " |     max_speed  shield\n",
            " |  7          1       2\n",
            " |  8          4       5\n",
            " |  9          7       8\n",
            " |  \n",
            " |  Slice with integer labels for rows. As mentioned above, note that both\n",
            " |  the start and stop of the slice are included.\n",
            " |  \n",
            " |  >>> df.loc[7:9]\n",
            " |     max_speed  shield\n",
            " |  7          1       2\n",
            " |  8          4       5\n",
            " |  9          7       8\n",
            " |  \n",
            " |  **Getting values with a MultiIndex**\n",
            " |  \n",
            " |  A number of examples using a DataFrame with a MultiIndex\n",
            " |  \n",
            " |  >>> tuples = [\n",
            " |  ...    ('cobra', 'mark i'), ('cobra', 'mark ii'),\n",
            " |  ...    ('sidewinder', 'mark i'), ('sidewinder', 'mark ii'),\n",
            " |  ...    ('viper', 'mark ii'), ('viper', 'mark iii')\n",
            " |  ... ]\n",
            " |  >>> index = pd.MultiIndex.from_tuples(tuples)\n",
            " |  >>> values = [[12, 2], [0, 4], [10, 20],\n",
            " |  ...         [1, 4], [7, 1], [16, 36]]\n",
            " |  >>> df = pd.DataFrame(values, columns=['max_speed', 'shield'], index=index)\n",
            " |  >>> df\n",
            " |                       max_speed  shield\n",
            " |  cobra      mark i           12       2\n",
            " |             mark ii           0       4\n",
            " |  sidewinder mark i           10      20\n",
            " |             mark ii           1       4\n",
            " |  viper      mark ii           7       1\n",
            " |             mark iii         16      36\n",
            " |  \n",
            " |  Single label. Note this returns a DataFrame with a single index.\n",
            " |  \n",
            " |  >>> df.loc['cobra']\n",
            " |           max_speed  shield\n",
            " |  mark i          12       2\n",
            " |  mark ii          0       4\n",
            " |  \n",
            " |  Single index tuple. Note this returns a Series.\n",
            " |  \n",
            " |  >>> df.loc[('cobra', 'mark ii')]\n",
            " |  max_speed    0\n",
            " |  shield       4\n",
            " |  Name: (cobra, mark ii), dtype: int64\n",
            " |  \n",
            " |  Single label for row and column. Similar to passing in a tuple, this\n",
            " |  returns a Series.\n",
            " |  \n",
            " |  >>> df.loc['cobra', 'mark i']\n",
            " |  max_speed    12\n",
            " |  shield        2\n",
            " |  Name: (cobra, mark i), dtype: int64\n",
            " |  \n",
            " |  Single tuple. Note using ``[[]]`` returns a DataFrame.\n",
            " |  \n",
            " |  >>> df.loc[[('cobra', 'mark ii')]]\n",
            " |                 max_speed  shield\n",
            " |  cobra mark ii          0       4\n",
            " |  \n",
            " |  Single tuple for the index with a single label for the column\n",
            " |  \n",
            " |  >>> df.loc[('cobra', 'mark i'), 'shield']\n",
            " |  2\n",
            " |  \n",
            " |  Slice from index tuple to single label\n",
            " |  \n",
            " |  >>> df.loc[('cobra', 'mark i'):'viper']\n",
            " |                       max_speed  shield\n",
            " |  cobra      mark i           12       2\n",
            " |             mark ii           0       4\n",
            " |  sidewinder mark i           10      20\n",
            " |             mark ii           1       4\n",
            " |  viper      mark ii           7       1\n",
            " |             mark iii         16      36\n",
            " |  \n",
            " |  Slice from index tuple to index tuple\n",
            " |  \n",
            " |  >>> df.loc[('cobra', 'mark i'):('viper', 'mark ii')]\n",
            " |                      max_speed  shield\n",
            " |  cobra      mark i          12       2\n",
            " |             mark ii          0       4\n",
            " |  sidewinder mark i          10      20\n",
            " |             mark ii          1       4\n",
            " |  viper      mark ii          7       1\n",
            " |  \n",
            " |  Method resolution order:\n",
            " |      _LocIndexer\n",
            " |      _LocationIndexer\n",
            " |      _NDFrameIndexer\n",
            " |      pandas._libs.indexing._NDFrameIndexerBase\n",
            " |      builtins.object\n",
            " |  \n",
            " |  Methods inherited from _LocationIndexer:\n",
            " |  \n",
            " |  __getitem__(self, key)\n",
            " |  \n",
            " |  ----------------------------------------------------------------------\n",
            " |  Methods inherited from _NDFrameIndexer:\n",
            " |  \n",
            " |  __call__(self, axis=None)\n",
            " |      Call self as a function.\n",
            " |  \n",
            " |  __setitem__(self, key, value)\n",
            " |  \n",
            " |  ----------------------------------------------------------------------\n",
            " |  Data descriptors inherited from _NDFrameIndexer:\n",
            " |  \n",
            " |  __dict__\n",
            " |      dictionary for instance variables (if defined)\n",
            " |  \n",
            " |  __weakref__\n",
            " |      list of weak references to the object (if defined)\n",
            " |  \n",
            " |  ----------------------------------------------------------------------\n",
            " |  Data and other attributes inherited from _NDFrameIndexer:\n",
            " |  \n",
            " |  __annotations__ = {'_valid_types': <class 'str'>}\n",
            " |  \n",
            " |  axis = None\n",
            " |  \n",
            " |  ----------------------------------------------------------------------\n",
            " |  Methods inherited from pandas._libs.indexing._NDFrameIndexerBase:\n",
            " |  \n",
            " |  __init__(self, /, *args, **kwargs)\n",
            " |      Initialize self.  See help(type(self)) for accurate signature.\n",
            " |  \n",
            " |  __new__(*args, **kwargs) from builtins.type\n",
            " |      Create and return a new object.  See help(type) for accurate signature.\n",
            " |  \n",
            " |  __reduce__ = __reduce_cython__(...)\n",
            " |  \n",
            " |  __setstate__ = __setstate_cython__(...)\n",
            " |  \n",
            " |  ----------------------------------------------------------------------\n",
            " |  Data descriptors inherited from pandas._libs.indexing._NDFrameIndexerBase:\n",
            " |  \n",
            " |  name\n",
            " |  \n",
            " |  ndim\n",
            " |  \n",
            " |  obj\n",
            "\n"
          ],
          "name": "stdout"
        }
      ]
    },
    {
      "cell_type": "code",
      "metadata": {
        "id": "-pyYRKzV0Iyn",
        "colab_type": "code",
        "colab": {
          "base_uri": "https://localhost:8080/",
          "height": 293
        },
        "outputId": "0f49a38c-9920-4b37-e452-85135bb8a7cb"
      },
      "source": [
        "dfCovid.head()"
      ],
      "execution_count": null,
      "outputs": [
        {
          "output_type": "execute_result",
          "data": {
            "text/html": [
              "<div>\n",
              "<style scoped>\n",
              "    .dataframe tbody tr th:only-of-type {\n",
              "        vertical-align: middle;\n",
              "    }\n",
              "\n",
              "    .dataframe tbody tr th {\n",
              "        vertical-align: top;\n",
              "    }\n",
              "\n",
              "    .dataframe thead th {\n",
              "        text-align: right;\n",
              "    }\n",
              "</style>\n",
              "<table border=\"1\" class=\"dataframe\">\n",
              "  <thead>\n",
              "    <tr style=\"text-align: right;\">\n",
              "      <th></th>\n",
              "      <th>data</th>\n",
              "      <th>texto</th>\n",
              "      <th>retweet</th>\n",
              "      <th>idioma</th>\n",
              "      <th>lugar</th>\n",
              "      <th>pais</th>\n",
              "      <th>sigla</th>\n",
              "      <th>latitude</th>\n",
              "      <th>longitude</th>\n",
              "    </tr>\n",
              "  </thead>\n",
              "  <tbody>\n",
              "    <tr>\n",
              "      <th>0</th>\n",
              "      <td>2020-05-23 00:21:14</td>\n",
              "      <td>Para voltar tudo ao normal, você precisa fazer...</td>\n",
              "      <td>0</td>\n",
              "      <td>pt</td>\n",
              "      <td>Rio das Ostras</td>\n",
              "      <td>Brazil</td>\n",
              "      <td>BR</td>\n",
              "      <td>-41.937900</td>\n",
              "      <td>-22.522600</td>\n",
              "    </tr>\n",
              "    <tr>\n",
              "      <th>1</th>\n",
              "      <td>2020-03-22 22:57:51</td>\n",
              "      <td>14.245 – O que é a hidroxicloroquina? https://...</td>\n",
              "      <td>0</td>\n",
              "      <td>pt</td>\n",
              "      <td>Sao Paulo</td>\n",
              "      <td>Brazil</td>\n",
              "      <td>BR</td>\n",
              "      <td>-46.674739</td>\n",
              "      <td>-23.606067</td>\n",
              "    </tr>\n",
              "    <tr>\n",
              "      <th>2</th>\n",
              "      <td>2020-04-14 00:11:33</td>\n",
              "      <td>Novo Texto</td>\n",
              "      <td>1</td>\n",
              "      <td>pt</td>\n",
              "      <td>Lisbon</td>\n",
              "      <td>Portugal</td>\n",
              "      <td>PT</td>\n",
              "      <td>-9.099043</td>\n",
              "      <td>38.747518</td>\n",
              "    </tr>\n",
              "    <tr>\n",
              "      <th>3</th>\n",
              "      <td>2020-05-25 20:45:43</td>\n",
              "      <td>COVID-19 |  Hospital municipal Tide Setúbal, n...</td>\n",
              "      <td>0</td>\n",
              "      <td>pt</td>\n",
              "      <td>Sao Paulo</td>\n",
              "      <td>Brazil</td>\n",
              "      <td>BR</td>\n",
              "      <td>-46.633300</td>\n",
              "      <td>-23.550000</td>\n",
              "    </tr>\n",
              "    <tr>\n",
              "      <th>4</th>\n",
              "      <td>2020-04-15 10:34:39</td>\n",
              "      <td>#cenasdocotidiano #santos #distanciamentosocia...</td>\n",
              "      <td>0</td>\n",
              "      <td>pt</td>\n",
              "      <td>Santos</td>\n",
              "      <td>Brazil</td>\n",
              "      <td>BR</td>\n",
              "      <td>-46.293700</td>\n",
              "      <td>-23.975947</td>\n",
              "    </tr>\n",
              "  </tbody>\n",
              "</table>\n",
              "</div>"
            ],
            "text/plain": [
              "                  data  ...  longitude\n",
              "0  2020-05-23 00:21:14  ... -22.522600\n",
              "1  2020-03-22 22:57:51  ... -23.606067\n",
              "2  2020-04-14 00:11:33  ...  38.747518\n",
              "3  2020-05-25 20:45:43  ... -23.550000\n",
              "4  2020-04-15 10:34:39  ... -23.975947\n",
              "\n",
              "[5 rows x 9 columns]"
            ]
          },
          "metadata": {
            "tags": []
          },
          "execution_count": 101
        }
      ]
    },
    {
      "cell_type": "code",
      "metadata": {
        "id": "zModQlki0LzA",
        "colab_type": "code",
        "colab": {
          "base_uri": "https://localhost:8080/",
          "height": 597
        },
        "outputId": "41ecbf2d-37b7-4f79-eeed-5e79b20c7eeb"
      },
      "source": [
        "dfCovid[df_Covid['sigla'] == 'BR']"
      ],
      "execution_count": null,
      "outputs": [
        {
          "output_type": "execute_result",
          "data": {
            "text/html": [
              "<div>\n",
              "<style scoped>\n",
              "    .dataframe tbody tr th:only-of-type {\n",
              "        vertical-align: middle;\n",
              "    }\n",
              "\n",
              "    .dataframe tbody tr th {\n",
              "        vertical-align: top;\n",
              "    }\n",
              "\n",
              "    .dataframe thead th {\n",
              "        text-align: right;\n",
              "    }\n",
              "</style>\n",
              "<table border=\"1\" class=\"dataframe\">\n",
              "  <thead>\n",
              "    <tr style=\"text-align: right;\">\n",
              "      <th></th>\n",
              "      <th>data</th>\n",
              "      <th>texto</th>\n",
              "      <th>retweet</th>\n",
              "      <th>idioma</th>\n",
              "      <th>lugar</th>\n",
              "      <th>pais</th>\n",
              "      <th>sigla</th>\n",
              "      <th>latitude</th>\n",
              "      <th>longitude</th>\n",
              "    </tr>\n",
              "  </thead>\n",
              "  <tbody>\n",
              "    <tr>\n",
              "      <th>0</th>\n",
              "      <td>2020-05-23 00:21:14</td>\n",
              "      <td>Para voltar tudo ao normal, você precisa fazer...</td>\n",
              "      <td>0</td>\n",
              "      <td>pt</td>\n",
              "      <td>Rio das Ostras</td>\n",
              "      <td>Brazil</td>\n",
              "      <td>BR</td>\n",
              "      <td>-41.937900</td>\n",
              "      <td>-22.522600</td>\n",
              "    </tr>\n",
              "    <tr>\n",
              "      <th>1</th>\n",
              "      <td>2020-03-22 22:57:51</td>\n",
              "      <td>14.245 – O que é a hidroxicloroquina? https://...</td>\n",
              "      <td>0</td>\n",
              "      <td>pt</td>\n",
              "      <td>Sao Paulo</td>\n",
              "      <td>Brazil</td>\n",
              "      <td>BR</td>\n",
              "      <td>-46.674739</td>\n",
              "      <td>-23.606067</td>\n",
              "    </tr>\n",
              "    <tr>\n",
              "      <th>3</th>\n",
              "      <td>2020-05-25 20:45:43</td>\n",
              "      <td>COVID-19 |  Hospital municipal Tide Setúbal, n...</td>\n",
              "      <td>0</td>\n",
              "      <td>pt</td>\n",
              "      <td>Sao Paulo</td>\n",
              "      <td>Brazil</td>\n",
              "      <td>BR</td>\n",
              "      <td>-46.633300</td>\n",
              "      <td>-23.550000</td>\n",
              "    </tr>\n",
              "    <tr>\n",
              "      <th>4</th>\n",
              "      <td>2020-04-15 10:34:39</td>\n",
              "      <td>#cenasdocotidiano #santos #distanciamentosocia...</td>\n",
              "      <td>0</td>\n",
              "      <td>pt</td>\n",
              "      <td>Santos</td>\n",
              "      <td>Brazil</td>\n",
              "      <td>BR</td>\n",
              "      <td>-46.293700</td>\n",
              "      <td>-23.975947</td>\n",
              "    </tr>\n",
              "    <tr>\n",
              "      <th>7</th>\n",
              "      <td>2020-03-22 19:12:37</td>\n",
              "      <td>Memórias do cárcere. Hoje deu até pra treinar ...</td>\n",
              "      <td>0</td>\n",
              "      <td>pt</td>\n",
              "      <td>Rio de Janeiro</td>\n",
              "      <td>Brazil</td>\n",
              "      <td>BR</td>\n",
              "      <td>-43.273900</td>\n",
              "      <td>-22.961900</td>\n",
              "    </tr>\n",
              "    <tr>\n",
              "      <th>...</th>\n",
              "      <td>...</td>\n",
              "      <td>...</td>\n",
              "      <td>...</td>\n",
              "      <td>...</td>\n",
              "      <td>...</td>\n",
              "      <td>...</td>\n",
              "      <td>...</td>\n",
              "      <td>...</td>\n",
              "      <td>...</td>\n",
              "    </tr>\n",
              "    <tr>\n",
              "      <th>493</th>\n",
              "      <td>2020-04-08 23:40:59</td>\n",
              "      <td>A Lei 13.987/20 garante a distribuição dos ali...</td>\n",
              "      <td>0</td>\n",
              "      <td>pt</td>\n",
              "      <td>Medianeira</td>\n",
              "      <td>Brazil</td>\n",
              "      <td>BR</td>\n",
              "      <td>-54.104104</td>\n",
              "      <td>-25.297434</td>\n",
              "    </tr>\n",
              "    <tr>\n",
              "      <th>494</th>\n",
              "      <td>2020-04-14 12:06:38</td>\n",
              "      <td>A 2ª Vara de Família e Sucessões de Jacareí, e...</td>\n",
              "      <td>0</td>\n",
              "      <td>pt</td>\n",
              "      <td>Sao Paulo</td>\n",
              "      <td>Brazil</td>\n",
              "      <td>BR</td>\n",
              "      <td>-46.638670</td>\n",
              "      <td>-23.540780</td>\n",
              "    </tr>\n",
              "    <tr>\n",
              "      <th>495</th>\n",
              "      <td>2020-04-07 16:14:13</td>\n",
              "      <td>O isolamento social também serve para mostrar ...</td>\n",
              "      <td>1</td>\n",
              "      <td>pt</td>\n",
              "      <td>Rio Branco</td>\n",
              "      <td>Brazil</td>\n",
              "      <td>BR</td>\n",
              "      <td>-67.859657</td>\n",
              "      <td>-9.932246</td>\n",
              "    </tr>\n",
              "    <tr>\n",
              "      <th>496</th>\n",
              "      <td>2020-03-26 18:02:28</td>\n",
              "      <td>Enquanto o mundo está atento ao covid 19 é o B...</td>\n",
              "      <td>0</td>\n",
              "      <td>pt</td>\n",
              "      <td>Rio de Janeiro</td>\n",
              "      <td>Brazil</td>\n",
              "      <td>BR</td>\n",
              "      <td>-43.358100</td>\n",
              "      <td>-22.942800</td>\n",
              "    </tr>\n",
              "    <tr>\n",
              "      <th>498</th>\n",
              "      <td>2020-03-03 21:27:11</td>\n",
              "      <td>Um vira-lata sem Coronavirus #joeviralata #dog...</td>\n",
              "      <td>0</td>\n",
              "      <td>pt</td>\n",
              "      <td>Sao Paulo</td>\n",
              "      <td>Brazil</td>\n",
              "      <td>BR</td>\n",
              "      <td>-46.633300</td>\n",
              "      <td>-23.550000</td>\n",
              "    </tr>\n",
              "  </tbody>\n",
              "</table>\n",
              "<p>392 rows × 9 columns</p>\n",
              "</div>"
            ],
            "text/plain": [
              "                    data  ...  longitude\n",
              "0    2020-05-23 00:21:14  ... -22.522600\n",
              "1    2020-03-22 22:57:51  ... -23.606067\n",
              "3    2020-05-25 20:45:43  ... -23.550000\n",
              "4    2020-04-15 10:34:39  ... -23.975947\n",
              "7    2020-03-22 19:12:37  ... -22.961900\n",
              "..                   ...  ...        ...\n",
              "493  2020-04-08 23:40:59  ... -25.297434\n",
              "494  2020-04-14 12:06:38  ... -23.540780\n",
              "495  2020-04-07 16:14:13  ...  -9.932246\n",
              "496  2020-03-26 18:02:28  ... -22.942800\n",
              "498  2020-03-03 21:27:11  ... -23.550000\n",
              "\n",
              "[392 rows x 9 columns]"
            ]
          },
          "metadata": {
            "tags": []
          },
          "execution_count": 102
        }
      ]
    },
    {
      "cell_type": "code",
      "metadata": {
        "id": "-X9h0Occ0ZBb",
        "colab_type": "code",
        "colab": {
          "base_uri": "https://localhost:8080/",
          "height": 597
        },
        "outputId": "e63ae1d5-f2cd-4381-d8c1-c1d147003f9b"
      },
      "source": [
        "initialsList = [\"BR\", \"PT\"]\n",
        "df_Covid[df_Covid.sigla == initialsList[0]]"
      ],
      "execution_count": null,
      "outputs": [
        {
          "output_type": "execute_result",
          "data": {
            "text/html": [
              "<div>\n",
              "<style scoped>\n",
              "    .dataframe tbody tr th:only-of-type {\n",
              "        vertical-align: middle;\n",
              "    }\n",
              "\n",
              "    .dataframe tbody tr th {\n",
              "        vertical-align: top;\n",
              "    }\n",
              "\n",
              "    .dataframe thead th {\n",
              "        text-align: right;\n",
              "    }\n",
              "</style>\n",
              "<table border=\"1\" class=\"dataframe\">\n",
              "  <thead>\n",
              "    <tr style=\"text-align: right;\">\n",
              "      <th></th>\n",
              "      <th>data</th>\n",
              "      <th>texto</th>\n",
              "      <th>retweet</th>\n",
              "      <th>idioma</th>\n",
              "      <th>lugar</th>\n",
              "      <th>pais</th>\n",
              "      <th>sigla</th>\n",
              "      <th>latitude</th>\n",
              "      <th>longitude</th>\n",
              "    </tr>\n",
              "  </thead>\n",
              "  <tbody>\n",
              "    <tr>\n",
              "      <th>0</th>\n",
              "      <td>2020-05-23 00:21:14</td>\n",
              "      <td>Para voltar tudo ao normal, você precisa fazer...</td>\n",
              "      <td>0</td>\n",
              "      <td>pt</td>\n",
              "      <td>Rio das Ostras</td>\n",
              "      <td>Brazil</td>\n",
              "      <td>BR</td>\n",
              "      <td>-41.937900</td>\n",
              "      <td>-22.522600</td>\n",
              "    </tr>\n",
              "    <tr>\n",
              "      <th>1</th>\n",
              "      <td>2020-03-22 22:57:51</td>\n",
              "      <td>14.245 – O que é a hidroxicloroquina? https://...</td>\n",
              "      <td>0</td>\n",
              "      <td>pt</td>\n",
              "      <td>Sao Paulo</td>\n",
              "      <td>Brazil</td>\n",
              "      <td>BR</td>\n",
              "      <td>-46.674739</td>\n",
              "      <td>-23.606067</td>\n",
              "    </tr>\n",
              "    <tr>\n",
              "      <th>3</th>\n",
              "      <td>2020-05-25 20:45:43</td>\n",
              "      <td>COVID-19 |  Hospital municipal Tide Setúbal, n...</td>\n",
              "      <td>0</td>\n",
              "      <td>pt</td>\n",
              "      <td>Sao Paulo</td>\n",
              "      <td>Brazil</td>\n",
              "      <td>BR</td>\n",
              "      <td>-46.633300</td>\n",
              "      <td>-23.550000</td>\n",
              "    </tr>\n",
              "    <tr>\n",
              "      <th>4</th>\n",
              "      <td>2020-04-15 10:34:39</td>\n",
              "      <td>#cenasdocotidiano #santos #distanciamentosocia...</td>\n",
              "      <td>0</td>\n",
              "      <td>pt</td>\n",
              "      <td>Santos</td>\n",
              "      <td>Brazil</td>\n",
              "      <td>BR</td>\n",
              "      <td>-46.293700</td>\n",
              "      <td>-23.975947</td>\n",
              "    </tr>\n",
              "    <tr>\n",
              "      <th>7</th>\n",
              "      <td>2020-03-22 19:12:37</td>\n",
              "      <td>Memórias do cárcere. Hoje deu até pra treinar ...</td>\n",
              "      <td>0</td>\n",
              "      <td>pt</td>\n",
              "      <td>Rio de Janeiro</td>\n",
              "      <td>Brazil</td>\n",
              "      <td>BR</td>\n",
              "      <td>-43.273900</td>\n",
              "      <td>-22.961900</td>\n",
              "    </tr>\n",
              "    <tr>\n",
              "      <th>...</th>\n",
              "      <td>...</td>\n",
              "      <td>...</td>\n",
              "      <td>...</td>\n",
              "      <td>...</td>\n",
              "      <td>...</td>\n",
              "      <td>...</td>\n",
              "      <td>...</td>\n",
              "      <td>...</td>\n",
              "      <td>...</td>\n",
              "    </tr>\n",
              "    <tr>\n",
              "      <th>493</th>\n",
              "      <td>2020-04-08 23:40:59</td>\n",
              "      <td>A Lei 13.987/20 garante a distribuição dos ali...</td>\n",
              "      <td>0</td>\n",
              "      <td>pt</td>\n",
              "      <td>Medianeira</td>\n",
              "      <td>Brazil</td>\n",
              "      <td>BR</td>\n",
              "      <td>-54.104104</td>\n",
              "      <td>-25.297434</td>\n",
              "    </tr>\n",
              "    <tr>\n",
              "      <th>494</th>\n",
              "      <td>2020-04-14 12:06:38</td>\n",
              "      <td>A 2ª Vara de Família e Sucessões de Jacareí, e...</td>\n",
              "      <td>0</td>\n",
              "      <td>pt</td>\n",
              "      <td>Sao Paulo</td>\n",
              "      <td>Brazil</td>\n",
              "      <td>BR</td>\n",
              "      <td>-46.638670</td>\n",
              "      <td>-23.540780</td>\n",
              "    </tr>\n",
              "    <tr>\n",
              "      <th>495</th>\n",
              "      <td>2020-04-07 16:14:13</td>\n",
              "      <td>O isolamento social também serve para mostrar ...</td>\n",
              "      <td>1</td>\n",
              "      <td>pt</td>\n",
              "      <td>Rio Branco</td>\n",
              "      <td>Brazil</td>\n",
              "      <td>BR</td>\n",
              "      <td>-67.859657</td>\n",
              "      <td>-9.932246</td>\n",
              "    </tr>\n",
              "    <tr>\n",
              "      <th>496</th>\n",
              "      <td>2020-03-26 18:02:28</td>\n",
              "      <td>Enquanto o mundo está atento ao covid 19 é o B...</td>\n",
              "      <td>0</td>\n",
              "      <td>pt</td>\n",
              "      <td>Rio de Janeiro</td>\n",
              "      <td>Brazil</td>\n",
              "      <td>BR</td>\n",
              "      <td>-43.358100</td>\n",
              "      <td>-22.942800</td>\n",
              "    </tr>\n",
              "    <tr>\n",
              "      <th>498</th>\n",
              "      <td>2020-03-03 21:27:11</td>\n",
              "      <td>Um vira-lata sem Coronavirus #joeviralata #dog...</td>\n",
              "      <td>0</td>\n",
              "      <td>pt</td>\n",
              "      <td>Sao Paulo</td>\n",
              "      <td>Brazil</td>\n",
              "      <td>BR</td>\n",
              "      <td>-46.633300</td>\n",
              "      <td>-23.550000</td>\n",
              "    </tr>\n",
              "  </tbody>\n",
              "</table>\n",
              "<p>392 rows × 9 columns</p>\n",
              "</div>"
            ],
            "text/plain": [
              "                    data  ...  longitude\n",
              "0    2020-05-23 00:21:14  ... -22.522600\n",
              "1    2020-03-22 22:57:51  ... -23.606067\n",
              "3    2020-05-25 20:45:43  ... -23.550000\n",
              "4    2020-04-15 10:34:39  ... -23.975947\n",
              "7    2020-03-22 19:12:37  ... -22.961900\n",
              "..                   ...  ...        ...\n",
              "493  2020-04-08 23:40:59  ... -25.297434\n",
              "494  2020-04-14 12:06:38  ... -23.540780\n",
              "495  2020-04-07 16:14:13  ...  -9.932246\n",
              "496  2020-03-26 18:02:28  ... -22.942800\n",
              "498  2020-03-03 21:27:11  ... -23.550000\n",
              "\n",
              "[392 rows x 9 columns]"
            ]
          },
          "metadata": {
            "tags": []
          },
          "execution_count": 103
        }
      ]
    },
    {
      "cell_type": "markdown",
      "metadata": {
        "id": "ERRXvNu0xazk",
        "colab_type": "text"
      },
      "source": [
        "**unique**\n",
        "\n",
        "Seleciona os registros únicos de um atributo do Data Frame."
      ]
    },
    {
      "cell_type": "code",
      "metadata": {
        "id": "0yIhtiVf1HBS",
        "colab_type": "code",
        "colab": {
          "base_uri": "https://localhost:8080/",
          "height": 69
        },
        "outputId": "5ef86132-0c5c-4c61-d30e-69ed38d04580"
      },
      "source": [
        "dfCovid.sigla.unique()"
      ],
      "execution_count": null,
      "outputs": [
        {
          "output_type": "execute_result",
          "data": {
            "text/plain": [
              "array(['BR', 'PT', 'VA', 'CA', 'US', 'ID', 'ES', 'AU', 'MX', 'NL', 'CH',\n",
              "       'NZ', 'CW', 'IT', 'IN', 'DO', 'EC', 'CN', nan, 'FR', 'MZ', 'GB'],\n",
              "      dtype=object)"
            ]
          },
          "metadata": {
            "tags": []
          },
          "execution_count": 104
        }
      ]
    },
    {
      "cell_type": "markdown",
      "metadata": {
        "id": "PcUUOQyOxkbz",
        "colab_type": "text"
      },
      "source": [
        "**value_counts**\n",
        "\n",
        "Contabiliza a quantidade de valores para cada atributo do Data Frame."
      ]
    },
    {
      "cell_type": "code",
      "metadata": {
        "id": "G-7jJAtP1KVV",
        "colab_type": "code",
        "colab": {
          "base_uri": "https://localhost:8080/",
          "height": 399
        },
        "outputId": "560d9902-2ab1-4ce2-f0fe-0dd3a8be77da"
      },
      "source": [
        "dfCovid.sigla.value_counts()"
      ],
      "execution_count": null,
      "outputs": [
        {
          "output_type": "execute_result",
          "data": {
            "text/plain": [
              "BR    392\n",
              "PT     67\n",
              "US     11\n",
              "CA      6\n",
              "ES      3\n",
              "FR      2\n",
              "AU      2\n",
              "IT      2\n",
              "NZ      2\n",
              "NL      1\n",
              "DO      1\n",
              "IN      1\n",
              "ID      1\n",
              "GB      1\n",
              "MZ      1\n",
              "CW      1\n",
              "MX      1\n",
              "CN      1\n",
              "VA      1\n",
              "CH      1\n",
              "EC      1\n",
              "Name: sigla, dtype: int64"
            ]
          },
          "metadata": {
            "tags": []
          },
          "execution_count": 106
        }
      ]
    },
    {
      "cell_type": "markdown",
      "metadata": {
        "id": "P1C0eqSc3LHe",
        "colab_type": "text"
      },
      "source": [
        "**set_index**\n",
        "\n",
        "Atualizando o nome dos índices se baseando no valor do atributo correspondente."
      ]
    },
    {
      "cell_type": "code",
      "metadata": {
        "id": "7BpZOzn33Lmd",
        "colab_type": "code",
        "colab": {
          "base_uri": "https://localhost:8080/",
          "height": 424
        },
        "outputId": "961e9ff8-9191-4f23-9bf7-33cdd78680ca"
      },
      "source": [
        "#avaliar, mas no Colab, não funcionou\n",
        "dfCovid.set_index('pais')\n",
        "dfCovid"
      ],
      "execution_count": 109,
      "outputs": [
        {
          "output_type": "execute_result",
          "data": {
            "text/html": [
              "<div>\n",
              "<style scoped>\n",
              "    .dataframe tbody tr th:only-of-type {\n",
              "        vertical-align: middle;\n",
              "    }\n",
              "\n",
              "    .dataframe tbody tr th {\n",
              "        vertical-align: top;\n",
              "    }\n",
              "\n",
              "    .dataframe thead th {\n",
              "        text-align: right;\n",
              "    }\n",
              "</style>\n",
              "<table border=\"1\" class=\"dataframe\">\n",
              "  <thead>\n",
              "    <tr style=\"text-align: right;\">\n",
              "      <th></th>\n",
              "      <th>data</th>\n",
              "      <th>texto</th>\n",
              "      <th>retweet</th>\n",
              "      <th>idioma</th>\n",
              "      <th>lugar</th>\n",
              "      <th>pais</th>\n",
              "      <th>sigla</th>\n",
              "      <th>latitude</th>\n",
              "      <th>longitude</th>\n",
              "    </tr>\n",
              "  </thead>\n",
              "  <tbody>\n",
              "    <tr>\n",
              "      <th>0</th>\n",
              "      <td>2020-05-23 00:21:14</td>\n",
              "      <td>Para voltar tudo ao normal, você precisa fazer...</td>\n",
              "      <td>0</td>\n",
              "      <td>pt</td>\n",
              "      <td>Rio das Ostras</td>\n",
              "      <td>Brazil</td>\n",
              "      <td>BR</td>\n",
              "      <td>-41.937900</td>\n",
              "      <td>-22.522600</td>\n",
              "    </tr>\n",
              "    <tr>\n",
              "      <th>1</th>\n",
              "      <td>2020-03-22 22:57:51</td>\n",
              "      <td>14.245 – O que é a hidroxicloroquina? https://...</td>\n",
              "      <td>0</td>\n",
              "      <td>pt</td>\n",
              "      <td>Sao Paulo</td>\n",
              "      <td>Brazil</td>\n",
              "      <td>BR</td>\n",
              "      <td>-46.674739</td>\n",
              "      <td>-23.606067</td>\n",
              "    </tr>\n",
              "    <tr>\n",
              "      <th>2</th>\n",
              "      <td>2020-04-14 00:11:33</td>\n",
              "      <td>Novo Texto</td>\n",
              "      <td>1</td>\n",
              "      <td>pt</td>\n",
              "      <td>Lisbon</td>\n",
              "      <td>Portugal</td>\n",
              "      <td>PT</td>\n",
              "      <td>-9.099043</td>\n",
              "      <td>38.747518</td>\n",
              "    </tr>\n",
              "    <tr>\n",
              "      <th>3</th>\n",
              "      <td>2020-05-25 20:45:43</td>\n",
              "      <td>COVID-19 |  Hospital municipal Tide Setúbal, n...</td>\n",
              "      <td>0</td>\n",
              "      <td>pt</td>\n",
              "      <td>Sao Paulo</td>\n",
              "      <td>Brazil</td>\n",
              "      <td>BR</td>\n",
              "      <td>-46.633300</td>\n",
              "      <td>-23.550000</td>\n",
              "    </tr>\n",
              "    <tr>\n",
              "      <th>4</th>\n",
              "      <td>2020-04-15 10:34:39</td>\n",
              "      <td>#cenasdocotidiano #santos #distanciamentosocia...</td>\n",
              "      <td>0</td>\n",
              "      <td>pt</td>\n",
              "      <td>Santos</td>\n",
              "      <td>Brazil</td>\n",
              "      <td>BR</td>\n",
              "      <td>-46.293700</td>\n",
              "      <td>-23.975947</td>\n",
              "    </tr>\n",
              "    <tr>\n",
              "      <th>...</th>\n",
              "      <td>...</td>\n",
              "      <td>...</td>\n",
              "      <td>...</td>\n",
              "      <td>...</td>\n",
              "      <td>...</td>\n",
              "      <td>...</td>\n",
              "      <td>...</td>\n",
              "      <td>...</td>\n",
              "      <td>...</td>\n",
              "    </tr>\n",
              "    <tr>\n",
              "      <th>495</th>\n",
              "      <td>2020-04-07 16:14:13</td>\n",
              "      <td>O isolamento social também serve para mostrar ...</td>\n",
              "      <td>1</td>\n",
              "      <td>pt</td>\n",
              "      <td>Rio Branco</td>\n",
              "      <td>Brazil</td>\n",
              "      <td>BR</td>\n",
              "      <td>-67.859657</td>\n",
              "      <td>-9.932246</td>\n",
              "    </tr>\n",
              "    <tr>\n",
              "      <th>496</th>\n",
              "      <td>2020-03-26 18:02:28</td>\n",
              "      <td>Enquanto o mundo está atento ao covid 19 é o B...</td>\n",
              "      <td>0</td>\n",
              "      <td>pt</td>\n",
              "      <td>Rio de Janeiro</td>\n",
              "      <td>Brazil</td>\n",
              "      <td>BR</td>\n",
              "      <td>-43.358100</td>\n",
              "      <td>-22.942800</td>\n",
              "    </tr>\n",
              "    <tr>\n",
              "      <th>497</th>\n",
              "      <td>2020-03-18 05:28:16</td>\n",
              "      <td>#covid_19 #stayhome @ Toronto, Ontario https:/...</td>\n",
              "      <td>0</td>\n",
              "      <td>pt</td>\n",
              "      <td>Toronto</td>\n",
              "      <td>Canada</td>\n",
              "      <td>CA</td>\n",
              "      <td>-79.387200</td>\n",
              "      <td>43.648000</td>\n",
              "    </tr>\n",
              "    <tr>\n",
              "      <th>498</th>\n",
              "      <td>2020-03-03 21:27:11</td>\n",
              "      <td>Um vira-lata sem Coronavirus #joeviralata #dog...</td>\n",
              "      <td>0</td>\n",
              "      <td>pt</td>\n",
              "      <td>Sao Paulo</td>\n",
              "      <td>Brazil</td>\n",
              "      <td>BR</td>\n",
              "      <td>-46.633300</td>\n",
              "      <td>-23.550000</td>\n",
              "    </tr>\n",
              "    <tr>\n",
              "      <th>499</th>\n",
              "      <td>2020-01-21 13:18:03</td>\n",
              "      <td>Portugal já está a preparar-se para responder ...</td>\n",
              "      <td>1</td>\n",
              "      <td>pt</td>\n",
              "      <td>Lisbon</td>\n",
              "      <td>Portugal</td>\n",
              "      <td>PT</td>\n",
              "      <td>-9.099043</td>\n",
              "      <td>38.747518</td>\n",
              "    </tr>\n",
              "  </tbody>\n",
              "</table>\n",
              "<p>500 rows × 9 columns</p>\n",
              "</div>"
            ],
            "text/plain": [
              "                    data  ...  longitude\n",
              "0    2020-05-23 00:21:14  ... -22.522600\n",
              "1    2020-03-22 22:57:51  ... -23.606067\n",
              "2    2020-04-14 00:11:33  ...  38.747518\n",
              "3    2020-05-25 20:45:43  ... -23.550000\n",
              "4    2020-04-15 10:34:39  ... -23.975947\n",
              "..                   ...  ...        ...\n",
              "495  2020-04-07 16:14:13  ...  -9.932246\n",
              "496  2020-03-26 18:02:28  ... -22.942800\n",
              "497  2020-03-18 05:28:16  ...  43.648000\n",
              "498  2020-03-03 21:27:11  ... -23.550000\n",
              "499  2020-01-21 13:18:03  ...  38.747518\n",
              "\n",
              "[500 rows x 9 columns]"
            ]
          },
          "metadata": {
            "tags": []
          },
          "execution_count": 109
        }
      ]
    },
    {
      "cell_type": "markdown",
      "metadata": {
        "id": "qWEZaY844G4g",
        "colab_type": "text"
      },
      "source": [
        "**groupby**\n",
        "\n",
        "Agrupando algum atributo do Data Frame."
      ]
    },
    {
      "cell_type": "code",
      "metadata": {
        "id": "T4eKL0JI2VYY",
        "colab_type": "code",
        "colab": {}
      },
      "source": [
        "GroupByInitial = dfCovid.groupby('sigla')"
      ],
      "execution_count": 115,
      "outputs": []
    },
    {
      "cell_type": "code",
      "metadata": {
        "id": "Lb-BVa4g5Olo",
        "colab_type": "code",
        "colab": {
          "base_uri": "https://localhost:8080/",
          "height": 1000
        },
        "outputId": "9d97064b-7fbf-4021-9db0-4a17c51bec60"
      },
      "source": [
        "GroupByInitial.head()"
      ],
      "execution_count": 117,
      "outputs": [
        {
          "output_type": "execute_result",
          "data": {
            "text/html": [
              "<div>\n",
              "<style scoped>\n",
              "    .dataframe tbody tr th:only-of-type {\n",
              "        vertical-align: middle;\n",
              "    }\n",
              "\n",
              "    .dataframe tbody tr th {\n",
              "        vertical-align: top;\n",
              "    }\n",
              "\n",
              "    .dataframe thead th {\n",
              "        text-align: right;\n",
              "    }\n",
              "</style>\n",
              "<table border=\"1\" class=\"dataframe\">\n",
              "  <thead>\n",
              "    <tr style=\"text-align: right;\">\n",
              "      <th></th>\n",
              "      <th>data</th>\n",
              "      <th>texto</th>\n",
              "      <th>retweet</th>\n",
              "      <th>idioma</th>\n",
              "      <th>lugar</th>\n",
              "      <th>pais</th>\n",
              "      <th>sigla</th>\n",
              "      <th>latitude</th>\n",
              "      <th>longitude</th>\n",
              "    </tr>\n",
              "  </thead>\n",
              "  <tbody>\n",
              "    <tr>\n",
              "      <th>0</th>\n",
              "      <td>2020-05-23 00:21:14</td>\n",
              "      <td>Para voltar tudo ao normal, você precisa fazer...</td>\n",
              "      <td>0</td>\n",
              "      <td>pt</td>\n",
              "      <td>Rio das Ostras</td>\n",
              "      <td>Brazil</td>\n",
              "      <td>BR</td>\n",
              "      <td>-41.937900</td>\n",
              "      <td>-22.522600</td>\n",
              "    </tr>\n",
              "    <tr>\n",
              "      <th>1</th>\n",
              "      <td>2020-03-22 22:57:51</td>\n",
              "      <td>14.245 – O que é a hidroxicloroquina? https://...</td>\n",
              "      <td>0</td>\n",
              "      <td>pt</td>\n",
              "      <td>Sao Paulo</td>\n",
              "      <td>Brazil</td>\n",
              "      <td>BR</td>\n",
              "      <td>-46.674739</td>\n",
              "      <td>-23.606067</td>\n",
              "    </tr>\n",
              "    <tr>\n",
              "      <th>2</th>\n",
              "      <td>2020-04-14 00:11:33</td>\n",
              "      <td>Novo Texto</td>\n",
              "      <td>1</td>\n",
              "      <td>pt</td>\n",
              "      <td>Lisbon</td>\n",
              "      <td>Portugal</td>\n",
              "      <td>PT</td>\n",
              "      <td>-9.099043</td>\n",
              "      <td>38.747518</td>\n",
              "    </tr>\n",
              "    <tr>\n",
              "      <th>3</th>\n",
              "      <td>2020-05-25 20:45:43</td>\n",
              "      <td>COVID-19 |  Hospital municipal Tide Setúbal, n...</td>\n",
              "      <td>0</td>\n",
              "      <td>pt</td>\n",
              "      <td>Sao Paulo</td>\n",
              "      <td>Brazil</td>\n",
              "      <td>BR</td>\n",
              "      <td>-46.633300</td>\n",
              "      <td>-23.550000</td>\n",
              "    </tr>\n",
              "    <tr>\n",
              "      <th>4</th>\n",
              "      <td>2020-04-15 10:34:39</td>\n",
              "      <td>#cenasdocotidiano #santos #distanciamentosocia...</td>\n",
              "      <td>0</td>\n",
              "      <td>pt</td>\n",
              "      <td>Santos</td>\n",
              "      <td>Brazil</td>\n",
              "      <td>BR</td>\n",
              "      <td>-46.293700</td>\n",
              "      <td>-23.975947</td>\n",
              "    </tr>\n",
              "    <tr>\n",
              "      <th>5</th>\n",
              "      <td>2020-03-27 22:59:12</td>\n",
              "      <td>O Papa Francisco rezando sozinho na imensa pra...</td>\n",
              "      <td>0</td>\n",
              "      <td>pt</td>\n",
              "      <td>Vatican City</td>\n",
              "      <td>Vatican City</td>\n",
              "      <td>VA</td>\n",
              "      <td>12.457018</td>\n",
              "      <td>41.902473</td>\n",
              "    </tr>\n",
              "    <tr>\n",
              "      <th>6</th>\n",
              "      <td>2020-05-25 10:39:40</td>\n",
              "      <td>Estudo randomizado com remdesivir para o trata...</td>\n",
              "      <td>0</td>\n",
              "      <td>pt</td>\n",
              "      <td>Kingston</td>\n",
              "      <td>Canada</td>\n",
              "      <td>CA</td>\n",
              "      <td>-76.482852</td>\n",
              "      <td>44.232424</td>\n",
              "    </tr>\n",
              "    <tr>\n",
              "      <th>7</th>\n",
              "      <td>2020-03-22 19:12:37</td>\n",
              "      <td>Memórias do cárcere. Hoje deu até pra treinar ...</td>\n",
              "      <td>0</td>\n",
              "      <td>pt</td>\n",
              "      <td>Rio de Janeiro</td>\n",
              "      <td>Brazil</td>\n",
              "      <td>BR</td>\n",
              "      <td>-43.273900</td>\n",
              "      <td>-22.961900</td>\n",
              "    </tr>\n",
              "    <tr>\n",
              "      <th>8</th>\n",
              "      <td>2020-04-17 10:37:04</td>\n",
              "      <td>Bélgica ultrapassa barreira das 5.000 mortes p...</td>\n",
              "      <td>0</td>\n",
              "      <td>pt</td>\n",
              "      <td>Lisbon</td>\n",
              "      <td>Portugal</td>\n",
              "      <td>PT</td>\n",
              "      <td>-9.099043</td>\n",
              "      <td>38.747518</td>\n",
              "    </tr>\n",
              "    <tr>\n",
              "      <th>9</th>\n",
              "      <td>2020-04-14 11:57:33</td>\n",
              "      <td>Covid-19 | Ninguém paga água no concelho - Até...</td>\n",
              "      <td>0</td>\n",
              "      <td>pt</td>\n",
              "      <td>Montalegre</td>\n",
              "      <td>Portugal</td>\n",
              "      <td>PT</td>\n",
              "      <td>-7.791839</td>\n",
              "      <td>41.823221</td>\n",
              "    </tr>\n",
              "    <tr>\n",
              "      <th>10</th>\n",
              "      <td>2020-03-26 20:57:34</td>\n",
              "      <td>Mais de 23 mil mortes e 505 mil infeções em to...</td>\n",
              "      <td>2</td>\n",
              "      <td>pt</td>\n",
              "      <td>Lisbon</td>\n",
              "      <td>Portugal</td>\n",
              "      <td>PT</td>\n",
              "      <td>-9.099043</td>\n",
              "      <td>38.747518</td>\n",
              "    </tr>\n",
              "    <tr>\n",
              "      <th>18</th>\n",
              "      <td>2020-03-19 18:45:05</td>\n",
              "      <td>Quarta morte por Covid-19 em Portugal. Primeir...</td>\n",
              "      <td>4</td>\n",
              "      <td>pt</td>\n",
              "      <td>Lisbon</td>\n",
              "      <td>Portugal</td>\n",
              "      <td>PT</td>\n",
              "      <td>-9.099043</td>\n",
              "      <td>38.747518</td>\n",
              "    </tr>\n",
              "    <tr>\n",
              "      <th>55</th>\n",
              "      <td>2020-03-18 03:22:12</td>\n",
              "      <td>Distânciamento social pode salvar os avos, os ...</td>\n",
              "      <td>0</td>\n",
              "      <td>pt</td>\n",
              "      <td>Miami</td>\n",
              "      <td>United States</td>\n",
              "      <td>US</td>\n",
              "      <td>-80.192000</td>\n",
              "      <td>25.775200</td>\n",
              "    </tr>\n",
              "    <tr>\n",
              "      <th>58</th>\n",
              "      <td>2020-04-05 08:16:17</td>\n",
              "      <td>#dirumahaja #corona #covid19 #ponorogo @ Ponor...</td>\n",
              "      <td>0</td>\n",
              "      <td>eu</td>\n",
              "      <td>Ponorogo</td>\n",
              "      <td>Indonesia</td>\n",
              "      <td>ID</td>\n",
              "      <td>111.466700</td>\n",
              "      <td>-7.864919</td>\n",
              "    </tr>\n",
              "    <tr>\n",
              "      <th>71</th>\n",
              "      <td>2020-03-27 02:07:47</td>\n",
              "      <td>Nos vemos uma ou duas vezes por ano, quando dá...</td>\n",
              "      <td>0</td>\n",
              "      <td>pt</td>\n",
              "      <td>Scott Lake</td>\n",
              "      <td>United States</td>\n",
              "      <td>US</td>\n",
              "      <td>-80.237185</td>\n",
              "      <td>25.957486</td>\n",
              "    </tr>\n",
              "    <tr>\n",
              "      <th>72</th>\n",
              "      <td>2020-03-19 20:58:11</td>\n",
              "      <td>🥴🤣😭☠️ #corona #covid_19 #socialdistancing #nof...</td>\n",
              "      <td>0</td>\n",
              "      <td>pt</td>\n",
              "      <td>Colorado Springs</td>\n",
              "      <td>United States</td>\n",
              "      <td>US</td>\n",
              "      <td>-104.820700</td>\n",
              "      <td>38.830100</td>\n",
              "    </tr>\n",
              "    <tr>\n",
              "      <th>75</th>\n",
              "      <td>2020-05-22 21:44:49</td>\n",
              "      <td>A cidade de Nova York, nos Estados Unidos, vai...</td>\n",
              "      <td>0</td>\n",
              "      <td>pt</td>\n",
              "      <td>Los Angeles</td>\n",
              "      <td>United States</td>\n",
              "      <td>US</td>\n",
              "      <td>-118.244500</td>\n",
              "      <td>34.056400</td>\n",
              "    </tr>\n",
              "    <tr>\n",
              "      <th>85</th>\n",
              "      <td>2020-03-16 23:39:06</td>\n",
              "      <td>Coisas incríveis que estão acontecendo nas var...</td>\n",
              "      <td>0</td>\n",
              "      <td>pt</td>\n",
              "      <td>Barcelona</td>\n",
              "      <td>Spain</td>\n",
              "      <td>ES</td>\n",
              "      <td>2.168300</td>\n",
              "      <td>41.389400</td>\n",
              "    </tr>\n",
              "    <tr>\n",
              "      <th>86</th>\n",
              "      <td>2020-03-19 20:45:14</td>\n",
              "      <td>As pesquisas não param! 💻 A equipe do Lab404 s...</td>\n",
              "      <td>1</td>\n",
              "      <td>pt</td>\n",
              "      <td>Melbourne</td>\n",
              "      <td>Australia</td>\n",
              "      <td>AU</td>\n",
              "      <td>144.960154</td>\n",
              "      <td>-37.818769</td>\n",
              "    </tr>\n",
              "    <tr>\n",
              "      <th>94</th>\n",
              "      <td>2020-03-13 20:22:07</td>\n",
              "      <td>Pandemia in a nutshell: sexta-feira, 13 do trê...</td>\n",
              "      <td>0</td>\n",
              "      <td>pt</td>\n",
              "      <td>Venustiano Carranza</td>\n",
              "      <td>Mexico</td>\n",
              "      <td>MX</td>\n",
              "      <td>-99.082084</td>\n",
              "      <td>19.433873</td>\n",
              "    </tr>\n",
              "    <tr>\n",
              "      <th>101</th>\n",
              "      <td>2020-03-03 00:43:28</td>\n",
              "      <td>A Intelprise alerta os folioes pos-carnavalesc...</td>\n",
              "      <td>0</td>\n",
              "      <td>pt</td>\n",
              "      <td>North Miami Beach</td>\n",
              "      <td>United States</td>\n",
              "      <td>US</td>\n",
              "      <td>-80.163740</td>\n",
              "      <td>25.946560</td>\n",
              "    </tr>\n",
              "    <tr>\n",
              "      <th>103</th>\n",
              "      <td>2020-04-05 15:39:44</td>\n",
              "      <td>Ensinando ele a jogar #parchis e ja ti apanhan...</td>\n",
              "      <td>0</td>\n",
              "      <td>pt</td>\n",
              "      <td>Valencia</td>\n",
              "      <td>Spain</td>\n",
              "      <td>ES</td>\n",
              "      <td>-0.377000</td>\n",
              "      <td>39.464800</td>\n",
              "    </tr>\n",
              "    <tr>\n",
              "      <th>104</th>\n",
              "      <td>2020-04-04 19:21:46</td>\n",
              "      <td>#SOSMoira @sosmoira https://t.co/rS6B2Pvmmq #c...</td>\n",
              "      <td>0</td>\n",
              "      <td>nl</td>\n",
              "      <td>Utrecht</td>\n",
              "      <td>The Netherlands</td>\n",
              "      <td>NL</td>\n",
              "      <td>5.106800</td>\n",
              "      <td>52.087400</td>\n",
              "    </tr>\n",
              "    <tr>\n",
              "      <th>162</th>\n",
              "      <td>2020-03-13 15:31:19</td>\n",
              "      <td>Vamos todos colaborar 🤜🤛 #covid19 #coronavirus...</td>\n",
              "      <td>0</td>\n",
              "      <td>es</td>\n",
              "      <td>Samedan</td>\n",
              "      <td>Switzerland</td>\n",
              "      <td>CH</td>\n",
              "      <td>9.873100</td>\n",
              "      <td>46.536070</td>\n",
              "    </tr>\n",
              "    <tr>\n",
              "      <th>167</th>\n",
              "      <td>2020-03-27 12:41:53</td>\n",
              "      <td>6° dia de Lock Down lvl4: Hoje eu saí pra comp...</td>\n",
              "      <td>0</td>\n",
              "      <td>pt</td>\n",
              "      <td>Auckland</td>\n",
              "      <td>New Zealand</td>\n",
              "      <td>NZ</td>\n",
              "      <td>174.765000</td>\n",
              "      <td>-36.847000</td>\n",
              "    </tr>\n",
              "    <tr>\n",
              "      <th>170</th>\n",
              "      <td>2020-03-29 18:47:43</td>\n",
              "      <td>#covid19 #lift #stop @ Curaçao https://t.co/e7...</td>\n",
              "      <td>0</td>\n",
              "      <td>pt</td>\n",
              "      <td>Curaçao</td>\n",
              "      <td>Curaçao</td>\n",
              "      <td>CW</td>\n",
              "      <td>-69.000000</td>\n",
              "      <td>12.183333</td>\n",
              "    </tr>\n",
              "    <tr>\n",
              "      <th>178</th>\n",
              "      <td>2020-05-23 21:42:57</td>\n",
              "      <td>Como não passei vergonha suficiente em 2018 co...</td>\n",
              "      <td>0</td>\n",
              "      <td>pt</td>\n",
              "      <td>Milan</td>\n",
              "      <td>Italy</td>\n",
              "      <td>IT</td>\n",
              "      <td>9.189700</td>\n",
              "      <td>45.464300</td>\n",
              "    </tr>\n",
              "    <tr>\n",
              "      <th>181</th>\n",
              "      <td>2020-04-07 17:59:58</td>\n",
              "      <td>#lockdown #latestpic @ Delhi, India https://t....</td>\n",
              "      <td>0</td>\n",
              "      <td>pt</td>\n",
              "      <td>New Delhi</td>\n",
              "      <td>India</td>\n",
              "      <td>IN</td>\n",
              "      <td>77.219672</td>\n",
              "      <td>28.631747</td>\n",
              "    </tr>\n",
              "    <tr>\n",
              "      <th>212</th>\n",
              "      <td>2020-04-16 04:11:02</td>\n",
              "      <td>Covid-19 o el desvelador silente https://t.co/...</td>\n",
              "      <td>0</td>\n",
              "      <td>es</td>\n",
              "      <td>anto Domingo de Guzmán</td>\n",
              "      <td>Dominican Republic</td>\n",
              "      <td>DO</td>\n",
              "      <td>-69.948508</td>\n",
              "      <td>18.459688</td>\n",
              "    </tr>\n",
              "    <tr>\n",
              "      <th>251</th>\n",
              "      <td>2020-03-26 22:54:31</td>\n",
              "      <td>🤐 #coronavirus #covid19 @ Toronto, Ontario htt...</td>\n",
              "      <td>0</td>\n",
              "      <td>pt</td>\n",
              "      <td>Toronto</td>\n",
              "      <td>Canada</td>\n",
              "      <td>CA</td>\n",
              "      <td>-79.387200</td>\n",
              "      <td>43.648000</td>\n",
              "    </tr>\n",
              "    <tr>\n",
              "      <th>262</th>\n",
              "      <td>2020-03-30 14:38:35</td>\n",
              "      <td>#iess #covid19 #coronavirus #er #pandemic #qua...</td>\n",
              "      <td>0</td>\n",
              "      <td>pt</td>\n",
              "      <td>Salinas</td>\n",
              "      <td>Ecuador</td>\n",
              "      <td>EC</td>\n",
              "      <td>-80.981046</td>\n",
              "      <td>-2.198850</td>\n",
              "    </tr>\n",
              "    <tr>\n",
              "      <th>354</th>\n",
              "      <td>2020-02-21 10:34:40</td>\n",
              "      <td>Australia’s first dedicated e-sports bar @ GG ...</td>\n",
              "      <td>0</td>\n",
              "      <td>en</td>\n",
              "      <td>Melbourne</td>\n",
              "      <td>Australia</td>\n",
              "      <td>AU</td>\n",
              "      <td>144.961030</td>\n",
              "      <td>-37.816360</td>\n",
              "    </tr>\n",
              "    <tr>\n",
              "      <th>356</th>\n",
              "      <td>2020-02-04 07:01:41</td>\n",
              "      <td>A China concluiu em 10 DIAS um hospital com ma...</td>\n",
              "      <td>0</td>\n",
              "      <td>pt</td>\n",
              "      <td>Gansu</td>\n",
              "      <td>People's Republic of China</td>\n",
              "      <td>CN</td>\n",
              "      <td>103.000000</td>\n",
              "      <td>35.000000</td>\n",
              "    </tr>\n",
              "    <tr>\n",
              "      <th>386</th>\n",
              "      <td>2020-04-05 22:59:33</td>\n",
              "      <td>#selfisolation #quarantine #covid19 #coronavir...</td>\n",
              "      <td>2</td>\n",
              "      <td>pt</td>\n",
              "      <td>Toronto</td>\n",
              "      <td>Canada</td>\n",
              "      <td>CA</td>\n",
              "      <td>-79.387200</td>\n",
              "      <td>43.648000</td>\n",
              "    </tr>\n",
              "    <tr>\n",
              "      <th>399</th>\n",
              "      <td>2020-03-19 12:30:16</td>\n",
              "      <td>Meu #tbt de isolamento social 🏕🌵 #namibia #afr...</td>\n",
              "      <td>0</td>\n",
              "      <td>pt</td>\n",
              "      <td>Namibia</td>\n",
              "      <td>Namibia</td>\n",
              "      <td>NaN</td>\n",
              "      <td>17.000000</td>\n",
              "      <td>-23.000000</td>\n",
              "    </tr>\n",
              "    <tr>\n",
              "      <th>401</th>\n",
              "      <td>2020-03-12 15:28:51</td>\n",
              "      <td>#TBT para um dia de outono em Paris, em uma ép...</td>\n",
              "      <td>0</td>\n",
              "      <td>pt</td>\n",
              "      <td>Paris</td>\n",
              "      <td>France</td>\n",
              "      <td>FR</td>\n",
              "      <td>2.349200</td>\n",
              "      <td>48.857300</td>\n",
              "    </tr>\n",
              "    <tr>\n",
              "      <th>412</th>\n",
              "      <td>2020-04-13 08:56:24</td>\n",
              "      <td>#prevenzione durante il #coronavirus #covid19 ...</td>\n",
              "      <td>0</td>\n",
              "      <td>it</td>\n",
              "      <td>Rome</td>\n",
              "      <td>Italy</td>\n",
              "      <td>IT</td>\n",
              "      <td>12.500000</td>\n",
              "      <td>41.900000</td>\n",
              "    </tr>\n",
              "    <tr>\n",
              "      <th>420</th>\n",
              "      <td>2020-03-18 21:39:23</td>\n",
              "      <td>#covid_19 #humble #humanity #bethesolutionnott...</td>\n",
              "      <td>0</td>\n",
              "      <td>pt</td>\n",
              "      <td>Toronto</td>\n",
              "      <td>Canada</td>\n",
              "      <td>CA</td>\n",
              "      <td>-79.387200</td>\n",
              "      <td>43.648000</td>\n",
              "    </tr>\n",
              "    <tr>\n",
              "      <th>424</th>\n",
              "      <td>2020-04-15 20:14:31</td>\n",
              "      <td>Oieeeeee , tudo bem com vocês ?! Durante essa ...</td>\n",
              "      <td>0</td>\n",
              "      <td>pt</td>\n",
              "      <td>Lyon</td>\n",
              "      <td>France</td>\n",
              "      <td>FR</td>\n",
              "      <td>4.842200</td>\n",
              "      <td>45.759700</td>\n",
              "    </tr>\n",
              "    <tr>\n",
              "      <th>453</th>\n",
              "      <td>2020-03-13 21:02:00</td>\n",
              "      <td>#CANADA #covid_19 #covıd19 #coronavirus #truth...</td>\n",
              "      <td>0</td>\n",
              "      <td>pt</td>\n",
              "      <td>Toronto</td>\n",
              "      <td>Canada</td>\n",
              "      <td>CA</td>\n",
              "      <td>-79.387200</td>\n",
              "      <td>43.648000</td>\n",
              "    </tr>\n",
              "    <tr>\n",
              "      <th>454</th>\n",
              "      <td>2020-04-11 06:25:15</td>\n",
              "      <td>A tranquilidade de quem aderiu cedo ao lockdow...</td>\n",
              "      <td>0</td>\n",
              "      <td>pt</td>\n",
              "      <td>Auckland</td>\n",
              "      <td>New Zealand</td>\n",
              "      <td>NZ</td>\n",
              "      <td>174.765000</td>\n",
              "      <td>-36.847000</td>\n",
              "    </tr>\n",
              "    <tr>\n",
              "      <th>456</th>\n",
              "      <td>2020-04-17 05:39:44</td>\n",
              "      <td>O nosso maior valor é a vida. Salve a ti e o m...</td>\n",
              "      <td>0</td>\n",
              "      <td>pt</td>\n",
              "      <td>Republic of Mozambique</td>\n",
              "      <td>Republic of Mozambique</td>\n",
              "      <td>MZ</td>\n",
              "      <td>38.999700</td>\n",
              "      <td>-13.125600</td>\n",
              "    </tr>\n",
              "    <tr>\n",
              "      <th>479</th>\n",
              "      <td>2020-04-03 13:41:56</td>\n",
              "      <td>#covid #covidmemes #covidkindness #covid2020 #...</td>\n",
              "      <td>0</td>\n",
              "      <td>ca</td>\n",
              "      <td>Reus</td>\n",
              "      <td>Spain</td>\n",
              "      <td>ES</td>\n",
              "      <td>1.108359</td>\n",
              "      <td>41.155124</td>\n",
              "    </tr>\n",
              "    <tr>\n",
              "      <th>490</th>\n",
              "      <td>2020-04-16 19:29:12</td>\n",
              "      <td>Alguém disse coxinha?! #ChelseaExpress #Angelo...</td>\n",
              "      <td>1</td>\n",
              "      <td>pt</td>\n",
              "      <td>City of London</td>\n",
              "      <td>United Kingdom</td>\n",
              "      <td>GB</td>\n",
              "      <td>-0.109400</td>\n",
              "      <td>51.514100</td>\n",
              "    </tr>\n",
              "  </tbody>\n",
              "</table>\n",
              "</div>"
            ],
            "text/plain": [
              "                    data  ...  longitude\n",
              "0    2020-05-23 00:21:14  ... -22.522600\n",
              "1    2020-03-22 22:57:51  ... -23.606067\n",
              "2    2020-04-14 00:11:33  ...  38.747518\n",
              "3    2020-05-25 20:45:43  ... -23.550000\n",
              "4    2020-04-15 10:34:39  ... -23.975947\n",
              "5    2020-03-27 22:59:12  ...  41.902473\n",
              "6    2020-05-25 10:39:40  ...  44.232424\n",
              "7    2020-03-22 19:12:37  ... -22.961900\n",
              "8    2020-04-17 10:37:04  ...  38.747518\n",
              "9    2020-04-14 11:57:33  ...  41.823221\n",
              "10   2020-03-26 20:57:34  ...  38.747518\n",
              "18   2020-03-19 18:45:05  ...  38.747518\n",
              "55   2020-03-18 03:22:12  ...  25.775200\n",
              "58   2020-04-05 08:16:17  ...  -7.864919\n",
              "71   2020-03-27 02:07:47  ...  25.957486\n",
              "72   2020-03-19 20:58:11  ...  38.830100\n",
              "75   2020-05-22 21:44:49  ...  34.056400\n",
              "85   2020-03-16 23:39:06  ...  41.389400\n",
              "86   2020-03-19 20:45:14  ... -37.818769\n",
              "94   2020-03-13 20:22:07  ...  19.433873\n",
              "101  2020-03-03 00:43:28  ...  25.946560\n",
              "103  2020-04-05 15:39:44  ...  39.464800\n",
              "104  2020-04-04 19:21:46  ...  52.087400\n",
              "162  2020-03-13 15:31:19  ...  46.536070\n",
              "167  2020-03-27 12:41:53  ... -36.847000\n",
              "170  2020-03-29 18:47:43  ...  12.183333\n",
              "178  2020-05-23 21:42:57  ...  45.464300\n",
              "181  2020-04-07 17:59:58  ...  28.631747\n",
              "212  2020-04-16 04:11:02  ...  18.459688\n",
              "251  2020-03-26 22:54:31  ...  43.648000\n",
              "262  2020-03-30 14:38:35  ...  -2.198850\n",
              "354  2020-02-21 10:34:40  ... -37.816360\n",
              "356  2020-02-04 07:01:41  ...  35.000000\n",
              "386  2020-04-05 22:59:33  ...  43.648000\n",
              "399  2020-03-19 12:30:16  ... -23.000000\n",
              "401  2020-03-12 15:28:51  ...  48.857300\n",
              "412  2020-04-13 08:56:24  ...  41.900000\n",
              "420  2020-03-18 21:39:23  ...  43.648000\n",
              "424  2020-04-15 20:14:31  ...  45.759700\n",
              "453  2020-03-13 21:02:00  ...  43.648000\n",
              "454  2020-04-11 06:25:15  ... -36.847000\n",
              "456  2020-04-17 05:39:44  ... -13.125600\n",
              "479  2020-04-03 13:41:56  ...  41.155124\n",
              "490  2020-04-16 19:29:12  ...  51.514100\n",
              "\n",
              "[44 rows x 9 columns]"
            ]
          },
          "metadata": {
            "tags": []
          },
          "execution_count": 117
        }
      ]
    },
    {
      "cell_type": "code",
      "metadata": {
        "id": "6xsxOoFf2Aqu",
        "colab_type": "code",
        "colab": {
          "base_uri": "https://localhost:8080/",
          "height": 791
        },
        "outputId": "f76922a3-c201-43e4-e2fd-fa9a13bf23ba"
      },
      "source": [
        "dfCovid.groupby('sigla').describe()"
      ],
      "execution_count": 118,
      "outputs": [
        {
          "output_type": "execute_result",
          "data": {
            "text/html": [
              "<div>\n",
              "<style scoped>\n",
              "    .dataframe tbody tr th:only-of-type {\n",
              "        vertical-align: middle;\n",
              "    }\n",
              "\n",
              "    .dataframe tbody tr th {\n",
              "        vertical-align: top;\n",
              "    }\n",
              "\n",
              "    .dataframe thead tr th {\n",
              "        text-align: left;\n",
              "    }\n",
              "\n",
              "    .dataframe thead tr:last-of-type th {\n",
              "        text-align: right;\n",
              "    }\n",
              "</style>\n",
              "<table border=\"1\" class=\"dataframe\">\n",
              "  <thead>\n",
              "    <tr>\n",
              "      <th></th>\n",
              "      <th colspan=\"8\" halign=\"left\">retweet</th>\n",
              "      <th colspan=\"8\" halign=\"left\">latitude</th>\n",
              "      <th colspan=\"8\" halign=\"left\">longitude</th>\n",
              "    </tr>\n",
              "    <tr>\n",
              "      <th></th>\n",
              "      <th>count</th>\n",
              "      <th>mean</th>\n",
              "      <th>std</th>\n",
              "      <th>min</th>\n",
              "      <th>25%</th>\n",
              "      <th>50%</th>\n",
              "      <th>75%</th>\n",
              "      <th>max</th>\n",
              "      <th>count</th>\n",
              "      <th>mean</th>\n",
              "      <th>std</th>\n",
              "      <th>min</th>\n",
              "      <th>25%</th>\n",
              "      <th>50%</th>\n",
              "      <th>75%</th>\n",
              "      <th>max</th>\n",
              "      <th>count</th>\n",
              "      <th>mean</th>\n",
              "      <th>std</th>\n",
              "      <th>min</th>\n",
              "      <th>25%</th>\n",
              "      <th>50%</th>\n",
              "      <th>75%</th>\n",
              "      <th>max</th>\n",
              "    </tr>\n",
              "    <tr>\n",
              "      <th>sigla</th>\n",
              "      <th></th>\n",
              "      <th></th>\n",
              "      <th></th>\n",
              "      <th></th>\n",
              "      <th></th>\n",
              "      <th></th>\n",
              "      <th></th>\n",
              "      <th></th>\n",
              "      <th></th>\n",
              "      <th></th>\n",
              "      <th></th>\n",
              "      <th></th>\n",
              "      <th></th>\n",
              "      <th></th>\n",
              "      <th></th>\n",
              "      <th></th>\n",
              "      <th></th>\n",
              "      <th></th>\n",
              "      <th></th>\n",
              "      <th></th>\n",
              "      <th></th>\n",
              "      <th></th>\n",
              "      <th></th>\n",
              "      <th></th>\n",
              "    </tr>\n",
              "  </thead>\n",
              "  <tbody>\n",
              "    <tr>\n",
              "      <th>AU</th>\n",
              "      <td>2.0</td>\n",
              "      <td>0.500000</td>\n",
              "      <td>0.707107</td>\n",
              "      <td>0.0</td>\n",
              "      <td>0.25</td>\n",
              "      <td>0.5</td>\n",
              "      <td>0.75</td>\n",
              "      <td>1.0</td>\n",
              "      <td>2.0</td>\n",
              "      <td>144.960592</td>\n",
              "      <td>0.000619</td>\n",
              "      <td>144.960154</td>\n",
              "      <td>144.960373</td>\n",
              "      <td>144.960592</td>\n",
              "      <td>144.960811</td>\n",
              "      <td>144.961030</td>\n",
              "      <td>2.0</td>\n",
              "      <td>-37.817565</td>\n",
              "      <td>0.001704</td>\n",
              "      <td>-37.818769</td>\n",
              "      <td>-37.818167</td>\n",
              "      <td>-37.817565</td>\n",
              "      <td>-37.816962</td>\n",
              "      <td>-37.816360</td>\n",
              "    </tr>\n",
              "    <tr>\n",
              "      <th>BR</th>\n",
              "      <td>392.0</td>\n",
              "      <td>0.102041</td>\n",
              "      <td>0.397943</td>\n",
              "      <td>0.0</td>\n",
              "      <td>0.00</td>\n",
              "      <td>0.0</td>\n",
              "      <td>0.00</td>\n",
              "      <td>3.0</td>\n",
              "      <td>392.0</td>\n",
              "      <td>-44.820629</td>\n",
              "      <td>6.104673</td>\n",
              "      <td>-67.859657</td>\n",
              "      <td>-47.900000</td>\n",
              "      <td>-46.417176</td>\n",
              "      <td>-39.672480</td>\n",
              "      <td>-34.827386</td>\n",
              "      <td>392.0</td>\n",
              "      <td>-17.804981</td>\n",
              "      <td>7.596866</td>\n",
              "      <td>-30.057708</td>\n",
              "      <td>-23.550000</td>\n",
              "      <td>-21.019905</td>\n",
              "      <td>-10.748788</td>\n",
              "      <td>-1.451100</td>\n",
              "    </tr>\n",
              "    <tr>\n",
              "      <th>CA</th>\n",
              "      <td>6.0</td>\n",
              "      <td>0.333333</td>\n",
              "      <td>0.816497</td>\n",
              "      <td>0.0</td>\n",
              "      <td>0.00</td>\n",
              "      <td>0.0</td>\n",
              "      <td>0.00</td>\n",
              "      <td>2.0</td>\n",
              "      <td>6.0</td>\n",
              "      <td>-78.903142</td>\n",
              "      <td>1.185695</td>\n",
              "      <td>-79.387200</td>\n",
              "      <td>-79.387200</td>\n",
              "      <td>-79.387200</td>\n",
              "      <td>-79.387200</td>\n",
              "      <td>-76.482852</td>\n",
              "      <td>6.0</td>\n",
              "      <td>43.745404</td>\n",
              "      <td>0.238590</td>\n",
              "      <td>43.648000</td>\n",
              "      <td>43.648000</td>\n",
              "      <td>43.648000</td>\n",
              "      <td>43.648000</td>\n",
              "      <td>44.232424</td>\n",
              "    </tr>\n",
              "    <tr>\n",
              "      <th>CH</th>\n",
              "      <td>1.0</td>\n",
              "      <td>0.000000</td>\n",
              "      <td>NaN</td>\n",
              "      <td>0.0</td>\n",
              "      <td>0.00</td>\n",
              "      <td>0.0</td>\n",
              "      <td>0.00</td>\n",
              "      <td>0.0</td>\n",
              "      <td>1.0</td>\n",
              "      <td>9.873100</td>\n",
              "      <td>NaN</td>\n",
              "      <td>9.873100</td>\n",
              "      <td>9.873100</td>\n",
              "      <td>9.873100</td>\n",
              "      <td>9.873100</td>\n",
              "      <td>9.873100</td>\n",
              "      <td>1.0</td>\n",
              "      <td>46.536070</td>\n",
              "      <td>NaN</td>\n",
              "      <td>46.536070</td>\n",
              "      <td>46.536070</td>\n",
              "      <td>46.536070</td>\n",
              "      <td>46.536070</td>\n",
              "      <td>46.536070</td>\n",
              "    </tr>\n",
              "    <tr>\n",
              "      <th>CN</th>\n",
              "      <td>1.0</td>\n",
              "      <td>0.000000</td>\n",
              "      <td>NaN</td>\n",
              "      <td>0.0</td>\n",
              "      <td>0.00</td>\n",
              "      <td>0.0</td>\n",
              "      <td>0.00</td>\n",
              "      <td>0.0</td>\n",
              "      <td>1.0</td>\n",
              "      <td>103.000000</td>\n",
              "      <td>NaN</td>\n",
              "      <td>103.000000</td>\n",
              "      <td>103.000000</td>\n",
              "      <td>103.000000</td>\n",
              "      <td>103.000000</td>\n",
              "      <td>103.000000</td>\n",
              "      <td>1.0</td>\n",
              "      <td>35.000000</td>\n",
              "      <td>NaN</td>\n",
              "      <td>35.000000</td>\n",
              "      <td>35.000000</td>\n",
              "      <td>35.000000</td>\n",
              "      <td>35.000000</td>\n",
              "      <td>35.000000</td>\n",
              "    </tr>\n",
              "    <tr>\n",
              "      <th>CW</th>\n",
              "      <td>1.0</td>\n",
              "      <td>0.000000</td>\n",
              "      <td>NaN</td>\n",
              "      <td>0.0</td>\n",
              "      <td>0.00</td>\n",
              "      <td>0.0</td>\n",
              "      <td>0.00</td>\n",
              "      <td>0.0</td>\n",
              "      <td>1.0</td>\n",
              "      <td>-69.000000</td>\n",
              "      <td>NaN</td>\n",
              "      <td>-69.000000</td>\n",
              "      <td>-69.000000</td>\n",
              "      <td>-69.000000</td>\n",
              "      <td>-69.000000</td>\n",
              "      <td>-69.000000</td>\n",
              "      <td>1.0</td>\n",
              "      <td>12.183333</td>\n",
              "      <td>NaN</td>\n",
              "      <td>12.183333</td>\n",
              "      <td>12.183333</td>\n",
              "      <td>12.183333</td>\n",
              "      <td>12.183333</td>\n",
              "      <td>12.183333</td>\n",
              "    </tr>\n",
              "    <tr>\n",
              "      <th>DO</th>\n",
              "      <td>1.0</td>\n",
              "      <td>0.000000</td>\n",
              "      <td>NaN</td>\n",
              "      <td>0.0</td>\n",
              "      <td>0.00</td>\n",
              "      <td>0.0</td>\n",
              "      <td>0.00</td>\n",
              "      <td>0.0</td>\n",
              "      <td>1.0</td>\n",
              "      <td>-69.948508</td>\n",
              "      <td>NaN</td>\n",
              "      <td>-69.948508</td>\n",
              "      <td>-69.948508</td>\n",
              "      <td>-69.948508</td>\n",
              "      <td>-69.948508</td>\n",
              "      <td>-69.948508</td>\n",
              "      <td>1.0</td>\n",
              "      <td>18.459688</td>\n",
              "      <td>NaN</td>\n",
              "      <td>18.459688</td>\n",
              "      <td>18.459688</td>\n",
              "      <td>18.459688</td>\n",
              "      <td>18.459688</td>\n",
              "      <td>18.459688</td>\n",
              "    </tr>\n",
              "    <tr>\n",
              "      <th>EC</th>\n",
              "      <td>1.0</td>\n",
              "      <td>0.000000</td>\n",
              "      <td>NaN</td>\n",
              "      <td>0.0</td>\n",
              "      <td>0.00</td>\n",
              "      <td>0.0</td>\n",
              "      <td>0.00</td>\n",
              "      <td>0.0</td>\n",
              "      <td>1.0</td>\n",
              "      <td>-80.981046</td>\n",
              "      <td>NaN</td>\n",
              "      <td>-80.981046</td>\n",
              "      <td>-80.981046</td>\n",
              "      <td>-80.981046</td>\n",
              "      <td>-80.981046</td>\n",
              "      <td>-80.981046</td>\n",
              "      <td>1.0</td>\n",
              "      <td>-2.198850</td>\n",
              "      <td>NaN</td>\n",
              "      <td>-2.198850</td>\n",
              "      <td>-2.198850</td>\n",
              "      <td>-2.198850</td>\n",
              "      <td>-2.198850</td>\n",
              "      <td>-2.198850</td>\n",
              "    </tr>\n",
              "    <tr>\n",
              "      <th>ES</th>\n",
              "      <td>3.0</td>\n",
              "      <td>0.000000</td>\n",
              "      <td>0.000000</td>\n",
              "      <td>0.0</td>\n",
              "      <td>0.00</td>\n",
              "      <td>0.0</td>\n",
              "      <td>0.00</td>\n",
              "      <td>0.0</td>\n",
              "      <td>3.0</td>\n",
              "      <td>0.966553</td>\n",
              "      <td>1.278562</td>\n",
              "      <td>-0.377000</td>\n",
              "      <td>0.365680</td>\n",
              "      <td>1.108359</td>\n",
              "      <td>1.638329</td>\n",
              "      <td>2.168300</td>\n",
              "      <td>3.0</td>\n",
              "      <td>40.669775</td>\n",
              "      <td>1.050093</td>\n",
              "      <td>39.464800</td>\n",
              "      <td>40.309962</td>\n",
              "      <td>41.155124</td>\n",
              "      <td>41.272262</td>\n",
              "      <td>41.389400</td>\n",
              "    </tr>\n",
              "    <tr>\n",
              "      <th>FR</th>\n",
              "      <td>2.0</td>\n",
              "      <td>0.000000</td>\n",
              "      <td>0.000000</td>\n",
              "      <td>0.0</td>\n",
              "      <td>0.00</td>\n",
              "      <td>0.0</td>\n",
              "      <td>0.00</td>\n",
              "      <td>0.0</td>\n",
              "      <td>2.0</td>\n",
              "      <td>3.595700</td>\n",
              "      <td>1.762817</td>\n",
              "      <td>2.349200</td>\n",
              "      <td>2.972450</td>\n",
              "      <td>3.595700</td>\n",
              "      <td>4.218950</td>\n",
              "      <td>4.842200</td>\n",
              "      <td>2.0</td>\n",
              "      <td>47.308500</td>\n",
              "      <td>2.190334</td>\n",
              "      <td>45.759700</td>\n",
              "      <td>46.534100</td>\n",
              "      <td>47.308500</td>\n",
              "      <td>48.082900</td>\n",
              "      <td>48.857300</td>\n",
              "    </tr>\n",
              "    <tr>\n",
              "      <th>GB</th>\n",
              "      <td>1.0</td>\n",
              "      <td>1.000000</td>\n",
              "      <td>NaN</td>\n",
              "      <td>1.0</td>\n",
              "      <td>1.00</td>\n",
              "      <td>1.0</td>\n",
              "      <td>1.00</td>\n",
              "      <td>1.0</td>\n",
              "      <td>1.0</td>\n",
              "      <td>-0.109400</td>\n",
              "      <td>NaN</td>\n",
              "      <td>-0.109400</td>\n",
              "      <td>-0.109400</td>\n",
              "      <td>-0.109400</td>\n",
              "      <td>-0.109400</td>\n",
              "      <td>-0.109400</td>\n",
              "      <td>1.0</td>\n",
              "      <td>51.514100</td>\n",
              "      <td>NaN</td>\n",
              "      <td>51.514100</td>\n",
              "      <td>51.514100</td>\n",
              "      <td>51.514100</td>\n",
              "      <td>51.514100</td>\n",
              "      <td>51.514100</td>\n",
              "    </tr>\n",
              "    <tr>\n",
              "      <th>ID</th>\n",
              "      <td>1.0</td>\n",
              "      <td>0.000000</td>\n",
              "      <td>NaN</td>\n",
              "      <td>0.0</td>\n",
              "      <td>0.00</td>\n",
              "      <td>0.0</td>\n",
              "      <td>0.00</td>\n",
              "      <td>0.0</td>\n",
              "      <td>1.0</td>\n",
              "      <td>111.466700</td>\n",
              "      <td>NaN</td>\n",
              "      <td>111.466700</td>\n",
              "      <td>111.466700</td>\n",
              "      <td>111.466700</td>\n",
              "      <td>111.466700</td>\n",
              "      <td>111.466700</td>\n",
              "      <td>1.0</td>\n",
              "      <td>-7.864919</td>\n",
              "      <td>NaN</td>\n",
              "      <td>-7.864919</td>\n",
              "      <td>-7.864919</td>\n",
              "      <td>-7.864919</td>\n",
              "      <td>-7.864919</td>\n",
              "      <td>-7.864919</td>\n",
              "    </tr>\n",
              "    <tr>\n",
              "      <th>IN</th>\n",
              "      <td>1.0</td>\n",
              "      <td>0.000000</td>\n",
              "      <td>NaN</td>\n",
              "      <td>0.0</td>\n",
              "      <td>0.00</td>\n",
              "      <td>0.0</td>\n",
              "      <td>0.00</td>\n",
              "      <td>0.0</td>\n",
              "      <td>1.0</td>\n",
              "      <td>77.219672</td>\n",
              "      <td>NaN</td>\n",
              "      <td>77.219672</td>\n",
              "      <td>77.219672</td>\n",
              "      <td>77.219672</td>\n",
              "      <td>77.219672</td>\n",
              "      <td>77.219672</td>\n",
              "      <td>1.0</td>\n",
              "      <td>28.631747</td>\n",
              "      <td>NaN</td>\n",
              "      <td>28.631747</td>\n",
              "      <td>28.631747</td>\n",
              "      <td>28.631747</td>\n",
              "      <td>28.631747</td>\n",
              "      <td>28.631747</td>\n",
              "    </tr>\n",
              "    <tr>\n",
              "      <th>IT</th>\n",
              "      <td>2.0</td>\n",
              "      <td>0.000000</td>\n",
              "      <td>0.000000</td>\n",
              "      <td>0.0</td>\n",
              "      <td>0.00</td>\n",
              "      <td>0.0</td>\n",
              "      <td>0.00</td>\n",
              "      <td>0.0</td>\n",
              "      <td>2.0</td>\n",
              "      <td>10.844850</td>\n",
              "      <td>2.340736</td>\n",
              "      <td>9.189700</td>\n",
              "      <td>10.017275</td>\n",
              "      <td>10.844850</td>\n",
              "      <td>11.672425</td>\n",
              "      <td>12.500000</td>\n",
              "      <td>2.0</td>\n",
              "      <td>43.682150</td>\n",
              "      <td>2.520341</td>\n",
              "      <td>41.900000</td>\n",
              "      <td>42.791075</td>\n",
              "      <td>43.682150</td>\n",
              "      <td>44.573225</td>\n",
              "      <td>45.464300</td>\n",
              "    </tr>\n",
              "    <tr>\n",
              "      <th>MX</th>\n",
              "      <td>1.0</td>\n",
              "      <td>0.000000</td>\n",
              "      <td>NaN</td>\n",
              "      <td>0.0</td>\n",
              "      <td>0.00</td>\n",
              "      <td>0.0</td>\n",
              "      <td>0.00</td>\n",
              "      <td>0.0</td>\n",
              "      <td>1.0</td>\n",
              "      <td>-99.082084</td>\n",
              "      <td>NaN</td>\n",
              "      <td>-99.082084</td>\n",
              "      <td>-99.082084</td>\n",
              "      <td>-99.082084</td>\n",
              "      <td>-99.082084</td>\n",
              "      <td>-99.082084</td>\n",
              "      <td>1.0</td>\n",
              "      <td>19.433873</td>\n",
              "      <td>NaN</td>\n",
              "      <td>19.433873</td>\n",
              "      <td>19.433873</td>\n",
              "      <td>19.433873</td>\n",
              "      <td>19.433873</td>\n",
              "      <td>19.433873</td>\n",
              "    </tr>\n",
              "    <tr>\n",
              "      <th>MZ</th>\n",
              "      <td>1.0</td>\n",
              "      <td>0.000000</td>\n",
              "      <td>NaN</td>\n",
              "      <td>0.0</td>\n",
              "      <td>0.00</td>\n",
              "      <td>0.0</td>\n",
              "      <td>0.00</td>\n",
              "      <td>0.0</td>\n",
              "      <td>1.0</td>\n",
              "      <td>38.999700</td>\n",
              "      <td>NaN</td>\n",
              "      <td>38.999700</td>\n",
              "      <td>38.999700</td>\n",
              "      <td>38.999700</td>\n",
              "      <td>38.999700</td>\n",
              "      <td>38.999700</td>\n",
              "      <td>1.0</td>\n",
              "      <td>-13.125600</td>\n",
              "      <td>NaN</td>\n",
              "      <td>-13.125600</td>\n",
              "      <td>-13.125600</td>\n",
              "      <td>-13.125600</td>\n",
              "      <td>-13.125600</td>\n",
              "      <td>-13.125600</td>\n",
              "    </tr>\n",
              "    <tr>\n",
              "      <th>NL</th>\n",
              "      <td>1.0</td>\n",
              "      <td>0.000000</td>\n",
              "      <td>NaN</td>\n",
              "      <td>0.0</td>\n",
              "      <td>0.00</td>\n",
              "      <td>0.0</td>\n",
              "      <td>0.00</td>\n",
              "      <td>0.0</td>\n",
              "      <td>1.0</td>\n",
              "      <td>5.106800</td>\n",
              "      <td>NaN</td>\n",
              "      <td>5.106800</td>\n",
              "      <td>5.106800</td>\n",
              "      <td>5.106800</td>\n",
              "      <td>5.106800</td>\n",
              "      <td>5.106800</td>\n",
              "      <td>1.0</td>\n",
              "      <td>52.087400</td>\n",
              "      <td>NaN</td>\n",
              "      <td>52.087400</td>\n",
              "      <td>52.087400</td>\n",
              "      <td>52.087400</td>\n",
              "      <td>52.087400</td>\n",
              "      <td>52.087400</td>\n",
              "    </tr>\n",
              "    <tr>\n",
              "      <th>NZ</th>\n",
              "      <td>2.0</td>\n",
              "      <td>0.000000</td>\n",
              "      <td>0.000000</td>\n",
              "      <td>0.0</td>\n",
              "      <td>0.00</td>\n",
              "      <td>0.0</td>\n",
              "      <td>0.00</td>\n",
              "      <td>0.0</td>\n",
              "      <td>2.0</td>\n",
              "      <td>174.765000</td>\n",
              "      <td>0.000000</td>\n",
              "      <td>174.765000</td>\n",
              "      <td>174.765000</td>\n",
              "      <td>174.765000</td>\n",
              "      <td>174.765000</td>\n",
              "      <td>174.765000</td>\n",
              "      <td>2.0</td>\n",
              "      <td>-36.847000</td>\n",
              "      <td>0.000000</td>\n",
              "      <td>-36.847000</td>\n",
              "      <td>-36.847000</td>\n",
              "      <td>-36.847000</td>\n",
              "      <td>-36.847000</td>\n",
              "      <td>-36.847000</td>\n",
              "    </tr>\n",
              "    <tr>\n",
              "      <th>PT</th>\n",
              "      <td>67.0</td>\n",
              "      <td>0.582090</td>\n",
              "      <td>0.819262</td>\n",
              "      <td>0.0</td>\n",
              "      <td>0.00</td>\n",
              "      <td>0.0</td>\n",
              "      <td>1.00</td>\n",
              "      <td>4.0</td>\n",
              "      <td>67.0</td>\n",
              "      <td>-9.068312</td>\n",
              "      <td>0.204232</td>\n",
              "      <td>-9.309140</td>\n",
              "      <td>-9.099043</td>\n",
              "      <td>-9.099043</td>\n",
              "      <td>-9.099043</td>\n",
              "      <td>-7.791839</td>\n",
              "      <td>67.0</td>\n",
              "      <td>38.806902</td>\n",
              "      <td>0.413087</td>\n",
              "      <td>38.520957</td>\n",
              "      <td>38.747518</td>\n",
              "      <td>38.747518</td>\n",
              "      <td>38.747518</td>\n",
              "      <td>41.823221</td>\n",
              "    </tr>\n",
              "    <tr>\n",
              "      <th>US</th>\n",
              "      <td>11.0</td>\n",
              "      <td>0.272727</td>\n",
              "      <td>0.646670</td>\n",
              "      <td>0.0</td>\n",
              "      <td>0.00</td>\n",
              "      <td>0.0</td>\n",
              "      <td>0.00</td>\n",
              "      <td>2.0</td>\n",
              "      <td>11.0</td>\n",
              "      <td>-86.054534</td>\n",
              "      <td>13.674294</td>\n",
              "      <td>-118.244500</td>\n",
              "      <td>-86.924581</td>\n",
              "      <td>-80.237185</td>\n",
              "      <td>-80.037056</td>\n",
              "      <td>-72.598119</td>\n",
              "      <td>11.0</td>\n",
              "      <td>34.457433</td>\n",
              "      <td>7.114864</td>\n",
              "      <td>25.775200</td>\n",
              "      <td>26.722843</td>\n",
              "      <td>34.294532</td>\n",
              "      <td>40.323767</td>\n",
              "      <td>44.152532</td>\n",
              "    </tr>\n",
              "    <tr>\n",
              "      <th>VA</th>\n",
              "      <td>1.0</td>\n",
              "      <td>0.000000</td>\n",
              "      <td>NaN</td>\n",
              "      <td>0.0</td>\n",
              "      <td>0.00</td>\n",
              "      <td>0.0</td>\n",
              "      <td>0.00</td>\n",
              "      <td>0.0</td>\n",
              "      <td>1.0</td>\n",
              "      <td>12.457018</td>\n",
              "      <td>NaN</td>\n",
              "      <td>12.457018</td>\n",
              "      <td>12.457018</td>\n",
              "      <td>12.457018</td>\n",
              "      <td>12.457018</td>\n",
              "      <td>12.457018</td>\n",
              "      <td>1.0</td>\n",
              "      <td>41.902473</td>\n",
              "      <td>NaN</td>\n",
              "      <td>41.902473</td>\n",
              "      <td>41.902473</td>\n",
              "      <td>41.902473</td>\n",
              "      <td>41.902473</td>\n",
              "      <td>41.902473</td>\n",
              "    </tr>\n",
              "  </tbody>\n",
              "</table>\n",
              "</div>"
            ],
            "text/plain": [
              "      retweet                      ...  longitude                      \n",
              "        count      mean       std  ...        50%        75%        max\n",
              "sigla                              ...                                 \n",
              "AU        2.0  0.500000  0.707107  ... -37.817565 -37.816962 -37.816360\n",
              "BR      392.0  0.102041  0.397943  ... -21.019905 -10.748788  -1.451100\n",
              "CA        6.0  0.333333  0.816497  ...  43.648000  43.648000  44.232424\n",
              "CH        1.0  0.000000       NaN  ...  46.536070  46.536070  46.536070\n",
              "CN        1.0  0.000000       NaN  ...  35.000000  35.000000  35.000000\n",
              "CW        1.0  0.000000       NaN  ...  12.183333  12.183333  12.183333\n",
              "DO        1.0  0.000000       NaN  ...  18.459688  18.459688  18.459688\n",
              "EC        1.0  0.000000       NaN  ...  -2.198850  -2.198850  -2.198850\n",
              "ES        3.0  0.000000  0.000000  ...  41.155124  41.272262  41.389400\n",
              "FR        2.0  0.000000  0.000000  ...  47.308500  48.082900  48.857300\n",
              "GB        1.0  1.000000       NaN  ...  51.514100  51.514100  51.514100\n",
              "ID        1.0  0.000000       NaN  ...  -7.864919  -7.864919  -7.864919\n",
              "IN        1.0  0.000000       NaN  ...  28.631747  28.631747  28.631747\n",
              "IT        2.0  0.000000  0.000000  ...  43.682150  44.573225  45.464300\n",
              "MX        1.0  0.000000       NaN  ...  19.433873  19.433873  19.433873\n",
              "MZ        1.0  0.000000       NaN  ... -13.125600 -13.125600 -13.125600\n",
              "NL        1.0  0.000000       NaN  ...  52.087400  52.087400  52.087400\n",
              "NZ        2.0  0.000000  0.000000  ... -36.847000 -36.847000 -36.847000\n",
              "PT       67.0  0.582090  0.819262  ...  38.747518  38.747518  41.823221\n",
              "US       11.0  0.272727  0.646670  ...  34.294532  40.323767  44.152532\n",
              "VA        1.0  0.000000       NaN  ...  41.902473  41.902473  41.902473\n",
              "\n",
              "[21 rows x 24 columns]"
            ]
          },
          "metadata": {
            "tags": []
          },
          "execution_count": 118
        }
      ]
    },
    {
      "cell_type": "markdown",
      "metadata": {
        "id": "YQkKEY_O5Y9v",
        "colab_type": "text"
      },
      "source": [
        "Agrupando por um atributo do Data Frame, mas se baseando em outro na exibição."
      ]
    },
    {
      "cell_type": "code",
      "metadata": {
        "id": "VnfYCnoa5hba",
        "colab_type": "code",
        "colab": {
          "base_uri": "https://localhost:8080/",
          "height": 416
        },
        "outputId": "a1088931-f555-476c-ef85-62fa15366cc4"
      },
      "source": [
        "dfCovid.groupby('sigla').retweet.max()"
      ],
      "execution_count": 119,
      "outputs": [
        {
          "output_type": "execute_result",
          "data": {
            "text/plain": [
              "sigla\n",
              "AU    1\n",
              "BR    3\n",
              "CA    2\n",
              "CH    0\n",
              "CN    0\n",
              "CW    0\n",
              "DO    0\n",
              "EC    0\n",
              "ES    0\n",
              "FR    0\n",
              "GB    1\n",
              "ID    0\n",
              "IN    0\n",
              "IT    0\n",
              "MX    0\n",
              "MZ    0\n",
              "NL    0\n",
              "NZ    0\n",
              "PT    4\n",
              "US    2\n",
              "VA    0\n",
              "Name: retweet, dtype: int64"
            ]
          },
          "metadata": {
            "tags": []
          },
          "execution_count": 119
        }
      ]
    },
    {
      "cell_type": "markdown",
      "metadata": {
        "id": "cIiXQARD5gWf",
        "colab_type": "text"
      },
      "source": [
        "**sort_values**\n",
        "\n",
        "Permite ordenar os elementos de um dado atributo do Data Frame. Por default a ordenação é ascendente (caso queira na ordem descendente, parametrize o campo **ascending=False**). \n",
        "Também é possível ordernar por mais de uma campo, basta passar o nome dos atributos como lista."
      ]
    },
    {
      "cell_type": "code",
      "metadata": {
        "id": "mZShc3x-53bL",
        "colab_type": "code",
        "colab": {
          "base_uri": "https://localhost:8080/",
          "height": 424
        },
        "outputId": "2c86dd44-f3f9-4191-817a-7e0f65a9c4fc"
      },
      "source": [
        "dfCovid.sort_values(by='sigla')"
      ],
      "execution_count": 120,
      "outputs": [
        {
          "output_type": "execute_result",
          "data": {
            "text/html": [
              "<div>\n",
              "<style scoped>\n",
              "    .dataframe tbody tr th:only-of-type {\n",
              "        vertical-align: middle;\n",
              "    }\n",
              "\n",
              "    .dataframe tbody tr th {\n",
              "        vertical-align: top;\n",
              "    }\n",
              "\n",
              "    .dataframe thead th {\n",
              "        text-align: right;\n",
              "    }\n",
              "</style>\n",
              "<table border=\"1\" class=\"dataframe\">\n",
              "  <thead>\n",
              "    <tr style=\"text-align: right;\">\n",
              "      <th></th>\n",
              "      <th>data</th>\n",
              "      <th>texto</th>\n",
              "      <th>retweet</th>\n",
              "      <th>idioma</th>\n",
              "      <th>lugar</th>\n",
              "      <th>pais</th>\n",
              "      <th>sigla</th>\n",
              "      <th>latitude</th>\n",
              "      <th>longitude</th>\n",
              "    </tr>\n",
              "  </thead>\n",
              "  <tbody>\n",
              "    <tr>\n",
              "      <th>86</th>\n",
              "      <td>2020-03-19 20:45:14</td>\n",
              "      <td>As pesquisas não param! 💻 A equipe do Lab404 s...</td>\n",
              "      <td>1</td>\n",
              "      <td>pt</td>\n",
              "      <td>Melbourne</td>\n",
              "      <td>Australia</td>\n",
              "      <td>AU</td>\n",
              "      <td>144.960154</td>\n",
              "      <td>-37.818769</td>\n",
              "    </tr>\n",
              "    <tr>\n",
              "      <th>354</th>\n",
              "      <td>2020-02-21 10:34:40</td>\n",
              "      <td>Australia’s first dedicated e-sports bar @ GG ...</td>\n",
              "      <td>0</td>\n",
              "      <td>en</td>\n",
              "      <td>Melbourne</td>\n",
              "      <td>Australia</td>\n",
              "      <td>AU</td>\n",
              "      <td>144.961030</td>\n",
              "      <td>-37.816360</td>\n",
              "    </tr>\n",
              "    <tr>\n",
              "      <th>0</th>\n",
              "      <td>2020-05-23 00:21:14</td>\n",
              "      <td>Para voltar tudo ao normal, você precisa fazer...</td>\n",
              "      <td>0</td>\n",
              "      <td>pt</td>\n",
              "      <td>Rio das Ostras</td>\n",
              "      <td>Brazil</td>\n",
              "      <td>BR</td>\n",
              "      <td>-41.937900</td>\n",
              "      <td>-22.522600</td>\n",
              "    </tr>\n",
              "    <tr>\n",
              "      <th>321</th>\n",
              "      <td>2020-05-31 12:24:15</td>\n",
              "      <td>Sair de casa só naquele estilo! 😎😷😅 #mascara #...</td>\n",
              "      <td>0</td>\n",
              "      <td>pt</td>\n",
              "      <td>Rio Claro</td>\n",
              "      <td>Brazil</td>\n",
              "      <td>BR</td>\n",
              "      <td>-47.550000</td>\n",
              "      <td>-22.400000</td>\n",
              "    </tr>\n",
              "    <tr>\n",
              "      <th>320</th>\n",
              "      <td>2020-04-03 13:24:12</td>\n",
              "      <td>Informação é o melhor remédio contra o Coronav...</td>\n",
              "      <td>0</td>\n",
              "      <td>pt</td>\n",
              "      <td>Londrina</td>\n",
              "      <td>Brazil</td>\n",
              "      <td>BR</td>\n",
              "      <td>-51.150000</td>\n",
              "      <td>-23.300000</td>\n",
              "    </tr>\n",
              "    <tr>\n",
              "      <th>...</th>\n",
              "      <td>...</td>\n",
              "      <td>...</td>\n",
              "      <td>...</td>\n",
              "      <td>...</td>\n",
              "      <td>...</td>\n",
              "      <td>...</td>\n",
              "      <td>...</td>\n",
              "      <td>...</td>\n",
              "      <td>...</td>\n",
              "    </tr>\n",
              "    <tr>\n",
              "      <th>392</th>\n",
              "      <td>2020-05-22 15:37:07</td>\n",
              "      <td>No blog @voandobaixo tem um texto sobre o reto...</td>\n",
              "      <td>2</td>\n",
              "      <td>pt</td>\n",
              "      <td>Darlington</td>\n",
              "      <td>United States</td>\n",
              "      <td>US</td>\n",
              "      <td>-79.910371</td>\n",
              "      <td>34.294532</td>\n",
              "    </tr>\n",
              "    <tr>\n",
              "      <th>123</th>\n",
              "      <td>2020-03-27 23:23:18</td>\n",
              "      <td>A cidade de Nova York parece um campo de guerr...</td>\n",
              "      <td>1</td>\n",
              "      <td>pt</td>\n",
              "      <td>Manhattan</td>\n",
              "      <td>United States</td>\n",
              "      <td>US</td>\n",
              "      <td>-74.006400</td>\n",
              "      <td>40.714200</td>\n",
              "    </tr>\n",
              "    <tr>\n",
              "      <th>203</th>\n",
              "      <td>2020-03-22 17:41:58</td>\n",
              "      <td>#coronavirus #covid19 #covid_19 🦠 😷 #quarantin...</td>\n",
              "      <td>0</td>\n",
              "      <td>it</td>\n",
              "      <td>Montpelier</td>\n",
              "      <td>United States</td>\n",
              "      <td>US</td>\n",
              "      <td>-72.598119</td>\n",
              "      <td>44.152532</td>\n",
              "    </tr>\n",
              "    <tr>\n",
              "      <th>5</th>\n",
              "      <td>2020-03-27 22:59:12</td>\n",
              "      <td>O Papa Francisco rezando sozinho na imensa pra...</td>\n",
              "      <td>0</td>\n",
              "      <td>pt</td>\n",
              "      <td>Vatican City</td>\n",
              "      <td>Vatican City</td>\n",
              "      <td>VA</td>\n",
              "      <td>12.457018</td>\n",
              "      <td>41.902473</td>\n",
              "    </tr>\n",
              "    <tr>\n",
              "      <th>399</th>\n",
              "      <td>2020-03-19 12:30:16</td>\n",
              "      <td>Meu #tbt de isolamento social 🏕🌵 #namibia #afr...</td>\n",
              "      <td>0</td>\n",
              "      <td>pt</td>\n",
              "      <td>Namibia</td>\n",
              "      <td>Namibia</td>\n",
              "      <td>NaN</td>\n",
              "      <td>17.000000</td>\n",
              "      <td>-23.000000</td>\n",
              "    </tr>\n",
              "  </tbody>\n",
              "</table>\n",
              "<p>500 rows × 9 columns</p>\n",
              "</div>"
            ],
            "text/plain": [
              "                    data  ...  longitude\n",
              "86   2020-03-19 20:45:14  ... -37.818769\n",
              "354  2020-02-21 10:34:40  ... -37.816360\n",
              "0    2020-05-23 00:21:14  ... -22.522600\n",
              "321  2020-05-31 12:24:15  ... -22.400000\n",
              "320  2020-04-03 13:24:12  ... -23.300000\n",
              "..                   ...  ...        ...\n",
              "392  2020-05-22 15:37:07  ...  34.294532\n",
              "123  2020-03-27 23:23:18  ...  40.714200\n",
              "203  2020-03-22 17:41:58  ...  44.152532\n",
              "5    2020-03-27 22:59:12  ...  41.902473\n",
              "399  2020-03-19 12:30:16  ... -23.000000\n",
              "\n",
              "[500 rows x 9 columns]"
            ]
          },
          "metadata": {
            "tags": []
          },
          "execution_count": 120
        }
      ]
    },
    {
      "cell_type": "markdown",
      "metadata": {
        "colab_type": "text",
        "id": "6ObMtvO66XB3"
      },
      "source": [
        "**sort_index**\n",
        "\n",
        "Permite ordenar os elementos de um dado atributo do Data Frame se baseando no índice. "
      ]
    },
    {
      "cell_type": "code",
      "metadata": {
        "colab_type": "code",
        "id": "TO31wePj6XB7",
        "colab": {
          "base_uri": "https://localhost:8080/",
          "height": 424
        },
        "outputId": "2c86dd44-f3f9-4191-817a-7e0f65a9c4fc"
      },
      "source": [
        "dfCovid.sort_values(by='sigla')"
      ],
      "execution_count": null,
      "outputs": [
        {
          "output_type": "execute_result",
          "data": {
            "text/html": [
              "<div>\n",
              "<style scoped>\n",
              "    .dataframe tbody tr th:only-of-type {\n",
              "        vertical-align: middle;\n",
              "    }\n",
              "\n",
              "    .dataframe tbody tr th {\n",
              "        vertical-align: top;\n",
              "    }\n",
              "\n",
              "    .dataframe thead th {\n",
              "        text-align: right;\n",
              "    }\n",
              "</style>\n",
              "<table border=\"1\" class=\"dataframe\">\n",
              "  <thead>\n",
              "    <tr style=\"text-align: right;\">\n",
              "      <th></th>\n",
              "      <th>data</th>\n",
              "      <th>texto</th>\n",
              "      <th>retweet</th>\n",
              "      <th>idioma</th>\n",
              "      <th>lugar</th>\n",
              "      <th>pais</th>\n",
              "      <th>sigla</th>\n",
              "      <th>latitude</th>\n",
              "      <th>longitude</th>\n",
              "    </tr>\n",
              "  </thead>\n",
              "  <tbody>\n",
              "    <tr>\n",
              "      <th>86</th>\n",
              "      <td>2020-03-19 20:45:14</td>\n",
              "      <td>As pesquisas não param! 💻 A equipe do Lab404 s...</td>\n",
              "      <td>1</td>\n",
              "      <td>pt</td>\n",
              "      <td>Melbourne</td>\n",
              "      <td>Australia</td>\n",
              "      <td>AU</td>\n",
              "      <td>144.960154</td>\n",
              "      <td>-37.818769</td>\n",
              "    </tr>\n",
              "    <tr>\n",
              "      <th>354</th>\n",
              "      <td>2020-02-21 10:34:40</td>\n",
              "      <td>Australia’s first dedicated e-sports bar @ GG ...</td>\n",
              "      <td>0</td>\n",
              "      <td>en</td>\n",
              "      <td>Melbourne</td>\n",
              "      <td>Australia</td>\n",
              "      <td>AU</td>\n",
              "      <td>144.961030</td>\n",
              "      <td>-37.816360</td>\n",
              "    </tr>\n",
              "    <tr>\n",
              "      <th>0</th>\n",
              "      <td>2020-05-23 00:21:14</td>\n",
              "      <td>Para voltar tudo ao normal, você precisa fazer...</td>\n",
              "      <td>0</td>\n",
              "      <td>pt</td>\n",
              "      <td>Rio das Ostras</td>\n",
              "      <td>Brazil</td>\n",
              "      <td>BR</td>\n",
              "      <td>-41.937900</td>\n",
              "      <td>-22.522600</td>\n",
              "    </tr>\n",
              "    <tr>\n",
              "      <th>321</th>\n",
              "      <td>2020-05-31 12:24:15</td>\n",
              "      <td>Sair de casa só naquele estilo! 😎😷😅 #mascara #...</td>\n",
              "      <td>0</td>\n",
              "      <td>pt</td>\n",
              "      <td>Rio Claro</td>\n",
              "      <td>Brazil</td>\n",
              "      <td>BR</td>\n",
              "      <td>-47.550000</td>\n",
              "      <td>-22.400000</td>\n",
              "    </tr>\n",
              "    <tr>\n",
              "      <th>320</th>\n",
              "      <td>2020-04-03 13:24:12</td>\n",
              "      <td>Informação é o melhor remédio contra o Coronav...</td>\n",
              "      <td>0</td>\n",
              "      <td>pt</td>\n",
              "      <td>Londrina</td>\n",
              "      <td>Brazil</td>\n",
              "      <td>BR</td>\n",
              "      <td>-51.150000</td>\n",
              "      <td>-23.300000</td>\n",
              "    </tr>\n",
              "    <tr>\n",
              "      <th>...</th>\n",
              "      <td>...</td>\n",
              "      <td>...</td>\n",
              "      <td>...</td>\n",
              "      <td>...</td>\n",
              "      <td>...</td>\n",
              "      <td>...</td>\n",
              "      <td>...</td>\n",
              "      <td>...</td>\n",
              "      <td>...</td>\n",
              "    </tr>\n",
              "    <tr>\n",
              "      <th>392</th>\n",
              "      <td>2020-05-22 15:37:07</td>\n",
              "      <td>No blog @voandobaixo tem um texto sobre o reto...</td>\n",
              "      <td>2</td>\n",
              "      <td>pt</td>\n",
              "      <td>Darlington</td>\n",
              "      <td>United States</td>\n",
              "      <td>US</td>\n",
              "      <td>-79.910371</td>\n",
              "      <td>34.294532</td>\n",
              "    </tr>\n",
              "    <tr>\n",
              "      <th>123</th>\n",
              "      <td>2020-03-27 23:23:18</td>\n",
              "      <td>A cidade de Nova York parece um campo de guerr...</td>\n",
              "      <td>1</td>\n",
              "      <td>pt</td>\n",
              "      <td>Manhattan</td>\n",
              "      <td>United States</td>\n",
              "      <td>US</td>\n",
              "      <td>-74.006400</td>\n",
              "      <td>40.714200</td>\n",
              "    </tr>\n",
              "    <tr>\n",
              "      <th>203</th>\n",
              "      <td>2020-03-22 17:41:58</td>\n",
              "      <td>#coronavirus #covid19 #covid_19 🦠 😷 #quarantin...</td>\n",
              "      <td>0</td>\n",
              "      <td>it</td>\n",
              "      <td>Montpelier</td>\n",
              "      <td>United States</td>\n",
              "      <td>US</td>\n",
              "      <td>-72.598119</td>\n",
              "      <td>44.152532</td>\n",
              "    </tr>\n",
              "    <tr>\n",
              "      <th>5</th>\n",
              "      <td>2020-03-27 22:59:12</td>\n",
              "      <td>O Papa Francisco rezando sozinho na imensa pra...</td>\n",
              "      <td>0</td>\n",
              "      <td>pt</td>\n",
              "      <td>Vatican City</td>\n",
              "      <td>Vatican City</td>\n",
              "      <td>VA</td>\n",
              "      <td>12.457018</td>\n",
              "      <td>41.902473</td>\n",
              "    </tr>\n",
              "    <tr>\n",
              "      <th>399</th>\n",
              "      <td>2020-03-19 12:30:16</td>\n",
              "      <td>Meu #tbt de isolamento social 🏕🌵 #namibia #afr...</td>\n",
              "      <td>0</td>\n",
              "      <td>pt</td>\n",
              "      <td>Namibia</td>\n",
              "      <td>Namibia</td>\n",
              "      <td>NaN</td>\n",
              "      <td>17.000000</td>\n",
              "      <td>-23.000000</td>\n",
              "    </tr>\n",
              "  </tbody>\n",
              "</table>\n",
              "<p>500 rows × 9 columns</p>\n",
              "</div>"
            ],
            "text/plain": [
              "                    data  ...  longitude\n",
              "86   2020-03-19 20:45:14  ... -37.818769\n",
              "354  2020-02-21 10:34:40  ... -37.816360\n",
              "0    2020-05-23 00:21:14  ... -22.522600\n",
              "321  2020-05-31 12:24:15  ... -22.400000\n",
              "320  2020-04-03 13:24:12  ... -23.300000\n",
              "..                   ...  ...        ...\n",
              "392  2020-05-22 15:37:07  ...  34.294532\n",
              "123  2020-03-27 23:23:18  ...  40.714200\n",
              "203  2020-03-22 17:41:58  ...  44.152532\n",
              "5    2020-03-27 22:59:12  ...  41.902473\n",
              "399  2020-03-19 12:30:16  ... -23.000000\n",
              "\n",
              "[500 rows x 9 columns]"
            ]
          },
          "metadata": {
            "tags": []
          },
          "execution_count": 120
        }
      ]
    },
    {
      "cell_type": "markdown",
      "metadata": {
        "id": "rMSUkmvSGoVd",
        "colab_type": "text"
      },
      "source": [
        "Em um dataset podem existir dados nulos, no caso do Pandas esses valores são mostrados como **NaN** (\"Not a Number\").\n",
        "Por razões téécnicas, os valores NaN sãão sempre do tipo float64."
      ]
    },
    {
      "cell_type": "markdown",
      "metadata": {
        "id": "wkF_ZjLUHGTj",
        "colab_type": "text"
      },
      "source": [
        "**isnull**\n",
        "\n",
        "Retorna as linhas do Data Frame que possui valores nulos."
      ]
    },
    {
      "cell_type": "code",
      "metadata": {
        "id": "KY0Lv9a4HMv8",
        "colab_type": "code",
        "colab": {
          "base_uri": "https://localhost:8080/",
          "height": 81
        },
        "outputId": "32c860ce-d5a5-461a-a6f5-4f069464f2d7"
      },
      "source": [
        "dfCovid[pd.isnull(dfCovid.sigla)]\n",
        "\n",
        "#mesma ação do isnull\n",
        "#df_Covid[df_Covid.sigla.isna()] "
      ],
      "execution_count": 127,
      "outputs": [
        {
          "output_type": "execute_result",
          "data": {
            "text/html": [
              "<div>\n",
              "<style scoped>\n",
              "    .dataframe tbody tr th:only-of-type {\n",
              "        vertical-align: middle;\n",
              "    }\n",
              "\n",
              "    .dataframe tbody tr th {\n",
              "        vertical-align: top;\n",
              "    }\n",
              "\n",
              "    .dataframe thead th {\n",
              "        text-align: right;\n",
              "    }\n",
              "</style>\n",
              "<table border=\"1\" class=\"dataframe\">\n",
              "  <thead>\n",
              "    <tr style=\"text-align: right;\">\n",
              "      <th></th>\n",
              "      <th>data</th>\n",
              "      <th>texto</th>\n",
              "      <th>retweet</th>\n",
              "      <th>idioma</th>\n",
              "      <th>lugar</th>\n",
              "      <th>pais</th>\n",
              "      <th>sigla</th>\n",
              "      <th>latitude</th>\n",
              "      <th>longitude</th>\n",
              "    </tr>\n",
              "  </thead>\n",
              "  <tbody>\n",
              "    <tr>\n",
              "      <th>399</th>\n",
              "      <td>2020-03-19 12:30:16</td>\n",
              "      <td>Meu #tbt de isolamento social 🏕🌵 #namibia #afr...</td>\n",
              "      <td>0</td>\n",
              "      <td>pt</td>\n",
              "      <td>Namibia</td>\n",
              "      <td>Namibia</td>\n",
              "      <td>NaN</td>\n",
              "      <td>17.0</td>\n",
              "      <td>-23.0</td>\n",
              "    </tr>\n",
              "  </tbody>\n",
              "</table>\n",
              "</div>"
            ],
            "text/plain": [
              "                    data  ... longitude\n",
              "399  2020-03-19 12:30:16  ...     -23.0\n",
              "\n",
              "[1 rows x 9 columns]"
            ]
          },
          "metadata": {
            "tags": []
          },
          "execution_count": 127
        }
      ]
    },
    {
      "cell_type": "markdown",
      "metadata": {
        "id": "hZq5C6_LHvbT",
        "colab_type": "text"
      },
      "source": [
        "**isna**\n",
        "\n",
        "Retorna True/False caso possua ou não valores nulos para aquele atributo."
      ]
    },
    {
      "cell_type": "code",
      "metadata": {
        "id": "giWQYG1O1Ol8",
        "colab_type": "code",
        "colab": {
          "base_uri": "https://localhost:8080/",
          "height": 424
        },
        "outputId": "5f446770-701f-4069-fdaf-32aca74ed84f"
      },
      "source": [
        "df_Covid[df_Covid.isna()] "
      ],
      "execution_count": 128,
      "outputs": [
        {
          "output_type": "execute_result",
          "data": {
            "text/html": [
              "<div>\n",
              "<style scoped>\n",
              "    .dataframe tbody tr th:only-of-type {\n",
              "        vertical-align: middle;\n",
              "    }\n",
              "\n",
              "    .dataframe tbody tr th {\n",
              "        vertical-align: top;\n",
              "    }\n",
              "\n",
              "    .dataframe thead th {\n",
              "        text-align: right;\n",
              "    }\n",
              "</style>\n",
              "<table border=\"1\" class=\"dataframe\">\n",
              "  <thead>\n",
              "    <tr style=\"text-align: right;\">\n",
              "      <th></th>\n",
              "      <th>data</th>\n",
              "      <th>texto</th>\n",
              "      <th>retweet</th>\n",
              "      <th>idioma</th>\n",
              "      <th>lugar</th>\n",
              "      <th>pais</th>\n",
              "      <th>sigla</th>\n",
              "      <th>latitude</th>\n",
              "      <th>longitude</th>\n",
              "    </tr>\n",
              "  </thead>\n",
              "  <tbody>\n",
              "    <tr>\n",
              "      <th>0</th>\n",
              "      <td>NaN</td>\n",
              "      <td>NaN</td>\n",
              "      <td>NaN</td>\n",
              "      <td>NaN</td>\n",
              "      <td>NaN</td>\n",
              "      <td>NaN</td>\n",
              "      <td>NaN</td>\n",
              "      <td>NaN</td>\n",
              "      <td>NaN</td>\n",
              "    </tr>\n",
              "    <tr>\n",
              "      <th>1</th>\n",
              "      <td>NaN</td>\n",
              "      <td>NaN</td>\n",
              "      <td>NaN</td>\n",
              "      <td>NaN</td>\n",
              "      <td>NaN</td>\n",
              "      <td>NaN</td>\n",
              "      <td>NaN</td>\n",
              "      <td>NaN</td>\n",
              "      <td>NaN</td>\n",
              "    </tr>\n",
              "    <tr>\n",
              "      <th>2</th>\n",
              "      <td>NaN</td>\n",
              "      <td>NaN</td>\n",
              "      <td>NaN</td>\n",
              "      <td>NaN</td>\n",
              "      <td>NaN</td>\n",
              "      <td>NaN</td>\n",
              "      <td>NaN</td>\n",
              "      <td>NaN</td>\n",
              "      <td>NaN</td>\n",
              "    </tr>\n",
              "    <tr>\n",
              "      <th>3</th>\n",
              "      <td>NaN</td>\n",
              "      <td>NaN</td>\n",
              "      <td>NaN</td>\n",
              "      <td>NaN</td>\n",
              "      <td>NaN</td>\n",
              "      <td>NaN</td>\n",
              "      <td>NaN</td>\n",
              "      <td>NaN</td>\n",
              "      <td>NaN</td>\n",
              "    </tr>\n",
              "    <tr>\n",
              "      <th>4</th>\n",
              "      <td>NaN</td>\n",
              "      <td>NaN</td>\n",
              "      <td>NaN</td>\n",
              "      <td>NaN</td>\n",
              "      <td>NaN</td>\n",
              "      <td>NaN</td>\n",
              "      <td>NaN</td>\n",
              "      <td>NaN</td>\n",
              "      <td>NaN</td>\n",
              "    </tr>\n",
              "    <tr>\n",
              "      <th>...</th>\n",
              "      <td>...</td>\n",
              "      <td>...</td>\n",
              "      <td>...</td>\n",
              "      <td>...</td>\n",
              "      <td>...</td>\n",
              "      <td>...</td>\n",
              "      <td>...</td>\n",
              "      <td>...</td>\n",
              "      <td>...</td>\n",
              "    </tr>\n",
              "    <tr>\n",
              "      <th>495</th>\n",
              "      <td>NaN</td>\n",
              "      <td>NaN</td>\n",
              "      <td>NaN</td>\n",
              "      <td>NaN</td>\n",
              "      <td>NaN</td>\n",
              "      <td>NaN</td>\n",
              "      <td>NaN</td>\n",
              "      <td>NaN</td>\n",
              "      <td>NaN</td>\n",
              "    </tr>\n",
              "    <tr>\n",
              "      <th>496</th>\n",
              "      <td>NaN</td>\n",
              "      <td>NaN</td>\n",
              "      <td>NaN</td>\n",
              "      <td>NaN</td>\n",
              "      <td>NaN</td>\n",
              "      <td>NaN</td>\n",
              "      <td>NaN</td>\n",
              "      <td>NaN</td>\n",
              "      <td>NaN</td>\n",
              "    </tr>\n",
              "    <tr>\n",
              "      <th>497</th>\n",
              "      <td>NaN</td>\n",
              "      <td>NaN</td>\n",
              "      <td>NaN</td>\n",
              "      <td>NaN</td>\n",
              "      <td>NaN</td>\n",
              "      <td>NaN</td>\n",
              "      <td>NaN</td>\n",
              "      <td>NaN</td>\n",
              "      <td>NaN</td>\n",
              "    </tr>\n",
              "    <tr>\n",
              "      <th>498</th>\n",
              "      <td>NaN</td>\n",
              "      <td>NaN</td>\n",
              "      <td>NaN</td>\n",
              "      <td>NaN</td>\n",
              "      <td>NaN</td>\n",
              "      <td>NaN</td>\n",
              "      <td>NaN</td>\n",
              "      <td>NaN</td>\n",
              "      <td>NaN</td>\n",
              "    </tr>\n",
              "    <tr>\n",
              "      <th>499</th>\n",
              "      <td>NaN</td>\n",
              "      <td>NaN</td>\n",
              "      <td>NaN</td>\n",
              "      <td>NaN</td>\n",
              "      <td>NaN</td>\n",
              "      <td>NaN</td>\n",
              "      <td>NaN</td>\n",
              "      <td>NaN</td>\n",
              "      <td>NaN</td>\n",
              "    </tr>\n",
              "  </tbody>\n",
              "</table>\n",
              "<p>500 rows × 9 columns</p>\n",
              "</div>"
            ],
            "text/plain": [
              "    data texto  retweet idioma lugar pais sigla  latitude  longitude\n",
              "0    NaN   NaN      NaN    NaN   NaN  NaN   NaN       NaN        NaN\n",
              "1    NaN   NaN      NaN    NaN   NaN  NaN   NaN       NaN        NaN\n",
              "2    NaN   NaN      NaN    NaN   NaN  NaN   NaN       NaN        NaN\n",
              "3    NaN   NaN      NaN    NaN   NaN  NaN   NaN       NaN        NaN\n",
              "4    NaN   NaN      NaN    NaN   NaN  NaN   NaN       NaN        NaN\n",
              "..   ...   ...      ...    ...   ...  ...   ...       ...        ...\n",
              "495  NaN   NaN      NaN    NaN   NaN  NaN   NaN       NaN        NaN\n",
              "496  NaN   NaN      NaN    NaN   NaN  NaN   NaN       NaN        NaN\n",
              "497  NaN   NaN      NaN    NaN   NaN  NaN   NaN       NaN        NaN\n",
              "498  NaN   NaN      NaN    NaN   NaN  NaN   NaN       NaN        NaN\n",
              "499  NaN   NaN      NaN    NaN   NaN  NaN   NaN       NaN        NaN\n",
              "\n",
              "[500 rows x 9 columns]"
            ]
          },
          "metadata": {
            "tags": []
          },
          "execution_count": 128
        }
      ]
    },
    {
      "cell_type": "markdown",
      "metadata": {
        "id": "58KFyYv7IOWV",
        "colab_type": "text"
      },
      "source": [
        "**fillna**\n",
        "\n",
        "Substituir os valores do atributo que possui dado ausente."
      ]
    },
    {
      "cell_type": "code",
      "metadata": {
        "id": "PK3eYfZr1pAJ",
        "colab_type": "code",
        "colab": {
          "base_uri": "https://localhost:8080/",
          "height": 424
        },
        "outputId": "c379f7d3-d258-4def-df70-cb48f67932a3"
      },
      "source": [
        "df_Covid.fillna(\"Not Found\")"
      ],
      "execution_count": 130,
      "outputs": [
        {
          "output_type": "execute_result",
          "data": {
            "text/html": [
              "<div>\n",
              "<style scoped>\n",
              "    .dataframe tbody tr th:only-of-type {\n",
              "        vertical-align: middle;\n",
              "    }\n",
              "\n",
              "    .dataframe tbody tr th {\n",
              "        vertical-align: top;\n",
              "    }\n",
              "\n",
              "    .dataframe thead th {\n",
              "        text-align: right;\n",
              "    }\n",
              "</style>\n",
              "<table border=\"1\" class=\"dataframe\">\n",
              "  <thead>\n",
              "    <tr style=\"text-align: right;\">\n",
              "      <th></th>\n",
              "      <th>data</th>\n",
              "      <th>texto</th>\n",
              "      <th>retweet</th>\n",
              "      <th>idioma</th>\n",
              "      <th>lugar</th>\n",
              "      <th>pais</th>\n",
              "      <th>sigla</th>\n",
              "      <th>latitude</th>\n",
              "      <th>longitude</th>\n",
              "    </tr>\n",
              "  </thead>\n",
              "  <tbody>\n",
              "    <tr>\n",
              "      <th>0</th>\n",
              "      <td>2020-05-23 00:21:14</td>\n",
              "      <td>Para voltar tudo ao normal, você precisa fazer...</td>\n",
              "      <td>0</td>\n",
              "      <td>pt</td>\n",
              "      <td>Rio das Ostras</td>\n",
              "      <td>Brazil</td>\n",
              "      <td>BR</td>\n",
              "      <td>-41.937900</td>\n",
              "      <td>-22.522600</td>\n",
              "    </tr>\n",
              "    <tr>\n",
              "      <th>1</th>\n",
              "      <td>2020-03-22 22:57:51</td>\n",
              "      <td>14.245 – O que é a hidroxicloroquina? https://...</td>\n",
              "      <td>0</td>\n",
              "      <td>pt</td>\n",
              "      <td>Sao Paulo</td>\n",
              "      <td>Brazil</td>\n",
              "      <td>BR</td>\n",
              "      <td>-46.674739</td>\n",
              "      <td>-23.606067</td>\n",
              "    </tr>\n",
              "    <tr>\n",
              "      <th>2</th>\n",
              "      <td>2020-04-14 00:11:33</td>\n",
              "      <td>Quarta morte em Lar de Estarreja associada à C...</td>\n",
              "      <td>1</td>\n",
              "      <td>pt</td>\n",
              "      <td>Lisbon</td>\n",
              "      <td>Portugal</td>\n",
              "      <td>PT</td>\n",
              "      <td>-9.099043</td>\n",
              "      <td>38.747518</td>\n",
              "    </tr>\n",
              "    <tr>\n",
              "      <th>3</th>\n",
              "      <td>2020-05-25 20:45:43</td>\n",
              "      <td>COVID-19 |  Hospital municipal Tide Setúbal, n...</td>\n",
              "      <td>0</td>\n",
              "      <td>pt</td>\n",
              "      <td>Sao Paulo</td>\n",
              "      <td>Brazil</td>\n",
              "      <td>BR</td>\n",
              "      <td>-46.633300</td>\n",
              "      <td>-23.550000</td>\n",
              "    </tr>\n",
              "    <tr>\n",
              "      <th>4</th>\n",
              "      <td>2020-04-15 10:34:39</td>\n",
              "      <td>#cenasdocotidiano #santos #distanciamentosocia...</td>\n",
              "      <td>0</td>\n",
              "      <td>pt</td>\n",
              "      <td>Santos</td>\n",
              "      <td>Brazil</td>\n",
              "      <td>BR</td>\n",
              "      <td>-46.293700</td>\n",
              "      <td>-23.975947</td>\n",
              "    </tr>\n",
              "    <tr>\n",
              "      <th>...</th>\n",
              "      <td>...</td>\n",
              "      <td>...</td>\n",
              "      <td>...</td>\n",
              "      <td>...</td>\n",
              "      <td>...</td>\n",
              "      <td>...</td>\n",
              "      <td>...</td>\n",
              "      <td>...</td>\n",
              "      <td>...</td>\n",
              "    </tr>\n",
              "    <tr>\n",
              "      <th>495</th>\n",
              "      <td>2020-04-07 16:14:13</td>\n",
              "      <td>O isolamento social também serve para mostrar ...</td>\n",
              "      <td>1</td>\n",
              "      <td>pt</td>\n",
              "      <td>Rio Branco</td>\n",
              "      <td>Brazil</td>\n",
              "      <td>BR</td>\n",
              "      <td>-67.859657</td>\n",
              "      <td>-9.932246</td>\n",
              "    </tr>\n",
              "    <tr>\n",
              "      <th>496</th>\n",
              "      <td>2020-03-26 18:02:28</td>\n",
              "      <td>Enquanto o mundo está atento ao covid 19 é o B...</td>\n",
              "      <td>0</td>\n",
              "      <td>pt</td>\n",
              "      <td>Rio de Janeiro</td>\n",
              "      <td>Brazil</td>\n",
              "      <td>BR</td>\n",
              "      <td>-43.358100</td>\n",
              "      <td>-22.942800</td>\n",
              "    </tr>\n",
              "    <tr>\n",
              "      <th>497</th>\n",
              "      <td>2020-03-18 05:28:16</td>\n",
              "      <td>#covid_19 #stayhome @ Toronto, Ontario https:/...</td>\n",
              "      <td>0</td>\n",
              "      <td>pt</td>\n",
              "      <td>Toronto</td>\n",
              "      <td>Canada</td>\n",
              "      <td>CA</td>\n",
              "      <td>-79.387200</td>\n",
              "      <td>43.648000</td>\n",
              "    </tr>\n",
              "    <tr>\n",
              "      <th>498</th>\n",
              "      <td>2020-03-03 21:27:11</td>\n",
              "      <td>Um vira-lata sem Coronavirus #joeviralata #dog...</td>\n",
              "      <td>0</td>\n",
              "      <td>pt</td>\n",
              "      <td>Sao Paulo</td>\n",
              "      <td>Brazil</td>\n",
              "      <td>BR</td>\n",
              "      <td>-46.633300</td>\n",
              "      <td>-23.550000</td>\n",
              "    </tr>\n",
              "    <tr>\n",
              "      <th>499</th>\n",
              "      <td>2020-01-21 13:18:03</td>\n",
              "      <td>Portugal já está a preparar-se para responder ...</td>\n",
              "      <td>1</td>\n",
              "      <td>pt</td>\n",
              "      <td>Lisbon</td>\n",
              "      <td>Portugal</td>\n",
              "      <td>PT</td>\n",
              "      <td>-9.099043</td>\n",
              "      <td>38.747518</td>\n",
              "    </tr>\n",
              "  </tbody>\n",
              "</table>\n",
              "<p>500 rows × 9 columns</p>\n",
              "</div>"
            ],
            "text/plain": [
              "                    data  ...  longitude\n",
              "0    2020-05-23 00:21:14  ... -22.522600\n",
              "1    2020-03-22 22:57:51  ... -23.606067\n",
              "2    2020-04-14 00:11:33  ...  38.747518\n",
              "3    2020-05-25 20:45:43  ... -23.550000\n",
              "4    2020-04-15 10:34:39  ... -23.975947\n",
              "..                   ...  ...        ...\n",
              "495  2020-04-07 16:14:13  ...  -9.932246\n",
              "496  2020-03-26 18:02:28  ... -22.942800\n",
              "497  2020-03-18 05:28:16  ...  43.648000\n",
              "498  2020-03-03 21:27:11  ... -23.550000\n",
              "499  2020-01-21 13:18:03  ...  38.747518\n",
              "\n",
              "[500 rows x 9 columns]"
            ]
          },
          "metadata": {
            "tags": []
          },
          "execution_count": 130
        }
      ]
    },
    {
      "cell_type": "code",
      "metadata": {
        "id": "XcmLY7Nk140y",
        "colab_type": "code",
        "colab": {
          "base_uri": "https://localhost:8080/",
          "height": 191
        },
        "outputId": "552d250f-a439-41f4-a72c-35e51d7ae6e7"
      },
      "source": [
        "df_Covid.fillna(\"Not Found\").iloc[399]"
      ],
      "execution_count": 131,
      "outputs": [
        {
          "output_type": "execute_result",
          "data": {
            "text/plain": [
              "data                                       2020-03-19 12:30:16\n",
              "texto        Meu #tbt de isolamento social 🏕🌵 #namibia #afr...\n",
              "retweet                                                      0\n",
              "idioma                                                      pt\n",
              "lugar                                                  Namibia\n",
              "pais                                                   Namibia\n",
              "sigla                                                Not Found\n",
              "latitude                                                    17\n",
              "longitude                                                  -23\n",
              "Name: 399, dtype: object"
            ]
          },
          "metadata": {
            "tags": []
          },
          "execution_count": 131
        }
      ]
    },
    {
      "cell_type": "markdown",
      "metadata": {
        "id": "a_wChZBNInzH",
        "colab_type": "text"
      },
      "source": [
        "**replace**\n",
        "\n",
        "Substituir o valor de um atributo por outro."
      ]
    },
    {
      "cell_type": "code",
      "metadata": {
        "id": "0Rw5A4d-IwQq",
        "colab_type": "code",
        "colab": {
          "base_uri": "https://localhost:8080/",
          "height": 225
        },
        "outputId": "947fd07c-03ee-47fd-c9a9-df43f5348248"
      },
      "source": [
        "dfCovid.sigla.replace('BR', 'Brasil')"
      ],
      "execution_count": 133,
      "outputs": [
        {
          "output_type": "execute_result",
          "data": {
            "text/plain": [
              "0      Brasil\n",
              "1      Brasil\n",
              "2          PT\n",
              "3      Brasil\n",
              "4      Brasil\n",
              "        ...  \n",
              "495    Brasil\n",
              "496    Brasil\n",
              "497        CA\n",
              "498    Brasil\n",
              "499        PT\n",
              "Name: sigla, Length: 500, dtype: object"
            ]
          },
          "metadata": {
            "tags": []
          },
          "execution_count": 133
        }
      ]
    },
    {
      "cell_type": "markdown",
      "metadata": {
        "id": "loq870rBJC9Z",
        "colab_type": "text"
      },
      "source": [
        "**rename**\n",
        "\n",
        "É comum encontrar Data Frames/Series em que o nome dos atributos não esteja padronizado.\n",
        "Neste caso o **rename** é utilizado nestes casos."
      ]
    },
    {
      "cell_type": "code",
      "metadata": {
        "id": "K8cvmG_RJB6R",
        "colab_type": "code",
        "colab": {
          "base_uri": "https://localhost:8080/",
          "height": 424
        },
        "outputId": "3f04de99-7a0c-4ff6-d47e-c518414f6d5c"
      },
      "source": [
        "dfCovid.rename(columns={'sigla' : 'sigla_pais'})"
      ],
      "execution_count": 134,
      "outputs": [
        {
          "output_type": "execute_result",
          "data": {
            "text/html": [
              "<div>\n",
              "<style scoped>\n",
              "    .dataframe tbody tr th:only-of-type {\n",
              "        vertical-align: middle;\n",
              "    }\n",
              "\n",
              "    .dataframe tbody tr th {\n",
              "        vertical-align: top;\n",
              "    }\n",
              "\n",
              "    .dataframe thead th {\n",
              "        text-align: right;\n",
              "    }\n",
              "</style>\n",
              "<table border=\"1\" class=\"dataframe\">\n",
              "  <thead>\n",
              "    <tr style=\"text-align: right;\">\n",
              "      <th></th>\n",
              "      <th>data</th>\n",
              "      <th>texto</th>\n",
              "      <th>retweet</th>\n",
              "      <th>idioma</th>\n",
              "      <th>lugar</th>\n",
              "      <th>pais</th>\n",
              "      <th>sigla_pais</th>\n",
              "      <th>latitude</th>\n",
              "      <th>longitude</th>\n",
              "    </tr>\n",
              "  </thead>\n",
              "  <tbody>\n",
              "    <tr>\n",
              "      <th>0</th>\n",
              "      <td>2020-05-23 00:21:14</td>\n",
              "      <td>Para voltar tudo ao normal, você precisa fazer...</td>\n",
              "      <td>0</td>\n",
              "      <td>pt</td>\n",
              "      <td>Rio das Ostras</td>\n",
              "      <td>Brazil</td>\n",
              "      <td>BR</td>\n",
              "      <td>-41.937900</td>\n",
              "      <td>-22.522600</td>\n",
              "    </tr>\n",
              "    <tr>\n",
              "      <th>1</th>\n",
              "      <td>2020-03-22 22:57:51</td>\n",
              "      <td>14.245 – O que é a hidroxicloroquina? https://...</td>\n",
              "      <td>0</td>\n",
              "      <td>pt</td>\n",
              "      <td>Sao Paulo</td>\n",
              "      <td>Brazil</td>\n",
              "      <td>BR</td>\n",
              "      <td>-46.674739</td>\n",
              "      <td>-23.606067</td>\n",
              "    </tr>\n",
              "    <tr>\n",
              "      <th>2</th>\n",
              "      <td>2020-04-14 00:11:33</td>\n",
              "      <td>Novo Texto</td>\n",
              "      <td>1</td>\n",
              "      <td>pt</td>\n",
              "      <td>Lisbon</td>\n",
              "      <td>Portugal</td>\n",
              "      <td>PT</td>\n",
              "      <td>-9.099043</td>\n",
              "      <td>38.747518</td>\n",
              "    </tr>\n",
              "    <tr>\n",
              "      <th>3</th>\n",
              "      <td>2020-05-25 20:45:43</td>\n",
              "      <td>COVID-19 |  Hospital municipal Tide Setúbal, n...</td>\n",
              "      <td>0</td>\n",
              "      <td>pt</td>\n",
              "      <td>Sao Paulo</td>\n",
              "      <td>Brazil</td>\n",
              "      <td>BR</td>\n",
              "      <td>-46.633300</td>\n",
              "      <td>-23.550000</td>\n",
              "    </tr>\n",
              "    <tr>\n",
              "      <th>4</th>\n",
              "      <td>2020-04-15 10:34:39</td>\n",
              "      <td>#cenasdocotidiano #santos #distanciamentosocia...</td>\n",
              "      <td>0</td>\n",
              "      <td>pt</td>\n",
              "      <td>Santos</td>\n",
              "      <td>Brazil</td>\n",
              "      <td>BR</td>\n",
              "      <td>-46.293700</td>\n",
              "      <td>-23.975947</td>\n",
              "    </tr>\n",
              "    <tr>\n",
              "      <th>...</th>\n",
              "      <td>...</td>\n",
              "      <td>...</td>\n",
              "      <td>...</td>\n",
              "      <td>...</td>\n",
              "      <td>...</td>\n",
              "      <td>...</td>\n",
              "      <td>...</td>\n",
              "      <td>...</td>\n",
              "      <td>...</td>\n",
              "    </tr>\n",
              "    <tr>\n",
              "      <th>495</th>\n",
              "      <td>2020-04-07 16:14:13</td>\n",
              "      <td>O isolamento social também serve para mostrar ...</td>\n",
              "      <td>1</td>\n",
              "      <td>pt</td>\n",
              "      <td>Rio Branco</td>\n",
              "      <td>Brazil</td>\n",
              "      <td>BR</td>\n",
              "      <td>-67.859657</td>\n",
              "      <td>-9.932246</td>\n",
              "    </tr>\n",
              "    <tr>\n",
              "      <th>496</th>\n",
              "      <td>2020-03-26 18:02:28</td>\n",
              "      <td>Enquanto o mundo está atento ao covid 19 é o B...</td>\n",
              "      <td>0</td>\n",
              "      <td>pt</td>\n",
              "      <td>Rio de Janeiro</td>\n",
              "      <td>Brazil</td>\n",
              "      <td>BR</td>\n",
              "      <td>-43.358100</td>\n",
              "      <td>-22.942800</td>\n",
              "    </tr>\n",
              "    <tr>\n",
              "      <th>497</th>\n",
              "      <td>2020-03-18 05:28:16</td>\n",
              "      <td>#covid_19 #stayhome @ Toronto, Ontario https:/...</td>\n",
              "      <td>0</td>\n",
              "      <td>pt</td>\n",
              "      <td>Toronto</td>\n",
              "      <td>Canada</td>\n",
              "      <td>CA</td>\n",
              "      <td>-79.387200</td>\n",
              "      <td>43.648000</td>\n",
              "    </tr>\n",
              "    <tr>\n",
              "      <th>498</th>\n",
              "      <td>2020-03-03 21:27:11</td>\n",
              "      <td>Um vira-lata sem Coronavirus #joeviralata #dog...</td>\n",
              "      <td>0</td>\n",
              "      <td>pt</td>\n",
              "      <td>Sao Paulo</td>\n",
              "      <td>Brazil</td>\n",
              "      <td>BR</td>\n",
              "      <td>-46.633300</td>\n",
              "      <td>-23.550000</td>\n",
              "    </tr>\n",
              "    <tr>\n",
              "      <th>499</th>\n",
              "      <td>2020-01-21 13:18:03</td>\n",
              "      <td>Portugal já está a preparar-se para responder ...</td>\n",
              "      <td>1</td>\n",
              "      <td>pt</td>\n",
              "      <td>Lisbon</td>\n",
              "      <td>Portugal</td>\n",
              "      <td>PT</td>\n",
              "      <td>-9.099043</td>\n",
              "      <td>38.747518</td>\n",
              "    </tr>\n",
              "  </tbody>\n",
              "</table>\n",
              "<p>500 rows × 9 columns</p>\n",
              "</div>"
            ],
            "text/plain": [
              "                    data  ...  longitude\n",
              "0    2020-05-23 00:21:14  ... -22.522600\n",
              "1    2020-03-22 22:57:51  ... -23.606067\n",
              "2    2020-04-14 00:11:33  ...  38.747518\n",
              "3    2020-05-25 20:45:43  ... -23.550000\n",
              "4    2020-04-15 10:34:39  ... -23.975947\n",
              "..                   ...  ...        ...\n",
              "495  2020-04-07 16:14:13  ...  -9.932246\n",
              "496  2020-03-26 18:02:28  ... -22.942800\n",
              "497  2020-03-18 05:28:16  ...  43.648000\n",
              "498  2020-03-03 21:27:11  ... -23.550000\n",
              "499  2020-01-21 13:18:03  ...  38.747518\n",
              "\n",
              "[500 rows x 9 columns]"
            ]
          },
          "metadata": {
            "tags": []
          },
          "execution_count": 134
        }
      ]
    },
    {
      "cell_type": "markdown",
      "metadata": {
        "id": "HEdjx3lhJkwn",
        "colab_type": "text"
      },
      "source": [
        "**Gráfico de Mapas**\n",
        "\n",
        "A biblioteca **geopandas** permite trabalhar com dados geoespaciais."
      ]
    },
    {
      "cell_type": "code",
      "metadata": {
        "id": "Z792i7CD3JWP",
        "colab_type": "code",
        "colab": {
          "base_uri": "https://localhost:8080/",
          "height": 260
        },
        "outputId": "2af4c7b8-f0df-4835-e0d7-920bf79ad721"
      },
      "source": [
        "#import geopandas\n",
        "! pip install geopandas"
      ],
      "execution_count": 135,
      "outputs": [
        {
          "output_type": "stream",
          "text": [
            "Requirement already satisfied: geopandas in /usr/local/lib/python3.6/dist-packages (0.8.1)\n",
            "Requirement already satisfied: pandas>=0.23.0 in /usr/local/lib/python3.6/dist-packages (from geopandas) (1.0.5)\n",
            "Requirement already satisfied: shapely in /usr/local/lib/python3.6/dist-packages (from geopandas) (1.7.1)\n",
            "Requirement already satisfied: pyproj>=2.2.0 in /usr/local/lib/python3.6/dist-packages (from geopandas) (2.6.1.post1)\n",
            "Requirement already satisfied: fiona in /usr/local/lib/python3.6/dist-packages (from geopandas) (1.8.17)\n",
            "Requirement already satisfied: python-dateutil>=2.6.1 in /usr/local/lib/python3.6/dist-packages (from pandas>=0.23.0->geopandas) (2.8.1)\n",
            "Requirement already satisfied: pytz>=2017.2 in /usr/local/lib/python3.6/dist-packages (from pandas>=0.23.0->geopandas) (2018.9)\n",
            "Requirement already satisfied: numpy>=1.13.3 in /usr/local/lib/python3.6/dist-packages (from pandas>=0.23.0->geopandas) (1.18.5)\n",
            "Requirement already satisfied: click-plugins>=1.0 in /usr/local/lib/python3.6/dist-packages (from fiona->geopandas) (1.1.1)\n",
            "Requirement already satisfied: six>=1.7 in /usr/local/lib/python3.6/dist-packages (from fiona->geopandas) (1.15.0)\n",
            "Requirement already satisfied: munch in /usr/local/lib/python3.6/dist-packages (from fiona->geopandas) (2.5.0)\n",
            "Requirement already satisfied: click<8,>=4.0 in /usr/local/lib/python3.6/dist-packages (from fiona->geopandas) (7.1.2)\n",
            "Requirement already satisfied: attrs>=17 in /usr/local/lib/python3.6/dist-packages (from fiona->geopandas) (20.2.0)\n",
            "Requirement already satisfied: cligj>=0.5 in /usr/local/lib/python3.6/dist-packages (from fiona->geopandas) (0.5.0)\n"
          ],
          "name": "stdout"
        }
      ]
    },
    {
      "cell_type": "code",
      "metadata": {
        "id": "ve_3zrfN30SS",
        "colab_type": "code",
        "colab": {}
      },
      "source": [
        "from shapely.geometry import Point\n",
        "import geopandas as gpd\n",
        "from geopandas import GeoDataFrame"
      ],
      "execution_count": 136,
      "outputs": []
    },
    {
      "cell_type": "markdown",
      "metadata": {
        "id": "OrJ6CuZHK3ap",
        "colab_type": "text"
      },
      "source": [
        "Plot com a posição dos usuários no mapa."
      ]
    },
    {
      "cell_type": "code",
      "metadata": {
        "id": "FBJVx5sx4FOm",
        "colab_type": "code",
        "colab": {
          "base_uri": "https://localhost:8080/",
          "height": 317
        },
        "outputId": "5d87334d-4db4-412a-d9b4-082b591b2221"
      },
      "source": [
        "geometry = [Point(xy) for xy in zip(dfCovid['latitude'], dfCovid['longitude'])]\n",
        "gdf = GeoDataFrame(dfCovid, geometry=geometry)\n",
        "\n",
        "world = gpd.read_file(gpd.datasets.get_path('naturalearth_lowres'))\n",
        "gdf.plot(ax=world.plot(figsize=(10, 6)), marker='o', color='red', markersize=15);"
      ],
      "execution_count": 174,
      "outputs": [
        {
          "output_type": "display_data",
          "data": {
            "image/png": "[encoded data removed]",
            "text/plain": [
              "<Figure size 720x432 with 1 Axes>"
            ]
          },
          "metadata": {
            "tags": [],
            "needs_background": "light"
          }
        }
      ]
    },
    {
      "cell_type": "code",
      "metadata": {
        "id": "9al0PJQ0Wfpl",
        "colab_type": "code",
        "colab": {
          "base_uri": "https://localhost:8080/",
          "height": 597
        },
        "outputId": "78ef9359-7c51-46a1-ce61-2cc977a78f87"
      },
      "source": [
        "dfBrazil = dfCovid[dfCovid.sigla == \"BR\"]\n",
        "dfBrazil"
      ],
      "execution_count": 176,
      "outputs": [
        {
          "output_type": "execute_result",
          "data": {
            "text/html": [
              "<div>\n",
              "<style scoped>\n",
              "    .dataframe tbody tr th:only-of-type {\n",
              "        vertical-align: middle;\n",
              "    }\n",
              "\n",
              "    .dataframe tbody tr th {\n",
              "        vertical-align: top;\n",
              "    }\n",
              "\n",
              "    .dataframe thead th {\n",
              "        text-align: right;\n",
              "    }\n",
              "</style>\n",
              "<table border=\"1\" class=\"dataframe\">\n",
              "  <thead>\n",
              "    <tr style=\"text-align: right;\">\n",
              "      <th></th>\n",
              "      <th>data</th>\n",
              "      <th>texto</th>\n",
              "      <th>retweet</th>\n",
              "      <th>idioma</th>\n",
              "      <th>lugar</th>\n",
              "      <th>pais</th>\n",
              "      <th>sigla</th>\n",
              "      <th>latitude</th>\n",
              "      <th>longitude</th>\n",
              "      <th>geometry</th>\n",
              "    </tr>\n",
              "  </thead>\n",
              "  <tbody>\n",
              "    <tr>\n",
              "      <th>0</th>\n",
              "      <td>2020-05-23 00:21:14</td>\n",
              "      <td>Para voltar tudo ao normal, você precisa fazer...</td>\n",
              "      <td>0</td>\n",
              "      <td>pt</td>\n",
              "      <td>Rio das Ostras</td>\n",
              "      <td>Brazil</td>\n",
              "      <td>BR</td>\n",
              "      <td>-41.937900</td>\n",
              "      <td>-22.522600</td>\n",
              "      <td>POINT (-41.93790 -22.52260)</td>\n",
              "    </tr>\n",
              "    <tr>\n",
              "      <th>1</th>\n",
              "      <td>2020-03-22 22:57:51</td>\n",
              "      <td>14.245 – O que é a hidroxicloroquina? https://...</td>\n",
              "      <td>0</td>\n",
              "      <td>pt</td>\n",
              "      <td>Sao Paulo</td>\n",
              "      <td>Brazil</td>\n",
              "      <td>BR</td>\n",
              "      <td>-46.674739</td>\n",
              "      <td>-23.606067</td>\n",
              "      <td>POINT (-46.67474 -23.60607)</td>\n",
              "    </tr>\n",
              "    <tr>\n",
              "      <th>3</th>\n",
              "      <td>2020-05-25 20:45:43</td>\n",
              "      <td>COVID-19 |  Hospital municipal Tide Setúbal, n...</td>\n",
              "      <td>0</td>\n",
              "      <td>pt</td>\n",
              "      <td>Sao Paulo</td>\n",
              "      <td>Brazil</td>\n",
              "      <td>BR</td>\n",
              "      <td>-46.633300</td>\n",
              "      <td>-23.550000</td>\n",
              "      <td>POINT (-46.63330 -23.55000)</td>\n",
              "    </tr>\n",
              "    <tr>\n",
              "      <th>4</th>\n",
              "      <td>2020-04-15 10:34:39</td>\n",
              "      <td>#cenasdocotidiano #santos #distanciamentosocia...</td>\n",
              "      <td>0</td>\n",
              "      <td>pt</td>\n",
              "      <td>Santos</td>\n",
              "      <td>Brazil</td>\n",
              "      <td>BR</td>\n",
              "      <td>-46.293700</td>\n",
              "      <td>-23.975947</td>\n",
              "      <td>POINT (-46.29370 -23.97595)</td>\n",
              "    </tr>\n",
              "    <tr>\n",
              "      <th>7</th>\n",
              "      <td>2020-03-22 19:12:37</td>\n",
              "      <td>Memórias do cárcere. Hoje deu até pra treinar ...</td>\n",
              "      <td>0</td>\n",
              "      <td>pt</td>\n",
              "      <td>Rio de Janeiro</td>\n",
              "      <td>Brazil</td>\n",
              "      <td>BR</td>\n",
              "      <td>-43.273900</td>\n",
              "      <td>-22.961900</td>\n",
              "      <td>POINT (-43.27390 -22.96190)</td>\n",
              "    </tr>\n",
              "    <tr>\n",
              "      <th>...</th>\n",
              "      <td>...</td>\n",
              "      <td>...</td>\n",
              "      <td>...</td>\n",
              "      <td>...</td>\n",
              "      <td>...</td>\n",
              "      <td>...</td>\n",
              "      <td>...</td>\n",
              "      <td>...</td>\n",
              "      <td>...</td>\n",
              "      <td>...</td>\n",
              "    </tr>\n",
              "    <tr>\n",
              "      <th>493</th>\n",
              "      <td>2020-04-08 23:40:59</td>\n",
              "      <td>A Lei 13.987/20 garante a distribuição dos ali...</td>\n",
              "      <td>0</td>\n",
              "      <td>pt</td>\n",
              "      <td>Medianeira</td>\n",
              "      <td>Brazil</td>\n",
              "      <td>BR</td>\n",
              "      <td>-54.104104</td>\n",
              "      <td>-25.297434</td>\n",
              "      <td>POINT (-54.10410 -25.29743)</td>\n",
              "    </tr>\n",
              "    <tr>\n",
              "      <th>494</th>\n",
              "      <td>2020-04-14 12:06:38</td>\n",
              "      <td>A 2ª Vara de Família e Sucessões de Jacareí, e...</td>\n",
              "      <td>0</td>\n",
              "      <td>pt</td>\n",
              "      <td>Sao Paulo</td>\n",
              "      <td>Brazil</td>\n",
              "      <td>BR</td>\n",
              "      <td>-46.638670</td>\n",
              "      <td>-23.540780</td>\n",
              "      <td>POINT (-46.63867 -23.54078)</td>\n",
              "    </tr>\n",
              "    <tr>\n",
              "      <th>495</th>\n",
              "      <td>2020-04-07 16:14:13</td>\n",
              "      <td>O isolamento social também serve para mostrar ...</td>\n",
              "      <td>1</td>\n",
              "      <td>pt</td>\n",
              "      <td>Rio Branco</td>\n",
              "      <td>Brazil</td>\n",
              "      <td>BR</td>\n",
              "      <td>-67.859657</td>\n",
              "      <td>-9.932246</td>\n",
              "      <td>POINT (-67.85966 -9.93225)</td>\n",
              "    </tr>\n",
              "    <tr>\n",
              "      <th>496</th>\n",
              "      <td>2020-03-26 18:02:28</td>\n",
              "      <td>Enquanto o mundo está atento ao covid 19 é o B...</td>\n",
              "      <td>0</td>\n",
              "      <td>pt</td>\n",
              "      <td>Rio de Janeiro</td>\n",
              "      <td>Brazil</td>\n",
              "      <td>BR</td>\n",
              "      <td>-43.358100</td>\n",
              "      <td>-22.942800</td>\n",
              "      <td>POINT (-43.35810 -22.94280)</td>\n",
              "    </tr>\n",
              "    <tr>\n",
              "      <th>498</th>\n",
              "      <td>2020-03-03 21:27:11</td>\n",
              "      <td>Um vira-lata sem Coronavirus #joeviralata #dog...</td>\n",
              "      <td>0</td>\n",
              "      <td>pt</td>\n",
              "      <td>Sao Paulo</td>\n",
              "      <td>Brazil</td>\n",
              "      <td>BR</td>\n",
              "      <td>-46.633300</td>\n",
              "      <td>-23.550000</td>\n",
              "      <td>POINT (-46.63330 -23.55000)</td>\n",
              "    </tr>\n",
              "  </tbody>\n",
              "</table>\n",
              "<p>392 rows × 10 columns</p>\n",
              "</div>"
            ],
            "text/plain": [
              "                    data  ...                     geometry\n",
              "0    2020-05-23 00:21:14  ...  POINT (-41.93790 -22.52260)\n",
              "1    2020-03-22 22:57:51  ...  POINT (-46.67474 -23.60607)\n",
              "3    2020-05-25 20:45:43  ...  POINT (-46.63330 -23.55000)\n",
              "4    2020-04-15 10:34:39  ...  POINT (-46.29370 -23.97595)\n",
              "7    2020-03-22 19:12:37  ...  POINT (-43.27390 -22.96190)\n",
              "..                   ...  ...                          ...\n",
              "493  2020-04-08 23:40:59  ...  POINT (-54.10410 -25.29743)\n",
              "494  2020-04-14 12:06:38  ...  POINT (-46.63867 -23.54078)\n",
              "495  2020-04-07 16:14:13  ...   POINT (-67.85966 -9.93225)\n",
              "496  2020-03-26 18:02:28  ...  POINT (-43.35810 -22.94280)\n",
              "498  2020-03-03 21:27:11  ...  POINT (-46.63330 -23.55000)\n",
              "\n",
              "[392 rows x 10 columns]"
            ]
          },
          "metadata": {
            "tags": []
          },
          "execution_count": 176
        }
      ]
    },
    {
      "cell_type": "code",
      "metadata": {
        "id": "Guy_iWb1WDJA",
        "colab_type": "code",
        "colab": {
          "base_uri": "https://localhost:8080/",
          "height": 265
        },
        "outputId": "d598dc26-9744-41b5-906c-70c5854d226f"
      },
      "source": [
        "ax = world[world.continent == 'South America'].plot(color='white', edgecolor='black')\n",
        "\n",
        "geometry = [Point(xy) for xy in zip(dfBrazil['latitude'], dfBrazil['longitude'])]\n",
        "gdf = GeoDataFrame(dfBrazil, geometry=geometry)\n",
        "\n",
        "world = gpd.read_file(gpd.datasets.get_path('naturalearth_lowres'))\n",
        "gdf.plot(ax=ax, marker='o', color='red', markersize=15);"
      ],
      "execution_count": 180,
      "outputs": [
        {
          "output_type": "display_data",
          "data": {
            "image/png": "[encoded data removed]",
            "text/plain": [
              "<Figure size 432x288 with 1 Axes>"
            ]
          },
          "metadata": {
            "tags": [],
            "needs_background": "light"
          }
        }
      ]
    },
    {
      "cell_type": "markdown",
      "metadata": {
        "id": "LhlshCoULJCZ",
        "colab_type": "text"
      },
      "source": [
        "**hist**\n",
        "\n",
        "Grafico de Histograma."
      ]
    },
    {
      "cell_type": "code",
      "metadata": {
        "id": "QJYsBcmo5KhZ",
        "colab_type": "code",
        "colab": {
          "base_uri": "https://localhost:8080/",
          "height": 282
        },
        "outputId": "032c1f3c-6990-4a0f-8ae9-78fd29853aff"
      },
      "source": [
        "dfCovid.plot.hist('siglas')"
      ],
      "execution_count": 146,
      "outputs": [
        {
          "output_type": "execute_result",
          "data": {
            "text/plain": [
              "<matplotlib.axes._subplots.AxesSubplot at 0x7f9333c1e6d8>"
            ]
          },
          "metadata": {
            "tags": []
          },
          "execution_count": 146
        },
        {
          "output_type": "display_data",
          "data": {
            "image/png": "[encoded data removed]",
            "text/plain": [
              "<Figure size 432x288 with 1 Axes>"
            ]
          },
          "metadata": {
            "tags": [],
            "needs_background": "light"
          }
        }
      ]
    },
    {
      "cell_type": "markdown",
      "metadata": {
        "id": "1mZDX-bqLV9S",
        "colab_type": "text"
      },
      "source": [
        "A  biblioteca **matplotlib** permite trabalhar com gráficos de uma forma mais atrativa."
      ]
    },
    {
      "cell_type": "code",
      "metadata": {
        "id": "GNvKuUOH5Y3b",
        "colab_type": "code",
        "colab": {}
      },
      "source": [
        "import matplotlib.pyplot as plt"
      ],
      "execution_count": 148,
      "outputs": []
    },
    {
      "cell_type": "code",
      "metadata": {
        "id": "QgsJi40B5kER",
        "colab_type": "code",
        "colab": {
          "base_uri": "https://localhost:8080/",
          "height": 281
        },
        "outputId": "58e90cc2-a697-42b2-8edb-5570329a8a91"
      },
      "source": [
        "dfCovid.hist()\n",
        "plt.show()"
      ],
      "execution_count": 154,
      "outputs": [
        {
          "output_type": "display_data",
          "data": {
            "image/png": "[encoded data removed]",
            "text/plain": [
              "<Figure size 432x288 with 4 Axes>"
            ]
          },
          "metadata": {
            "tags": [],
            "needs_background": "light"
          }
        }
      ]
    },
    {
      "cell_type": "code",
      "metadata": {
        "id": "whWoPldf5psc",
        "colab_type": "code",
        "colab": {}
      },
      "source": [
        "#rever\n",
        "#a, fig = plt.subplots(20, 10)\n",
        "#dfCovid.hist(by='sigla', ax=a, figsize=fig)\n",
        "#plt.show()"
      ],
      "execution_count": 153,
      "outputs": []
    },
    {
      "cell_type": "code",
      "metadata": {
        "id": "Tnn-NvMg6dsD",
        "colab_type": "code",
        "colab": {
          "base_uri": "https://localhost:8080/",
          "height": 265
        },
        "outputId": "0fec79a8-17ed-4537-a3c7-bd06caf2c2ab"
      },
      "source": [
        "dfCovid.sigla.hist()\n",
        "plt.show()"
      ],
      "execution_count": 155,
      "outputs": [
        {
          "output_type": "display_data",
          "data": {
            "image/png": "[encoded data removed]",
            "text/plain": [
              "<Figure size 432x288 with 1 Axes>"
            ]
          },
          "metadata": {
            "tags": [],
            "needs_background": "light"
          }
        }
      ]
    },
    {
      "cell_type": "code",
      "metadata": {
        "id": "9kcgfwp7NA3V",
        "colab_type": "code",
        "colab": {
          "base_uri": "https://localhost:8080/",
          "height": 269
        },
        "outputId": "16b79e5f-9b90-4ec7-9b22-a376e3293dcd"
      },
      "source": [
        "dfPerson = pd.DataFrame({\n",
        "    'name':['João','Maria','Pedro','José','Lucas','Luíza','Francisco'],\n",
        "    'old':[23,78,22,19,45,33,20],\n",
        "    'gender':['M','F','M','M','M','F','M'],\n",
        "    'state':['Amazonas','Pará','Amazonas','Pará','Amazonas','Ceará','Ceará'],\n",
        "    'countChildren':[2,0,0,3,2,1,4],\n",
        "    'countAnimal':[5,1,0,5,2,2,3]\n",
        "})\n",
        "\n",
        "dfPerson"
      ],
      "execution_count": 157,
      "outputs": [
        {
          "output_type": "execute_result",
          "data": {
            "text/html": [
              "<div>\n",
              "<style scoped>\n",
              "    .dataframe tbody tr th:only-of-type {\n",
              "        vertical-align: middle;\n",
              "    }\n",
              "\n",
              "    .dataframe tbody tr th {\n",
              "        vertical-align: top;\n",
              "    }\n",
              "\n",
              "    .dataframe thead th {\n",
              "        text-align: right;\n",
              "    }\n",
              "</style>\n",
              "<table border=\"1\" class=\"dataframe\">\n",
              "  <thead>\n",
              "    <tr style=\"text-align: right;\">\n",
              "      <th></th>\n",
              "      <th>name</th>\n",
              "      <th>old</th>\n",
              "      <th>gender</th>\n",
              "      <th>state</th>\n",
              "      <th>countChildren</th>\n",
              "      <th>countAnimal</th>\n",
              "    </tr>\n",
              "  </thead>\n",
              "  <tbody>\n",
              "    <tr>\n",
              "      <th>0</th>\n",
              "      <td>João</td>\n",
              "      <td>23</td>\n",
              "      <td>M</td>\n",
              "      <td>Amazonas</td>\n",
              "      <td>2</td>\n",
              "      <td>5</td>\n",
              "    </tr>\n",
              "    <tr>\n",
              "      <th>1</th>\n",
              "      <td>Maria</td>\n",
              "      <td>78</td>\n",
              "      <td>F</td>\n",
              "      <td>Pará</td>\n",
              "      <td>0</td>\n",
              "      <td>1</td>\n",
              "    </tr>\n",
              "    <tr>\n",
              "      <th>2</th>\n",
              "      <td>Pedro</td>\n",
              "      <td>22</td>\n",
              "      <td>M</td>\n",
              "      <td>Amazonas</td>\n",
              "      <td>0</td>\n",
              "      <td>0</td>\n",
              "    </tr>\n",
              "    <tr>\n",
              "      <th>3</th>\n",
              "      <td>José</td>\n",
              "      <td>19</td>\n",
              "      <td>M</td>\n",
              "      <td>Pará</td>\n",
              "      <td>3</td>\n",
              "      <td>5</td>\n",
              "    </tr>\n",
              "    <tr>\n",
              "      <th>4</th>\n",
              "      <td>Lucas</td>\n",
              "      <td>45</td>\n",
              "      <td>M</td>\n",
              "      <td>Amazonas</td>\n",
              "      <td>2</td>\n",
              "      <td>2</td>\n",
              "    </tr>\n",
              "    <tr>\n",
              "      <th>5</th>\n",
              "      <td>Luíza</td>\n",
              "      <td>33</td>\n",
              "      <td>F</td>\n",
              "      <td>Ceará</td>\n",
              "      <td>1</td>\n",
              "      <td>2</td>\n",
              "    </tr>\n",
              "    <tr>\n",
              "      <th>6</th>\n",
              "      <td>Francisco</td>\n",
              "      <td>20</td>\n",
              "      <td>M</td>\n",
              "      <td>Ceará</td>\n",
              "      <td>4</td>\n",
              "      <td>3</td>\n",
              "    </tr>\n",
              "  </tbody>\n",
              "</table>\n",
              "</div>"
            ],
            "text/plain": [
              "        name  old gender     state  countChildren  countAnimal\n",
              "0       João   23      M  Amazonas              2            5\n",
              "1      Maria   78      F      Pará              0            1\n",
              "2      Pedro   22      M  Amazonas              0            0\n",
              "3       José   19      M      Pará              3            5\n",
              "4      Lucas   45      M  Amazonas              2            2\n",
              "5      Luíza   33      F     Ceará              1            2\n",
              "6  Francisco   20      M     Ceará              4            3"
            ]
          },
          "metadata": {
            "tags": []
          },
          "execution_count": 157
        }
      ]
    },
    {
      "cell_type": "markdown",
      "metadata": {
        "id": "Xv7osDNSM18v",
        "colab_type": "text"
      },
      "source": [
        "**Gráfico de Dispersão (Scatter Plot)**\n",
        "\n",
        "É possível efetuar as seguintes configurações:\n",
        "\n",
        "*   Cores (**color** ou **c**): nomes em Ingles;\n",
        "*   Transparência (**alpha**): transparência dos objetos;\n",
        "*   Marcadores (**marker**): tipo de marcador a ser aplicado. O tamanho do marcador também pode ser alterado com base no atributo **s**;\n",
        "Rótulos (**labels**) dos eixos (**xlabel**/**ylabel**): xlabel para o eixo X, ylabel para o eixo Y. Pode-se também alterar o tamanho da fonte através do atributo **fontsize**."
      ]
    },
    {
      "cell_type": "code",
      "metadata": {
        "id": "pDjGGEWQM7Ff",
        "colab_type": "code",
        "colab": {
          "base_uri": "https://localhost:8080/",
          "height": 279
        },
        "outputId": "324b1f3d-c7df-486c-f10b-64503ed7de5c"
      },
      "source": [
        "dfPerson.plot(kind=\"scatter\", x=\"countChildren\", y=\"countAnimal\")\n",
        "plt.show()"
      ],
      "execution_count": 159,
      "outputs": [
        {
          "output_type": "display_data",
          "data": {
            "image/png": "[encoded data removed]",
            "text/plain": [
              "<Figure size 432x288 with 1 Axes>"
            ]
          },
          "metadata": {
            "tags": [],
            "needs_background": "light"
          }
        }
      ]
    },
    {
      "cell_type": "markdown",
      "metadata": {
        "id": "Ywe6wlOhPBI4",
        "colab_type": "text"
      },
      "source": [
        "**Gráfico de barras (Bar Plot)**\n",
        "\n",
        "É possível efetuar as seguintes configurações:\n",
        "\n",
        "*   Cores (**color** ou **c**): nomes em Ingles;\n",
        "*   Transparência (**alpha**): transparência dos objetos;\n",
        "*   Marcadores (**marker**): tipo de marcador a ser aplicado. O tamanho do marcador também pode ser alterado com base no atributo **s**;\n",
        "Rótulos (**labels**) dos eixos (**xlabel**/**ylabel**): xlabel para o eixo X, ylabel para o eixo Y. Pode-se também alterar o tamanho da fonte através do atributo **fontsize**;\n",
        "*   Rótulo (**label**): renomear a legenda;\n",
        "*   Localização (**loc**): permite reposicionar a legenda.\n",
        "\n"
      ]
    },
    {
      "cell_type": "code",
      "metadata": {
        "id": "ccjjRCaEPEkT",
        "colab_type": "code",
        "colab": {
          "base_uri": "https://localhost:8080/",
          "height": 333
        },
        "outputId": "9dac6c40-454a-4ad7-d9b5-144fbaf4adb9"
      },
      "source": [
        "dfPerson.plot(kind='bar', x='name', y='old')"
      ],
      "execution_count": 160,
      "outputs": [
        {
          "output_type": "execute_result",
          "data": {
            "text/plain": [
              "<matplotlib.axes._subplots.AxesSubplot at 0x7f9322ae7550>"
            ]
          },
          "metadata": {
            "tags": []
          },
          "execution_count": 160
        },
        {
          "output_type": "display_data",
          "data": {
            "image/png": "[encoded data removed]",
            "text/plain": [
              "<Figure size 432x288 with 1 Axes>"
            ]
          },
          "metadata": {
            "tags": [],
            "needs_background": "light"
          }
        }
      ]
    },
    {
      "cell_type": "code",
      "metadata": {
        "id": "nD9pPQseQStL",
        "colab_type": "code",
        "colab": {
          "base_uri": "https://localhost:8080/",
          "height": 333
        },
        "outputId": "20873bd4-2f1d-4cb4-ecba-23ed57d50f81"
      },
      "source": [
        "dfPerson.plot(kind='bar', x='name', y='old', color='red', label='Age')\n",
        "plt.legend(loc='upper right')"
      ],
      "execution_count": 165,
      "outputs": [
        {
          "output_type": "execute_result",
          "data": {
            "text/plain": [
              "<matplotlib.legend.Legend at 0x7f9322a8f5c0>"
            ]
          },
          "metadata": {
            "tags": []
          },
          "execution_count": 165
        },
        {
          "output_type": "display_data",
          "data": {
            "image/png": "[encoded data removed]",
            "text/plain": [
              "<Figure size 432x288 with 1 Axes>"
            ]
          },
          "metadata": {
            "tags": [],
            "needs_background": "light"
          }
        }
      ]
    },
    {
      "cell_type": "markdown",
      "metadata": {
        "id": "cuRVQyhqQ4Io",
        "colab_type": "text"
      },
      "source": [
        "**Gráfico de linhas (Line Plot)**"
      ]
    },
    {
      "cell_type": "code",
      "metadata": {
        "id": "xceIsklDRBob",
        "colab_type": "code",
        "colab": {
          "base_uri": "https://localhost:8080/",
          "height": 297
        },
        "outputId": "d0c91322-75b0-42fb-f36d-e637b6cd3941"
      },
      "source": [
        "ax = plt.gca()\n",
        "\n",
        "dfPerson.plot(kind='line', x='name', y='countChildren', ax=ax)\n",
        "dfPerson.plot(kind='line', x='name', y='countAnimal', color='red', ax=ax)"
      ],
      "execution_count": 168,
      "outputs": [
        {
          "output_type": "execute_result",
          "data": {
            "text/plain": [
              "<matplotlib.axes._subplots.AxesSubplot at 0x7f9323e286a0>"
            ]
          },
          "metadata": {
            "tags": []
          },
          "execution_count": 168
        },
        {
          "output_type": "display_data",
          "data": {
            "image/png": "[encoded data removed]",
            "text/plain": [
              "<Figure size 432x288 with 1 Axes>"
            ]
          },
          "metadata": {
            "tags": [],
            "needs_background": "light"
          }
        }
      ]
    },
    {
      "cell_type": "markdown",
      "metadata": {
        "id": "Ekhzt6fLR1lA",
        "colab_type": "text"
      },
      "source": [
        "**Gráfico de Barras agrupado**"
      ]
    },
    {
      "cell_type": "code",
      "metadata": {
        "id": "RNxRp0sYR36s",
        "colab_type": "code",
        "colab": {
          "base_uri": "https://localhost:8080/",
          "height": 338
        },
        "outputId": "c8da628e-4623-4623-a410-f18175db18b1"
      },
      "source": [
        "dfPerson.groupby('state')['name'].nunique().plot(kind='bar')"
      ],
      "execution_count": 170,
      "outputs": [
        {
          "output_type": "execute_result",
          "data": {
            "text/plain": [
              "<matplotlib.axes._subplots.AxesSubplot at 0x7f9322e10080>"
            ]
          },
          "metadata": {
            "tags": []
          },
          "execution_count": 170
        },
        {
          "output_type": "display_data",
          "data": {
            "image/png": "[encoded data removed]",
            "text/plain": [
              "<Figure size 432x288 with 1 Axes>"
            ]
          },
          "metadata": {
            "tags": [],
            "needs_background": "light"
          }
        }
      ]
    },
    {
      "cell_type": "markdown",
      "metadata": {
        "id": "LDddT974SQL_",
        "colab_type": "text"
      },
      "source": [
        "**Gráfico de Pizza (Pie)**"
      ]
    },
    {
      "cell_type": "code",
      "metadata": {
        "id": "PdFQRGJASSnF",
        "colab_type": "code",
        "colab": {
          "base_uri": "https://localhost:8080/",
          "height": 265
        },
        "outputId": "a85ca46c-09ca-49cd-d4d2-54e2451a93fb"
      },
      "source": [
        "dfPerson.plot.pie(y='countAnimal')"
      ],
      "execution_count": 171,
      "outputs": [
        {
          "output_type": "execute_result",
          "data": {
            "text/plain": [
              "<matplotlib.axes._subplots.AxesSubplot at 0x7f93230621d0>"
            ]
          },
          "metadata": {
            "tags": []
          },
          "execution_count": 171
        },
        {
          "output_type": "display_data",
          "data": {
            "image/png": "[encoded data removed]",
            "text/plain": [
              "<Figure size 432x288 with 1 Axes>"
            ]
          },
          "metadata": {
            "tags": []
          }
        }
      ]
    },
    {
      "cell_type": "markdown",
      "metadata": {
        "id": "XYYVaU3DScQY",
        "colab_type": "text"
      },
      "source": [
        "**savefig**\n",
        "\n",
        "Permite salvar o gráfico em arquivo de imagem."
      ]
    },
    {
      "cell_type": "code",
      "metadata": {
        "id": "cgkUylzHSoHN",
        "colab_type": "code",
        "colab": {
          "base_uri": "https://localhost:8080/",
          "height": 316
        },
        "outputId": "40ca3bdf-a3e4-4b98-c8f0-41f81cdb8d1e"
      },
      "source": [
        "dfPerson.plot(kind='bar', x='name', y='old')\n",
        "plt.savefig('grafic.png')"
      ],
      "execution_count": 173,
      "outputs": [
        {
          "output_type": "display_data",
          "data": {
            "image/png": "[encoded data removed]",
            "text/plain": [
              "<Figure size 432x288 with 1 Axes>"
            ]
          },
          "metadata": {
            "tags": [],
            "needs_background": "light"
          }
        }
      ]
    },
    {
      "cell_type": "markdown",
      "metadata": {
        "id": "vP-ACxms6vpY",
        "colab_type": "text"
      },
      "source": [
        "Fonte: https://github.com/paulosalvatore/Ocean_PythonPandas_10_08_20\n"
      ]
    },
    {
      "cell_type": "markdown",
      "metadata": {
        "id": "AKEWqny_7JhS",
        "colab_type": "text"
      },
      "source": [
        "Bibliotecas para explorar:\n",
        "\n",
        "*   ggplot2\n",
        "*   plotly\n",
        "*   keras\n",
        "*   scikit-learn\n"
      ]
    }
  ]
}